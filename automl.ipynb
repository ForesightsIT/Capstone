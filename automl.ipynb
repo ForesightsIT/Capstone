{
 "cells": [
  {
   "cell_type": "code",
   "execution_count": 1,
   "metadata": {
    "jupyter": {
     "outputs_hidden": false,
     "source_hidden": false
    },
    "nteract": {
     "transient": {
      "deleting": false
     }
    }
   },
   "outputs": [],
   "source": [
    "# !wget https://raw.githubusercontent.com/udacity/nd00333-capstone/master/starter_file/automl.ipynb"
   ]
  },
  {
   "cell_type": "markdown",
   "metadata": {
    "nteract": {
     "transient": {
      "deleting": false
     }
    }
   },
   "source": [
    "# Automated ML\n",
    "\n",
    "TODO: Import Dependencies. In the cell below, import all the dependencies that you will need to complete the project."
   ]
  },
  {
   "cell_type": "code",
   "execution_count": 2,
   "metadata": {
    "gather": {
     "logged": 1613310458835
    },
    "jupyter": {
     "outputs_hidden": false,
     "source_hidden": false
    },
    "nteract": {
     "transient": {
      "deleting": false
     }
    }
   },
   "outputs": [],
   "source": [
    "# experiment_name = \"ml-experiment-023b\" # ids2017\" # PLACEHOLDER\n",
    "experiment_name = \"ml-experiment-025\" # ids2017\" # PLACEHOLDER\n",
    "run1_id = 'AutoML_532e1f2e-40f2-44cf-845f-4ff45db1a7c8'\n",
    "\n",
    "csv_data = 'https://workspace1st4305015718.blob.core.windows.net/public/IDS2017-Infilteration.csv'\n",
    "data_urls = \"https://raw.githubusercontent.com/ForesightsIT/IDS/main/IDS2017-Infilteration.zip\"\n",
    "ds_key = \"IDS2017Infilteration\"\n",
    "ds_description_text = \"IDS2017Infilteration\"\n",
    "source_directory = \"./training\"\n",
    "project_folder = source_directory # './training'\n",
    "script_folder = source_directory\n",
    "\n",
    "# ws_name = \"quick-starts-ws-129448\" # !##\n",
    "workspace_name = \"workspace1st\" # PLACEHOLDER\n",
    "subscription_id = \"5cf0bb76-4731-4cb5-ac3d-950c07dda6ef\" # PLACEHOLDER\n",
    "resource_group = \"group1st\" # PLACEHOLDER\n",
    "workspace_region = \"uksouth\" #region\n"
   ]
  },
  {
   "cell_type": "code",
   "execution_count": 3,
   "metadata": {
    "gather": {
     "logged": 1613324523798
    },
    "jupyter": {
     "outputs_hidden": false,
     "source_hidden": false
    },
    "nteract": {
     "transient": {
      "deleting": false
     }
    }
   },
   "outputs": [
    {
     "name": "stdout",
     "output_type": "stream",
     "text": [
      "Turning diagnostics collection on. \n",
      "Starting the setup...\n",
      "SDK version: 1.22.0\n"
     ]
    }
   ],
   "source": [
    "## # from azureml.core import Workspace, Datastore, Dataset, Experiment, Environment, Run, ScriptRunConfig, Model\n",
    "from azureml.telemetry import set_diagnostics_collection\n",
    "set_diagnostics_collection(send_diagnostics=True)\n",
    "print(\"Starting the setup...\")\n",
    "## from sklearn.externals import joblib\n",
    "# %pip install --upgrade --force-reinstall -r https://aka.ms/automl_linux_requirements.txt\n",
    "# %pip install --upgrade --force-reinstall -r /anaconda/envs/azureml_py36/lib/python3.6/site-packages/azureml/automl/core/validated_linux_requirements.txt\n",
    "# !pip install joblib\n",
    "# !pip install --upgrade azureml-sdk[notebooks]\n",
    "# !pip install --user azureml-core\n",
    "# !pip install azureml-dataprep[parquet] # pyarrow\n",
    "# %pip install --upgrade --force-reinstall -r https://aka.ms/automl_linux_requirements.txt\n",
    "import azureml.core\n",
    "from azureml.core import Workspace, Datastore, Dataset, Experiment, Environment, Run, ScriptRunConfig, Model\n",
    "from azureml.core.compute import ComputeTarget, AmlCompute\n",
    "from azureml.core.compute_target import ComputeTargetException\n",
    "from azureml.core.experiment import Experiment\n",
    "from azureml.core.workspace import Workspace\n",
    "from azureml.data.dataset_factory import TabularDatasetFactory\n",
    "from azureml.core.dataset import Dataset\n",
    "from azureml.core.datastore import Datastore\n",
    "from azureml.core.model import Model\n",
    "from azureml.core.model import InferenceConfig\n",
    "from azureml.core.webservice import Webservice, AciWebservice, AksWebservice\n",
    "from azureml.exceptions import ComputeTargetException\n",
    "from azureml.widgets import RunDetails\n",
    "from azureml.pipeline.steps import AutoMLStep\n",
    "import azureml.dataprep as dprep\n",
    "from azureml.train.automl import AutoMLConfig\n",
    "from azureml.train.hyperdrive import BanditPolicy, HyperDriveRunConfig, PrimaryMetricGoal, RandomParameterSampling, uniform\n",
    "from azureml.train.hyperdrive.parameter_expressions import uniform, choice\n",
    "from azureml.train.hyperdrive.policy import BanditPolicy\n",
    "from azureml.train.hyperdrive.run import PrimaryMetricGoal\n",
    "from azureml.train.hyperdrive.runconfig import HyperDriveConfig\n",
    "from azureml.train.hyperdrive.sampling import RandomParameterSampling\n",
    "from azureml.train.automl.runtime.automl_explain_utilities import automl_setup_model_explanations\n",
    "from azureml.interpret import ExplanationClient\n",
    "from azureml.interpret.mimic_wrapper import MimicWrapper\n",
    "from azureml.interpret.scoring.scoring_explainer import TreeScoringExplainer\n",
    "from interpret.ext.glassbox import LGBMExplainableModel\n",
    "from azureml.train.sklearn import SKLearn\n",
    "from sklearn import datasets\n",
    "from sklearn.metrics import mean_squared_error\n",
    "from sklearn.metrics import confusion_matrix\n",
    "from IPython import get_ipython\n",
    "from matplotlib import pyplot as plt\n",
    "from matplotlib.pyplot import imshow\n",
    "import numpy as np\n",
    "import pandas as pd\n",
    "import logging, os, csv, pkg_resources, itertools, shutil, joblib, json, requests, random, sys, time, traceback\n",
    "print(\"SDK version:\", azureml.core.VERSION)"
   ]
  },
  {
   "cell_type": "code",
   "execution_count": 4,
   "metadata": {
    "gather": {
     "logged": 1613310459666
    }
   },
   "outputs": [
    {
     "data": {
      "text/html": [
       "<div>\n",
       "<style scoped>\n",
       "    .dataframe tbody tr th:only-of-type {\n",
       "        vertical-align: middle;\n",
       "    }\n",
       "\n",
       "    .dataframe tbody tr th {\n",
       "        vertical-align: top;\n",
       "    }\n",
       "\n",
       "    .dataframe thead th {\n",
       "        text-align: right;\n",
       "    }\n",
       "</style>\n",
       "<table border=\"1\" class=\"dataframe\">\n",
       "  <thead>\n",
       "    <tr style=\"text-align: right;\">\n",
       "      <th></th>\n",
       "      <th></th>\n",
       "    </tr>\n",
       "  </thead>\n",
       "  <tbody>\n",
       "    <tr>\n",
       "      <th>Subscription ID</th>\n",
       "      <td>5cf0bb76-4731-4cb5-ac3d-950c07dda6ef</td>\n",
       "    </tr>\n",
       "    <tr>\n",
       "      <th>Workspace</th>\n",
       "      <td>workspace1st</td>\n",
       "    </tr>\n",
       "    <tr>\n",
       "      <th>Resource Group</th>\n",
       "      <td>group1st</td>\n",
       "    </tr>\n",
       "    <tr>\n",
       "      <th>Location</th>\n",
       "      <td>uksouth</td>\n",
       "    </tr>\n",
       "    <tr>\n",
       "      <th>Experiment Name</th>\n",
       "      <td>ml-experiment-025</td>\n",
       "    </tr>\n",
       "  </tbody>\n",
       "</table>\n",
       "</div>"
      ],
      "text/plain": [
       "                                                     \n",
       "Subscription ID  5cf0bb76-4731-4cb5-ac3d-950c07dda6ef\n",
       "Workspace        workspace1st                        \n",
       "Resource Group   group1st                            \n",
       "Location         uksouth                             \n",
       "Experiment Name  ml-experiment-025                   "
      ]
     },
     "execution_count": 4,
     "metadata": {},
     "output_type": "execute_result"
    }
   ],
   "source": [
    "ws = Workspace.from_config()\n",
    "experiment_name = experiment_name\n",
    "experiment=Experiment(ws, experiment_name)\n",
    "\n",
    "output = {}\n",
    "output['Subscription ID'] = ws.subscription_id\n",
    "output['Workspace'] = ws.name\n",
    "output['Resource Group'] = ws.resource_group\n",
    "output['Location'] = ws.location\n",
    "output['Experiment Name'] = experiment.name\n",
    "pd.set_option('display.max_colwidth', -1)\n",
    "outputDf = pd.DataFrame(data = output, index = [''])\n",
    "outputDf.T"
   ]
  },
  {
   "cell_type": "code",
   "execution_count": 5,
   "metadata": {
    "gather": {
     "logged": 1613310459890
    },
    "jupyter": {
     "outputs_hidden": false,
     "source_hidden": false
    },
    "nteract": {
     "transient": {
      "deleting": false
     }
    }
   },
   "outputs": [
    {
     "name": "stdout",
     "output_type": "stream",
     "text": [
      "Found existing cluster, use it.\n",
      "Succeeded\n",
      "AmlCompute wait for completion finished\n",
      "\n",
      "Minimum number of nodes requested have been provisioned\n"
     ]
    }
   ],
   "source": [
    "cpu_cluster_name = \"cpu-cluster\" # \"cpu-cluster-1\"\n",
    "\n",
    "try:\n",
    "    compute_target = ComputeTarget(workspace=ws, name=cpu_cluster_name)\n",
    "    print('Found existing cluster, use it.')\n",
    "except ComputeTargetException:\n",
    "    compute_config = AmlCompute.provisioning_configuration(vm_size='STANDARD_DS12_V2',min_nodes=1,max_nodes=4,vm_priority='lowpriority')\n",
    "    compute_target = ComputeTarget.create(ws, cpu_cluster_name, compute_config)\n",
    "\n",
    "compute_target.wait_for_completion(show_output=True)"
   ]
  },
  {
   "cell_type": "markdown",
   "metadata": {
    "nteract": {
     "transient": {
      "deleting": false
     }
    }
   },
   "source": [
    "## Dataset\n",
    "\n",
    "### Overview\n",
    "TODO: In this markdown cell, give an overview of the dataset you are using. Also mention the task you will be performing.\n",
    "\n",
    "\n",
    "TODO: Get data. In the cell below, write code to access the data you will be using in this project. Remember that the dataset needs to be external."
   ]
  },
  {
   "cell_type": "code",
   "execution_count": 6,
   "metadata": {
    "gather": {
     "logged": 1613310460107
    },
    "jupyter": {
     "outputs_hidden": false,
     "source_hidden": false
    },
    "nteract": {
     "transient": {
      "deleting": false
     }
    }
   },
   "outputs": [
    {
     "data": {
      "text/html": [
       "<div>\n",
       "<style scoped>\n",
       "    .dataframe tbody tr th:only-of-type {\n",
       "        vertical-align: middle;\n",
       "    }\n",
       "\n",
       "    .dataframe tbody tr th {\n",
       "        vertical-align: top;\n",
       "    }\n",
       "\n",
       "    .dataframe thead th {\n",
       "        text-align: right;\n",
       "    }\n",
       "</style>\n",
       "<table border=\"1\" class=\"dataframe\">\n",
       "  <thead>\n",
       "    <tr style=\"text-align: right;\">\n",
       "      <th></th>\n",
       "      <th>Column1</th>\n",
       "      <th>Column2</th>\n",
       "      <th>Column3</th>\n",
       "      <th>Column4</th>\n",
       "      <th>Column5</th>\n",
       "      <th>Column6</th>\n",
       "      <th>Column7</th>\n",
       "      <th>Column8</th>\n",
       "      <th>Column9</th>\n",
       "      <th>Column10</th>\n",
       "      <th>...</th>\n",
       "      <th>Column30</th>\n",
       "      <th>Column31</th>\n",
       "      <th>Column32</th>\n",
       "      <th>Column33</th>\n",
       "      <th>Column34</th>\n",
       "      <th>Column35</th>\n",
       "      <th>Column36</th>\n",
       "      <th>Column37</th>\n",
       "      <th>Column38</th>\n",
       "      <th>Column39</th>\n",
       "    </tr>\n",
       "  </thead>\n",
       "  <tbody>\n",
       "    <tr>\n",
       "      <th>count</th>\n",
       "      <td>288602.00</td>\n",
       "      <td>288602.00</td>\n",
       "      <td>288602.00</td>\n",
       "      <td>288602.00</td>\n",
       "      <td>288602.00</td>\n",
       "      <td>288602.00</td>\n",
       "      <td>288602.00</td>\n",
       "      <td>288602.00</td>\n",
       "      <td>288602.00</td>\n",
       "      <td>288602.00</td>\n",
       "      <td>...</td>\n",
       "      <td>288602.00</td>\n",
       "      <td>288602.00</td>\n",
       "      <td>288602.00</td>\n",
       "      <td>288602.00</td>\n",
       "      <td>288602.00</td>\n",
       "      <td>288602.00</td>\n",
       "      <td>288602.00</td>\n",
       "      <td>288602.00</td>\n",
       "      <td>288602.00</td>\n",
       "      <td>288602.00</td>\n",
       "    </tr>\n",
       "    <tr>\n",
       "      <th>mean</th>\n",
       "      <td>3.44</td>\n",
       "      <td>566.11</td>\n",
       "      <td>566.22</td>\n",
       "      <td>6.23</td>\n",
       "      <td>6.23</td>\n",
       "      <td>162.48</td>\n",
       "      <td>162.48</td>\n",
       "      <td>61371.51</td>\n",
       "      <td>6.22</td>\n",
       "      <td>6.22</td>\n",
       "      <td>...</td>\n",
       "      <td>40.73</td>\n",
       "      <td>849457.06</td>\n",
       "      <td>2484256.74</td>\n",
       "      <td>0.23</td>\n",
       "      <td>1071999.65</td>\n",
       "      <td>25.69</td>\n",
       "      <td>362.78</td>\n",
       "      <td>107.55</td>\n",
       "      <td>40.42</td>\n",
       "      <td>0.00</td>\n",
       "    </tr>\n",
       "    <tr>\n",
       "      <th>std</th>\n",
       "      <td>49.75</td>\n",
       "      <td>26002.62</td>\n",
       "      <td>26053.50</td>\n",
       "      <td>74.59</td>\n",
       "      <td>74.59</td>\n",
       "      <td>2094.13</td>\n",
       "      <td>2094.13</td>\n",
       "      <td>519510.20</td>\n",
       "      <td>111.40</td>\n",
       "      <td>111.40</td>\n",
       "      <td>...</td>\n",
       "      <td>137.72</td>\n",
       "      <td>3188036.94</td>\n",
       "      <td>10517584.18</td>\n",
       "      <td>0.42</td>\n",
       "      <td>4639822.01</td>\n",
       "      <td>5.85</td>\n",
       "      <td>825.93</td>\n",
       "      <td>229.14</td>\n",
       "      <td>63.63</td>\n",
       "      <td>0.01</td>\n",
       "    </tr>\n",
       "    <tr>\n",
       "      <th>min</th>\n",
       "      <td>0.00</td>\n",
       "      <td>0.00</td>\n",
       "      <td>0.00</td>\n",
       "      <td>1.00</td>\n",
       "      <td>1.00</td>\n",
       "      <td>0.00</td>\n",
       "      <td>0.00</td>\n",
       "      <td>0.00</td>\n",
       "      <td>0.00</td>\n",
       "      <td>0.00</td>\n",
       "      <td>...</td>\n",
       "      <td>0.00</td>\n",
       "      <td>0.00</td>\n",
       "      <td>0.00</td>\n",
       "      <td>0.00</td>\n",
       "      <td>0.00</td>\n",
       "      <td>0.00</td>\n",
       "      <td>0.00</td>\n",
       "      <td>0.00</td>\n",
       "      <td>0.00</td>\n",
       "      <td>0.00</td>\n",
       "    </tr>\n",
       "    <tr>\n",
       "      <th>25%</th>\n",
       "      <td>1.00</td>\n",
       "      <td>4.00</td>\n",
       "      <td>4.00</td>\n",
       "      <td>2.00</td>\n",
       "      <td>2.00</td>\n",
       "      <td>40.00</td>\n",
       "      <td>40.00</td>\n",
       "      <td>0.00</td>\n",
       "      <td>1.00</td>\n",
       "      <td>1.00</td>\n",
       "      <td>...</td>\n",
       "      <td>0.00</td>\n",
       "      <td>0.00</td>\n",
       "      <td>0.00</td>\n",
       "      <td>0.00</td>\n",
       "      <td>0.00</td>\n",
       "      <td>20.00</td>\n",
       "      <td>6.00</td>\n",
       "      <td>0.00</td>\n",
       "      <td>0.00</td>\n",
       "      <td>0.00</td>\n",
       "    </tr>\n",
       "    <tr>\n",
       "      <th>50%</th>\n",
       "      <td>1.00</td>\n",
       "      <td>49.00</td>\n",
       "      <td>49.00</td>\n",
       "      <td>2.00</td>\n",
       "      <td>2.00</td>\n",
       "      <td>48.00</td>\n",
       "      <td>48.00</td>\n",
       "      <td>0.00</td>\n",
       "      <td>2.00</td>\n",
       "      <td>2.00</td>\n",
       "      <td>...</td>\n",
       "      <td>0.00</td>\n",
       "      <td>0.00</td>\n",
       "      <td>0.00</td>\n",
       "      <td>0.00</td>\n",
       "      <td>32.26</td>\n",
       "      <td>24.00</td>\n",
       "      <td>53.00</td>\n",
       "      <td>10.41</td>\n",
       "      <td>6.00</td>\n",
       "      <td>0.00</td>\n",
       "    </tr>\n",
       "    <tr>\n",
       "      <th>75%</th>\n",
       "      <td>1.00</td>\n",
       "      <td>95.00</td>\n",
       "      <td>95.00</td>\n",
       "      <td>3.00</td>\n",
       "      <td>3.00</td>\n",
       "      <td>72.00</td>\n",
       "      <td>72.00</td>\n",
       "      <td>0.00</td>\n",
       "      <td>2.00</td>\n",
       "      <td>2.00</td>\n",
       "      <td>...</td>\n",
       "      <td>0.00</td>\n",
       "      <td>32.53</td>\n",
       "      <td>0.00</td>\n",
       "      <td>0.00</td>\n",
       "      <td>27758.71</td>\n",
       "      <td>32.00</td>\n",
       "      <td>145.00</td>\n",
       "      <td>54.22</td>\n",
       "      <td>77.00</td>\n",
       "      <td>0.00</td>\n",
       "    </tr>\n",
       "    <tr>\n",
       "      <th>max</th>\n",
       "      <td>9130.00</td>\n",
       "      <td>12870338.00</td>\n",
       "      <td>12900000.00</td>\n",
       "      <td>22673.00</td>\n",
       "      <td>22673.00</td>\n",
       "      <td>742984.00</td>\n",
       "      <td>742984.00</td>\n",
       "      <td>65200000.00</td>\n",
       "      <td>44553.00</td>\n",
       "      <td>44553.00</td>\n",
       "      <td>...</td>\n",
       "      <td>4467.11</td>\n",
       "      <td>81600000.00</td>\n",
       "      <td>120000000.00</td>\n",
       "      <td>1.00</td>\n",
       "      <td>84800000.00</td>\n",
       "      <td>60.00</td>\n",
       "      <td>23360.00</td>\n",
       "      <td>3439.67</td>\n",
       "      <td>1543.00</td>\n",
       "      <td>1.00</td>\n",
       "    </tr>\n",
       "  </tbody>\n",
       "</table>\n",
       "<p>8 rows × 39 columns</p>\n",
       "</div>"
      ],
      "text/plain": [
       "        Column1     Column2     Column3   Column4   Column5   Column6  \\\n",
       "count 288602.00 288602.00   288602.00   288602.00 288602.00 288602.00   \n",
       "mean  3.44      566.11      566.22      6.23      6.23      162.48      \n",
       "std   49.75     26002.62    26053.50    74.59     74.59     2094.13     \n",
       "min   0.00      0.00        0.00        1.00      1.00      0.00        \n",
       "25%   1.00      4.00        4.00        2.00      2.00      40.00       \n",
       "50%   1.00      49.00       49.00       2.00      2.00      48.00       \n",
       "75%   1.00      95.00       95.00       3.00      3.00      72.00       \n",
       "max   9130.00   12870338.00 12900000.00 22673.00  22673.00  742984.00   \n",
       "\n",
       "        Column7     Column8   Column9  Column10  ...  Column30    Column31  \\\n",
       "count 288602.00 288602.00   288602.00 288602.00  ... 288602.00 288602.00     \n",
       "mean  162.48    61371.51    6.22      6.22       ... 40.73     849457.06     \n",
       "std   2094.13   519510.20   111.40    111.40     ... 137.72    3188036.94    \n",
       "min   0.00      0.00        0.00      0.00       ... 0.00      0.00          \n",
       "25%   40.00     0.00        1.00      1.00       ... 0.00      0.00          \n",
       "50%   48.00     0.00        2.00      2.00       ... 0.00      0.00          \n",
       "75%   72.00     0.00        2.00      2.00       ... 0.00      32.53         \n",
       "max   742984.00 65200000.00 44553.00  44553.00   ... 4467.11   81600000.00   \n",
       "\n",
       "          Column32  Column33    Column34  Column35  Column36  Column37  \\\n",
       "count 288602.00    288602.00 288602.00   288602.00 288602.00 288602.00   \n",
       "mean  2484256.74   0.23      1071999.65  25.69     362.78    107.55      \n",
       "std   10517584.18  0.42      4639822.01  5.85      825.93    229.14      \n",
       "min   0.00         0.00      0.00        0.00      0.00      0.00        \n",
       "25%   0.00         0.00      0.00        20.00     6.00      0.00        \n",
       "50%   0.00         0.00      32.26       24.00     53.00     10.41       \n",
       "75%   0.00         0.00      27758.71    32.00     145.00    54.22       \n",
       "max   120000000.00 1.00      84800000.00 60.00     23360.00  3439.67     \n",
       "\n",
       "       Column38  Column39  \n",
       "count 288602.00 288602.00  \n",
       "mean  40.42     0.00       \n",
       "std   63.63     0.01       \n",
       "min   0.00      0.00       \n",
       "25%   0.00      0.00       \n",
       "50%   6.00      0.00       \n",
       "75%   77.00     0.00       \n",
       "max   1543.00   1.00       \n",
       "\n",
       "[8 rows x 39 columns]"
      ]
     },
     "execution_count": 6,
     "metadata": {},
     "output_type": "execute_result"
    }
   ],
   "source": [
    "## # https://workspace1st4305015718.blob.core.windows.net/public/IDS2017-Infilteration.csv\n",
    "## # https://www.unb.ca/cic/datasets/ids-2017.html\n",
    "## # Iman Sharafaldin, Arash Habibi Lashkari, and Ali A. Ghorbani,\n",
    "## # “Toward Generating a New Intrusion Detection Dataset and Intrusion Traffic Characterization”,\n",
    "## # 4th International Conference on Information Systems Security and Privacy (ICISSP), Purtogal, January 2018.\n",
    "## # Try to load the dataset from the Workspace. Otherwise, create it from the file\n",
    "## # NOTE: update the key to match the dataset name\n",
    "found = False\n",
    "key = ds_key # \"IDS2017Infilteration\"\n",
    "description_text = ds_description_text # \"IDS2017Infilteration\"\n",
    "\n",
    "if key in ws.datasets.keys(): \n",
    "        found = True\n",
    "        dataset = ws.datasets[key] \n",
    "\n",
    "if not found:\n",
    "        # # Create AML Dataset and register it into Workspace\n",
    "        csv_data = 'https://workspace1st4305015718.blob.core.windows.net/public/IDS2017-Infilteration.csv'\n",
    "\n",
    "data = csv_data # \"https://automlsamplenotebookdata.blob.core.windows.net/automl-sample-notebook-data/creditcard.csv\"\n",
    "# dataset = Dataset.Tabular.from_delimited_files(data)\n",
    "\n",
    "dataset = ws.datasets[key]\n",
    "training_data, validation_data = dataset.random_split(percentage=0.8, seed=0) # 0.8 # 223\n",
    "\n",
    "# dataset = Dataset.Tabular.from_delimited_files(data)\n",
    "# training_data, validation_data = dataset.random_split(percentage=0.8, seed=223)\n",
    "# !training_data = dataset\n",
    "# !validation_data = dataset\n",
    "\n",
    "df = dataset.to_pandas_dataframe()\n",
    "\n",
    "# label_column_name = ' Label' # 'Class'\n",
    "label_column_name = df.columns[-1]\n",
    "\n",
    "df.describe()"
   ]
  },
  {
   "cell_type": "code",
   "execution_count": 7,
   "metadata": {
    "gather": {
     "logged": 1613310460317
    },
    "jupyter": {
     "outputs_hidden": false,
     "source_hidden": false
    },
    "nteract": {
     "transient": {
      "deleting": false
     }
    }
   },
   "outputs": [
    {
     "data": {
      "text/html": [
       "<div>\n",
       "<style scoped>\n",
       "    .dataframe tbody tr th:only-of-type {\n",
       "        vertical-align: middle;\n",
       "    }\n",
       "\n",
       "    .dataframe tbody tr th {\n",
       "        vertical-align: top;\n",
       "    }\n",
       "\n",
       "    .dataframe thead th {\n",
       "        text-align: right;\n",
       "    }\n",
       "</style>\n",
       "<table border=\"1\" class=\"dataframe\">\n",
       "  <thead>\n",
       "    <tr style=\"text-align: right;\">\n",
       "      <th></th>\n",
       "      <th>Column1</th>\n",
       "      <th>Column2</th>\n",
       "      <th>Column3</th>\n",
       "      <th>Column4</th>\n",
       "      <th>Column5</th>\n",
       "      <th>Column6</th>\n",
       "      <th>Column7</th>\n",
       "      <th>Column8</th>\n",
       "      <th>Column9</th>\n",
       "      <th>Column10</th>\n",
       "      <th>...</th>\n",
       "      <th>Column29</th>\n",
       "      <th>Column30</th>\n",
       "      <th>Column31</th>\n",
       "      <th>Column32</th>\n",
       "      <th>Column33</th>\n",
       "      <th>Column34</th>\n",
       "      <th>Column35</th>\n",
       "      <th>Column36</th>\n",
       "      <th>Column37</th>\n",
       "      <th>Column38</th>\n",
       "    </tr>\n",
       "    <tr>\n",
       "      <th>Column39</th>\n",
       "      <th></th>\n",
       "      <th></th>\n",
       "      <th></th>\n",
       "      <th></th>\n",
       "      <th></th>\n",
       "      <th></th>\n",
       "      <th></th>\n",
       "      <th></th>\n",
       "      <th></th>\n",
       "      <th></th>\n",
       "      <th></th>\n",
       "      <th></th>\n",
       "      <th></th>\n",
       "      <th></th>\n",
       "      <th></th>\n",
       "      <th></th>\n",
       "      <th></th>\n",
       "      <th></th>\n",
       "      <th></th>\n",
       "      <th></th>\n",
       "      <th></th>\n",
       "    </tr>\n",
       "  </thead>\n",
       "  <tbody>\n",
       "    <tr>\n",
       "      <th>0</th>\n",
       "      <td>288566</td>\n",
       "      <td>288566</td>\n",
       "      <td>288566</td>\n",
       "      <td>288566</td>\n",
       "      <td>288566</td>\n",
       "      <td>288566</td>\n",
       "      <td>288566</td>\n",
       "      <td>288566</td>\n",
       "      <td>288566</td>\n",
       "      <td>288566</td>\n",
       "      <td>...</td>\n",
       "      <td>288566</td>\n",
       "      <td>288566</td>\n",
       "      <td>288566</td>\n",
       "      <td>288566</td>\n",
       "      <td>288566</td>\n",
       "      <td>288566</td>\n",
       "      <td>288566</td>\n",
       "      <td>288566</td>\n",
       "      <td>288566</td>\n",
       "      <td>288566</td>\n",
       "    </tr>\n",
       "    <tr>\n",
       "      <th>1</th>\n",
       "      <td>36</td>\n",
       "      <td>36</td>\n",
       "      <td>36</td>\n",
       "      <td>36</td>\n",
       "      <td>36</td>\n",
       "      <td>36</td>\n",
       "      <td>36</td>\n",
       "      <td>36</td>\n",
       "      <td>36</td>\n",
       "      <td>36</td>\n",
       "      <td>...</td>\n",
       "      <td>36</td>\n",
       "      <td>36</td>\n",
       "      <td>36</td>\n",
       "      <td>36</td>\n",
       "      <td>36</td>\n",
       "      <td>36</td>\n",
       "      <td>36</td>\n",
       "      <td>36</td>\n",
       "      <td>36</td>\n",
       "      <td>36</td>\n",
       "    </tr>\n",
       "  </tbody>\n",
       "</table>\n",
       "<p>2 rows × 38 columns</p>\n",
       "</div>"
      ],
      "text/plain": [
       "          Column1  Column2  Column3  Column4  Column5  Column6  Column7  \\\n",
       "Column39                                                                  \n",
       "0         288566   288566   288566   288566   288566   288566   288566    \n",
       "1         36       36       36       36       36       36       36        \n",
       "\n",
       "          Column8  Column9  Column10  ...  Column29  Column30  Column31  \\\n",
       "Column39                              ...                                 \n",
       "0         288566   288566   288566    ...  288566    288566    288566     \n",
       "1         36       36       36        ...  36        36        36         \n",
       "\n",
       "          Column32  Column33  Column34  Column35  Column36  Column37  Column38  \n",
       "Column39                                                                        \n",
       "0         288566    288566    288566    288566    288566    288566    288566    \n",
       "1         36        36        36        36        36        36        36        \n",
       "\n",
       "[2 rows x 38 columns]"
      ]
     },
     "execution_count": 7,
     "metadata": {},
     "output_type": "execute_result"
    }
   ],
   "source": [
    "df.groupby([label_column_name]).count()"
   ]
  },
  {
   "cell_type": "code",
   "execution_count": 8,
   "metadata": {
    "jupyter": {
     "outputs_hidden": false,
     "source_hidden": false
    },
    "nteract": {
     "transient": {
      "deleting": false
     }
    }
   },
   "outputs": [],
   "source": [
    "# df_sorted = df.sort_values(by=(df.columns[-1]), ascending=False, inplace=True)\n",
    "# df.loc[73090].to_dict()\n",
    "# df.dtypes\n",
    "# columns_to_be_removed = ['Flow Bytes/s', ' Flow Packets/s']\n",
    "# df = pd.read_csv(csv_data).drop(columns_to_be_removed, axis = 'columns') # dataset\n",
    "# training_data = dataset.drop_columns(columns=['Flow Bytes/s'])\n",
    "# training_data = dataset.drop_columns(columns=['Flow Bytes/s'])\n",
    "# df.rename(columns={' Label':'Label'}, inplace=True)\n",
    "# label = ' Label'\n",
    "# y_df = x_df.pop(\" Label\").apply(lambda s: 1 if s == \"BENIGN\" else 0)"
   ]
  },
  {
   "cell_type": "markdown",
   "metadata": {
    "nteract": {
     "transient": {
      "deleting": false
     }
    }
   },
   "source": [
    "## AutoML Configuration\n",
    "\n",
    "TODO: Explain why you chose the automl settings and cofiguration you used below."
   ]
  },
  {
   "cell_type": "code",
   "execution_count": 9,
   "metadata": {
    "gather": {
     "logged": 1613310460536
    },
    "jupyter": {
     "outputs_hidden": false,
     "source_hidden": false
    },
    "nteract": {
     "transient": {
      "deleting": false
     }
    }
   },
   "outputs": [],
   "source": [
    "#\"n_cross_validations\": 5, # 3\n",
    "#\"enable_stack_ensemble\": False\n",
    "#\"experiment_timeout_hours\": 0.25,\n",
    "\n",
    "automl_settings = {\n",
    "    \"experiment_timeout_minutes\": 25,\n",
    "    \"max_concurrent_iterations\": 5,\n",
    "    'model_explainability': True,\n",
    "    \"primary_metric\": 'accuracy' # 'normalized_root_mean_squared_error' # 'precision_score_weighted, accuracy, AUC_weighted, norm_macro_recall, average_precision_score\n",
    "}\n",
    "\n",
    "## # https://aka.ms/AutoMLConfig\n",
    "# !training_data = dataset # training_data = training_data\n",
    "\n",
    "automl_config = AutoMLConfig(compute_target=compute_target,\n",
    "                             task = \"classification\", # !\"regression\",\n",
    "                             training_data = training_data,\n",
    "                             label_column_name = label_column_name, # 'Column39', # \" Label\" # 'y'\n",
    "                             path = project_folder,\n",
    "                             enable_early_stopping = True,\n",
    "                             # featurization= 'auto', # Default\n",
    "                             # enable_onnx_compatible_models=True,\n",
    "                             debug_log = \"automl_errors.log\",\n",
    "                             **automl_settings\n",
    "                            )\n"
   ]
  },
  {
   "cell_type": "code",
   "execution_count": 10,
   "metadata": {
    "gather": {
     "logged": 1613310460908
    }
   },
   "outputs": [],
   "source": [
    "# local_run = experiment.submit(automl_config, show_output = True)\n",
    "# remote_run = experiment.submit(automl_config, show_output = False)"
   ]
  },
  {
   "cell_type": "code",
   "execution_count": 11,
   "metadata": {
    "gather": {
     "logged": 1613310461083
    }
   },
   "outputs": [],
   "source": [
    "# run1_id = 'AutoML_532e1f2e-40f2-44cf-845f-4ff45db1a7c8'\n",
    "from azureml.train.automl.run import AutoMLRun\n",
    "# local_run = AutoMLRun(experiment = experiment, run_id = 'AutoML_532e1f2e-40f2-44cf-845f-4ff45db1a7c8')\n",
    "remote_run = AutoMLRun(experiment = experiment, run_id = run1_id)"
   ]
  },
  {
   "cell_type": "code",
   "execution_count": 12,
   "metadata": {
    "gather": {
     "logged": 1613310461273
    }
   },
   "outputs": [],
   "source": [
    "local_run = remote_run"
   ]
  },
  {
   "cell_type": "markdown",
   "metadata": {
    "nteract": {
     "transient": {
      "deleting": false
     }
    }
   },
   "source": [
    "## Run Details\n",
    "\n",
    "OPTIONAL: Write about the different models trained and their performance. Why do you think some models did better than others?\n",
    "\n",
    "TODO: In the cell below, use the `RunDetails` widget to show the different experiments."
   ]
  },
  {
   "cell_type": "code",
   "execution_count": 13,
   "metadata": {
    "gather": {
     "logged": 1613310461597
    },
    "jupyter": {
     "outputs_hidden": false,
     "source_hidden": false
    },
    "nteract": {
     "transient": {
      "deleting": false
     }
    }
   },
   "outputs": [
    {
     "data": {
      "text/html": [
       "<table style=\"width:100%\"><tr><th>Experiment</th><th>Id</th><th>Type</th><th>Status</th><th>Details Page</th><th>Docs Page</th></tr><tr><td>ml-experiment-025</td><td>AutoML_532e1f2e-40f2-44cf-845f-4ff45db1a7c8</td><td>automl</td><td>Completed</td><td><a href=\"https://ml.azure.com/experiments/ml-experiment-025/runs/AutoML_532e1f2e-40f2-44cf-845f-4ff45db1a7c8?wsid=/subscriptions/5cf0bb76-4731-4cb5-ac3d-950c07dda6ef/resourcegroups/group1st/workspaces/workspace1st\" target=\"_blank\" rel=\"noopener\">Link to Azure Machine Learning studio</a></td><td><a href=\"https://docs.microsoft.com/en-us/python/api/overview/azure/ml/intro?view=azure-ml-py\" target=\"_blank\" rel=\"noopener\">Link to Documentation</a></td></tr></table>"
      ],
      "text/plain": [
       "Run(Experiment: ml-experiment-025,\n",
       "Id: AutoML_532e1f2e-40f2-44cf-845f-4ff45db1a7c8,\n",
       "Type: automl,\n",
       "Status: Completed)"
      ]
     },
     "execution_count": 13,
     "metadata": {},
     "output_type": "execute_result"
    }
   ],
   "source": [
    "remote_run"
   ]
  },
  {
   "cell_type": "code",
   "execution_count": 14,
   "metadata": {
    "gather": {
     "logged": 1613310623076
    },
    "jupyter": {
     "outputs_hidden": false,
     "source_hidden": false
    },
    "nteract": {
     "transient": {
      "deleting": false
     }
    }
   },
   "outputs": [],
   "source": [
    "# remote_run.wait_for_completion(show_output=True)"
   ]
  },
  {
   "cell_type": "markdown",
   "metadata": {},
   "source": [
    "## Results"
   ]
  },
  {
   "cell_type": "code",
   "execution_count": 15,
   "metadata": {
    "gather": {
     "logged": 1613310623712
    },
    "scrolled": true
   },
   "outputs": [
    {
     "data": {
      "application/vnd.jupyter.widget-view+json": {
       "model_id": "ec2b4673972449b898fc283411c04762",
       "version_major": 2,
       "version_minor": 0
      },
      "text/plain": [
       "_AutoMLWidget(widget_settings={'childWidgetDisplay': 'popup', 'send_telemetry': True, 'log_level': 'INFO', 'sd…"
      ]
     },
     "metadata": {},
     "output_type": "display_data"
    },
    {
     "data": {
      "application/aml.mini.widget.v1": "{\"status\": \"Completed\", \"workbench_run_details_uri\": \"https://ml.azure.com/experiments/ml-experiment-025/runs/AutoML_532e1f2e-40f2-44cf-845f-4ff45db1a7c8?wsid=/subscriptions/5cf0bb76-4731-4cb5-ac3d-950c07dda6ef/resourcegroups/group1st/workspaces/workspace1st\", \"run_id\": \"AutoML_532e1f2e-40f2-44cf-845f-4ff45db1a7c8\", \"run_properties\": {\"run_id\": \"AutoML_532e1f2e-40f2-44cf-845f-4ff45db1a7c8\", \"created_utc\": \"2021-02-14T08:29:06.16611Z\", \"properties\": {\"num_iterations\": \"1000\", \"training_type\": \"TrainFull\", \"acquisition_function\": \"EI\", \"primary_metric\": \"accuracy\", \"train_split\": \"0\", \"acquisition_parameter\": \"0\", \"num_cross_validation\": null, \"target\": \"cpu-cluster\", \"AMLSettingsJsonString\": \"{\\\"path\\\":null,\\\"name\\\":\\\"ml-experiment-025\\\",\\\"subscription_id\\\":\\\"5cf0bb76-4731-4cb5-ac3d-950c07dda6ef\\\",\\\"resource_group\\\":\\\"group1st\\\",\\\"workspace_name\\\":\\\"workspace1st\\\",\\\"region\\\":\\\"uksouth\\\",\\\"compute_target\\\":\\\"cpu-cluster\\\",\\\"spark_service\\\":null,\\\"azure_service\\\":\\\"remote\\\",\\\"many_models\\\":false,\\\"pipeline_fetch_max_batch_size\\\":1,\\\"iterations\\\":1000,\\\"primary_metric\\\":\\\"accuracy\\\",\\\"task_type\\\":\\\"classification\\\",\\\"data_script\\\":null,\\\"validation_size\\\":0.0,\\\"n_cross_validations\\\":null,\\\"y_min\\\":null,\\\"y_max\\\":null,\\\"num_classes\\\":null,\\\"featurization\\\":\\\"auto\\\",\\\"_ignore_package_version_incompatibilities\\\":false,\\\"is_timeseries\\\":false,\\\"max_cores_per_iteration\\\":1,\\\"max_concurrent_iterations\\\":5,\\\"iteration_timeout_minutes\\\":null,\\\"mem_in_mb\\\":null,\\\"enforce_time_on_windows\\\":false,\\\"experiment_timeout_minutes\\\":25,\\\"experiment_exit_score\\\":null,\\\"whitelist_models\\\":null,\\\"blacklist_algos\\\":[\\\"TensorFlowLinearClassifier\\\",\\\"TensorFlowDNN\\\"],\\\"supported_models\\\":[\\\"LightGBM\\\",\\\"LinearSVM\\\",\\\"TensorFlowDNN\\\",\\\"SVM\\\",\\\"GradientBoosting\\\",\\\"ExtremeRandomTrees\\\",\\\"TensorFlowLinearClassifier\\\",\\\"KNN\\\",\\\"SGD\\\",\\\"BernoulliNaiveBayes\\\",\\\"XGBoostClassifier\\\",\\\"MultinomialNaiveBayes\\\",\\\"LogisticRegression\\\",\\\"RandomForest\\\",\\\"AveragedPerceptronClassifier\\\",\\\"DecisionTree\\\"],\\\"private_models\\\":[],\\\"auto_blacklist\\\":true,\\\"blacklist_samples_reached\\\":false,\\\"exclude_nan_labels\\\":true,\\\"verbosity\\\":20,\\\"_debug_log\\\":\\\"azureml_automl.log\\\",\\\"show_warnings\\\":false,\\\"model_explainability\\\":true,\\\"service_url\\\":null,\\\"sdk_url\\\":null,\\\"sdk_packages\\\":null,\\\"enable_onnx_compatible_models\\\":false,\\\"enable_split_onnx_featurizer_estimator_models\\\":false,\\\"vm_type\\\":\\\"STANDARD_DS12_V2\\\",\\\"telemetry_verbosity\\\":20,\\\"send_telemetry\\\":true,\\\"enable_dnn\\\":false,\\\"scenario\\\":\\\"SDK-1.13.0\\\",\\\"environment_label\\\":null,\\\"force_text_dnn\\\":false,\\\"enable_feature_sweeping\\\":true,\\\"enable_early_stopping\\\":true,\\\"early_stopping_n_iters\\\":10,\\\"metrics\\\":null,\\\"enable_ensembling\\\":true,\\\"enable_stack_ensembling\\\":true,\\\"ensemble_iterations\\\":15,\\\"enable_tf\\\":false,\\\"enable_subsampling\\\":null,\\\"subsample_seed\\\":null,\\\"enable_nimbusml\\\":false,\\\"enable_streaming\\\":false,\\\"force_streaming\\\":false,\\\"track_child_runs\\\":true,\\\"allowed_private_models\\\":[],\\\"label_column_name\\\":\\\"Column39\\\",\\\"weight_column_name\\\":null,\\\"cv_split_column_names\\\":null,\\\"enable_local_managed\\\":false,\\\"_local_managed_run_id\\\":null,\\\"cost_mode\\\":1,\\\"lag_length\\\":0,\\\"metric_operation\\\":\\\"maximize\\\",\\\"preprocess\\\":true}\", \"DataPrepJsonString\": \"{\\\\\\\"training_data\\\\\\\": \\\\\\\"{\\\\\\\\\\\\\\\"blocks\\\\\\\\\\\\\\\": [{\\\\\\\\\\\\\\\"id\\\\\\\\\\\\\\\": \\\\\\\\\\\\\\\"3628f5f7-61ec-4004-a311-ad85df693423\\\\\\\\\\\\\\\", \\\\\\\\\\\\\\\"type\\\\\\\\\\\\\\\": \\\\\\\\\\\\\\\"Microsoft.DPrep.GetFilesBlock\\\\\\\\\\\\\\\", \\\\\\\\\\\\\\\"arguments\\\\\\\\\\\\\\\": {\\\\\\\\\\\\\\\"isArchive\\\\\\\\\\\\\\\": false, \\\\\\\\\\\\\\\"path\\\\\\\\\\\\\\\": {\\\\\\\\\\\\\\\"target\\\\\\\\\\\\\\\": 1, \\\\\\\\\\\\\\\"resourceDetails\\\\\\\\\\\\\\\": [{\\\\\\\\\\\\\\\"path\\\\\\\\\\\\\\\": \\\\\\\\\\\\\\\"https://workspace1st4305015718.blob.core.windows.net/public/IDS2017InfilterationFeaturized.csv\\\\\\\\\\\\\\\", \\\\\\\\\\\\\\\"sas\\\\\\\\\\\\\\\": null, \\\\\\\\\\\\\\\"storageAccountName\\\\\\\\\\\\\\\": null, \\\\\\\\\\\\\\\"storageAccountKey\\\\\\\\\\\\\\\": null}]}}, \\\\\\\\\\\\\\\"localData\\\\\\\\\\\\\\\": {}, \\\\\\\\\\\\\\\"isEnabled\\\\\\\\\\\\\\\": true, \\\\\\\\\\\\\\\"name\\\\\\\\\\\\\\\": null, \\\\\\\\\\\\\\\"annotation\\\\\\\\\\\\\\\": null}, {\\\\\\\\\\\\\\\"id\\\\\\\\\\\\\\\": \\\\\\\\\\\\\\\"18965f0f-b280-4bfb-84db-54dd4f0da3f9\\\\\\\\\\\\\\\", \\\\\\\\\\\\\\\"type\\\\\\\\\\\\\\\": \\\\\\\\\\\\\\\"Microsoft.DPrep.ParseDelimitedBlock\\\\\\\\\\\\\\\", \\\\\\\\\\\\\\\"arguments\\\\\\\\\\\\\\\": {\\\\\\\\\\\\\\\"columnHeadersMode\\\\\\\\\\\\\\\": 0, \\\\\\\\\\\\\\\"fileEncoding\\\\\\\\\\\\\\\": 0, \\\\\\\\\\\\\\\"handleQuotedLineBreaks\\\\\\\\\\\\\\\": false, \\\\\\\\\\\\\\\"preview\\\\\\\\\\\\\\\": false, \\\\\\\\\\\\\\\"separator\\\\\\\\\\\\\\\": \\\\\\\\\\\\\\\",\\\\\\\\\\\\\\\", \\\\\\\\\\\\\\\"skipRows\\\\\\\\\\\\\\\": 1, \\\\\\\\\\\\\\\"skipRowsMode\\\\\\\\\\\\\\\": 1}, \\\\\\\\\\\\\\\"localData\\\\\\\\\\\\\\\": {}, \\\\\\\\\\\\\\\"isEnabled\\\\\\\\\\\\\\\": true, \\\\\\\\\\\\\\\"name\\\\\\\\\\\\\\\": null, \\\\\\\\\\\\\\\"annotation\\\\\\\\\\\\\\\": null}, {\\\\\\\\\\\\\\\"id\\\\\\\\\\\\\\\": \\\\\\\\\\\\\\\"2d26ecf4-da26-443b-85b7-e43738d3596d\\\\\\\\\\\\\\\", \\\\\\\\\\\\\\\"type\\\\\\\\\\\\\\\": \\\\\\\\\\\\\\\"Microsoft.DPrep.DropColumnsBlock\\\\\\\\\\\\\\\", \\\\\\\\\\\\\\\"arguments\\\\\\\\\\\\\\\": {\\\\\\\\\\\\\\\"columns\\\\\\\\\\\\\\\": {\\\\\\\\\\\\\\\"type\\\\\\\\\\\\\\\": 0, \\\\\\\\\\\\\\\"details\\\\\\\\\\\\\\\": {\\\\\\\\\\\\\\\"selectedColumns\\\\\\\\\\\\\\\": [\\\\\\\\\\\\\\\"Path\\\\\\\\\\\\\\\"]}}}, \\\\\\\\\\\\\\\"localData\\\\\\\\\\\\\\\": {}, \\\\\\\\\\\\\\\"isEnabled\\\\\\\\\\\\\\\": true, \\\\\\\\\\\\\\\"name\\\\\\\\\\\\\\\": null, \\\\\\\\\\\\\\\"annotation\\\\\\\\\\\\\\\": null}, {\\\\\\\\\\\\\\\"id\\\\\\\\\\\\\\\": \\\\\\\\\\\\\\\"5a39b11d-e69c-476b-aba7-7f33c275db64\\\\\\\\\\\\\\\", \\\\\\\\\\\\\\\"type\\\\\\\\\\\\\\\": \\\\\\\\\\\\\\\"Microsoft.DPrep.SetColumnTypesBlock\\\\\\\\\\\\\\\", \\\\\\\\\\\\\\\"arguments\\\\\\\\\\\\\\\": {\\\\\\\\\\\\\\\"columnConversion\\\\\\\\\\\\\\\": [{\\\\\\\\\\\\\\\"column\\\\\\\\\\\\\\\": {\\\\\\\\\\\\\\\"type\\\\\\\\\\\\\\\": 2, \\\\\\\\\\\\\\\"details\\\\\\\\\\\\\\\": {\\\\\\\\\\\\\\\"selectedColumn\\\\\\\\\\\\\\\": \\\\\\\\\\\\\\\"Path\\\\\\\\\\\\\\\"}}, \\\\\\\\\\\\\\\"typeProperty\\\\\\\\\\\\\\\": 0}, {\\\\\\\\\\\\\\\"column\\\\\\\\\\\\\\\": {\\\\\\\\\\\\\\\"type\\\\\\\\\\\\\\\": 2, \\\\\\\\\\\\\\\"details\\\\\\\\\\\\\\\": {\\\\\\\\\\\\\\\"selectedColumn\\\\\\\\\\\\\\\": \\\\\\\\\\\\\\\"Column1\\\\\\\\\\\\\\\"}}, \\\\\\\\\\\\\\\"typeProperty\\\\\\\\\\\\\\\": 2}, {\\\\\\\\\\\\\\\"column\\\\\\\\\\\\\\\": {\\\\\\\\\\\\\\\"type\\\\\\\\\\\\\\\": 2, \\\\\\\\\\\\\\\"details\\\\\\\\\\\\\\\": {\\\\\\\\\\\\\\\"selectedColumn\\\\\\\\\\\\\\\": \\\\\\\\\\\\\\\"Column2\\\\\\\\\\\\\\\"}}, \\\\\\\\\\\\\\\"typeProperty\\\\\\\\\\\\\\\": 2}, {\\\\\\\\\\\\\\\"column\\\\\\\\\\\\\\\": {\\\\\\\\\\\\\\\"type\\\\\\\\\\\\\\\": 2, \\\\\\\\\\\\\\\"details\\\\\\\\\\\\\\\": {\\\\\\\\\\\\\\\"selectedColumn\\\\\\\\\\\\\\\": \\\\\\\\\\\\\\\"Column3\\\\\\\\\\\\\\\"}}, \\\\\\\\\\\\\\\"typeProperty\\\\\\\\\\\\\\\": 2}, {\\\\\\\\\\\\\\\"column\\\\\\\\\\\\\\\": {\\\\\\\\\\\\\\\"type\\\\\\\\\\\\\\\": 2, \\\\\\\\\\\\\\\"details\\\\\\\\\\\\\\\": {\\\\\\\\\\\\\\\"selectedColumn\\\\\\\\\\\\\\\": \\\\\\\\\\\\\\\"Column4\\\\\\\\\\\\\\\"}}, \\\\\\\\\\\\\\\"typeProperty\\\\\\\\\\\\\\\": 2}, {\\\\\\\\\\\\\\\"column\\\\\\\\\\\\\\\": {\\\\\\\\\\\\\\\"type\\\\\\\\\\\\\\\": 2, \\\\\\\\\\\\\\\"details\\\\\\\\\\\\\\\": {\\\\\\\\\\\\\\\"selectedColumn\\\\\\\\\\\\\\\": \\\\\\\\\\\\\\\"Column5\\\\\\\\\\\\\\\"}}, \\\\\\\\\\\\\\\"typeProperty\\\\\\\\\\\\\\\": 2}, {\\\\\\\\\\\\\\\"column\\\\\\\\\\\\\\\": {\\\\\\\\\\\\\\\"type\\\\\\\\\\\\\\\": 2, \\\\\\\\\\\\\\\"details\\\\\\\\\\\\\\\": {\\\\\\\\\\\\\\\"selectedColumn\\\\\\\\\\\\\\\": \\\\\\\\\\\\\\\"Column6\\\\\\\\\\\\\\\"}}, \\\\\\\\\\\\\\\"typeProperty\\\\\\\\\\\\\\\": 2}, {\\\\\\\\\\\\\\\"column\\\\\\\\\\\\\\\": {\\\\\\\\\\\\\\\"type\\\\\\\\\\\\\\\": 2, \\\\\\\\\\\\\\\"details\\\\\\\\\\\\\\\": {\\\\\\\\\\\\\\\"selectedColumn\\\\\\\\\\\\\\\": \\\\\\\\\\\\\\\"Column7\\\\\\\\\\\\\\\"}}, \\\\\\\\\\\\\\\"typeProperty\\\\\\\\\\\\\\\": 2}, {\\\\\\\\\\\\\\\"column\\\\\\\\\\\\\\\": {\\\\\\\\\\\\\\\"type\\\\\\\\\\\\\\\": 2, \\\\\\\\\\\\\\\"details\\\\\\\\\\\\\\\": {\\\\\\\\\\\\\\\"selectedColumn\\\\\\\\\\\\\\\": \\\\\\\\\\\\\\\"Column8\\\\\\\\\\\\\\\"}}, \\\\\\\\\\\\\\\"typeProperty\\\\\\\\\\\\\\\": 3}, {\\\\\\\\\\\\\\\"column\\\\\\\\\\\\\\\": {\\\\\\\\\\\\\\\"type\\\\\\\\\\\\\\\": 2, \\\\\\\\\\\\\\\"details\\\\\\\\\\\\\\\": {\\\\\\\\\\\\\\\"selectedColumn\\\\\\\\\\\\\\\": \\\\\\\\\\\\\\\"Column9\\\\\\\\\\\\\\\"}}, \\\\\\\\\\\\\\\"typeProperty\\\\\\\\\\\\\\\": 2}, {\\\\\\\\\\\\\\\"column\\\\\\\\\\\\\\\": {\\\\\\\\\\\\\\\"type\\\\\\\\\\\\\\\": 2, \\\\\\\\\\\\\\\"details\\\\\\\\\\\\\\\": {\\\\\\\\\\\\\\\"selectedColumn\\\\\\\\\\\\\\\": \\\\\\\\\\\\\\\"Column10\\\\\\\\\\\\\\\"}}, \\\\\\\\\\\\\\\"typeProperty\\\\\\\\\\\\\\\": 2}, {\\\\\\\\\\\\\\\"column\\\\\\\\\\\\\\\": {\\\\\\\\\\\\\\\"type\\\\\\\\\\\\\\\": 2, \\\\\\\\\\\\\\\"details\\\\\\\\\\\\\\\": {\\\\\\\\\\\\\\\"selectedColumn\\\\\\\\\\\\\\\": \\\\\\\\\\\\\\\"Column11\\\\\\\\\\\\\\\"}}, \\\\\\\\\\\\\\\"typeProperty\\\\\\\\\\\\\\\": 2}, {\\\\\\\\\\\\\\\"column\\\\\\\\\\\\\\\": {\\\\\\\\\\\\\\\"type\\\\\\\\\\\\\\\": 2, \\\\\\\\\\\\\\\"details\\\\\\\\\\\\\\\": {\\\\\\\\\\\\\\\"selectedColumn\\\\\\\\\\\\\\\": \\\\\\\\\\\\\\\"Column12\\\\\\\\\\\\\\\"}}, \\\\\\\\\\\\\\\"typeProperty\\\\\\\\\\\\\\\": 2}, {\\\\\\\\\\\\\\\"column\\\\\\\\\\\\\\\": {\\\\\\\\\\\\\\\"type\\\\\\\\\\\\\\\": 2, \\\\\\\\\\\\\\\"details\\\\\\\\\\\\\\\": {\\\\\\\\\\\\\\\"selectedColumn\\\\\\\\\\\\\\\": \\\\\\\\\\\\\\\"Column13\\\\\\\\\\\\\\\"}}, \\\\\\\\\\\\\\\"typeProperty\\\\\\\\\\\\\\\": 3}, {\\\\\\\\\\\\\\\"column\\\\\\\\\\\\\\\": {\\\\\\\\\\\\\\\"type\\\\\\\\\\\\\\\": 2, \\\\\\\\\\\\\\\"details\\\\\\\\\\\\\\\": {\\\\\\\\\\\\\\\"selectedColumn\\\\\\\\\\\\\\\": \\\\\\\\\\\\\\\"Column14\\\\\\\\\\\\\\\"}}, \\\\\\\\\\\\\\\"typeProperty\\\\\\\\\\\\\\\": 2}, {\\\\\\\\\\\\\\\"column\\\\\\\\\\\\\\\": {\\\\\\\\\\\\\\\"type\\\\\\\\\\\\\\\": 2, \\\\\\\\\\\\\\\"details\\\\\\\\\\\\\\\": {\\\\\\\\\\\\\\\"selectedColumn\\\\\\\\\\\\\\\": \\\\\\\\\\\\\\\"Column15\\\\\\\\\\\\\\\"}}, \\\\\\\\\\\\\\\"typeProperty\\\\\\\\\\\\\\\": 3}, {\\\\\\\\\\\\\\\"column\\\\\\\\\\\\\\\": {\\\\\\\\\\\\\\\"type\\\\\\\\\\\\\\\": 2, \\\\\\\\\\\\\\\"details\\\\\\\\\\\\\\\": {\\\\\\\\\\\\\\\"selectedColumn\\\\\\\\\\\\\\\": \\\\\\\\\\\\\\\"Column16\\\\\\\\\\\\\\\"}}, \\\\\\\\\\\\\\\"typeProperty\\\\\\\\\\\\\\\": 2}, {\\\\\\\\\\\\\\\"column\\\\\\\\\\\\\\\": {\\\\\\\\\\\\\\\"type\\\\\\\\\\\\\\\": 2, \\\\\\\\\\\\\\\"details\\\\\\\\\\\\\\\": {\\\\\\\\\\\\\\\"selectedColumn\\\\\\\\\\\\\\\": \\\\\\\\\\\\\\\"Column17\\\\\\\\\\\\\\\"}}, \\\\\\\\\\\\\\\"typeProperty\\\\\\\\\\\\\\\": 2}, {\\\\\\\\\\\\\\\"column\\\\\\\\\\\\\\\": {\\\\\\\\\\\\\\\"type\\\\\\\\\\\\\\\": 2, \\\\\\\\\\\\\\\"details\\\\\\\\\\\\\\\": {\\\\\\\\\\\\\\\"selectedColumn\\\\\\\\\\\\\\\": \\\\\\\\\\\\\\\"Column18\\\\\\\\\\\\\\\"}}, \\\\\\\\\\\\\\\"typeProperty\\\\\\\\\\\\\\\": 2}, {\\\\\\\\\\\\\\\"column\\\\\\\\\\\\\\\": {\\\\\\\\\\\\\\\"type\\\\\\\\\\\\\\\": 2, \\\\\\\\\\\\\\\"details\\\\\\\\\\\\\\\": {\\\\\\\\\\\\\\\"selectedColumn\\\\\\\\\\\\\\\": \\\\\\\\\\\\\\\"Column19\\\\\\\\\\\\\\\"}}, \\\\\\\\\\\\\\\"typeProperty\\\\\\\\\\\\\\\": 2}, {\\\\\\\\\\\\\\\"column\\\\\\\\\\\\\\\": {\\\\\\\\\\\\\\\"type\\\\\\\\\\\\\\\": 2, \\\\\\\\\\\\\\\"details\\\\\\\\\\\\\\\": {\\\\\\\\\\\\\\\"selectedColumn\\\\\\\\\\\\\\\": \\\\\\\\\\\\\\\"Column20\\\\\\\\\\\\\\\"}}, \\\\\\\\\\\\\\\"typeProperty\\\\\\\\\\\\\\\": 2}, {\\\\\\\\\\\\\\\"column\\\\\\\\\\\\\\\": {\\\\\\\\\\\\\\\"type\\\\\\\\\\\\\\\": 2, \\\\\\\\\\\\\\\"details\\\\\\\\\\\\\\\": {\\\\\\\\\\\\\\\"selectedColumn\\\\\\\\\\\\\\\": \\\\\\\\\\\\\\\"Column21\\\\\\\\\\\\\\\"}}, \\\\\\\\\\\\\\\"typeProperty\\\\\\\\\\\\\\\": 2}, {\\\\\\\\\\\\\\\"column\\\\\\\\\\\\\\\": {\\\\\\\\\\\\\\\"type\\\\\\\\\\\\\\\": 2, \\\\\\\\\\\\\\\"details\\\\\\\\\\\\\\\": {\\\\\\\\\\\\\\\"selectedColumn\\\\\\\\\\\\\\\": \\\\\\\\\\\\\\\"Column22\\\\\\\\\\\\\\\"}}, \\\\\\\\\\\\\\\"typeProperty\\\\\\\\\\\\\\\": 2}, {\\\\\\\\\\\\\\\"column\\\\\\\\\\\\\\\": {\\\\\\\\\\\\\\\"type\\\\\\\\\\\\\\\": 2, \\\\\\\\\\\\\\\"details\\\\\\\\\\\\\\\": {\\\\\\\\\\\\\\\"selectedColumn\\\\\\\\\\\\\\\": \\\\\\\\\\\\\\\"Column23\\\\\\\\\\\\\\\"}}, \\\\\\\\\\\\\\\"typeProperty\\\\\\\\\\\\\\\": 2}, {\\\\\\\\\\\\\\\"column\\\\\\\\\\\\\\\": {\\\\\\\\\\\\\\\"type\\\\\\\\\\\\\\\": 2, \\\\\\\\\\\\\\\"details\\\\\\\\\\\\\\\": {\\\\\\\\\\\\\\\"selectedColumn\\\\\\\\\\\\\\\": \\\\\\\\\\\\\\\"Column24\\\\\\\\\\\\\\\"}}, \\\\\\\\\\\\\\\"typeProperty\\\\\\\\\\\\\\\": 2}, {\\\\\\\\\\\\\\\"column\\\\\\\\\\\\\\\": {\\\\\\\\\\\\\\\"type\\\\\\\\\\\\\\\": 2, \\\\\\\\\\\\\\\"details\\\\\\\\\\\\\\\": {\\\\\\\\\\\\\\\"selectedColumn\\\\\\\\\\\\\\\": \\\\\\\\\\\\\\\"Column25\\\\\\\\\\\\\\\"}}, \\\\\\\\\\\\\\\"typeProperty\\\\\\\\\\\\\\\": 3}, {\\\\\\\\\\\\\\\"column\\\\\\\\\\\\\\\": {\\\\\\\\\\\\\\\"type\\\\\\\\\\\\\\\": 2, \\\\\\\\\\\\\\\"details\\\\\\\\\\\\\\\": {\\\\\\\\\\\\\\\"selectedColumn\\\\\\\\\\\\\\\": \\\\\\\\\\\\\\\"Column26\\\\\\\\\\\\\\\"}}, \\\\\\\\\\\\\\\"typeProperty\\\\\\\\\\\\\\\": 3}, {\\\\\\\\\\\\\\\"column\\\\\\\\\\\\\\\": {\\\\\\\\\\\\\\\"type\\\\\\\\\\\\\\\": 2, \\\\\\\\\\\\\\\"details\\\\\\\\\\\\\\\": {\\\\\\\\\\\\\\\"selectedColumn\\\\\\\\\\\\\\\": \\\\\\\\\\\\\\\"Column27\\\\\\\\\\\\\\\"}}, \\\\\\\\\\\\\\\"typeProperty\\\\\\\\\\\\\\\": 3}, {\\\\\\\\\\\\\\\"column\\\\\\\\\\\\\\\": {\\\\\\\\\\\\\\\"type\\\\\\\\\\\\\\\": 2, \\\\\\\\\\\\\\\"details\\\\\\\\\\\\\\\": {\\\\\\\\\\\\\\\"selectedColumn\\\\\\\\\\\\\\\": \\\\\\\\\\\\\\\"Column28\\\\\\\\\\\\\\\"}}, \\\\\\\\\\\\\\\"typeProperty\\\\\\\\\\\\\\\": 3}, {\\\\\\\\\\\\\\\"column\\\\\\\\\\\\\\\": {\\\\\\\\\\\\\\\"type\\\\\\\\\\\\\\\": 2, \\\\\\\\\\\\\\\"details\\\\\\\\\\\\\\\": {\\\\\\\\\\\\\\\"selectedColumn\\\\\\\\\\\\\\\": \\\\\\\\\\\\\\\"Column29\\\\\\\\\\\\\\\"}}, \\\\\\\\\\\\\\\"typeProperty\\\\\\\\\\\\\\\": 2}, {\\\\\\\\\\\\\\\"column\\\\\\\\\\\\\\\": {\\\\\\\\\\\\\\\"type\\\\\\\\\\\\\\\": 2, \\\\\\\\\\\\\\\"details\\\\\\\\\\\\\\\": {\\\\\\\\\\\\\\\"selectedColumn\\\\\\\\\\\\\\\": \\\\\\\\\\\\\\\"Column30\\\\\\\\\\\\\\\"}}, \\\\\\\\\\\\\\\"typeProperty\\\\\\\\\\\\\\\": 3}, {\\\\\\\\\\\\\\\"column\\\\\\\\\\\\\\\": {\\\\\\\\\\\\\\\"type\\\\\\\\\\\\\\\": 2, \\\\\\\\\\\\\\\"details\\\\\\\\\\\\\\\": {\\\\\\\\\\\\\\\"selectedColumn\\\\\\\\\\\\\\\": \\\\\\\\\\\\\\\"Column31\\\\\\\\\\\\\\\"}}, \\\\\\\\\\\\\\\"typeProperty\\\\\\\\\\\\\\\": 3}, {\\\\\\\\\\\\\\\"column\\\\\\\\\\\\\\\": {\\\\\\\\\\\\\\\"type\\\\\\\\\\\\\\\": 2, \\\\\\\\\\\\\\\"details\\\\\\\\\\\\\\\": {\\\\\\\\\\\\\\\"selectedColumn\\\\\\\\\\\\\\\": \\\\\\\\\\\\\\\"Column32\\\\\\\\\\\\\\\"}}, \\\\\\\\\\\\\\\"typeProperty\\\\\\\\\\\\\\\": 2}, {\\\\\\\\\\\\\\\"column\\\\\\\\\\\\\\\": {\\\\\\\\\\\\\\\"type\\\\\\\\\\\\\\\": 2, \\\\\\\\\\\\\\\"details\\\\\\\\\\\\\\\": {\\\\\\\\\\\\\\\"selectedColumn\\\\\\\\\\\\\\\": \\\\\\\\\\\\\\\"Column33\\\\\\\\\\\\\\\"}}, \\\\\\\\\\\\\\\"typeProperty\\\\\\\\\\\\\\\": 2}, {\\\\\\\\\\\\\\\"column\\\\\\\\\\\\\\\": {\\\\\\\\\\\\\\\"type\\\\\\\\\\\\\\\": 2, \\\\\\\\\\\\\\\"details\\\\\\\\\\\\\\\": {\\\\\\\\\\\\\\\"selectedColumn\\\\\\\\\\\\\\\": \\\\\\\\\\\\\\\"Column34\\\\\\\\\\\\\\\"}}, \\\\\\\\\\\\\\\"typeProperty\\\\\\\\\\\\\\\": 3}, {\\\\\\\\\\\\\\\"column\\\\\\\\\\\\\\\": {\\\\\\\\\\\\\\\"type\\\\\\\\\\\\\\\": 2, \\\\\\\\\\\\\\\"details\\\\\\\\\\\\\\\": {\\\\\\\\\\\\\\\"selectedColumn\\\\\\\\\\\\\\\": \\\\\\\\\\\\\\\"Column35\\\\\\\\\\\\\\\"}}, \\\\\\\\\\\\\\\"typeProperty\\\\\\\\\\\\\\\": 2}, {\\\\\\\\\\\\\\\"column\\\\\\\\\\\\\\\": {\\\\\\\\\\\\\\\"type\\\\\\\\\\\\\\\": 2, \\\\\\\\\\\\\\\"details\\\\\\\\\\\\\\\": {\\\\\\\\\\\\\\\"selectedColumn\\\\\\\\\\\\\\\": \\\\\\\\\\\\\\\"Column36\\\\\\\\\\\\\\\"}}, \\\\\\\\\\\\\\\"typeProperty\\\\\\\\\\\\\\\": 2}, {\\\\\\\\\\\\\\\"column\\\\\\\\\\\\\\\": {\\\\\\\\\\\\\\\"type\\\\\\\\\\\\\\\": 2, \\\\\\\\\\\\\\\"details\\\\\\\\\\\\\\\": {\\\\\\\\\\\\\\\"selectedColumn\\\\\\\\\\\\\\\": \\\\\\\\\\\\\\\"Column37\\\\\\\\\\\\\\\"}}, \\\\\\\\\\\\\\\"typeProperty\\\\\\\\\\\\\\\": 3}, {\\\\\\\\\\\\\\\"column\\\\\\\\\\\\\\\": {\\\\\\\\\\\\\\\"type\\\\\\\\\\\\\\\": 2, \\\\\\\\\\\\\\\"details\\\\\\\\\\\\\\\": {\\\\\\\\\\\\\\\"selectedColumn\\\\\\\\\\\\\\\": \\\\\\\\\\\\\\\"Column38\\\\\\\\\\\\\\\"}}, \\\\\\\\\\\\\\\"typeProperty\\\\\\\\\\\\\\\": 2}, {\\\\\\\\\\\\\\\"column\\\\\\\\\\\\\\\": {\\\\\\\\\\\\\\\"type\\\\\\\\\\\\\\\": 2, \\\\\\\\\\\\\\\"details\\\\\\\\\\\\\\\": {\\\\\\\\\\\\\\\"selectedColumn\\\\\\\\\\\\\\\": \\\\\\\\\\\\\\\"Column39\\\\\\\\\\\\\\\"}}, \\\\\\\\\\\\\\\"typeProperty\\\\\\\\\\\\\\\": 2}]}, \\\\\\\\\\\\\\\"localData\\\\\\\\\\\\\\\": {}, \\\\\\\\\\\\\\\"isEnabled\\\\\\\\\\\\\\\": true, \\\\\\\\\\\\\\\"name\\\\\\\\\\\\\\\": null, \\\\\\\\\\\\\\\"annotation\\\\\\\\\\\\\\\": null}], \\\\\\\\\\\\\\\"inspectors\\\\\\\\\\\\\\\": [], \\\\\\\\\\\\\\\"meta\\\\\\\\\\\\\\\": {\\\\\\\\\\\\\\\"savedDatasetId\\\\\\\\\\\\\\\": \\\\\\\\\\\\\\\"18688820-c5ad-4062-bcb7-bda63372398a\\\\\\\\\\\\\\\", \\\\\\\\\\\\\\\"datasetType\\\\\\\\\\\\\\\": \\\\\\\\\\\\\\\"tabular\\\\\\\\\\\\\\\", \\\\\\\\\\\\\\\"subscriptionId\\\\\\\\\\\\\\\": \\\\\\\\\\\\\\\"5cf0bb76-4731-4cb5-ac3d-950c07dda6ef\\\\\\\\\\\\\\\", \\\\\\\\\\\\\\\"workspaceId\\\\\\\\\\\\\\\": \\\\\\\\\\\\\\\"fc3b37fb-bacc-4eab-9f1e-3b7d75d79cf5\\\\\\\\\\\\\\\", \\\\\\\\\\\\\\\"workspaceLocation\\\\\\\\\\\\\\\": \\\\\\\\\\\\\\\"uksouth\\\\\\\\\\\\\\\"}}\\\\\\\", \\\\\\\"activities\\\\\\\": 0}\", \"EnableSubsampling\": null, \"runTemplate\": \"AutoML\", \"azureml.runsource\": \"automl\", \"display_task_type\": \"classification\", \"dependencies_versions\": \"{\\\"azureml-widgets\\\": \\\"1.20.0\\\", \\\"azureml-train\\\": \\\"1.20.0\\\", \\\"azureml-train-restclients-hyperdrive\\\": \\\"1.22.0\\\", \\\"azureml-train-core\\\": \\\"1.22.0\\\", \\\"azureml-train-automl\\\": \\\"1.22.0\\\", \\\"azureml-train-automl-runtime\\\": \\\"1.22.0\\\", \\\"azureml-train-automl-client\\\": \\\"1.22.0\\\", \\\"azureml-tensorboard\\\": \\\"1.20.0\\\", \\\"azureml-telemetry\\\": \\\"1.22.0\\\", \\\"azureml-sdk\\\": \\\"1.20.0\\\", \\\"azureml-samples\\\": \\\"0+unknown\\\", \\\"azureml-pipeline\\\": \\\"1.20.0\\\", \\\"azureml-pipeline-steps\\\": \\\"1.22.0\\\", \\\"azureml-pipeline-core\\\": \\\"1.22.0\\\", \\\"azureml-opendatasets\\\": \\\"1.20.0\\\", \\\"azureml-model-management-sdk\\\": \\\"1.0.1b6.post1\\\", \\\"azureml-mlflow\\\": \\\"1.20.0.post1\\\", \\\"azureml-interpret\\\": \\\"1.22.0\\\", \\\"azureml-explain-model\\\": \\\"1.20.0\\\", \\\"azureml-defaults\\\": \\\"1.22.0\\\", \\\"azureml-dataset-runtime\\\": \\\"1.22.0\\\", \\\"azureml-dataprep\\\": \\\"2.9.0\\\", \\\"azureml-dataprep-rslex\\\": \\\"1.7.0\\\", \\\"azureml-dataprep-native\\\": \\\"29.0.0\\\", \\\"azureml-datadrift\\\": \\\"1.20.0\\\", \\\"azureml-core\\\": \\\"1.22.0\\\", \\\"azureml-contrib-services\\\": \\\"1.20.0\\\", \\\"azureml-contrib-server\\\": \\\"1.20.0\\\", \\\"azureml-contrib-reinforcementlearning\\\": \\\"1.20.0\\\", \\\"azureml-contrib-pipeline-steps\\\": \\\"1.20.0\\\", \\\"azureml-contrib-notebook\\\": \\\"1.20.0\\\", \\\"azureml-contrib-interpret\\\": \\\"1.20.0\\\", \\\"azureml-contrib-gbdt\\\": \\\"1.20.0\\\", \\\"azureml-contrib-fairness\\\": \\\"1.20.0\\\", \\\"azureml-contrib-dataset\\\": \\\"1.20.0\\\", \\\"azureml-cli-common\\\": \\\"1.20.0\\\", \\\"azureml-automl-runtime\\\": \\\"1.22.0\\\", \\\"azureml-automl-core\\\": \\\"1.22.0\\\", \\\"azureml-accel-models\\\": \\\"1.20.0\\\"}\", \"_aml_system_scenario_identification\": \"Remote.Parent\", \"ClientType\": \"SDK\", \"environment_cpu_name\": \"AzureML-AutoML\", \"environment_cpu_label\": \"prod\", \"environment_gpu_name\": \"AzureML-AutoML-GPU\", \"environment_gpu_label\": \"prod\", \"root_attribution\": \"automl\", \"attribution\": \"AutoML\", \"Orchestrator\": \"AutoML\", \"CancelUri\": \"https://uksouth.experiments.azureml.net/jasmine/v1.0/subscriptions/5cf0bb76-4731-4cb5-ac3d-950c07dda6ef/resourceGroups/group1st/providers/Microsoft.MachineLearningServices/workspaces/workspace1st/experimentids/16d32214-2925-43c0-a8f2-ff9ae56d6268/cancel/AutoML_532e1f2e-40f2-44cf-845f-4ff45db1a7c8\", \"ClientSdkVersion\": \"1.21.0\", \"snapshotId\": \"00000000-0000-0000-0000-000000000000\", \"SetupRunId\": \"AutoML_532e1f2e-40f2-44cf-845f-4ff45db1a7c8_setup\", \"SetupRunContainerId\": \"dcid.AutoML_532e1f2e-40f2-44cf-845f-4ff45db1a7c8_setup\", \"FeaturizationRunJsonPath\": \"featurizer_container.json\", \"FeaturizationRunId\": \"AutoML_532e1f2e-40f2-44cf-845f-4ff45db1a7c8_featurize\", \"ProblemInfoJsonString\": \"{\\\"dataset_num_categorical\\\": 0, \\\"is_sparse\\\": true, \\\"subsampling\\\": false, \\\"dataset_classes\\\": 2, \\\"dataset_features\\\": 51, \\\"dataset_samples\\\": 259741, \\\"single_frequency_class_detected\\\": false}\", \"ModelExplainRunId\": \"AutoML_532e1f2e-40f2-44cf-845f-4ff45db1a7c8_ModelExplain\"}, \"tags\": {\"model_explain_run\": \"best_run\", \"_aml_system_azureml.automlComponent\": \"AutoML\", \"pipeline_id\": \"\", \"score\": \"\", \"predicted_cost\": \"\", \"fit_time\": \"\", \"training_percent\": \"\", \"iteration\": \"\", \"run_preprocessor\": \"\", \"run_algorithm\": \"\", \"dynamic_whitelisting_iterations\": \"<25>;<30>;\", \"automl_best_child_run_id\": \"AutoML_532e1f2e-40f2-44cf-845f-4ff45db1a7c8_6\", \"model_explain_best_run_child_id\": \"AutoML_532e1f2e-40f2-44cf-845f-4ff45db1a7c8_6\"}, \"end_time_utc\": \"2021-02-14T09:05:12.39142Z\", \"status\": \"Completed\", \"log_files\": {}, \"log_groups\": [], \"run_duration\": \"0:36:06\"}, \"child_runs\": [{\"run_id\": \"AutoML_532e1f2e-40f2-44cf-845f-4ff45db1a7c8_2\", \"run_number\": 5, \"metric\": null, \"status\": \"Completed\", \"run_type\": \"azureml.scriptrun\", \"training_percent\": \"100\", \"start_time\": \"2021-02-14T08:33:47.427116Z\", \"end_time\": \"2021-02-14T08:34:37.994527Z\", \"created_time\": \"2021-02-14T08:33:37.782091Z\", \"created_time_dt\": \"2021-02-14T08:33:37.782091Z\", \"duration\": \"0:01:00\", \"iteration\": \"2\", \"goal\": \"accuracy_max\", \"run_name\": \"MaxAbsScaler, RandomForest\", \"run_properties\": \"copy=True\", \"primary_metric\": 0.9998614, \"best_metric\": 0.99996535}, {\"run_id\": \"AutoML_532e1f2e-40f2-44cf-845f-4ff45db1a7c8_0\", \"run_number\": 6, \"metric\": null, \"status\": \"Completed\", \"run_type\": \"azureml.scriptrun\", \"training_percent\": \"100\", \"start_time\": \"2021-02-14T08:35:39.817867Z\", \"end_time\": \"2021-02-14T08:36:35.812621Z\", \"created_time\": \"2021-02-14T08:33:37.793819Z\", \"created_time_dt\": \"2021-02-14T08:33:37.793819Z\", \"duration\": \"0:02:58\", \"iteration\": \"0\", \"goal\": \"accuracy_max\", \"run_name\": \"MaxAbsScaler, LightGBM\", \"run_properties\": \"copy=True\", \"primary_metric\": 0.99930702, \"best_metric\": 0.99930702}, {\"run_id\": \"AutoML_532e1f2e-40f2-44cf-845f-4ff45db1a7c8_3\", \"run_number\": 7, \"metric\": null, \"status\": \"Completed\", \"run_type\": \"azureml.scriptrun\", \"training_percent\": \"100\", \"start_time\": \"2021-02-14T08:34:41.450524Z\", \"end_time\": \"2021-02-14T08:35:32.082428Z\", \"created_time\": \"2021-02-14T08:33:37.80453Z\", \"created_time_dt\": \"2021-02-14T08:33:37.80453Z\", \"duration\": \"0:01:54\", \"iteration\": \"3\", \"goal\": \"accuracy_max\", \"run_name\": \"MaxAbsScaler, RandomForest\", \"run_properties\": \"copy=True\", \"primary_metric\": 0.9998614, \"best_metric\": 0.99996535}, {\"run_id\": \"AutoML_532e1f2e-40f2-44cf-845f-4ff45db1a7c8_4\", \"run_number\": 8, \"metric\": null, \"status\": \"Completed\", \"run_type\": \"azureml.scriptrun\", \"training_percent\": \"100\", \"start_time\": \"2021-02-14T08:36:40.736637Z\", \"end_time\": \"2021-02-14T08:37:38.719093Z\", \"created_time\": \"2021-02-14T08:33:37.804856Z\", \"created_time_dt\": \"2021-02-14T08:33:37.804856Z\", \"duration\": \"0:04:00\", \"iteration\": \"4\", \"goal\": \"accuracy_max\", \"run_name\": \"MaxAbsScaler, RandomForest\", \"run_properties\": \"copy=True\", \"primary_metric\": 0.97934929, \"best_metric\": 0.99996535}, {\"run_id\": \"AutoML_532e1f2e-40f2-44cf-845f-4ff45db1a7c8_1\", \"run_number\": 9, \"metric\": null, \"status\": \"Completed\", \"run_type\": \"azureml.scriptrun\", \"training_percent\": \"100\", \"start_time\": \"2021-02-14T08:37:05.360536Z\", \"end_time\": \"2021-02-14T08:39:44.337799Z\", \"created_time\": \"2021-02-14T08:33:37.797873Z\", \"created_time_dt\": \"2021-02-14T08:33:37.797873Z\", \"duration\": \"0:06:06\", \"iteration\": \"1\", \"goal\": \"accuracy_max\", \"run_name\": \"MaxAbsScaler, XGBoostClassifier\", \"run_properties\": \"copy=True\", \"primary_metric\": 0.99996535, \"best_metric\": 0.99996535}, {\"run_id\": \"AutoML_532e1f2e-40f2-44cf-845f-4ff45db1a7c8_5\", \"run_number\": 10, \"metric\": null, \"status\": \"Completed\", \"run_type\": \"azureml.scriptrun\", \"training_percent\": \"100\", \"start_time\": \"2021-02-14T08:37:43.171358Z\", \"end_time\": \"2021-02-14T08:38:41.220098Z\", \"created_time\": \"2021-02-14T08:34:40.973428Z\", \"created_time_dt\": \"2021-02-14T08:34:40.973428Z\", \"duration\": \"0:04:00\", \"iteration\": \"5\", \"goal\": \"accuracy_max\", \"run_name\": \"MaxAbsScaler, RandomForest\", \"run_properties\": \"copy=True\", \"primary_metric\": 0.88683691, \"best_metric\": 0.99996535}, {\"run_id\": \"AutoML_532e1f2e-40f2-44cf-845f-4ff45db1a7c8_6\", \"run_number\": 11, \"metric\": null, \"status\": \"Completed\", \"run_type\": \"azureml.scriptrun\", \"training_percent\": \"100\", \"start_time\": \"2021-02-14T08:38:42.131654Z\", \"end_time\": \"2021-02-14T08:40:24.230577Z\", \"created_time\": \"2021-02-14T08:35:34.24568Z\", \"created_time_dt\": \"2021-02-14T08:35:34.24568Z\", \"duration\": \"0:04:49\", \"iteration\": \"6\", \"goal\": \"accuracy_max\", \"run_name\": \"SparseNormalizer, XGBoostClassifier\", \"run_properties\": \"<azureml.automl.runtime.shared.model_wrappers.SparseNormalizer object at 0x7f1b37b12278\", \"primary_metric\": 1.0, \"best_metric\": 1.0}, {\"run_id\": \"AutoML_532e1f2e-40f2-44cf-845f-4ff45db1a7c8_7\", \"run_number\": 12, \"metric\": null, \"status\": \"Completed\", \"run_type\": \"azureml.scriptrun\", \"training_percent\": \"100\", \"start_time\": \"2021-02-14T08:39:46.265257Z\", \"end_time\": \"2021-02-14T08:41:03.124171Z\", \"created_time\": \"2021-02-14T08:36:38.048989Z\", \"created_time_dt\": \"2021-02-14T08:36:38.048989Z\", \"duration\": \"0:04:25\", \"iteration\": \"7\", \"goal\": \"accuracy_max\", \"run_name\": \"SparseNormalizer, XGBoostClassifier\", \"run_properties\": \"<azureml.automl.runtime.shared.model_wrappers.SparseNormalizer object at 0x7efbc4cf26d8\", \"primary_metric\": 0.99989605, \"best_metric\": 1.0}, {\"run_id\": \"AutoML_532e1f2e-40f2-44cf-845f-4ff45db1a7c8_8\", \"run_number\": 13, \"metric\": null, \"status\": \"Completed\", \"run_type\": \"azureml.scriptrun\", \"training_percent\": \"100\", \"start_time\": \"2021-02-14T08:40:25.194484Z\", \"end_time\": \"2021-02-14T08:41:14.366104Z\", \"created_time\": \"2021-02-14T08:37:40.860563Z\", \"created_time_dt\": \"2021-02-14T08:37:40.860563Z\", \"duration\": \"0:03:33\", \"iteration\": \"8\", \"goal\": \"accuracy_max\", \"run_name\": \"MaxAbsScaler, LightGBM\", \"run_properties\": \"copy=True\", \"primary_metric\": 0.9998614, \"best_metric\": 1.0}, {\"run_id\": \"AutoML_532e1f2e-40f2-44cf-845f-4ff45db1a7c8_9\", \"run_number\": 14, \"metric\": null, \"status\": \"Completed\", \"run_type\": \"azureml.scriptrun\", \"training_percent\": \"100\", \"start_time\": \"2021-02-14T08:41:09.869341Z\", \"end_time\": \"2021-02-14T08:42:27.357309Z\", \"created_time\": \"2021-02-14T08:38:43.015922Z\", \"created_time_dt\": \"2021-02-14T08:38:43.015922Z\", \"duration\": \"0:03:44\", \"iteration\": \"9\", \"goal\": \"accuracy_max\", \"run_name\": \"SparseNormalizer, LightGBM\", \"run_properties\": \"<azureml.automl.runtime.shared.model_wrappers.SparseNormalizer object at 0x7f233bc9ca58\", \"primary_metric\": 0.9998614, \"best_metric\": 1.0}, {\"run_id\": \"AutoML_532e1f2e-40f2-44cf-845f-4ff45db1a7c8_10\", \"run_number\": 15, \"metric\": null, \"status\": \"Completed\", \"run_type\": \"azureml.scriptrun\", \"training_percent\": \"100\", \"start_time\": \"2021-02-14T08:41:15.998838Z\", \"end_time\": \"2021-02-14T08:42:09.120485Z\", \"created_time\": \"2021-02-14T08:39:46.439729Z\", \"created_time_dt\": \"2021-02-14T08:39:46.439729Z\", \"duration\": \"0:02:22\", \"iteration\": \"10\", \"goal\": \"accuracy_max\", \"run_name\": \"SparseNormalizer, LightGBM\", \"run_properties\": \"<azureml.automl.runtime.shared.model_wrappers.SparseNormalizer object at 0x7fea55528d30\", \"primary_metric\": 0.9998614, \"best_metric\": 1.0}, {\"run_id\": \"AutoML_532e1f2e-40f2-44cf-845f-4ff45db1a7c8_11\", \"run_number\": 16, \"metric\": null, \"status\": \"Completed\", \"run_type\": \"azureml.scriptrun\", \"training_percent\": \"100\", \"start_time\": \"2021-02-14T08:42:15.966807Z\", \"end_time\": \"2021-02-14T08:43:09.523497Z\", \"created_time\": \"2021-02-14T08:40:26.015805Z\", \"created_time_dt\": \"2021-02-14T08:40:26.015805Z\", \"duration\": \"0:02:43\", \"iteration\": \"11\", \"goal\": \"accuracy_max\", \"run_name\": \"MaxAbsScaler, LightGBM\", \"run_properties\": \"copy=True\", \"primary_metric\": 0.9998614, \"best_metric\": 1.0}, {\"run_id\": \"AutoML_532e1f2e-40f2-44cf-845f-4ff45db1a7c8_12\", \"run_number\": 17, \"metric\": null, \"status\": \"Completed\", \"run_type\": \"azureml.scriptrun\", \"training_percent\": \"100\", \"start_time\": \"2021-02-14T08:42:27.8648Z\", \"end_time\": \"2021-02-14T08:43:23.413574Z\", \"created_time\": \"2021-02-14T08:41:05.059435Z\", \"created_time_dt\": \"2021-02-14T08:41:05.059435Z\", \"duration\": \"0:02:18\", \"iteration\": \"12\", \"goal\": \"accuracy_max\", \"run_name\": \"MaxAbsScaler, LightGBM\", \"run_properties\": \"copy=True\", \"primary_metric\": 0.9998614, \"best_metric\": 1.0}, {\"run_id\": \"AutoML_532e1f2e-40f2-44cf-845f-4ff45db1a7c8_13\", \"run_number\": 18, \"metric\": null, \"status\": \"Completed\", \"run_type\": \"azureml.scriptrun\", \"training_percent\": \"100\", \"start_time\": \"2021-02-14T08:43:13.490798Z\", \"end_time\": \"2021-02-14T08:44:27.782687Z\", \"created_time\": \"2021-02-14T08:41:16.04583Z\", \"created_time_dt\": \"2021-02-14T08:41:16.04583Z\", \"duration\": \"0:03:11\", \"iteration\": \"13\", \"goal\": \"accuracy_max\", \"run_name\": \"SparseNormalizer, XGBoostClassifier\", \"run_properties\": \"<azureml.automl.runtime.shared.model_wrappers.SparseNormalizer object at 0x7f1945596588\", \"primary_metric\": 0.9999307, \"best_metric\": 1.0}, {\"run_id\": \"AutoML_532e1f2e-40f2-44cf-845f-4ff45db1a7c8_14\", \"run_number\": 19, \"metric\": null, \"status\": \"Completed\", \"run_type\": \"azureml.scriptrun\", \"training_percent\": \"100\", \"start_time\": \"2021-02-14T08:43:25.531333Z\", \"end_time\": \"2021-02-14T08:45:25.516014Z\", \"created_time\": \"2021-02-14T08:42:11.172453Z\", \"created_time_dt\": \"2021-02-14T08:42:11.172453Z\", \"duration\": \"0:03:14\", \"iteration\": \"14\", \"goal\": \"accuracy_max\", \"run_name\": \"SparseNormalizer, XGBoostClassifier\", \"run_properties\": \"<azureml.automl.runtime.shared.model_wrappers.SparseNormalizer object at 0x7f2d61748c88\", \"primary_metric\": 1.0, \"best_metric\": 1.0}, {\"run_id\": \"AutoML_532e1f2e-40f2-44cf-845f-4ff45db1a7c8_15\", \"run_number\": 20, \"metric\": null, \"status\": \"Completed\", \"run_type\": \"azureml.scriptrun\", \"training_percent\": \"100\", \"start_time\": \"2021-02-14T08:44:30.565982Z\", \"end_time\": \"2021-02-14T08:45:36.519445Z\", \"created_time\": \"2021-02-14T08:42:29.324455Z\", \"created_time_dt\": \"2021-02-14T08:42:29.324455Z\", \"duration\": \"0:03:07\", \"iteration\": \"15\", \"goal\": \"accuracy_max\", \"run_name\": \"StandardScalerWrapper, LightGBM\", \"run_properties\": \"<azureml.automl.runtime.shared.model_wrappers.StandardScalerWrapper object at 0x7fa5dda88ef0\", \"primary_metric\": 0.9998614, \"best_metric\": 1.0}, {\"run_id\": \"AutoML_532e1f2e-40f2-44cf-845f-4ff45db1a7c8_16\", \"run_number\": 21, \"metric\": null, \"status\": \"Completed\", \"run_type\": \"azureml.scriptrun\", \"training_percent\": \"100\", \"start_time\": \"2021-02-14T08:45:29.238379Z\", \"end_time\": \"2021-02-14T08:47:17.561894Z\", \"created_time\": \"2021-02-14T08:43:11.503908Z\", \"created_time_dt\": \"2021-02-14T08:43:11.503908Z\", \"duration\": \"0:04:06\", \"iteration\": \"16\", \"goal\": \"accuracy_max\", \"run_name\": \"SparseNormalizer, XGBoostClassifier\", \"run_properties\": \"<azureml.automl.runtime.shared.model_wrappers.SparseNormalizer object at 0x7fc431a47940\", \"primary_metric\": 1.0, \"best_metric\": 1.0}, {\"run_id\": \"AutoML_532e1f2e-40f2-44cf-845f-4ff45db1a7c8_17\", \"run_number\": 22, \"metric\": null, \"status\": \"Completed\", \"run_type\": \"azureml.scriptrun\", \"training_percent\": \"100\", \"start_time\": \"2021-02-14T08:45:38.953507Z\", \"end_time\": \"2021-02-14T08:47:08.87069Z\", \"created_time\": \"2021-02-14T08:43:25.193228Z\", \"created_time_dt\": \"2021-02-14T08:43:25.193228Z\", \"duration\": \"0:03:43\", \"iteration\": \"17\", \"goal\": \"accuracy_max\", \"run_name\": \"StandardScalerWrapper, LogisticRegression\", \"run_properties\": \"<azureml.automl.runtime.shared.model_wrappers.StandardScalerWrapper object at 0x7f8f9d610fd0\", \"primary_metric\": 0.9998614, \"best_metric\": 1.0}, {\"run_id\": \"AutoML_532e1f2e-40f2-44cf-845f-4ff45db1a7c8_18\", \"run_number\": 23, \"metric\": null, \"status\": \"Completed\", \"run_type\": \"azureml.scriptrun\", \"training_percent\": \"100\", \"start_time\": \"2021-02-14T08:47:14.302814Z\", \"end_time\": \"2021-02-14T08:48:25.395501Z\", \"created_time\": \"2021-02-14T08:44:29.633098Z\", \"created_time_dt\": \"2021-02-14T08:44:29.633098Z\", \"duration\": \"0:03:55\", \"iteration\": \"18\", \"goal\": \"accuracy_max\", \"run_name\": \"StandardScalerWrapper, LightGBM\", \"run_properties\": \"<azureml.automl.runtime.shared.model_wrappers.StandardScalerWrapper object at 0x7f25a977feb8\", \"primary_metric\": 0.9998614, \"best_metric\": 1.0}, {\"run_id\": \"AutoML_532e1f2e-40f2-44cf-845f-4ff45db1a7c8_19\", \"run_number\": 24, \"metric\": null, \"status\": \"Completed\", \"run_type\": \"azureml.scriptrun\", \"training_percent\": \"100\", \"start_time\": \"2021-02-14T08:47:21.481657Z\", \"end_time\": \"2021-02-14T08:49:00.27083Z\", \"created_time\": \"2021-02-14T08:45:27.145057Z\", \"created_time_dt\": \"2021-02-14T08:45:27.145057Z\", \"duration\": \"0:03:33\", \"iteration\": \"19\", \"goal\": \"accuracy_max\", \"run_name\": \"SparseNormalizer, ExtremeRandomTrees\", \"run_properties\": \"<azureml.automl.runtime.shared.model_wrappers.SparseNormalizer object at 0x7f40f44ae4e0\", \"primary_metric\": 0.9998614, \"best_metric\": 1.0}, {\"run_id\": \"AutoML_532e1f2e-40f2-44cf-845f-4ff45db1a7c8_20\", \"run_number\": 25, \"metric\": null, \"status\": \"Completed\", \"run_type\": \"azureml.scriptrun\", \"training_percent\": \"100\", \"start_time\": \"2021-02-14T08:48:28.956179Z\", \"end_time\": \"2021-02-14T08:50:43.901276Z\", \"created_time\": \"2021-02-14T08:45:38.369644Z\", \"created_time_dt\": \"2021-02-14T08:45:38.369644Z\", \"duration\": \"0:05:05\", \"iteration\": \"20\", \"goal\": \"accuracy_max\", \"run_name\": \"SparseNormalizer, XGBoostClassifier\", \"run_properties\": \"<azureml.automl.runtime.shared.model_wrappers.SparseNormalizer object at 0x7fb5352ab2b0\", \"primary_metric\": 1.0, \"best_metric\": 1.0}, {\"run_id\": \"AutoML_532e1f2e-40f2-44cf-845f-4ff45db1a7c8_21\", \"run_number\": 26, \"metric\": null, \"status\": \"Completed\", \"run_type\": \"azureml.scriptrun\", \"training_percent\": \"100\", \"start_time\": \"2021-02-14T08:49:07.270059Z\", \"end_time\": \"2021-02-14T08:50:16.037779Z\", \"created_time\": \"2021-02-14T08:47:11.98667Z\", \"created_time_dt\": \"2021-02-14T08:47:11.98667Z\", \"duration\": \"0:03:04\", \"iteration\": \"21\", \"goal\": \"accuracy_max\", \"run_name\": \"SparseNormalizer, XGBoostClassifier\", \"run_properties\": \"<azureml.automl.runtime.shared.model_wrappers.SparseNormalizer object at 0x7ff090749d30\", \"primary_metric\": 0.99989605, \"best_metric\": 1.0}, {\"run_id\": \"AutoML_532e1f2e-40f2-44cf-845f-4ff45db1a7c8_22\", \"run_number\": 27, \"metric\": null, \"status\": \"Completed\", \"run_type\": \"azureml.scriptrun\", \"training_percent\": \"100\", \"start_time\": \"2021-02-14T08:50:13.537451Z\", \"end_time\": \"2021-02-14T08:52:22.87281Z\", \"created_time\": \"2021-02-14T08:47:19.261297Z\", \"created_time_dt\": \"2021-02-14T08:47:19.261297Z\", \"duration\": \"0:05:03\", \"iteration\": \"22\", \"goal\": \"accuracy_max\", \"run_name\": \"SparseNormalizer, XGBoostClassifier\", \"run_properties\": \"<azureml.automl.runtime.shared.model_wrappers.SparseNormalizer object at 0x7f686f069cc0\", \"primary_metric\": 1.0, \"best_metric\": 1.0}, {\"run_id\": \"AutoML_532e1f2e-40f2-44cf-845f-4ff45db1a7c8_23\", \"run_number\": 28, \"metric\": null, \"status\": \"Completed\", \"run_type\": \"azureml.scriptrun\", \"training_percent\": \"100\", \"start_time\": \"2021-02-14T08:50:45.958032Z\", \"end_time\": \"2021-02-14T08:53:44.840828Z\", \"created_time\": \"2021-02-14T08:48:27.381498Z\", \"created_time_dt\": \"2021-02-14T08:48:27.381498Z\", \"duration\": \"0:05:17\", \"iteration\": \"23\", \"goal\": \"accuracy_max\", \"run_name\": \"SparseNormalizer, XGBoostClassifier\", \"run_properties\": \"<azureml.automl.runtime.shared.model_wrappers.SparseNormalizer object at 0x7f99b91e5630\", \"primary_metric\": 0.99996535, \"best_metric\": 1.0}, {\"run_id\": \"AutoML_532e1f2e-40f2-44cf-845f-4ff45db1a7c8_24\", \"run_number\": 29, \"metric\": null, \"status\": \"Completed\", \"run_type\": \"azureml.scriptrun\", \"training_percent\": \"100\", \"start_time\": \"2021-02-14T08:52:25.644158Z\", \"end_time\": \"2021-02-14T08:54:33.472276Z\", \"created_time\": \"2021-02-14T08:49:01.984439Z\", \"created_time_dt\": \"2021-02-14T08:49:01.984439Z\", \"duration\": \"0:05:31\", \"iteration\": \"24\", \"goal\": \"accuracy_max\", \"run_name\": \"SparseNormalizer, XGBoostClassifier\", \"run_properties\": \"<azureml.automl.runtime.shared.model_wrappers.SparseNormalizer object at 0x7f5105299400\", \"primary_metric\": 1.0, \"best_metric\": 1.0}, {\"run_id\": \"AutoML_532e1f2e-40f2-44cf-845f-4ff45db1a7c8_25\", \"run_number\": 30, \"metric\": null, \"status\": \"Completed\", \"run_type\": \"azureml.scriptrun\", \"training_percent\": \"100\", \"start_time\": \"2021-02-14T08:53:46.434291Z\", \"end_time\": \"2021-02-14T08:54:42.865617Z\", \"created_time\": \"2021-02-14T08:50:18.973328Z\", \"created_time_dt\": \"2021-02-14T08:50:18.973328Z\", \"duration\": \"0:04:23\", \"iteration\": \"25\", \"goal\": \"accuracy_max\", \"run_name\": \"SparseNormalizer, XGBoostClassifier\", \"run_properties\": \"<azureml.automl.runtime.shared.model_wrappers.SparseNormalizer object at 0x7fd9eeb9c828\", \"primary_metric\": 0.9998614, \"best_metric\": 1.0}, {\"run_id\": \"AutoML_532e1f2e-40f2-44cf-845f-4ff45db1a7c8_26\", \"run_number\": 31, \"metric\": null, \"status\": \"Completed\", \"run_type\": \"azureml.scriptrun\", \"training_percent\": \"100\", \"start_time\": \"2021-02-14T08:54:34.725804Z\", \"end_time\": \"2021-02-14T08:55:41.247371Z\", \"created_time\": \"2021-02-14T08:50:45.916068Z\", \"created_time_dt\": \"2021-02-14T08:50:45.916068Z\", \"duration\": \"0:04:55\", \"iteration\": \"26\", \"goal\": \"accuracy_max\", \"run_name\": \"MaxAbsScaler, LightGBM\", \"run_properties\": \"copy=True\", \"primary_metric\": 0.9999307, \"best_metric\": 1.0}, {\"run_id\": \"AutoML_532e1f2e-40f2-44cf-845f-4ff45db1a7c8_27\", \"run_number\": 32, \"metric\": null, \"status\": \"Completed\", \"run_type\": \"azureml.scriptrun\", \"training_percent\": \"100\", \"start_time\": \"2021-02-14T08:54:46.943503Z\", \"end_time\": \"2021-02-14T08:57:14.448738Z\", \"created_time\": \"2021-02-14T08:52:24.587084Z\", \"created_time_dt\": \"2021-02-14T08:52:24.587084Z\", \"duration\": \"0:04:49\", \"iteration\": \"27\", \"goal\": \"accuracy_max\", \"run_name\": \"SparseNormalizer, XGBoostClassifier\", \"run_properties\": \"<azureml.automl.runtime.shared.model_wrappers.SparseNormalizer object at 0x7fd23fa4bba8\", \"primary_metric\": 1.0, \"best_metric\": 1.0}, {\"run_id\": \"AutoML_532e1f2e-40f2-44cf-845f-4ff45db1a7c8_28\", \"run_number\": 33, \"metric\": null, \"status\": \"Completed\", \"run_type\": \"azureml.scriptrun\", \"training_percent\": \"100\", \"start_time\": \"2021-02-14T08:55:44.948238Z\", \"end_time\": \"2021-02-14T08:56:44.769078Z\", \"created_time\": \"2021-02-14T08:53:46.991205Z\", \"created_time_dt\": \"2021-02-14T08:53:46.991205Z\", \"duration\": \"0:02:57\", \"iteration\": \"28\", \"goal\": \"accuracy_max\", \"run_name\": \"SparseNormalizer, XGBoostClassifier\", \"run_properties\": \"<azureml.automl.runtime.shared.model_wrappers.SparseNormalizer object at 0x7fac180ffd30\", \"primary_metric\": 0.99982676, \"best_metric\": 1.0}, {\"run_id\": \"AutoML_532e1f2e-40f2-44cf-845f-4ff45db1a7c8_29\", \"run_number\": 34, \"metric\": null, \"status\": \"Completed\", \"run_type\": \"azureml.scriptrun\", \"training_percent\": \"100\", \"start_time\": \"2021-02-14T08:56:49.715482Z\", \"end_time\": \"2021-02-14T08:58:19.722946Z\", \"created_time\": \"2021-02-14T08:54:35.23095Z\", \"created_time_dt\": \"2021-02-14T08:54:35.23095Z\", \"duration\": \"0:03:44\", \"iteration\": \"29\", \"goal\": \"accuracy_max\", \"run_name\": \"StandardScalerWrapper, XGBoostClassifier\", \"run_properties\": \"<azureml.automl.runtime.shared.model_wrappers.StandardScalerWrapper object at 0x7f4556c29518\", \"primary_metric\": 0.99996535, \"best_metric\": 1.0}, {\"run_id\": \"AutoML_532e1f2e-40f2-44cf-845f-4ff45db1a7c8_30\", \"run_number\": 35, \"metric\": null, \"status\": \"Completed\", \"run_type\": \"azureml.scriptrun\", \"training_percent\": \"100\", \"start_time\": \"2021-02-14T08:57:17.750333Z\", \"end_time\": \"2021-02-14T08:58:47.937211Z\", \"created_time\": \"2021-02-14T08:54:45.601608Z\", \"created_time_dt\": \"2021-02-14T08:54:45.601608Z\", \"duration\": \"0:04:02\", \"iteration\": \"30\", \"goal\": \"accuracy_max\", \"run_name\": \"SparseNormalizer, XGBoostClassifier\", \"run_properties\": \"<azureml.automl.runtime.shared.model_wrappers.SparseNormalizer object at 0x7f12df32a6d8\", \"primary_metric\": 1.0, \"best_metric\": 1.0}, {\"run_id\": \"AutoML_532e1f2e-40f2-44cf-845f-4ff45db1a7c8_31\", \"run_number\": 36, \"metric\": null, \"status\": \"Canceled\", \"run_type\": \"azureml.scriptrun\", \"training_percent\": \"100\", \"start_time\": \"2021-02-14T08:58:19.248686Z\", \"end_time\": \"2021-02-14T08:58:57.074292Z\", \"created_time\": \"2021-02-14T08:55:43.173643Z\", \"created_time_dt\": \"2021-02-14T08:55:43.173643Z\", \"duration\": \"0:03:13\", \"iteration\": \"31\", \"goal\": null, \"run_name\": \"MaxAbsScaler, ExtremeRandomTrees\", \"run_properties\": null}, {\"run_id\": \"AutoML_532e1f2e-40f2-44cf-845f-4ff45db1a7c8_32\", \"run_number\": 37, \"metric\": null, \"status\": \"Canceled\", \"run_type\": \"azureml.scriptrun\", \"training_percent\": \"100\", \"start_time\": \"2021-02-14T08:56:46.714741Z\", \"end_time\": \"2021-02-14T08:58:54.277762Z\", \"created_time\": \"2021-02-14T08:56:46.714741Z\", \"created_time_dt\": \"2021-02-14T08:56:46.714741Z\", \"duration\": \"0:02:07\", \"iteration\": \"32\", \"goal\": null, \"run_name\": \"Canceled\", \"run_properties\": null}, {\"run_id\": \"AutoML_532e1f2e-40f2-44cf-845f-4ff45db1a7c8_33\", \"run_number\": 38, \"metric\": null, \"status\": \"Canceled\", \"run_type\": \"azureml.scriptrun\", \"training_percent\": \"100\", \"start_time\": \"2021-02-14T08:57:16.208877Z\", \"end_time\": \"2021-02-14T08:58:54.394236Z\", \"created_time\": \"2021-02-14T08:57:16.208877Z\", \"created_time_dt\": \"2021-02-14T08:57:16.208877Z\", \"duration\": \"0:01:38\", \"iteration\": \"33\", \"goal\": null, \"run_name\": \"Canceled\", \"run_properties\": null}, {\"run_id\": \"AutoML_532e1f2e-40f2-44cf-845f-4ff45db1a7c8_34\", \"run_number\": 39, \"metric\": null, \"status\": \"Canceled\", \"run_type\": \"azureml.scriptrun\", \"training_percent\": \"100\", \"start_time\": \"2021-02-14T08:58:21.776546Z\", \"end_time\": \"2021-02-14T08:58:55.872299Z\", \"created_time\": \"2021-02-14T08:58:21.776546Z\", \"created_time_dt\": \"2021-02-14T08:58:21.776546Z\", \"duration\": \"0:00:34\", \"iteration\": \"34\", \"goal\": null, \"run_name\": \"Canceled\", \"run_properties\": null}, {\"run_id\": \"AutoML_532e1f2e-40f2-44cf-845f-4ff45db1a7c8_35\", \"run_number\": 40, \"metric\": null, \"status\": \"Completed\", \"run_type\": \"azureml.scriptrun\", \"training_percent\": \"100\", \"start_time\": \"2021-02-14T08:59:07.623956Z\", \"end_time\": \"2021-02-14T09:00:13.745209Z\", \"created_time\": \"2021-02-14T08:58:57.963397Z\", \"created_time_dt\": \"2021-02-14T08:58:57.963397Z\", \"duration\": \"0:01:15\", \"iteration\": \"35\", \"goal\": \"accuracy_max\", \"run_name\": \"VotingEnsemble\", \"run_properties\": \"classification_labels=None,\\n                              estimators=[('30',\\n                                           Pipeline(memory=None,\\n                                                    steps=[('sparsenormalizer',\\n                                                            <azureml.automl.runtime.shared.model_wrappers.SparseNormalizer object at 0x7fbeec3ec978>\", \"primary_metric\": 1.0, \"best_metric\": 1.0}, {\"run_id\": \"AutoML_532e1f2e-40f2-44cf-845f-4ff45db1a7c8_36\", \"run_number\": 41, \"metric\": null, \"status\": \"Completed\", \"run_type\": \"azureml.scriptrun\", \"training_percent\": \"100\", \"start_time\": \"2021-02-14T08:59:07.872351Z\", \"end_time\": \"2021-02-14T09:05:05.550476Z\", \"created_time\": \"2021-02-14T08:58:58.00254Z\", \"created_time_dt\": \"2021-02-14T08:58:58.00254Z\", \"duration\": \"0:06:07\", \"iteration\": \"36\", \"goal\": \"accuracy_max\", \"run_name\": \"StackEnsemble\", \"run_properties\": \"base_learners=[('30',\\n                                        Pipeline(memory=None,\\n                                                 steps=[('sparsenormalizer',\\n                                                         <azureml.automl.runtime.shared.model_wrappers.SparseNormalizer object at 0x7f71b01cb630>\", \"primary_metric\": 0.99989605, \"best_metric\": 1.0}], \"children_metrics\": {\"categories\": [0], \"series\": {\"recall_score_weighted\": [{\"categories\": [\"0\", \"1\", \"2\", \"3\", \"4\", \"5\", \"6\", \"7\", \"8\", \"9\", \"10\", \"11\", \"12\", \"13\", \"14\", \"15\", \"16\", \"17\", \"18\", \"19\", \"20\", \"21\", \"22\", \"23\", \"24\", \"25\", \"26\", \"27\", \"28\", \"29\", \"30\", \"35\", \"36\"], \"mode\": \"markers\", \"name\": \"recall_score_weighted\", \"stepped\": false, \"type\": \"scatter\", \"data\": [0.9993070233186653, 0.9999653511659332, 0.9998614046637331, 0.9998614046637331, 0.9793492948962268, 0.8868369079380479, 1.0, 0.9998960534977998, 0.9998614046637331, 0.9998614046637331, 0.9998614046637331, 0.9998614046637331, 0.9998614046637331, 0.9999307023318665, 1.0, 0.9998614046637331, 1.0, 0.9998614046637331, 0.9998614046637331, 0.9998614046637331, 1.0, 0.9998960534977998, 1.0, 0.9999653511659332, 1.0, 0.9998614046637331, 0.9999307023318665, 1.0, 0.9998267558296663, 0.9999653511659332, 1.0, 1.0, 0.9998960534977998]}, {\"categories\": [\"0\", \"1\", \"2\", \"3\", \"4\", \"5\", \"6\", \"7\", \"8\", \"9\", \"10\", \"11\", \"12\", \"13\", \"14\", \"15\", \"16\", \"17\", \"18\", \"19\", \"20\", \"21\", \"22\", \"23\", \"24\", \"25\", \"26\", \"27\", \"28\", \"29\", \"30\", \"35\", \"36\"], \"mode\": \"lines\", \"name\": \"recall_score_weighted_max\", \"stepped\": true, \"type\": \"scatter\", \"data\": [0.9993070233186653, 0.9999653511659332, 0.9999653511659332, 0.9999653511659332, 0.9999653511659332, 0.9999653511659332, 1.0, 1.0, 1.0, 1.0, 1.0, 1.0, 1.0, 1.0, 1.0, 1.0, 1.0, 1.0, 1.0, 1.0, 1.0, 1.0, 1.0, 1.0, 1.0, 1.0, 1.0, 1.0, 1.0, 1.0, 1.0, 1.0, 1.0]}], \"recall_score_micro\": [{\"categories\": [\"0\", \"1\", \"2\", \"3\", \"4\", \"5\", \"6\", \"7\", \"8\", \"9\", \"10\", \"11\", \"12\", \"13\", \"14\", \"15\", \"16\", \"17\", \"18\", \"19\", \"20\", \"21\", \"22\", \"23\", \"24\", \"25\", \"26\", \"27\", \"28\", \"29\", \"30\", \"35\", \"36\"], \"mode\": \"markers\", \"name\": \"recall_score_micro\", \"stepped\": false, \"type\": \"scatter\", \"data\": [0.9993070233186653, 0.9999653511659332, 0.9998614046637331, 0.9998614046637331, 0.9793492948962268, 0.8868369079380479, 1.0, 0.9998960534977998, 0.9998614046637331, 0.9998614046637331, 0.9998614046637331, 0.9998614046637331, 0.9998614046637331, 0.9999307023318665, 1.0, 0.9998614046637331, 1.0, 0.9998614046637331, 0.9998614046637331, 0.9998614046637331, 1.0, 0.9998960534977998, 1.0, 0.9999653511659332, 1.0, 0.9998614046637331, 0.9999307023318665, 1.0, 0.9998267558296663, 0.9999653511659332, 1.0, 1.0, 0.9998960534977998]}, {\"categories\": [\"0\", \"1\", \"2\", \"3\", \"4\", \"5\", \"6\", \"7\", \"8\", \"9\", \"10\", \"11\", \"12\", \"13\", \"14\", \"15\", \"16\", \"17\", \"18\", \"19\", \"20\", \"21\", \"22\", \"23\", \"24\", \"25\", \"26\", \"27\", \"28\", \"29\", \"30\", \"35\", \"36\"], \"mode\": \"lines\", \"name\": \"recall_score_micro_max\", \"stepped\": true, \"type\": \"scatter\", \"data\": [0.9993070233186653, 0.9999653511659332, 0.9999653511659332, 0.9999653511659332, 0.9999653511659332, 0.9999653511659332, 1.0, 1.0, 1.0, 1.0, 1.0, 1.0, 1.0, 1.0, 1.0, 1.0, 1.0, 1.0, 1.0, 1.0, 1.0, 1.0, 1.0, 1.0, 1.0, 1.0, 1.0, 1.0, 1.0, 1.0, 1.0, 1.0, 1.0]}], \"recall_score_macro\": [{\"categories\": [\"0\", \"1\", \"2\", \"3\", \"4\", \"5\", \"6\", \"7\", \"8\", \"9\", \"10\", \"11\", \"12\", \"13\", \"14\", \"15\", \"16\", \"17\", \"18\", \"19\", \"20\", \"21\", \"22\", \"23\", \"24\", \"25\", \"26\", \"27\", \"28\", \"29\", \"30\", \"35\", \"36\"], \"mode\": \"markers\", \"name\": \"recall_score_macro\", \"stepped\": false, \"type\": \"scatter\", \"data\": [0.49972277090480643, 0.875, 0.5, 0.5, 0.9896732162040407, 0.9434106109436186, 1.0, 0.625, 0.5, 0.5, 0.5, 0.5, 0.5, 0.75, 1.0, 0.5, 1.0, 0.5, 0.5, 0.5, 1.0, 0.625, 1.0, 0.875, 1.0, 0.5, 0.75, 1.0, 0.49998267318155043, 0.875, 1.0, 1.0, 0.625]}, {\"categories\": [\"0\", \"1\", \"2\", \"3\", \"4\", \"5\", \"6\", \"7\", \"8\", \"9\", \"10\", \"11\", \"12\", \"13\", \"14\", \"15\", \"16\", \"17\", \"18\", \"19\", \"20\", \"21\", \"22\", \"23\", \"24\", \"25\", \"26\", \"27\", \"28\", \"29\", \"30\", \"35\", \"36\"], \"mode\": \"lines\", \"name\": \"recall_score_macro_max\", \"stepped\": true, \"type\": \"scatter\", \"data\": [0.49972277090480643, 0.875, 0.875, 0.875, 0.9896732162040407, 0.9896732162040407, 1.0, 1.0, 1.0, 1.0, 1.0, 1.0, 1.0, 1.0, 1.0, 1.0, 1.0, 1.0, 1.0, 1.0, 1.0, 1.0, 1.0, 1.0, 1.0, 1.0, 1.0, 1.0, 1.0, 1.0, 1.0, 1.0, 1.0]}], \"f1_score_micro\": [{\"categories\": [\"0\", \"1\", \"2\", \"3\", \"4\", \"5\", \"6\", \"7\", \"8\", \"9\", \"10\", \"11\", \"12\", \"13\", \"14\", \"15\", \"16\", \"17\", \"18\", \"19\", \"20\", \"21\", \"22\", \"23\", \"24\", \"25\", \"26\", \"27\", \"28\", \"29\", \"30\", \"35\", \"36\"], \"mode\": \"markers\", \"name\": \"f1_score_micro\", \"stepped\": false, \"type\": \"scatter\", \"data\": [0.9993070233186653, 0.9999653511659332, 0.9998614046637331, 0.9998614046637331, 0.9793492948962268, 0.8868369079380479, 1.0, 0.9998960534977998, 0.9998614046637331, 0.9998614046637331, 0.9998614046637331, 0.9998614046637331, 0.9998614046637331, 0.9999307023318665, 1.0, 0.9998614046637331, 1.0, 0.9998614046637331, 0.9998614046637331, 0.9998614046637331, 1.0, 0.9998960534977998, 1.0, 0.9999653511659332, 1.0, 0.9998614046637331, 0.9999307023318665, 1.0, 0.9998267558296663, 0.9999653511659332, 1.0, 1.0, 0.9998960534977998]}, {\"categories\": [\"0\", \"1\", \"2\", \"3\", \"4\", \"5\", \"6\", \"7\", \"8\", \"9\", \"10\", \"11\", \"12\", \"13\", \"14\", \"15\", \"16\", \"17\", \"18\", \"19\", \"20\", \"21\", \"22\", \"23\", \"24\", \"25\", \"26\", \"27\", \"28\", \"29\", \"30\", \"35\", \"36\"], \"mode\": \"lines\", \"name\": \"f1_score_micro_max\", \"stepped\": true, \"type\": \"scatter\", \"data\": [0.9993070233186653, 0.9999653511659332, 0.9999653511659332, 0.9999653511659332, 0.9999653511659332, 0.9999653511659332, 1.0, 1.0, 1.0, 1.0, 1.0, 1.0, 1.0, 1.0, 1.0, 1.0, 1.0, 1.0, 1.0, 1.0, 1.0, 1.0, 1.0, 1.0, 1.0, 1.0, 1.0, 1.0, 1.0, 1.0, 1.0, 1.0, 1.0]}], \"f1_score_macro\": [{\"categories\": [\"0\", \"1\", \"2\", \"3\", \"4\", \"5\", \"6\", \"7\", \"8\", \"9\", \"10\", \"11\", \"12\", \"13\", \"14\", \"15\", \"16\", \"17\", \"18\", \"19\", \"20\", \"21\", \"22\", \"23\", \"24\", \"25\", \"26\", \"27\", \"28\", \"29\", \"30\", \"35\", \"36\"], \"mode\": \"markers\", \"name\": \"f1_score_macro\", \"stepped\": false, \"type\": \"scatter\", \"data\": [0.4998266957817753, 0.9285627653123105, 0.49996534876468346, 0.49996534876468346, 0.5014052470440535, 0.4712298282032581, 1.0, 0.6999740111232393, 0.49996534876468346, 0.49996534876468346, 0.49996534876468346, 0.49996534876468346, 0.49996534876468346, 0.8333160071153002, 1.0, 0.49996534876468346, 1.0, 0.49996534876468346, 0.49996534876468346, 0.49996534876468346, 1.0, 0.6999740111232393, 1.0, 0.9285627653123105, 1.0, 0.49996534876468346, 0.8333160071153002, 1.0, 0.49995668520539877, 0.9285627653123105, 1.0, 1.0, 0.6999740111232393]}, {\"categories\": [\"0\", \"1\", \"2\", \"3\", \"4\", \"5\", \"6\", \"7\", \"8\", \"9\", \"10\", \"11\", \"12\", \"13\", \"14\", \"15\", \"16\", \"17\", \"18\", \"19\", \"20\", \"21\", \"22\", \"23\", \"24\", \"25\", \"26\", \"27\", \"28\", \"29\", \"30\", \"35\", \"36\"], \"mode\": \"lines\", \"name\": \"f1_score_macro_max\", \"stepped\": true, \"type\": \"scatter\", \"data\": [0.4998266957817753, 0.9285627653123105, 0.9285627653123105, 0.9285627653123105, 0.9285627653123105, 0.9285627653123105, 1.0, 1.0, 1.0, 1.0, 1.0, 1.0, 1.0, 1.0, 1.0, 1.0, 1.0, 1.0, 1.0, 1.0, 1.0, 1.0, 1.0, 1.0, 1.0, 1.0, 1.0, 1.0, 1.0, 1.0, 1.0, 1.0, 1.0]}], \"AUC_macro\": [{\"categories\": [\"0\", \"1\", \"2\", \"3\", \"4\", \"5\", \"6\", \"7\", \"8\", \"9\", \"10\", \"11\", \"12\", \"13\", \"14\", \"15\", \"16\", \"17\", \"18\", \"19\", \"20\", \"21\", \"22\", \"23\", \"24\", \"25\", \"26\", \"27\", \"28\", \"29\", \"30\", \"35\", \"36\"], \"mode\": \"markers\", \"name\": \"AUC_macro\", \"stepped\": false, \"type\": \"scatter\", \"data\": [0.49474131060054755, 1.0, 0.9924021901098521, 0.9971194164327546, 0.9991769761236442, 0.991111342135357, 1.0, 0.9999653463631009, 0.9998960390893024, 0.9999740097723256, 0.9999306927262017, 1.0, 0.9999220293169768, 1.0, 1.0, 0.9999826731815504, 1.0, 0.010396091069757762, 0.999956682953876, 0.98315400076238, 1.0, 0.7493329174896906, 1.0, 1.0, 1.0, 0.5, 1.0, 1.0, 0.9999436878400387, 1.0, 1.0, 1.0, 1.0]}, {\"categories\": [\"0\", \"1\", \"2\", \"3\", \"4\", \"5\", \"6\", \"7\", \"8\", \"9\", \"10\", \"11\", \"12\", \"13\", \"14\", \"15\", \"16\", \"17\", \"18\", \"19\", \"20\", \"21\", \"22\", \"23\", \"24\", \"25\", \"26\", \"27\", \"28\", \"29\", \"30\", \"35\", \"36\"], \"mode\": \"lines\", \"name\": \"AUC_macro_max\", \"stepped\": true, \"type\": \"scatter\", \"data\": [0.49474131060054755, 1.0, 1.0, 1.0, 1.0, 1.0, 1.0, 1.0, 1.0, 1.0, 1.0, 1.0, 1.0, 1.0, 1.0, 1.0, 1.0, 1.0, 1.0, 1.0, 1.0, 1.0, 1.0, 1.0, 1.0, 1.0, 1.0, 1.0, 1.0, 1.0, 1.0, 1.0, 1.0]}], \"norm_macro_recall\": [{\"categories\": [\"0\", \"1\", \"2\", \"3\", \"4\", \"5\", \"6\", \"7\", \"8\", \"9\", \"10\", \"11\", \"12\", \"13\", \"14\", \"15\", \"16\", \"17\", \"18\", \"19\", \"20\", \"21\", \"22\", \"23\", \"24\", \"25\", \"26\", \"27\", \"28\", \"29\", \"30\", \"35\", \"36\"], \"mode\": \"markers\", \"name\": \"norm_macro_recall\", \"stepped\": false, \"type\": \"scatter\", \"data\": [0.0, 0.75, 0.0, 0.0, 0.9793464324080814, 0.8868212218872371, 1.0, 0.25, 0.0, 0.0, 0.0, 0.0, 0.0, 0.5, 1.0, 0.0, 1.0, 0.0, 0.0, 0.0, 1.0, 0.25, 1.0, 0.75, 1.0, 0.0, 0.5, 1.0, 0.0, 0.75, 1.0, 1.0, 0.25]}, {\"categories\": [\"0\", \"1\", \"2\", \"3\", \"4\", \"5\", \"6\", \"7\", \"8\", \"9\", \"10\", \"11\", \"12\", \"13\", \"14\", \"15\", \"16\", \"17\", \"18\", \"19\", \"20\", \"21\", \"22\", \"23\", \"24\", \"25\", \"26\", \"27\", \"28\", \"29\", \"30\", \"35\", \"36\"], \"mode\": \"lines\", \"name\": \"norm_macro_recall_max\", \"stepped\": true, \"type\": \"scatter\", \"data\": [0.0, 0.75, 0.75, 0.75, 0.9793464324080814, 0.9793464324080814, 1.0, 1.0, 1.0, 1.0, 1.0, 1.0, 1.0, 1.0, 1.0, 1.0, 1.0, 1.0, 1.0, 1.0, 1.0, 1.0, 1.0, 1.0, 1.0, 1.0, 1.0, 1.0, 1.0, 1.0, 1.0, 1.0, 1.0]}], \"average_precision_score_weighted\": [{\"categories\": [\"0\", \"1\", \"2\", \"3\", \"4\", \"5\", \"6\", \"7\", \"8\", \"9\", \"10\", \"11\", \"12\", \"13\", \"14\", \"15\", \"16\", \"17\", \"18\", \"19\", \"20\", \"21\", \"22\", \"23\", \"24\", \"25\", \"26\", \"27\", \"28\", \"29\", \"30\", \"35\", \"36\"], \"mode\": \"markers\", \"name\": \"average_precision_score_weighted\", \"stepped\": false, \"type\": \"scatter\", \"data\": [0.9997219663407306, 1.0, 0.9998701850430034, 0.9998652558690249, 0.9999286093446667, 0.9998613722525449, 1.0, 0.9999682337663142, 0.9999168139852389, 0.9999851468975613, 0.9999391588401946, 1.0, 0.9999331628417525, 1.0, 1.0, 0.9999861380651234, 1.0, 0.9992137600765241, 0.9999614892892323, 0.9998597700007075, 1.0, 0.9998319290126387, 1.0, 1.0, 1.0, 0.9997228477448007, 1.0, 1.0, 0.9999481833390983, 0.9999999999999999, 1.0, 1.0, 1.0]}, {\"categories\": [\"0\", \"1\", \"2\", \"3\", \"4\", \"5\", \"6\", \"7\", \"8\", \"9\", \"10\", \"11\", \"12\", \"13\", \"14\", \"15\", \"16\", \"17\", \"18\", \"19\", \"20\", \"21\", \"22\", \"23\", \"24\", \"25\", \"26\", \"27\", \"28\", \"29\", \"30\", \"35\", \"36\"], \"mode\": \"lines\", \"name\": \"average_precision_score_weighted_max\", \"stepped\": true, \"type\": \"scatter\", \"data\": [0.9997219663407306, 1.0, 1.0, 1.0, 1.0, 1.0, 1.0, 1.0, 1.0, 1.0, 1.0, 1.0, 1.0, 1.0, 1.0, 1.0, 1.0, 1.0, 1.0, 1.0, 1.0, 1.0, 1.0, 1.0, 1.0, 1.0, 1.0, 1.0, 1.0, 1.0, 1.0, 1.0, 1.0]}], \"precision_score_micro\": [{\"categories\": [\"0\", \"1\", \"2\", \"3\", \"4\", \"5\", \"6\", \"7\", \"8\", \"9\", \"10\", \"11\", \"12\", \"13\", \"14\", \"15\", \"16\", \"17\", \"18\", \"19\", \"20\", \"21\", \"22\", \"23\", \"24\", \"25\", \"26\", \"27\", \"28\", \"29\", \"30\", \"35\", \"36\"], \"mode\": \"markers\", \"name\": \"precision_score_micro\", \"stepped\": false, \"type\": \"scatter\", \"data\": [0.9993070233186653, 0.9999653511659332, 0.9998614046637331, 0.9998614046637331, 0.9793492948962268, 0.8868369079380479, 1.0, 0.9998960534977998, 0.9998614046637331, 0.9998614046637331, 0.9998614046637331, 0.9998614046637331, 0.9998614046637331, 0.9999307023318665, 1.0, 0.9998614046637331, 1.0, 0.9998614046637331, 0.9998614046637331, 0.9998614046637331, 1.0, 0.9998960534977998, 1.0, 0.9999653511659332, 1.0, 0.9998614046637331, 0.9999307023318665, 1.0, 0.9998267558296663, 0.9999653511659332, 1.0, 1.0, 0.9998960534977998]}, {\"categories\": [\"0\", \"1\", \"2\", \"3\", \"4\", \"5\", \"6\", \"7\", \"8\", \"9\", \"10\", \"11\", \"12\", \"13\", \"14\", \"15\", \"16\", \"17\", \"18\", \"19\", \"20\", \"21\", \"22\", \"23\", \"24\", \"25\", \"26\", \"27\", \"28\", \"29\", \"30\", \"35\", \"36\"], \"mode\": \"lines\", \"name\": \"precision_score_micro_max\", \"stepped\": true, \"type\": \"scatter\", \"data\": [0.9993070233186653, 0.9999653511659332, 0.9999653511659332, 0.9999653511659332, 0.9999653511659332, 0.9999653511659332, 1.0, 1.0, 1.0, 1.0, 1.0, 1.0, 1.0, 1.0, 1.0, 1.0, 1.0, 1.0, 1.0, 1.0, 1.0, 1.0, 1.0, 1.0, 1.0, 1.0, 1.0, 1.0, 1.0, 1.0, 1.0, 1.0, 1.0]}], \"weighted_accuracy\": [{\"categories\": [\"0\", \"1\", \"2\", \"3\", \"4\", \"5\", \"6\", \"7\", \"8\", \"9\", \"10\", \"11\", \"12\", \"13\", \"14\", \"15\", \"16\", \"17\", \"18\", \"19\", \"20\", \"21\", \"22\", \"23\", \"24\", \"25\", \"26\", \"27\", \"28\", \"29\", \"30\", \"35\", \"36\"], \"mode\": \"markers\", \"name\": \"weighted_accuracy\", \"stepped\": false, \"type\": \"scatter\", \"data\": [0.9994455226062738, 0.9999999951965018, 0.9999999807860075, 0.9999999807860075, 0.9793464328049186, 0.8868212240618533, 1.0, 0.9999999855895056, 0.9999999807860075, 0.9999999807860075, 0.9999999807860075, 0.9999999807860075, 0.9999999807860075, 0.9999999903930038, 1.0, 0.9999999807860075, 1.0, 0.9999999807860075, 0.9999999807860075, 0.9999999807860075, 1.0, 0.9999999855895056, 1.0, 0.9999999951965018, 1.0, 0.9999999807860075, 0.9999999903930038, 1.0, 0.9999653271497742, 0.9999999951965018, 1.0, 1.0, 0.9999999855895056]}, {\"categories\": [\"0\", \"1\", \"2\", \"3\", \"4\", \"5\", \"6\", \"7\", \"8\", \"9\", \"10\", \"11\", \"12\", \"13\", \"14\", \"15\", \"16\", \"17\", \"18\", \"19\", \"20\", \"21\", \"22\", \"23\", \"24\", \"25\", \"26\", \"27\", \"28\", \"29\", \"30\", \"35\", \"36\"], \"mode\": \"lines\", \"name\": \"weighted_accuracy_max\", \"stepped\": true, \"type\": \"scatter\", \"data\": [0.9994455226062738, 0.9999999951965018, 0.9999999951965018, 0.9999999951965018, 0.9999999951965018, 0.9999999951965018, 1.0, 1.0, 1.0, 1.0, 1.0, 1.0, 1.0, 1.0, 1.0, 1.0, 1.0, 1.0, 1.0, 1.0, 1.0, 1.0, 1.0, 1.0, 1.0, 1.0, 1.0, 1.0, 1.0, 1.0, 1.0, 1.0, 1.0]}], \"balanced_accuracy\": [{\"categories\": [\"0\", \"1\", \"2\", \"3\", \"4\", \"5\", \"6\", \"7\", \"8\", \"9\", \"10\", \"11\", \"12\", \"13\", \"14\", \"15\", \"16\", \"17\", \"18\", \"19\", \"20\", \"21\", \"22\", \"23\", \"24\", \"25\", \"26\", \"27\", \"28\", \"29\", \"30\", \"35\", \"36\"], \"mode\": \"markers\", \"name\": \"balanced_accuracy\", \"stepped\": false, \"type\": \"scatter\", \"data\": [0.49972277090480643, 0.875, 0.5, 0.5, 0.9896732162040407, 0.9434106109436186, 1.0, 0.625, 0.5, 0.5, 0.5, 0.5, 0.5, 0.75, 1.0, 0.5, 1.0, 0.5, 0.5, 0.5, 1.0, 0.625, 1.0, 0.875, 1.0, 0.5, 0.75, 1.0, 0.49998267318155043, 0.875, 1.0, 1.0, 0.625]}, {\"categories\": [\"0\", \"1\", \"2\", \"3\", \"4\", \"5\", \"6\", \"7\", \"8\", \"9\", \"10\", \"11\", \"12\", \"13\", \"14\", \"15\", \"16\", \"17\", \"18\", \"19\", \"20\", \"21\", \"22\", \"23\", \"24\", \"25\", \"26\", \"27\", \"28\", \"29\", \"30\", \"35\", \"36\"], \"mode\": \"lines\", \"name\": \"balanced_accuracy_max\", \"stepped\": true, \"type\": \"scatter\", \"data\": [0.49972277090480643, 0.875, 0.875, 0.875, 0.9896732162040407, 0.9896732162040407, 1.0, 1.0, 1.0, 1.0, 1.0, 1.0, 1.0, 1.0, 1.0, 1.0, 1.0, 1.0, 1.0, 1.0, 1.0, 1.0, 1.0, 1.0, 1.0, 1.0, 1.0, 1.0, 1.0, 1.0, 1.0, 1.0, 1.0]}], \"average_precision_score_macro\": [{\"categories\": [\"0\", \"1\", \"2\", \"3\", \"4\", \"5\", \"6\", \"7\", \"8\", \"9\", \"10\", \"11\", \"12\", \"13\", \"14\", \"15\", \"16\", \"17\", \"18\", \"19\", \"20\", \"21\", \"22\", \"23\", \"24\", \"25\", \"26\", \"27\", \"28\", \"29\", \"30\", \"35\", \"36\"], \"mode\": \"markers\", \"name\": \"average_precision_score_macro\", \"stepped\": false, \"type\": \"scatter\", \"data\": [0.4999995592368773, 1.0, 0.5354998335988096, 0.5158580920024725, 0.742861248249574, 0.5054017992982648, 1.0, 0.8854166642651048, 0.6999999855915027, 0.9464285696272596, 0.7805555489513072, 1.0, 0.7589285642241563, 1.0, 1.0, 0.9499999987992087, 1.0, 0.49971980964519364, 0.8611111051071545, 0.5026190014759004, 1.0, 0.6442306809107529, 1.0, 1.0, 1.0, 0.5, 1.0, 1.0, 0.8130952338925308, 1.0, 1.0, 1.0, 1.0]}, {\"categories\": [\"0\", \"1\", \"2\", \"3\", \"4\", \"5\", \"6\", \"7\", \"8\", \"9\", \"10\", \"11\", \"12\", \"13\", \"14\", \"15\", \"16\", \"17\", \"18\", \"19\", \"20\", \"21\", \"22\", \"23\", \"24\", \"25\", \"26\", \"27\", \"28\", \"29\", \"30\", \"35\", \"36\"], \"mode\": \"lines\", \"name\": \"average_precision_score_macro_max\", \"stepped\": true, \"type\": \"scatter\", \"data\": [0.4999995592368773, 1.0, 1.0, 1.0, 1.0, 1.0, 1.0, 1.0, 1.0, 1.0, 1.0, 1.0, 1.0, 1.0, 1.0, 1.0, 1.0, 1.0, 1.0, 1.0, 1.0, 1.0, 1.0, 1.0, 1.0, 1.0, 1.0, 1.0, 1.0, 1.0, 1.0, 1.0, 1.0]}], \"precision_score_macro\": [{\"categories\": [\"0\", \"1\", \"2\", \"3\", \"4\", \"5\", \"6\", \"7\", \"8\", \"9\", \"10\", \"11\", \"12\", \"13\", \"14\", \"15\", \"16\", \"17\", \"18\", \"19\", \"20\", \"21\", \"22\", \"23\", \"24\", \"25\", \"26\", \"27\", \"28\", \"29\", \"30\", \"35\", \"36\"], \"mode\": \"markers\", \"name\": \"precision_score_macro\", \"stepped\": false, \"type\": \"scatter\", \"data\": [0.4999306638932224, 0.9999826737819668, 0.49993070233186654, 0.49993070233186654, 0.5033333333333333, 0.500611620795107, 1.0, 0.9999480249480249, 0.49993070233186654, 0.49993070233186654, 0.49993070233186654, 0.49993070233186654, 0.49993070233186654, 0.9999653487646835, 1.0, 0.49993070233186654, 1.0, 0.49993070233186654, 0.49993070233186654, 0.49993070233186654, 1.0, 0.9999480249480249, 1.0, 0.9999826737819668, 1.0, 0.49993070233186654, 0.9999653487646835, 1.0, 0.49993069993069994, 0.9999826737819668, 1.0, 1.0, 0.9999480249480249]}, {\"categories\": [\"0\", \"1\", \"2\", \"3\", \"4\", \"5\", \"6\", \"7\", \"8\", \"9\", \"10\", \"11\", \"12\", \"13\", \"14\", \"15\", \"16\", \"17\", \"18\", \"19\", \"20\", \"21\", \"22\", \"23\", \"24\", \"25\", \"26\", \"27\", \"28\", \"29\", \"30\", \"35\", \"36\"], \"mode\": \"lines\", \"name\": \"precision_score_macro_max\", \"stepped\": true, \"type\": \"scatter\", \"data\": [0.4999306638932224, 0.9999826737819668, 0.9999826737819668, 0.9999826737819668, 0.9999826737819668, 0.9999826737819668, 1.0, 1.0, 1.0, 1.0, 1.0, 1.0, 1.0, 1.0, 1.0, 1.0, 1.0, 1.0, 1.0, 1.0, 1.0, 1.0, 1.0, 1.0, 1.0, 1.0, 1.0, 1.0, 1.0, 1.0, 1.0, 1.0, 1.0]}], \"accuracy\": [{\"categories\": [\"0\", \"1\", \"2\", \"3\", \"4\", \"5\", \"6\", \"7\", \"8\", \"9\", \"10\", \"11\", \"12\", \"13\", \"14\", \"15\", \"16\", \"17\", \"18\", \"19\", \"20\", \"21\", \"22\", \"23\", \"24\", \"25\", \"26\", \"27\", \"28\", \"29\", \"30\", \"35\", \"36\"], \"mode\": \"markers\", \"name\": \"accuracy\", \"stepped\": false, \"type\": \"scatter\", \"data\": [0.9993070233186653, 0.9999653511659332, 0.9998614046637331, 0.9998614046637331, 0.9793492948962268, 0.8868369079380479, 1.0, 0.9998960534977998, 0.9998614046637331, 0.9998614046637331, 0.9998614046637331, 0.9998614046637331, 0.9998614046637331, 0.9999307023318665, 1.0, 0.9998614046637331, 1.0, 0.9998614046637331, 0.9998614046637331, 0.9998614046637331, 1.0, 0.9998960534977998, 1.0, 0.9999653511659332, 1.0, 0.9998614046637331, 0.9999307023318665, 1.0, 0.9998267558296663, 0.9999653511659332, 1.0, 1.0, 0.9998960534977998]}, {\"categories\": [\"0\", \"1\", \"2\", \"3\", \"4\", \"5\", \"6\", \"7\", \"8\", \"9\", \"10\", \"11\", \"12\", \"13\", \"14\", \"15\", \"16\", \"17\", \"18\", \"19\", \"20\", \"21\", \"22\", \"23\", \"24\", \"25\", \"26\", \"27\", \"28\", \"29\", \"30\", \"35\", \"36\"], \"mode\": \"lines\", \"name\": \"accuracy_max\", \"stepped\": true, \"type\": \"scatter\", \"data\": [0.9993070233186653, 0.9999653511659332, 0.9999653511659332, 0.9999653511659332, 0.9999653511659332, 0.9999653511659332, 1.0, 1.0, 1.0, 1.0, 1.0, 1.0, 1.0, 1.0, 1.0, 1.0, 1.0, 1.0, 1.0, 1.0, 1.0, 1.0, 1.0, 1.0, 1.0, 1.0, 1.0, 1.0, 1.0, 1.0, 1.0, 1.0, 1.0]}], \"AUC_micro\": [{\"categories\": [\"0\", \"1\", \"2\", \"3\", \"4\", \"5\", \"6\", \"7\", \"8\", \"9\", \"10\", \"11\", \"12\", \"13\", \"14\", \"15\", \"16\", \"17\", \"18\", \"19\", \"20\", \"21\", \"22\", \"23\", \"24\", \"25\", \"26\", \"27\", \"28\", \"29\", \"30\", \"35\", \"36\"], \"mode\": \"markers\", \"name\": \"AUC_micro\", \"stepped\": false, \"type\": \"scatter\", \"data\": [0.9994739352317908, 0.9999999963983749, 0.9999978750411871, 0.9999991824311008, 0.9990636567080489, 0.9725819421665183, 1.0, 0.9999999723875409, 0.9999999519783318, 0.9999999735880826, 0.9999999615826656, 0.9999999807913327, 0.9999999591815821, 0.9999999927967498, 1.0, 0.999999975989166, 1.0, 0.9997257098362187, 0.9999999687859158, 0.999995311884653, 1.0, 0.9999305090446524, 1.0, 0.9999999987994582, 1.0, 0.9998614046637331, 0.9999999903956664, 1.0, 0.9999999639837489, 0.999999996398375, 1.0, 1.0, 0.9999999843929578]}, {\"categories\": [\"0\", \"1\", \"2\", \"3\", \"4\", \"5\", \"6\", \"7\", \"8\", \"9\", \"10\", \"11\", \"12\", \"13\", \"14\", \"15\", \"16\", \"17\", \"18\", \"19\", \"20\", \"21\", \"22\", \"23\", \"24\", \"25\", \"26\", \"27\", \"28\", \"29\", \"30\", \"35\", \"36\"], \"mode\": \"lines\", \"name\": \"AUC_micro_max\", \"stepped\": true, \"type\": \"scatter\", \"data\": [0.9994739352317908, 0.9999999963983749, 0.9999999963983749, 0.9999999963983749, 0.9999999963983749, 0.9999999963983749, 1.0, 1.0, 1.0, 1.0, 1.0, 1.0, 1.0, 1.0, 1.0, 1.0, 1.0, 1.0, 1.0, 1.0, 1.0, 1.0, 1.0, 1.0, 1.0, 1.0, 1.0, 1.0, 1.0, 1.0, 1.0, 1.0, 1.0]}], \"f1_score_weighted\": [{\"categories\": [\"0\", \"1\", \"2\", \"3\", \"4\", \"5\", \"6\", \"7\", \"8\", \"9\", \"10\", \"11\", \"12\", \"13\", \"14\", \"15\", \"16\", \"17\", \"18\", \"19\", \"20\", \"21\", \"22\", \"23\", \"24\", \"25\", \"26\", \"27\", \"28\", \"29\", \"30\", \"35\", \"36\"], \"mode\": \"markers\", \"name\": \"f1_score_weighted\", \"stepped\": false, \"type\": \"scatter\", \"data\": [0.9995148442655964, 0.9999628765493861, 0.9997921117980992, 0.9997921117980992, 0.9894301475175205, 0.939886219010617, 1.0, 0.9998648722485926, 0.9997921117980992, 0.9997921117980992, 0.9997921117980992, 0.9997921117980992, 0.9997921117980992, 0.9999191539211775, 1.0, 0.9997921117980992, 1.0, 0.9997921117980992, 0.9997921117980992, 0.9997921117980992, 1.0, 0.9998648722485926, 1.0, 0.9999628765493861, 1.0, 0.9997921117980992, 0.9999191539211775, 1.0, 0.9997747870809875, 0.9999628765493861, 1.0, 1.0, 0.9998648722485926]}, {\"categories\": [\"0\", \"1\", \"2\", \"3\", \"4\", \"5\", \"6\", \"7\", \"8\", \"9\", \"10\", \"11\", \"12\", \"13\", \"14\", \"15\", \"16\", \"17\", \"18\", \"19\", \"20\", \"21\", \"22\", \"23\", \"24\", \"25\", \"26\", \"27\", \"28\", \"29\", \"30\", \"35\", \"36\"], \"mode\": \"lines\", \"name\": \"f1_score_weighted_max\", \"stepped\": true, \"type\": \"scatter\", \"data\": [0.9995148442655964, 0.9999628765493861, 0.9999628765493861, 0.9999628765493861, 0.9999628765493861, 0.9999628765493861, 1.0, 1.0, 1.0, 1.0, 1.0, 1.0, 1.0, 1.0, 1.0, 1.0, 1.0, 1.0, 1.0, 1.0, 1.0, 1.0, 1.0, 1.0, 1.0, 1.0, 1.0, 1.0, 1.0, 1.0, 1.0, 1.0, 1.0]}], \"average_precision_score_micro\": [{\"categories\": [\"0\", \"1\", \"2\", \"3\", \"4\", \"5\", \"6\", \"7\", \"8\", \"9\", \"10\", \"11\", \"12\", \"13\", \"14\", \"15\", \"16\", \"17\", \"18\", \"19\", \"20\", \"21\", \"22\", \"23\", \"24\", \"25\", \"26\", \"27\", \"28\", \"29\", \"30\", \"35\", \"36\"], \"mode\": \"markers\", \"name\": \"average_precision_score_micro\", \"stepped\": false, \"type\": \"scatter\", \"data\": [0.9992165036310088, 0.9999999963985413, 0.9999978832942851, 0.9999988951722752, 0.9990801075335276, 0.9737142387094884, 1.0, 0.9999999723902026, 0.9999999231819642, 0.9999999735906192, 0.9999999543858195, 0.9999999807931628, 0.9999999519852771, 0.9999999927971657, 1.0, 0.9999999759915782, 1.0, 0.9992834062410882, 0.9999999567869025, 0.9999953322986233, 1.0, 0.9998958648849393, 1.0, 0.9999999987994999, 1.0, 0.9997921262042668, 0.9999999903964151, 0.9999999999999999, 0.9999999627874908, 0.9999999963985413, 1.0, 0.9999999999999999, 0.999999984394164]}, {\"categories\": [\"0\", \"1\", \"2\", \"3\", \"4\", \"5\", \"6\", \"7\", \"8\", \"9\", \"10\", \"11\", \"12\", \"13\", \"14\", \"15\", \"16\", \"17\", \"18\", \"19\", \"20\", \"21\", \"22\", \"23\", \"24\", \"25\", \"26\", \"27\", \"28\", \"29\", \"30\", \"35\", \"36\"], \"mode\": \"lines\", \"name\": \"average_precision_score_micro_max\", \"stepped\": true, \"type\": \"scatter\", \"data\": [0.9992165036310088, 0.9999999963985413, 0.9999999963985413, 0.9999999963985413, 0.9999999963985413, 0.9999999963985413, 1.0, 1.0, 1.0, 1.0, 1.0, 1.0, 1.0, 1.0, 1.0, 1.0, 1.0, 1.0, 1.0, 1.0, 1.0, 1.0, 1.0, 1.0, 1.0, 1.0, 1.0, 1.0, 1.0, 1.0, 1.0, 1.0, 1.0]}], \"log_loss\": [{\"categories\": [\"0\", \"1\", \"2\", \"3\", \"4\", \"5\", \"6\", \"7\", \"8\", \"9\", \"10\", \"11\", \"12\", \"13\", \"14\", \"15\", \"16\", \"17\", \"18\", \"19\", \"20\", \"21\", \"22\", \"23\", \"24\", \"25\", \"26\", \"27\", \"28\", \"29\", \"30\", \"35\", \"36\"], \"mode\": \"markers\", \"name\": \"log_loss\", \"stepped\": false, \"type\": \"scatter\", \"data\": [0.021184215708078668, 0.0001497131658836899, 0.0009395693181364035, 0.0010270928540893778, 0.07713020127984012, 0.21257155234072309, 9.3142013956508e-05, 0.04074908161799587, 0.0008138348254229474, 0.0005204659885904932, 0.0007470508317743546, 0.0003207684890649332, 0.00039648329769936206, 0.040659797549860245, 0.00013702199962649383, 0.0003108421908846112, 0.00014313849870684577, 0.006689080248716873, 0.0004489406070765617, 0.0011193368908870706, 9.220166866992552e-05, 0.040944877633903407, 0.00012063258974128732, 6.990814456838168e-05, 9.25464891262697e-05, 0.0013699815764781744, 0.0001584784300403891, 3.136580810953636e-05, 0.0004786061364172262, 0.0001436376434972519, 0.00013599956468171137, 9.248875084194558e-05, 0.00022119623710712641]}, {\"categories\": [\"0\", \"1\", \"2\", \"3\", \"4\", \"5\", \"6\", \"7\", \"8\", \"9\", \"10\", \"11\", \"12\", \"13\", \"14\", \"15\", \"16\", \"17\", \"18\", \"19\", \"20\", \"21\", \"22\", \"23\", \"24\", \"25\", \"26\", \"27\", \"28\", \"29\", \"30\", \"35\", \"36\"], \"mode\": \"lines\", \"name\": \"log_loss_min\", \"stepped\": true, \"type\": \"scatter\", \"data\": [0.021184215708078668, 0.0001497131658836899, 0.0001497131658836899, 0.0001497131658836899, 0.0001497131658836899, 0.0001497131658836899, 9.3142013956508e-05, 9.3142013956508e-05, 9.3142013956508e-05, 9.3142013956508e-05, 9.3142013956508e-05, 9.3142013956508e-05, 9.3142013956508e-05, 9.3142013956508e-05, 9.3142013956508e-05, 9.3142013956508e-05, 9.3142013956508e-05, 9.3142013956508e-05, 9.3142013956508e-05, 9.3142013956508e-05, 9.220166866992552e-05, 9.220166866992552e-05, 9.220166866992552e-05, 6.990814456838168e-05, 6.990814456838168e-05, 6.990814456838168e-05, 6.990814456838168e-05, 3.136580810953636e-05, 3.136580810953636e-05, 3.136580810953636e-05, 3.136580810953636e-05, 3.136580810953636e-05, 3.136580810953636e-05]}], \"precision_score_weighted\": [{\"categories\": [\"0\", \"1\", \"2\", \"3\", \"4\", \"5\", \"6\", \"7\", \"8\", \"9\", \"10\", \"11\", \"12\", \"13\", \"14\", \"15\", \"16\", \"17\", \"18\", \"19\", \"20\", \"21\", \"22\", \"23\", \"24\", \"25\", \"26\", \"27\", \"28\", \"29\", \"30\", \"35\", \"36\"], \"mode\": \"markers\", \"name\": \"precision_score_weighted\", \"stepped\": false, \"type\": \"scatter\", \"data\": [0.9997227516694999, 0.9999653523665998, 0.9997228285361334, 0.9997228285361334, 0.9998623286326416, 0.9998615741993125, 1.0, 0.9998960643030496, 0.9997228285361334, 0.9997228285361334, 0.9997228285361334, 0.9997228285361334, 0.9997228285361334, 0.9999307071343662, 1.0, 0.9997228285361334, 1.0, 0.9997228285361334, 0.9997228285361334, 0.9997228285361334, 1.0, 0.9998960643030496, 1.0, 0.9999653523665998, 1.0, 0.9997228285361334, 0.9999307071343662, 1.0, 0.9997228237344657, 0.9999653523665998, 1.0, 1.0, 0.9998960643030496]}, {\"categories\": [\"0\", \"1\", \"2\", \"3\", \"4\", \"5\", \"6\", \"7\", \"8\", \"9\", \"10\", \"11\", \"12\", \"13\", \"14\", \"15\", \"16\", \"17\", \"18\", \"19\", \"20\", \"21\", \"22\", \"23\", \"24\", \"25\", \"26\", \"27\", \"28\", \"29\", \"30\", \"35\", \"36\"], \"mode\": \"lines\", \"name\": \"precision_score_weighted_max\", \"stepped\": true, \"type\": \"scatter\", \"data\": [0.9997227516694999, 0.9999653523665998, 0.9999653523665998, 0.9999653523665998, 0.9999653523665998, 0.9999653523665998, 1.0, 1.0, 1.0, 1.0, 1.0, 1.0, 1.0, 1.0, 1.0, 1.0, 1.0, 1.0, 1.0, 1.0, 1.0, 1.0, 1.0, 1.0, 1.0, 1.0, 1.0, 1.0, 1.0, 1.0, 1.0, 1.0, 1.0]}], \"AUC_weighted\": [{\"categories\": [\"0\", \"1\", \"2\", \"3\", \"4\", \"5\", \"6\", \"7\", \"8\", \"9\", \"10\", \"11\", \"12\", \"13\", \"14\", \"15\", \"16\", \"17\", \"18\", \"19\", \"20\", \"21\", \"22\", \"23\", \"24\", \"25\", \"26\", \"27\", \"28\", \"29\", \"30\", \"35\", \"36\"], \"mode\": \"markers\", \"name\": \"AUC_weighted\", \"stepped\": false, \"type\": \"scatter\", \"data\": [0.4968286134824126, 1.0, 0.992402190109852, 0.9971194164327546, 0.9991769761236442, 0.991111342135357, 1.0, 0.9999653463631007, 0.9998960390893024, 0.9999740097723255, 0.9999306927262018, 1.0, 0.9999220293169769, 1.0, 1.0, 0.9999826731815504, 1.0, 0.010396091069757772, 0.999956682953876, 0.98315400076238, 1.0, 0.7493329174896906, 1.0, 1.0, 1.0, 0.5, 1.0, 1.0, 0.9999436878400387, 1.0, 1.0, 1.0, 1.0]}, {\"categories\": [\"0\", \"1\", \"2\", \"3\", \"4\", \"5\", \"6\", \"7\", \"8\", \"9\", \"10\", \"11\", \"12\", \"13\", \"14\", \"15\", \"16\", \"17\", \"18\", \"19\", \"20\", \"21\", \"22\", \"23\", \"24\", \"25\", \"26\", \"27\", \"28\", \"29\", \"30\", \"35\", \"36\"], \"mode\": \"lines\", \"name\": \"AUC_weighted_max\", \"stepped\": true, \"type\": \"scatter\", \"data\": [0.4968286134824126, 1.0, 1.0, 1.0, 1.0, 1.0, 1.0, 1.0, 1.0, 1.0, 1.0, 1.0, 1.0, 1.0, 1.0, 1.0, 1.0, 1.0, 1.0, 1.0, 1.0, 1.0, 1.0, 1.0, 1.0, 1.0, 1.0, 1.0, 1.0, 1.0, 1.0, 1.0, 1.0]}], \"matthews_correlation\": [{\"categories\": [\"0\", \"1\", \"2\", \"3\", \"4\", \"5\", \"6\", \"7\", \"8\", \"9\", \"10\", \"11\", \"12\", \"13\", \"14\", \"15\", \"16\", \"17\", \"18\", \"19\", \"20\", \"21\", \"22\", \"23\", \"24\", \"25\", \"26\", \"27\", \"28\", \"29\", \"30\", \"35\", \"36\"], \"mode\": \"markers\", \"name\": \"matthews_correlation\", \"stepped\": false, \"type\": \"scatter\", \"data\": [-0.0002772867551557268, 0.8660103987094788, 0.0, 0.0, 0.08080208051810221, 0.03293625057132227, 1.0, 0.4999740117986259, 0.0, 0.0, 0.0, 0.0, 0.0, 0.7070822786385496, 1.0, 0.0, 1.0, 0.0, 0.0, 0.0, 1.0, 0.4999740117986259, 1.0, 0.8660103987094788, 1.0, 0.0, 0.7070822786385496, 1.0, -6.930367145560882e-05, 0.8660103987094788, 1.0, 1.0, 0.4999740117986259]}, {\"categories\": [\"0\", \"1\", \"2\", \"3\", \"4\", \"5\", \"6\", \"7\", \"8\", \"9\", \"10\", \"11\", \"12\", \"13\", \"14\", \"15\", \"16\", \"17\", \"18\", \"19\", \"20\", \"21\", \"22\", \"23\", \"24\", \"25\", \"26\", \"27\", \"28\", \"29\", \"30\", \"35\", \"36\"], \"mode\": \"lines\", \"name\": \"matthews_correlation_max\", \"stepped\": true, \"type\": \"scatter\", \"data\": [-0.0002772867551557268, 0.8660103987094788, 0.8660103987094788, 0.8660103987094788, 0.8660103987094788, 0.8660103987094788, 1.0, 1.0, 1.0, 1.0, 1.0, 1.0, 1.0, 1.0, 1.0, 1.0, 1.0, 1.0, 1.0, 1.0, 1.0, 1.0, 1.0, 1.0, 1.0, 1.0, 1.0, 1.0, 1.0, 1.0, 1.0, 1.0, 1.0]}]}, \"metricName\": null, \"primaryMetricName\": \"accuracy\", \"showLegend\": false}, \"run_metrics\": [{\"name\": \"experiment_status\", \"run_id\": \"AutoML_532e1f2e-40f2-44cf-845f-4ff45db1a7c8\", \"categories\": [0, 1, 2, 3, 4, 5, 6, 7, 8, 9, 10, 11, 12, 13], \"series\": [{\"data\": [\"DatasetEvaluation\", \"FeaturesGeneration\", \"DatasetFeaturization\", \"DatasetFeaturizationCompleted\", \"DatasetBalancing\", \"ModelSelection\", \"BestRunExplainModel\", \"ModelExplanationDataSetSetup\", \"PickSurrogateModel\", \"EngineeredFeatureExplanations\", \"EngineeredFeatureExplanations\", \"RawFeaturesExplanations\", \"RawFeaturesExplanations\", \"BestRunExplainModel\"]}]}, {\"name\": \"experiment_status_description\", \"run_id\": \"AutoML_532e1f2e-40f2-44cf-845f-4ff45db1a7c8\", \"categories\": [0, 1, 2, 3, 4, 5, 6, 7, 8, 9, 10, 11, 12, 13], \"series\": [{\"data\": [\"Gathering dataset statistics.\", \"Generating features for the dataset.\", \"Beginning to fit featurizers and featurize the dataset.\", \"Completed fit featurizers and featurizing the dataset.\", \"Performing class balancing sweeping\", \"Beginning model selection.\", \"Best run model explanations started\", \"Model explanations data setup completed\", \"Choosing LightGBM as the surrogate model for explanations\", \"Computation of engineered features started\", \"Computation of engineered features completed\", \"Computation of raw features started\", \"Computation of raw features completed\", \"Best run model explanations completed\"]}]}, {\"name\": \"average_precision_score_weighted\", \"run_id\": \"AutoML_532e1f2e-40f2-44cf-845f-4ff45db1a7c8\", \"categories\": [0], \"series\": [{\"data\": [1.0]}]}, {\"name\": \"AUC_macro\", \"run_id\": \"AutoML_532e1f2e-40f2-44cf-845f-4ff45db1a7c8\", \"categories\": [0], \"series\": [{\"data\": [1.0]}]}, {\"name\": \"recall_score_macro\", \"run_id\": \"AutoML_532e1f2e-40f2-44cf-845f-4ff45db1a7c8\", \"categories\": [0], \"series\": [{\"data\": [1.0]}]}, {\"name\": \"average_precision_score_micro\", \"run_id\": \"AutoML_532e1f2e-40f2-44cf-845f-4ff45db1a7c8\", \"categories\": [0], \"series\": [{\"data\": [1.0]}]}, {\"name\": \"balanced_accuracy\", \"run_id\": \"AutoML_532e1f2e-40f2-44cf-845f-4ff45db1a7c8\", \"categories\": [0], \"series\": [{\"data\": [1.0]}]}, {\"name\": \"f1_score_weighted\", \"run_id\": \"AutoML_532e1f2e-40f2-44cf-845f-4ff45db1a7c8\", \"categories\": [0], \"series\": [{\"data\": [1.0]}]}, {\"name\": \"precision_score_macro\", \"run_id\": \"AutoML_532e1f2e-40f2-44cf-845f-4ff45db1a7c8\", \"categories\": [0], \"series\": [{\"data\": [1.0]}]}, {\"name\": \"AUC_micro\", \"run_id\": \"AutoML_532e1f2e-40f2-44cf-845f-4ff45db1a7c8\", \"categories\": [0], \"series\": [{\"data\": [1.0]}]}, {\"name\": \"weighted_accuracy\", \"run_id\": \"AutoML_532e1f2e-40f2-44cf-845f-4ff45db1a7c8\", \"categories\": [0], \"series\": [{\"data\": [1.0]}]}, {\"name\": \"recall_score_weighted\", \"run_id\": \"AutoML_532e1f2e-40f2-44cf-845f-4ff45db1a7c8\", \"categories\": [0], \"series\": [{\"data\": [1.0]}]}, {\"name\": \"precision_score_weighted\", \"run_id\": \"AutoML_532e1f2e-40f2-44cf-845f-4ff45db1a7c8\", \"categories\": [0], \"series\": [{\"data\": [1.0]}]}, {\"name\": \"f1_score_micro\", \"run_id\": \"AutoML_532e1f2e-40f2-44cf-845f-4ff45db1a7c8\", \"categories\": [0], \"series\": [{\"data\": [1.0]}]}, {\"name\": \"accuracy\", \"run_id\": \"AutoML_532e1f2e-40f2-44cf-845f-4ff45db1a7c8\", \"categories\": [0], \"series\": [{\"data\": [1.0]}]}, {\"name\": \"AUC_weighted\", \"run_id\": \"AutoML_532e1f2e-40f2-44cf-845f-4ff45db1a7c8\", \"categories\": [0], \"series\": [{\"data\": [1.0]}]}, {\"name\": \"average_precision_score_macro\", \"run_id\": \"AutoML_532e1f2e-40f2-44cf-845f-4ff45db1a7c8\", \"categories\": [0], \"series\": [{\"data\": [1.0]}]}, {\"name\": \"matthews_correlation\", \"run_id\": \"AutoML_532e1f2e-40f2-44cf-845f-4ff45db1a7c8\", \"categories\": [0], \"series\": [{\"data\": [1.0]}]}, {\"name\": \"norm_macro_recall\", \"run_id\": \"AutoML_532e1f2e-40f2-44cf-845f-4ff45db1a7c8\", \"categories\": [0], \"series\": [{\"data\": [1.0]}]}, {\"name\": \"precision_score_micro\", \"run_id\": \"AutoML_532e1f2e-40f2-44cf-845f-4ff45db1a7c8\", \"categories\": [0], \"series\": [{\"data\": [1.0]}]}, {\"name\": \"log_loss\", \"run_id\": \"AutoML_532e1f2e-40f2-44cf-845f-4ff45db1a7c8\", \"categories\": [0], \"series\": [{\"data\": [9.3142013956508e-05]}]}, {\"name\": \"recall_score_micro\", \"run_id\": \"AutoML_532e1f2e-40f2-44cf-845f-4ff45db1a7c8\", \"categories\": [0], \"series\": [{\"data\": [1.0]}]}, {\"name\": \"f1_score_macro\", \"run_id\": \"AutoML_532e1f2e-40f2-44cf-845f-4ff45db1a7c8\", \"categories\": [0], \"series\": [{\"data\": [1.0]}]}], \"run_logs\": \"\\nRun is completed.\", \"graph\": {}, \"widget_settings\": {\"childWidgetDisplay\": \"popup\", \"send_telemetry\": true, \"log_level\": \"INFO\", \"sdk_version\": \"1.22.0\"}, \"loading\": false}"
     },
     "metadata": {},
     "output_type": "display_data"
    }
   ],
   "source": [
    "from azureml.widgets import RunDetails\n",
    "# RunDetails(local_run).show()\n",
    "RunDetails(remote_run).show()"
   ]
  },
  {
   "cell_type": "markdown",
   "metadata": {
    "nteract": {
     "transient": {
      "deleting": false
     }
    }
   },
   "source": [
    "## Best Model\n",
    "\n",
    "TODO: In the cell below, get the best model from the automl experiments and display all the properties of the model."
   ]
  },
  {
   "cell_type": "code",
   "execution_count": 16,
   "metadata": {
    "gather": {
     "logged": 1613310626198
    },
    "jupyter": {
     "outputs_hidden": false,
     "source_hidden": false
    },
    "nteract": {
     "transient": {
      "deleting": false
     }
    }
   },
   "outputs": [
    {
     "name": "stdout",
     "output_type": "stream",
     "text": [
      "The AutoML [Fitted & Later Deployed Best Model] Run ID:  AutoML_532e1f2e-40f2-44cf-845f-4ff45db1a7c8_6\n",
      "The AutoML [Fitted & Later Deployed Best Model] Pipeline Details:  Pipeline(memory=None,\n",
      "         steps=[('datatransformer',\n",
      "                 DataTransformer(enable_dnn=None, enable_feature_sweeping=None,\n",
      "                                 feature_sweeping_config=None,\n",
      "                                 feature_sweeping_timeout=None,\n",
      "                                 featurization_config=None, force_text_dnn=None,\n",
      "                                 is_cross_validation=None,\n",
      "                                 is_onnx_compatible=None, logger=None,\n",
      "                                 observer=None, task=None, working_dir=None)),\n",
      "                ('SparseNormalizer',\n",
      "                 <azureml.auto...\n",
      "                                   colsample_bytree=0.5, eta=0.1, gamma=0,\n",
      "                                   learning_rate=0.1, max_delta_step=0,\n",
      "                                   max_depth=6, max_leaves=15,\n",
      "                                   min_child_weight=1, missing=nan,\n",
      "                                   n_estimators=100, n_jobs=1, nthread=None,\n",
      "                                   objective='reg:logistic', random_state=0,\n",
      "                                   reg_alpha=0, reg_lambda=2.0833333333333335,\n",
      "                                   scale_pos_weight=1, seed=None, silent=None,\n",
      "                                   subsample=1, tree_method='auto', verbose=-10,\n",
      "                                   verbosity=0))],\n",
      "         verbose=False)\n"
     ]
    }
   ],
   "source": [
    "# best_run, fitted_model = local_run.get_output()\n",
    "best_run, fitted_model = remote_run.get_output()\n",
    "print (\"The AutoML [Fitted & Later Deployed Best Model] Run ID: \", best_run.id)\n",
    "print (\"The AutoML [Fitted & Later Deployed Best Model] Pipeline Details: \", fitted_model)"
   ]
  },
  {
   "cell_type": "code",
   "execution_count": 17,
   "metadata": {},
   "outputs": [
    {
     "name": "stdout",
     "output_type": "stream",
     "text": [
      "f1_score_macro 1.0\n",
      "recall_score_micro 1.0\n",
      "matthews_correlation 1.0\n",
      "recall_score_macro 1.0\n",
      "AUC_macro 1.0\n",
      "AUC_micro 1.0\n",
      "weighted_accuracy 1.0\n",
      "average_precision_score_micro 1.0\n",
      "log_loss 9.3142013956508e-05\n",
      "recall_score_weighted 1.0\n",
      "precision_score_macro 1.0\n",
      "precision_score_weighted 1.0\n",
      "norm_macro_recall 1.0\n",
      "f1_score_weighted 1.0\n",
      "average_precision_score_macro 1.0\n",
      "balanced_accuracy 1.0\n",
      "AUC_weighted 1.0\n",
      "f1_score_micro 1.0\n",
      "accuracy 1.0\n",
      "average_precision_score_weighted 1.0\n",
      "precision_score_micro 1.0\n",
      "confusion_matrix aml://artifactId/ExperimentRun/dcid.AutoML_532e1f2e-40f2-44cf-845f-4ff45db1a7c8_6/confusion_matrix\n",
      "accuracy_table aml://artifactId/ExperimentRun/dcid.AutoML_532e1f2e-40f2-44cf-845f-4ff45db1a7c8_6/accuracy_table\n"
     ]
    }
   ],
   "source": [
    "best_run_metrics = best_run.get_metrics()\n",
    "\n",
    "for metric_name in best_run_metrics:\n",
    "    metric = best_run_metrics[metric_name]\n",
    "    print(metric_name, metric)"
   ]
  },
  {
   "cell_type": "markdown",
   "metadata": {},
   "source": [
    "## Tests"
   ]
  },
  {
   "cell_type": "code",
   "execution_count": 18,
   "metadata": {
    "gather": {
     "logged": 1613310717308
    }
   },
   "outputs": [],
   "source": [
    "X_test_df = validation_data.drop_columns(columns=[label_column_name]).to_pandas_dataframe()\n",
    "y_test_df = validation_data.keep_columns(columns=[label_column_name], validate=True).to_pandas_dataframe()"
   ]
  },
  {
   "cell_type": "code",
   "execution_count": 19,
   "metadata": {
    "gather": {
     "logged": 1613310758851
    }
   },
   "outputs": [
    {
     "data": {
      "text/plain": [
       "array([0, 0, 0, ..., 0, 0, 0])"
      ]
     },
     "execution_count": 19,
     "metadata": {},
     "output_type": "execute_result"
    }
   ],
   "source": [
    "foresights = fitted_model.predict(X_test_df)\n",
    "y_pred = foresights\n",
    "foresights"
   ]
  },
  {
   "cell_type": "code",
   "execution_count": 20,
   "metadata": {
    "gather": {
     "logged": 1613310787523
    }
   },
   "outputs": [
    {
     "data": {
      "image/png": "[encoded data removed]",
      "text/plain": [
       "<Figure size 432x288 with 2 Axes>"
      ]
     },
     "metadata": {
      "needs_background": "light"
     },
     "output_type": "display_data"
    }
   ],
   "source": [
    "cf =confusion_matrix(y_test_df.values,y_pred)\n",
    "plt.imshow(cf,cmap=plt.cm.Blues,interpolation='nearest')\n",
    "plt.colorbar()\n",
    "plt.title('Confusion Matrix')\n",
    "plt.xlabel('Predicted')\n",
    "plt.ylabel('Actual')\n",
    "class_labels = ['False','True']\n",
    "tick_marks = np.arange(len(class_labels))\n",
    "plt.xticks(tick_marks,class_labels)\n",
    "plt.yticks([-0.5,0,1,1.5],['','False','True',''])\n",
    "thresh = cf.max() / 2.\n",
    "for i,j in itertools.product(range(cf.shape[0]),range(cf.shape[1])):\n",
    "    plt.text(j,i,format(cf[i,j],'d'),horizontalalignment='center',color='white' if cf[i,j] >thresh else 'black')\n",
    "plt.show()"
   ]
  },
  {
   "cell_type": "code",
   "execution_count": 21,
   "metadata": {
    "gather": {
     "logged": 1613310855131
    }
   },
   "outputs": [
    {
     "name": "stdout",
     "output_type": "stream",
     "text": [
      "{'Column34_MeanImputer': 0.001930834715689336, 'Column31_MeanImputer': 0.0016004712910457628, 'Column25_MeanImputer': 0.0015503596330752596, 'Column11_MeanImputer': 0.0014316643013635151, 'Column27_MeanImputer': 0.0013079481133404906, 'Column33_ModeCatImputer_LabelEncoder': 0.000984524598324781, 'Column24_MeanImputer': 0.0009258727275343326, 'Column30_MeanImputer': 0.0008908198683384289, 'Column2_MeanImputer': 0.0008121195631307674, 'Column8_MeanImputer': 0.000763192540828016, 'Column18_MeanImputer': 0.00041049328953073923, 'Column37_MeanImputer': 0.00035066422328958066, 'Column38_MeanImputer': 0.0003464010154202881, 'Column13_MeanImputer': 0.00034391765639867674, 'Column1_MeanImputer': 0.00034146578659666036, 'Column22_MeanImputer': 0.00033102591993447873, 'Column16_MeanImputer': 0.0003109643421694003, 'Column20_ModeCatImputer_LabelEncoder': 0.0003105676434081017, 'Column29_MeanImputer': 0.00028332068420666565, 'Column9_MeanImputer': 0.00023437239304962358, 'Column26_MeanImputer': 0.00022496295420769644, 'Column17_MeanImputer': 0.00022176407847196037, 'Column32_MeanImputer': 0.00020475708189379808, 'Column23_MeanImputer': 0.00015025192647690651, 'Column14_MeanImputer': 0.00014147780811181937, 'Column4_MeanImputer': 0.00013918848905748187, 'Column6_MeanImputer': 0.0001369301784663768, 'Column36_MeanImputer': 0.00012156271223265329, 'Column12_MeanImputer': 0.00012148492644331035, 'Column15_MeanImputer': 0.00012074548592133985, 'Column19_MeanImputer': 9.674165204924525e-05, 'Column35_CharGramCountVectorizer_20': 8.96343832564396e-05, 'Column35_CharGramCountVectorizer_28': 2.705493671812659e-06, 'Column5_MeanImputer': 0.0, 'Column7_MeanImputer': 0.0, 'Column3_MeanImputer': 0.0, 'Column10_MeanImputer': 0.0, 'Column35_CharGramCountVectorizer_60': 0.0, 'Column35_CharGramCountVectorizer_6': 0.0, 'Column21_ModeCatImputer_LabelEncoder': 0.0, 'Column35_CharGramCountVectorizer_0': 0.0, 'Column35_CharGramCountVectorizer_24': 0.0, 'Column35_CharGramCountVectorizer_31': 0.0, 'Column35_CharGramCountVectorizer_32': 0.0, 'Column35_CharGramCountVectorizer_36': 0.0, 'Column35_CharGramCountVectorizer_40': 0.0, 'Column35_CharGramCountVectorizer_44': 0.0, 'Column35_CharGramCountVectorizer_48': 0.0, 'Column35_CharGramCountVectorizer_52': 0.0, 'Column35_CharGramCountVectorizer_56': 0.0, 'Column28_MeanImputer': 0.0}\n",
      "visualize engineered explanations at:-\n",
      "https://ml.azure.com/experiments/ml-experiment-025/runs/AutoML_532e1f2e-40f2-44cf-845f-4ff45db1a7c8_6?wsid=/subscriptions/5cf0bb76-4731-4cb5-ac3d-950c07dda6ef/resourcegroups/group1st/workspaces/workspace1st\n"
     ]
    }
   ],
   "source": [
    "client = ExplanationClient.from_run(best_run)\n",
    "engineered_explanations = client.download_model_explanation(raw=False)\n",
    "print(engineered_explanations.get_feature_importance_dict())\n",
    "print(\"visualize engineered explanations at:-\\n\" + best_run.get_portal_url())"
   ]
  },
  {
   "cell_type": "code",
   "execution_count": 22,
   "metadata": {
    "gather": {
     "logged": 1613310908450
    }
   },
   "outputs": [
    {
     "name": "stdout",
     "output_type": "stream",
     "text": [
      "{'Column34': 0.001930834715689336, 'Column31': 0.0016004712910457628, 'Column25': 0.0015503596330752596, 'Column11': 0.0014316643013635151, 'Column27': 0.0013079481133404906, 'Column33': 0.000984524598324781, 'Column24': 0.0009258727275343326, 'Column30': 0.0008908198683384289, 'Column2': 0.0008121195631307674, 'Column8': 0.000763192540828016, 'Column18': 0.00041049328953073923, 'Column37': 0.00035066422328958066, 'Column38': 0.0003464010154202881, 'Column13': 0.00034391765639867674, 'Column1': 0.00034146578659666036, 'Column22': 0.00033102591993447873, 'Column16': 0.0003109643421694003, 'Column20': 0.0003105676434081017, 'Column29': 0.00028332068420666565, 'Column9': 0.00023437239304962358, 'Column26': 0.00022496295420769644, 'Column17': 0.00022176407847196037, 'Column32': 0.00020475708189379808, 'Column23': 0.00015025192647690651, 'Column14': 0.00014147780811181937, 'Column4': 0.00013918848905748187, 'Column6': 0.0001369301784663768, 'Column36': 0.00012156271223265329, 'Column12': 0.00012148492644331035, 'Column15': 0.00012074548592133985, 'Column19': 9.674165204924525e-05, 'Column35': 9.233987692825225e-05, 'Column10': 0.0, 'Column7': 0.0, 'Column5': 0.0, 'Column28': 0.0, 'Column3': 0.0, 'Column21': 0.0}\n",
      "visualize raw explanations at:-\n",
      "https://ml.azure.com/experiments/ml-experiment-025/runs/AutoML_532e1f2e-40f2-44cf-845f-4ff45db1a7c8_6?wsid=/subscriptions/5cf0bb76-4731-4cb5-ac3d-950c07dda6ef/resourcegroups/group1st/workspaces/workspace1st\n"
     ]
    }
   ],
   "source": [
    "raw_explanations = client.download_model_explanation(raw=True)\n",
    "print(raw_explanations.get_feature_importance_dict())\n",
    "print(\"visualize raw explanations at:-\\n\" + best_run.get_portal_url())"
   ]
  },
  {
   "cell_type": "markdown",
   "metadata": {},
   "source": [
    "#### Retrieve AutoML models from training"
   ]
  },
  {
   "cell_type": "code",
   "execution_count": 23,
   "metadata": {
    "gather": {
     "logged": 1613310974528
    }
   },
   "outputs": [],
   "source": [
    "automl_run, fitted_model = local_run.get_output(metric='accuracy')"
   ]
  },
  {
   "cell_type": "code",
   "execution_count": 24,
   "metadata": {
    "gather": {
     "logged": 1613310989715
    }
   },
   "outputs": [],
   "source": [
    "X_train = training_data.drop_columns(columns=[label_column_name])\n",
    "y_train = training_data.keep_columns(columns=[label_column_name], validate=True)\n",
    "X_test = validation_data.drop_columns(columns=[label_column_name])"
   ]
  },
  {
   "cell_type": "code",
   "execution_count": 25,
   "metadata": {
    "gather": {
     "logged": 1613311011736
    }
   },
   "outputs": [
    {
     "name": "stdout",
     "output_type": "stream",
     "text": [
      "Current status: Setting up data for AutoML explanations\n",
      "Current status: Setting up the AutoML featurizer\n",
      "Current status: Setting up the AutoML estimator\n",
      "Current status: Setting up the AutoML featurization for explanations\n",
      "Current status: Downsampling of evaluation samples from 57796 to 5000 samples\n",
      "Current status: Generating a feature map for raw feature importance\n",
      "Current status: Finding all classes from the dataset\n",
      "Current status: Choosing the surrogate model as LightGBM for the AutoML model\n",
      "Current status: Data for AutoML explanations successfully setup\n"
     ]
    }
   ],
   "source": [
    "automl_explainer_setup_obj = automl_setup_model_explanations(fitted_model, X=X_train, \n",
    "                                                             X_test=X_test, y=y_train, \n",
    "                                                             task='classification')"
   ]
  },
  {
   "cell_type": "code",
   "execution_count": 26,
   "metadata": {
    "gather": {
     "logged": 1613311056757
    }
   },
   "outputs": [],
   "source": [
    "explainer = MimicWrapper(ws, automl_explainer_setup_obj.automl_estimator,\n",
    "                         explainable_model=automl_explainer_setup_obj.surrogate_model, \n",
    "                         init_dataset=automl_explainer_setup_obj.X_transform, run=automl_run,\n",
    "                         features=automl_explainer_setup_obj.engineered_feature_names, \n",
    "                         feature_maps=[automl_explainer_setup_obj.feature_map],\n",
    "                         classes=automl_explainer_setup_obj.classes,\n",
    "                         explainer_kwargs=automl_explainer_setup_obj.surrogate_model_params)"
   ]
  },
  {
   "cell_type": "code",
   "execution_count": 27,
   "metadata": {
    "gather": {
     "logged": 1613311097831
    }
   },
   "outputs": [
    {
     "name": "stdout",
     "output_type": "stream",
     "text": [
      "{'Column34_MeanImputer': 0.0022815516509775728, 'Column25_MeanImputer': 0.002277292352679868, 'Column31_MeanImputer': 0.0020840727993623577, 'Column11_MeanImputer': 0.0019527959413398288, 'Column27_MeanImputer': 0.001347104925935313, 'Column33_ModeCatImputer_LabelEncoder': 0.0013288570704532597, 'Column17_MeanImputer': 0.0011902418067074243, 'Column24_MeanImputer': 0.0011019452881430648, 'Column2_MeanImputer': 0.0010014980992606286, 'Column8_MeanImputer': 0.0009406637447700879, 'Column19_MeanImputer': 0.0008988767650911773, 'Column1_MeanImputer': 0.0007521662770045733, 'Column30_MeanImputer': 0.0005556937128679604, 'Column22_MeanImputer': 0.0004072859882396226, 'Column13_MeanImputer': 0.00038804127328247526, 'Column38_MeanImputer': 0.00031859364084806205, 'Column14_MeanImputer': 0.0002984018407072104, 'Column18_MeanImputer': 0.00029808512895897546, 'Column20_ModeCatImputer_LabelEncoder': 0.00028564711859598637, 'Column35_CharGramCountVectorizer_20': 0.00024658634410694517, 'Column36_MeanImputer': 0.00024373305274879504, 'Column26_MeanImputer': 0.00023421076629392528, 'Column16_MeanImputer': 0.00022423873614673827, 'Column32_MeanImputer': 0.00020822022538120795, 'Column9_MeanImputer': 0.00019914661938887887, 'Column37_MeanImputer': 0.0001933237124907248, 'Column12_MeanImputer': 0.00016300310981482807, 'Column4_MeanImputer': 0.0001517778979218193, 'Column29_MeanImputer': 0.00013535724167784298, 'Column15_MeanImputer': 0.00013365377650544836, 'Column6_MeanImputer': 0.00011169108266700655, 'Column23_MeanImputer': 8.756804708391596e-05, 'Column35_CharGramCountVectorizer_32': 5.850071944428981e-06, 'Column35_CharGramCountVectorizer_28': 4.3124404698204e-06, 'Column7_MeanImputer': 0.0, 'Column5_MeanImputer': 0.0, 'Column10_MeanImputer': 0.0, 'Column3_MeanImputer': 0.0, 'Column35_CharGramCountVectorizer_60': 0.0, 'Column35_CharGramCountVectorizer_6': 0.0, 'Column21_ModeCatImputer_LabelEncoder': 0.0, 'Column35_CharGramCountVectorizer_0': 0.0, 'Column35_CharGramCountVectorizer_24': 0.0, 'Column35_CharGramCountVectorizer_31': 0.0, 'Column35_CharGramCountVectorizer_36': 0.0, 'Column35_CharGramCountVectorizer_40': 0.0, 'Column35_CharGramCountVectorizer_44': 0.0, 'Column35_CharGramCountVectorizer_48': 0.0, 'Column35_CharGramCountVectorizer_52': 0.0, 'Column35_CharGramCountVectorizer_56': 0.0, 'Column28_MeanImputer': 0.0}\n",
      "visualize engineered explanations at:-\n",
      "https://ml.azure.com/experiments/ml-experiment-025/runs/AutoML_532e1f2e-40f2-44cf-845f-4ff45db1a7c8_6?wsid=/subscriptions/5cf0bb76-4731-4cb5-ac3d-950c07dda6ef/resourcegroups/group1st/workspaces/workspace1st\n"
     ]
    }
   ],
   "source": [
    "engineered_explanations = explainer.explain(['local', 'global'], eval_dataset=automl_explainer_setup_obj.X_test_transform)\n",
    "print(engineered_explanations.get_feature_importance_dict())\n",
    "print(\"visualize engineered explanations at:-\\n\" + automl_run.get_portal_url())"
   ]
  },
  {
   "cell_type": "code",
   "execution_count": 28,
   "metadata": {
    "gather": {
     "logged": 1613311183934
    }
   },
   "outputs": [
    {
     "name": "stdout",
     "output_type": "stream",
     "text": [
      "{'Column34': 0.0022815516509775728, 'Column25': 0.002277292352679868, 'Column31': 0.0020840727993623577, 'Column11': 0.0019527959413398288, 'Column27': 0.001347104925935313, 'Column33': 0.0013288570704532597, 'Column17': 0.0011902418067074243, 'Column24': 0.0011019452881430648, 'Column2': 0.0010014980992606286, 'Column8': 0.0009406637447700879, 'Column19': 0.0008988767650911773, 'Column1': 0.0007521662770045733, 'Column30': 0.0005556937128679604, 'Column22': 0.0004072859882396226, 'Column13': 0.00038804127328247526, 'Column38': 0.00031859364084806205, 'Column14': 0.0002984018407072104, 'Column18': 0.00029808512895897546, 'Column20': 0.00028564711859598637, 'Column35': 0.0002567488565211946, 'Column36': 0.00024373305274879504, 'Column26': 0.00023421076629392528, 'Column16': 0.00022423873614673827, 'Column32': 0.00020822022538120795, 'Column9': 0.00019914661938887887, 'Column37': 0.0001933237124907248, 'Column12': 0.00016300310981482807, 'Column4': 0.0001517778979218193, 'Column29': 0.00013535724167784298, 'Column15': 0.00013365377650544836, 'Column6': 0.00011169108266700655, 'Column23': 8.756804708391596e-05, 'Column28': 0.0, 'Column21': 0.0, 'Column10': 0.0, 'Column7': 0.0, 'Column5': 0.0, 'Column3': 0.0}\n",
      "visualize raw explanations at:-\n",
      "https://ml.azure.com/experiments/ml-experiment-025/runs/AutoML_532e1f2e-40f2-44cf-845f-4ff45db1a7c8_6?wsid=/subscriptions/5cf0bb76-4731-4cb5-ac3d-950c07dda6ef/resourcegroups/group1st/workspaces/workspace1st\n"
     ]
    }
   ],
   "source": [
    "raw_explanations = explainer.explain(['local', 'global'], get_raw=True,\n",
    "                                     raw_feature_names=automl_explainer_setup_obj.raw_feature_names,\n",
    "                                     eval_dataset=automl_explainer_setup_obj.X_test_transform,\n",
    "                                     raw_eval_dataset=automl_explainer_setup_obj.X_test_raw)\n",
    "print(raw_explanations.get_feature_importance_dict())\n",
    "print(\"visualize raw explanations at:-\\n\" + automl_run.get_portal_url())"
   ]
  },
  {
   "cell_type": "markdown",
   "metadata": {},
   "source": [
    "## Model Deployment\n",
    "\n",
    "Remember you have to deploy only one of the two models you trained.. Perform the steps in the rest of this notebook only if you wish to deploy this model.\n",
    "\n",
    "TODO: In the cell below, register the model, create an inference config and deploy the model as a web service."
   ]
  },
  {
   "cell_type": "code",
   "execution_count": 29,
   "metadata": {
    "gather": {
     "logged": 1613311498694
    }
   },
   "outputs": [],
   "source": [
    "original_model = automl_run.register_model(model_name='automl_model', \n",
    "                                           model_path='outputs/model.pkl')"
   ]
  },
  {
   "cell_type": "code",
   "execution_count": 30,
   "metadata": {
    "gather": {
     "logged": 1613311512690
    }
   },
   "outputs": [
    {
     "data": {
      "text/plain": [
       "{\n",
       "    \"databricks\": {\n",
       "        \"eggLibraries\": [],\n",
       "        \"jarLibraries\": [],\n",
       "        \"mavenLibraries\": [],\n",
       "        \"pypiLibraries\": [],\n",
       "        \"rcranLibraries\": []\n",
       "    },\n",
       "    \"docker\": {\n",
       "        \"arguments\": [],\n",
       "        \"baseDockerfile\": null,\n",
       "        \"baseImage\": \"mcr.microsoft.com/azureml/intelmpi2018.3-ubuntu16.04:20210104.v1\",\n",
       "        \"baseImageRegistry\": {\n",
       "            \"address\": null,\n",
       "            \"password\": null,\n",
       "            \"registryIdentity\": null,\n",
       "            \"username\": null\n",
       "        },\n",
       "        \"enabled\": false,\n",
       "        \"platform\": {\n",
       "            \"architecture\": \"amd64\",\n",
       "            \"os\": \"Linux\"\n",
       "        },\n",
       "        \"sharedVolumes\": true,\n",
       "        \"shmSize\": \"2g\"\n",
       "    },\n",
       "    \"environmentVariables\": {\n",
       "        \"EXAMPLE_ENV_VAR\": \"EXAMPLE_VALUE\"\n",
       "    },\n",
       "    \"inferencingStackVersion\": null,\n",
       "    \"name\": \"myenv\",\n",
       "    \"python\": {\n",
       "        \"baseCondaEnvironment\": null,\n",
       "        \"condaDependencies\": {\n",
       "            \"channels\": [\n",
       "                \"anaconda\",\n",
       "                \"conda-forge\"\n",
       "            ],\n",
       "            \"dependencies\": [\n",
       "                \"python=3.6.2\",\n",
       "                {\n",
       "                    \"pip\": [\n",
       "                        \"azureml-train-automl-runtime==1.21.0\",\n",
       "                        \"inference-schema\",\n",
       "                        \"azureml-interpret==1.21.0\",\n",
       "                        \"azureml-defaults==1.21.0\"\n",
       "                    ]\n",
       "                },\n",
       "                \"numpy>=1.16.0,<1.19.0\",\n",
       "                \"pandas==0.25.1\",\n",
       "                \"scikit-learn==0.22.1\",\n",
       "                \"py-xgboost<=0.90\",\n",
       "                \"fbprophet==0.5\",\n",
       "                \"holidays==0.9.11\",\n",
       "                \"psutil>=5.2.2,<6.0.0\"\n",
       "            ],\n",
       "            \"name\": \"project_environment\"\n",
       "        },\n",
       "        \"condaDependenciesFile\": null,\n",
       "        \"interpreterPath\": \"python\",\n",
       "        \"userManagedDependencies\": false\n",
       "    },\n",
       "    \"r\": null,\n",
       "    \"spark\": {\n",
       "        \"packages\": [],\n",
       "        \"precachePackages\": true,\n",
       "        \"repositories\": []\n",
       "    },\n",
       "    \"version\": null\n",
       "}"
      ]
     },
     "execution_count": 30,
     "metadata": {},
     "output_type": "execute_result"
    }
   ],
   "source": [
    "# automl_run.download_file(constants.CONDA_ENV_FILE_PATH, 'myenv.yml')\n",
    "myenv = Environment.from_conda_specification(name=\"myenv\", file_path=\"myenv.yml\")\n",
    "myenv"
   ]
  },
  {
   "cell_type": "code",
   "execution_count": 31,
   "metadata": {
    "jupyter": {
     "outputs_hidden": false,
     "source_hidden": false
    },
    "nteract": {
     "transient": {
      "deleting": false
     }
    }
   },
   "outputs": [
    {
     "name": "stdout",
     "output_type": "stream",
     "text": [
      "Overwriting score_025_ids2017inf.py\n"
     ]
    }
   ],
   "source": [
    "%%writefile score_025_ids2017inf.py\n",
    "\n",
    "import urllib.request\n",
    "import json\n",
    "import os\n",
    "import ssl\n",
    "\n",
    "def allowSelfSignedHttps(allowed):\n",
    "    if allowed and not os.environ.get('PYTHONHTTPSVERIFY', '') and getattr(ssl, '_create_unverified_context', None):\n",
    "        ssl._create_default_https_context = ssl._create_unverified_context\n",
    "\n",
    "allowSelfSignedHttps(True)\n",
    "\n",
    "data = {\n",
    "    \"data\":\n",
    "    [\n",
    "        {\n",
    "            'Column1': \"0\",\n",
    "            'Column2': \"0\",\n",
    "            'Column3': \"0\",\n",
    "            'Column4': \"0\",\n",
    "            'Column5': \"0\",\n",
    "            'Column6': \"0\",\n",
    "            'Column7': \"0\",\n",
    "            'Column8': \"0\",\n",
    "            'Column9': \"0\",\n",
    "            'Column10': \"0\",\n",
    "            'Column11': \"0\",\n",
    "            'Column12': \"0\",\n",
    "            'Column13': \"0\",\n",
    "            'Column14': \"0\",\n",
    "            'Column15': \"0\",\n",
    "            'Column16': \"0\",\n",
    "            'Column17': \"0\",\n",
    "            'Column18': \"0\",\n",
    "            'Column19': \"0\",\n",
    "            'Column20': \"0\",\n",
    "            'Column21': \"0\",\n",
    "            'Column22': \"0\",\n",
    "            'Column23': \"0\",\n",
    "            'Column24': \"0\",\n",
    "            'Column25': \"0\",\n",
    "            'Column26': \"0\",\n",
    "            'Column27': \"0\",\n",
    "            'Column28': \"0\",\n",
    "            'Column29': \"0\",\n",
    "            'Column30': \"0\",\n",
    "            'Column31': \"0\",\n",
    "            'Column32': \"0\",\n",
    "            'Column33': \"0\",\n",
    "            'Column34': \"0\",\n",
    "            'Column35': \"0\",\n",
    "            'Column36': \"0\",\n",
    "            'Column37': \"0\",\n",
    "            'Column38': \"0\",\n",
    "        },\n",
    "    ],\n",
    "}\n",
    "\n",
    "body = str.encode(json.dumps(data))\n",
    "\n",
    "url = 'http://c76e1449-ef84-4a53-9904-61ce2f8aa744.uksouth.azurecontainer.io/score'\n",
    "api_key = '' # No need for API key for the web service\n",
    "headers = {'Content-Type':'application/json', 'Authorization':('Bearer '+ api_key)}\n",
    "\n",
    "req = urllib.request.Request(url, body, headers)\n",
    "\n",
    "try:\n",
    "    response = urllib.request.urlopen(req)\n",
    "\n",
    "    result = response.read()\n",
    "    print(result)\n",
    "except urllib.error.HTTPError as error:\n",
    "    print(\"The request failed with status code: \" + str(error.code))\n",
    "\n",
    "    print(error.info())\n",
    "    print(json.loads(error.read().decode(\"utf8\", 'ignore')))\n"
   ]
  },
  {
   "cell_type": "code",
   "execution_count": 32,
   "metadata": {
    "jupyter": {
     "outputs_hidden": false,
     "source_hidden": false
    },
    "nteract": {
     "transient": {
      "deleting": false
     }
    }
   },
   "outputs": [
    {
     "name": "stdout",
     "output_type": "stream",
     "text": [
      "Overwriting scoring.py\n"
     ]
    }
   ],
   "source": [
    "%%writefile scoring.py\n",
    "\n",
    "import urllib.request\n",
    "import joblib, json, logging, os, pickle, ssl\n",
    "import numpy as np\n",
    "import pandas as pd\n",
    "import azureml.automl.core\n",
    "from azureml.core.model import Model\n",
    "from azureml.automl.core.shared import logging_utilities, log_server\n",
    "from azureml.telemetry import INSTRUMENTATION_KEY\n",
    "from inference_schema.schema_decorators import input_schema, output_schema\n",
    "from inference_schema.parameter_types.numpy_parameter_type import NumpyParameterType\n",
    "from inference_schema.parameter_types.pandas_parameter_type import PandasParameterType\n",
    "\n",
    "input_sample = pd.DataFrame({\"Column1\": pd.Series([0], dtype=\"int64\"), \"Column2\": pd.Series([0], dtype=\"int64\"), \"Column3\": pd.Series([0], dtype=\"int64\"), \"Column4\": pd.Series([0], dtype=\"int64\"), \"Column5\": pd.Series([0], dtype=\"int64\"), \"Column6\": pd.Series([0], dtype=\"int64\"), \"Column7\": pd.Series([0], dtype=\"int64\"), \"Column8\": pd.Series([0.0], dtype=\"float64\"), \"Column9\": pd.Series([0], dtype=\"int64\"), \"Column10\": pd.Series([0], dtype=\"int64\"), \"Column11\": pd.Series([0], dtype=\"int64\"), \"Column12\": pd.Series([0], dtype=\"int64\"), \"Column13\": pd.Series([0.0], dtype=\"float64\"), \"Column14\": pd.Series([0], dtype=\"int64\"), \"Column15\": pd.Series([0.0], dtype=\"float64\"), \"Column16\": pd.Series([0], dtype=\"int64\"), \"Column17\": pd.Series([0], dtype=\"int64\"), \"Column18\": pd.Series([0], dtype=\"int64\"), \"Column19\": pd.Series([0], dtype=\"int64\"), \"Column20\": pd.Series([0], dtype=\"int64\"), \"Column21\": pd.Series([0], dtype=\"int64\"), \"Column22\": pd.Series([0], dtype=\"int64\"), \"Column23\": pd.Series([0], dtype=\"int64\"), \"Column24\": pd.Series([0], dtype=\"int64\"), \"Column25\": pd.Series([0.0], dtype=\"float64\"), \"Column26\": pd.Series([0.0], dtype=\"float64\"), \"Column27\": pd.Series([0.0], dtype=\"float64\"), \"Column28\": pd.Series([0.0], dtype=\"float64\"), \"Column29\": pd.Series([0], dtype=\"int64\"), \"Column30\": pd.Series([0.0], dtype=\"float64\"), \"Column31\": pd.Series([0.0], dtype=\"float64\"), \"Column32\": pd.Series([0], dtype=\"int64\"), \"Column33\": pd.Series([0], dtype=\"int64\"), \"Column34\": pd.Series([0.0], dtype=\"float64\"), \"Column35\": pd.Series([0], dtype=\"int64\"), \"Column36\": pd.Series([0], dtype=\"int64\"), \"Column37\": pd.Series([0.0], dtype=\"float64\"), \"Column38\": pd.Series([0], dtype=\"int64\")})\n",
    "output_sample = np.array([0])\n",
    "try:\n",
    "    log_server.enable_telemetry(INSTRUMENTATION_KEY)\n",
    "    log_server.set_verbosity('INFO')\n",
    "    logger = logging.getLogger('azureml.automl.core.scoring_script')\n",
    "except:\n",
    "    pass\n",
    "\n",
    "def init():\n",
    "    global model\n",
    "    # This name is model.id of model that we want to deploy deserialize the model file back\n",
    "    # into a sklearn model\n",
    "    model_path = os.path.join(os.getenv('AZUREML_MODEL_DIR'), 'model.pkl')\n",
    "    path = os.path.normpath(model_path)\n",
    "    path_split = path.split(os.sep)\n",
    "    log_server.update_custom_dimensions({'model_name': path_split[-3], 'model_version': path_split[-2]})\n",
    "    try:\n",
    "        logger.info(\"Loading model from path.\")\n",
    "        model = joblib.load(model_path)\n",
    "        logger.info(\"Loading successful.\")\n",
    "    except Exception as e:\n",
    "        logging_utilities.log_traceback(e, logger)\n",
    "        raise\n",
    "\n",
    "@input_schema('data', PandasParameterType(input_sample))\n",
    "@output_schema(NumpyParameterType(output_sample))\n",
    "def run(data):\n",
    "    try:\n",
    "        result = model.predict(data)\n",
    "        return json.dumps({\"result\": result.tolist()})\n",
    "    except Exception as e:\n",
    "        result = str(e)\n",
    "        return json.dumps({\"error\": result})"
   ]
  },
  {
   "cell_type": "code",
   "execution_count": 33,
   "metadata": {},
   "outputs": [
    {
     "name": "stdout",
     "output_type": "stream",
     "text": [
      "Overwriting score_025_no_exp.py\n"
     ]
    }
   ],
   "source": [
    "%%writefile score_025_no_exp.py\n",
    "import joblib\n",
    "import pandas as pd\n",
    "from azureml.core.model import Model\n",
    "\n",
    "def init():\n",
    "    global automl_model\n",
    "    automl_model_path = Model.get_model_path('automl_model')\n",
    "    automl_model = joblib.load(automl_model_path)\n",
    "\n",
    "def run(raw_data):\n",
    "    data = pd.read_json(raw_data, orient='records') \n",
    "    predictions = automl_model.predict(data)\n",
    "    foresights = predictions\n",
    "    return {'predictions': predictions.tolist()}"
   ]
  },
  {
   "cell_type": "code",
   "execution_count": 34,
   "metadata": {
    "gather": {
     "logged": 1613315480173
    }
   },
   "outputs": [],
   "source": [
    "inf_config = InferenceConfig(entry_script='score_025_no_exp.py', environment=myenv)"
   ]
  },
  {
   "cell_type": "markdown",
   "metadata": {
    "nteract": {
     "transient": {
      "deleting": false
     }
    }
   },
   "source": [
    "#### Deploy web service to ACI (Staging)"
   ]
  },
  {
   "cell_type": "code",
   "execution_count": 35,
   "metadata": {
    "gather": {
     "logged": 1613315498250
    },
    "jupyter": {
     "outputs_hidden": false,
     "source_hidden": false
    },
    "nteract": {
     "transient": {
      "deleting": false
     }
    }
   },
   "outputs": [],
   "source": [
    "aciconfig = AciWebservice.deploy_configuration(cpu_cores = 1, \n",
    "                                               memory_gb = 1, \n",
    "                                               tags = {'area': \"digits\", 'type': \"ids_automl_1st\"}, \n",
    "                                               description = 'service for Automl IDS Classification')\n"
   ]
  },
  {
   "cell_type": "code",
   "execution_count": 36,
   "metadata": {
    "gather": {
     "logged": 1613315769958
    },
    "jupyter": {
     "outputs_hidden": false,
     "source_hidden": false
    },
    "nteract": {
     "transient": {
      "deleting": false
     }
    }
   },
   "outputs": [
    {
     "name": "stdout",
     "output_type": "stream",
     "text": [
      "score025ids2017inf\n",
      "Healthy\n",
      "CPU times: user 47.4 ms, sys: 0 ns, total: 47.4 ms\n",
      "Wall time: 563 ms\n"
     ]
    }
   ],
   "source": [
    "%%time\n",
    "aci_service_name = 'score025ids2017inf'\n",
    "print(aci_service_name)\n",
    "# aci_service = Model.deploy(ws, aci_service_name, [original_model], inf_config, aciconfig) # , overwrite=True\n",
    "aci_service= AciWebservice(ws, \"score025ids2017inf\")\n",
    "# aci_service.wait_for_deployment(True)\n",
    "print(aci_service.state)"
   ]
  },
  {
   "cell_type": "code",
   "execution_count": 37,
   "metadata": {
    "gather": {
     "logged": 1613316225286
    },
    "jupyter": {
     "outputs_hidden": false,
     "source_hidden": false
    },
    "nteract": {
     "transient": {
      "deleting": false
     }
    }
   },
   "outputs": [
    {
     "data": {
      "text/plain": [
       "'2021-02-14T21:24:39,188563500+00:00 - gunicorn/run \\n2021-02-14T21:24:39,200194000+00:00 - rsyslog/run \\n2021-02-14T21:24:39,201888300+00:00 - nginx/run \\n/usr/sbin/nginx: /azureml-envs/azureml_7785023fceb74e4facc1b1a577b1faf9/lib/libcrypto.so.1.0.0: no version information available (required by /usr/sbin/nginx)\\n/usr/sbin/nginx: /azureml-envs/azureml_7785023fceb74e4facc1b1a577b1faf9/lib/libcrypto.so.1.0.0: no version information available (required by /usr/sbin/nginx)\\n/usr/sbin/nginx: /azureml-envs/azureml_7785023fceb74e4facc1b1a577b1faf9/lib/libssl.so.1.0.0: no version information available (required by /usr/sbin/nginx)\\n/usr/sbin/nginx: /azureml-envs/azureml_7785023fceb74e4facc1b1a577b1faf9/lib/libssl.so.1.0.0: no version information available (required by /usr/sbin/nginx)\\n/usr/sbin/nginx: /azureml-envs/azureml_7785023fceb74e4facc1b1a577b1faf9/lib/libssl.so.1.0.0: no version information available (required by /usr/sbin/nginx)\\n2021-02-14T21:24:39,224147300+00:00 - iot-server/run \\nrsyslogd: /azureml-envs/azureml_7785023fceb74e4facc1b1a577b1faf9/lib/libuuid.so.1: no version information available (required by rsyslogd)\\nEdgeHubConnectionString and IOTEDGE_IOTHUBHOSTNAME are not set. Exiting...\\n2021-02-14T21:24:40,431498300+00:00 - iot-server/finish 1 0\\n2021-02-14T21:24:40,435786900+00:00 - Exit code 1 is normal. Not restarting iot-server.\\nStarting gunicorn 19.9.0\\nListening at: http://127.0.0.1:31311 (67)\\nUsing worker: sync\\nworker timeout is set to 300\\nBooting worker with pid: 96\\nSPARK_HOME not set. Skipping PySpark Initialization.\\nGenerating new fontManager, this may take some time...\\nInitializing logger\\n2021-02-14 21:24:48,741 | root | INFO | Starting up app insights client\\n2021-02-14 21:24:48,742 | root | INFO | Starting up request id generator\\n2021-02-14 21:24:48,742 | root | INFO | Starting up app insight hooks\\n2021-02-14 21:24:48,742 | root | INFO | Invoking user\\'s init function\\n2021-02-14 21:24:52,481 | root | INFO | Users\\'s init has completed successfully\\n2021-02-14 21:24:52,488 | root | INFO | Skipping middleware: dbg_model_info as it\\'s not enabled.\\n2021-02-14 21:24:52,488 | root | INFO | Skipping middleware: dbg_resource_usage as it\\'s not enabled.\\n2021-02-14 21:24:52,489 | root | INFO | Scoring timeout is found from os.environ: 60000 ms\\n127.0.0.1 - - [14/Feb/2021:21:33:09 +0000] \"GET /login HTTP/1.0\" 404 232 \"-\" \"Go-http-client/1.1\"\\n127.0.0.1 - - [14/Feb/2021:21:33:10 +0000] \"GET /jenkins/login HTTP/1.0\" 404 232 \"-\" \"Go-http-client/1.1\"\\n127.0.0.1 - 8hYTSUFk [14/Feb/2021:21:33:11 +0000] \"GET /manager/html HTTP/1.0\" 404 232 \"-\" \"Go-http-client/1.1\"\\n127.0.0.1 - - [14/Feb/2021:21:33:15 +0000] \"GET /wp-login.php HTTP/1.0\" 404 232 \"-\" \"Mozilla/5.0 (Macintosh; Intel Mac OS X 10.14; rv:78.0) Gecko/20100101 Firefox/78.0\"\\n127.0.0.1 - - [14/Feb/2021:21:43:50 +0000] \"GET /.env HTTP/1.0\" 404 232 \"-\" \"Mozilla/5.0 (X11; Linux x86_64) AppleWebKit/537.36 (KHTML, like Gecko) Chrome/81.0.4044.129 Safari/537.36\"\\n127.0.0.1 - - [14/Feb/2021:21:43:50 +0000] \"POST / HTTP/1.0\" 405 178 \"-\" \"Mozilla/5.0 (X11; Linux x86_64) AppleWebKit/537.36 (KHTML, like Gecko) Chrome/81.0.4044.129 Safari/537.36\"\\n2021-02-14 21:44:51,195 | root | INFO | Swagger file not present\\n2021-02-14 21:44:51,195 | root | INFO | 404\\n127.0.0.1 - - [14/Feb/2021:21:44:51 +0000] \"GET /swagger.json HTTP/1.0\" 404 19 \"-\" \"Go-http-client/1.1\"\\n2021-02-14 21:45:18,091 | root | INFO | Swagger file not present\\n2021-02-14 21:45:18,092 | root | INFO | 404\\n127.0.0.1 - - [14/Feb/2021:21:45:18 +0000] \"GET /swagger.json HTTP/1.0\" 404 19 \"-\" \"Go-http-client/1.1\"\\n2021-02-14 21:47:51,835 | root | INFO | Validation Request Content-Type\\n2021-02-14 21:47:51,836 | root | INFO | Scoring Timer is set to 60.0 seconds\\n2021-02-14 21:47:52,059 | root | INFO | 200\\n127.0.0.1 - - [14/Feb/2021:21:47:52 +0000] \"POST /score HTTP/1.0\" 200 23 \"-\" \"python-requests/2.25.1\"\\n2021-02-14 21:47:59,810 | root | INFO | Swagger file not present\\n2021-02-14 21:47:59,810 | root | INFO | 404\\n127.0.0.1 - - [14/Feb/2021:21:47:59 +0000] \"GET /swagger.json HTTP/1.0\" 404 19 \"-\" \"Go-http-client/1.1\"\\n2021-02-14 22:10:22,686 | root | INFO | Validation Request Content-Type\\n2021-02-14 22:10:22,690 | root | INFO | Scoring Timer is set to 60.0 seconds\\n2021-02-14 22:10:22,893 | root | INFO | 200\\n127.0.0.1 - - [14/Feb/2021:22:10:22 +0000] \"POST /score HTTP/1.0\" 200 23 \"-\" \"python-requests/2.25.1\"\\n2021-02-14 22:10:22,921 | root | INFO | Validation Request Content-Type\\n2021-02-14 22:10:22,922 | root | INFO | Scoring Timer is set to 60.0 seconds\\n2021-02-14 22:10:23,146 | root | INFO | 200\\n127.0.0.1 - - [14/Feb/2021:22:10:23 +0000] \"POST /score HTTP/1.0\" 200 23 \"-\" \"python-requests/2.25.1\"\\n2021-02-14 22:11:01,825 | root | INFO | Swagger file not present\\n2021-02-14 22:11:01,825 | root | INFO | 404\\n127.0.0.1 - - [14/Feb/2021:22:11:01 +0000] \"GET /swagger.json HTTP/1.0\" 404 19 \"-\" \"Go-http-client/1.1\"\\n2021-02-14 22:11:24,779 | root | INFO | Swagger file not present\\n2021-02-14 22:11:24,779 | root | INFO | 404\\n127.0.0.1 - - [14/Feb/2021:22:11:24 +0000] \"GET /swagger.json HTTP/1.0\" 404 19 \"-\" \"Go-http-client/1.1\"\\n127.0.0.1 - - [14/Feb/2021:22:53:17 +0000] \"GET /config/getuser?index=0 HTTP/1.0\" 404 232 \"-\" \"Mozilla/5.0 (X11; Ubuntu; Linux x86_64; rv:76.0) Gecko/20100101 Firefox/76.0\"\\n2021-02-15 04:16:07,051 | root | INFO | Swagger file not present\\n2021-02-15 04:16:07,051 | root | INFO | 404\\n127.0.0.1 - - [15/Feb/2021:04:16:07 +0000] \"GET /swagger.json HTTP/1.0\" 404 19 \"-\" \"Go-http-client/1.1\"\\n127.0.0.1 - - [15/Feb/2021:04:34:16 +0000] \"GET /phpmyadmin/index.php?lang=en HTTP/1.0\" 404 232 \"-\" \"Mozilla/5.0 (Windows NT 10.0; Win64; x64) AppleWebKit/537.36 (KHTML, like Gecko) Chrome/77.0.3865.120 Safari/537.36\"\\n127.0.0.1 - - [15/Feb/2021:04:34:16 +0000] \"GET /phpMyadmin/index.php?lang=en HTTP/1.0\" 404 232 \"-\" \"Mozilla/5.0 (Windows NT 10.0; Win64; x64) AppleWebKit/537.36 (KHTML, like Gecko) Chrome/77.0.3865.120 Safari/537.36\"\\n127.0.0.1 - - [15/Feb/2021:04:34:16 +0000] \"GET /phpMyAdmin/index.php?lang=en HTTP/1.0\" 404 232 \"-\" \"Mozilla/5.0 (Windows NT 10.0; Win64; x64) AppleWebKit/537.36 (KHTML, like Gecko) Chrome/77.0.3865.120 Safari/537.36\"\\n127.0.0.1 - - [15/Feb/2021:04:34:16 +0000] \"GET /phpmyAdmin/index.php?lang=en HTTP/1.0\" 404 232 \"-\" \"Mozilla/5.0 (Windows NT 10.0; Win64; x64) AppleWebKit/537.36 (KHTML, like Gecko) Chrome/77.0.3865.120 Safari/537.36\"\\n127.0.0.1 - - [15/Feb/2021:04:34:16 +0000] \"GET /mysql/index.php?lang=en HTTP/1.0\" 404 232 \"-\" \"Mozilla/5.0 (Windows NT 10.0; Win64; x64) AppleWebKit/537.36 (KHTML, like Gecko) Chrome/77.0.3865.120 Safari/537.36\"\\n127.0.0.1 - - [15/Feb/2021:04:34:16 +0000] \"GET /database/index.php?lang=en HTTP/1.0\" 404 232 \"-\" \"Mozilla/5.0 (Windows NT 10.0; Win64; x64) AppleWebKit/537.36 (KHTML, like Gecko) Chrome/77.0.3865.120 Safari/537.36\"\\n127.0.0.1 - - [15/Feb/2021:04:34:16 +0000] \"GET /phpmyadmin1/index.php?lang=en HTTP/1.0\" 404 232 \"-\" \"Mozilla/5.0 (Windows NT 10.0; Win64; x64) AppleWebKit/537.36 (KHTML, like Gecko) Chrome/77.0.3865.120 Safari/537.36\"\\n127.0.0.1 - - [15/Feb/2021:04:34:16 +0000] \"GET /phpmyadmin2/index.php?lang=en HTTP/1.0\" 404 232 \"-\" \"Mozilla/5.0 (Windows NT 10.0; Win64; x64) AppleWebKit/537.36 (KHTML, like Gecko) Chrome/77.0.3865.120 Safari/537.36\"\\n127.0.0.1 - - [15/Feb/2021:04:34:16 +0000] \"GET /phpmyadmin3/index.php?lang=en HTTP/1.0\" 404 232 \"-\" \"Mozilla/5.0 (Windows NT 10.0; Win64; x64) AppleWebKit/537.36 (KHTML, like Gecko) Chrome/77.0.3865.120 Safari/537.36\"\\n127.0.0.1 - - [15/Feb/2021:04:34:17 +0000] \"GET /phpmyadmin4/index.php?lang=en HTTP/1.0\" 404 232 \"-\" \"Mozilla/5.0 (Windows NT 10.0; Win64; x64) AppleWebKit/537.36 (KHTML, like Gecko) Chrome/77.0.3865.120 Safari/537.36\"\\n127.0.0.1 - - [15/Feb/2021:04:34:17 +0000] \"GET /phpmyadmin5/index.php?lang=en HTTP/1.0\" 404 232 \"-\" \"Mozilla/5.0 (Windows NT 10.0; Win64; x64) AppleWebKit/537.36 (KHTML, like Gecko) Chrome/77.0.3865.120 Safari/537.36\"\\n127.0.0.1 - - [15/Feb/2021:04:34:17 +0000] \"GET /phpMyAdmin1/index.php?lang=en HTTP/1.0\" 404 232 \"-\" \"Mozilla/5.0 (Windows NT 10.0; Win64; x64) AppleWebKit/537.36 (KHTML, like Gecko) Chrome/77.0.3865.120 Safari/537.36\"\\n127.0.0.1 - - [15/Feb/2021:04:34:17 +0000] \"GET /phpMyAdmin2/index.php?lang=en HTTP/1.0\" 404 232 \"-\" \"Mozilla/5.0 (Windows NT 10.0; Win64; x64) AppleWebKit/537.36 (KHTML, like Gecko) Chrome/77.0.3865.120 Safari/537.36\"\\n127.0.0.1 - - [15/Feb/2021:04:34:17 +0000] \"GET /phpMyAdmin3/index.php?lang=en HTTP/1.0\" 404 232 \"-\" \"Mozilla/5.0 (Windows NT 10.0; Win64; x64) AppleWebKit/537.36 (KHTML, like Gecko) Chrome/77.0.3865.120 Safari/537.36\"\\n127.0.0.1 - - [15/Feb/2021:04:34:17 +0000] \"GET /phpMyAdmin4/index.php?lang=en HTTP/1.0\" 404 232 \"-\" \"Mozilla/5.0 (Windows NT 10.0; Win64; x64) AppleWebKit/537.36 (KHTML, like Gecko) Chrome/77.0.3865.120 Safari/537.36\"\\n127.0.0.1 - - [15/Feb/2021:04:34:17 +0000] \"GET /phpMyAdmin5/index.php?lang=en HTTP/1.0\" 404 232 \"-\" \"Mozilla/5.0 (Windows NT 10.0; Win64; x64) AppleWebKit/537.36 (KHTML, like Gecko) Chrome/77.0.3865.120 Safari/537.36\"\\n127.0.0.1 - - [15/Feb/2021:04:34:17 +0000] \"GET /mysql/admin/index.php?lang=en HTTP/1.0\" 404 232 \"-\" \"Mozilla/5.0 (Windows NT 10.0; Win64; x64) AppleWebKit/537.36 (KHTML, like Gecko) Chrome/77.0.3865.120 Safari/537.36\"\\n127.0.0.1 - - [15/Feb/2021:04:34:17 +0000] \"GET /mysql/dbadmin/index.php?lang=en HTTP/1.0\" 404 232 \"-\" \"Mozilla/5.0 (Windows NT 10.0; Win64; x64) AppleWebKit/537.36 (KHTML, like Gecko) Chrome/77.0.3865.120 Safari/537.36\"\\n127.0.0.1 - - [15/Feb/2021:04:34:18 +0000] \"GET /mysql/sqlmanager/index.php?lang=en HTTP/1.0\" 404 232 \"-\" \"Mozilla/5.0 (Windows NT 10.0; Win64; x64) AppleWebKit/537.36 (KHTML, like Gecko) Chrome/77.0.3865.120 Safari/537.36\"\\n127.0.0.1 - - [15/Feb/2021:04:34:18 +0000] \"GET /mysql/mysqlmanager/index.php?lang=en HTTP/1.0\" 404 232 \"-\" \"Mozilla/5.0 (Windows NT 10.0; Win64; x64) AppleWebKit/537.36 (KHTML, like Gecko) Chrome/77.0.3865.120 Safari/537.36\"\\n127.0.0.1 - - [15/Feb/2021:04:34:18 +0000] \"GET /2phpmyadmin/index.php?lang=en HTTP/1.0\" 404 232 \"-\" \"Mozilla/5.0 (Windows NT 10.0; Win64; x64) AppleWebKit/537.36 (KHTML, like Gecko) Chrome/77.0.3865.120 Safari/537.36\"\\n127.0.0.1 - - [15/Feb/2021:04:34:18 +0000] \"GET /wp-content/plugins/portable-phpmyadmin/wp-pma-mod/index.php?lang=en HTTP/1.0\" 404 232 \"-\" \"Mozilla/5.0 (Windows NT 10.0; Win64; x64) AppleWebKit/537.36 (KHTML, like Gecko) Chrome/77.0.3865.120 Safari/537.36\"\\n127.0.0.1 - - [15/Feb/2021:04:34:18 +0000] \"GET /phpmy/index.php?lang=en HTTP/1.0\" 404 232 \"-\" \"Mozilla/5.0 (Windows NT 10.0; Win64; x64) AppleWebKit/537.36 (KHTML, like Gecko) Chrome/77.0.3865.120 Safari/537.36\"\\n127.0.0.1 - - [15/Feb/2021:04:34:18 +0000] \"GET /phppma/index.php?lang=en HTTP/1.0\" 404 232 \"-\" \"Mozilla/5.0 (Windows NT 10.0; Win64; x64) AppleWebKit/537.36 (KHTML, like Gecko) Chrome/77.0.3865.120 Safari/537.36\"\\n127.0.0.1 - - [15/Feb/2021:04:34:18 +0000] \"GET /myadmin/index.php?lang=en HTTP/1.0\" 404 232 \"-\" \"Mozilla/5.0 (Windows NT 10.0; Win64; x64) AppleWebKit/537.36 (KHTML, like Gecko) Chrome/77.0.3865.120 Safari/537.36\"\\n127.0.0.1 - - [15/Feb/2021:04:34:18 +0000] \"GET /shopdb/index.php?lang=en HTTP/1.0\" 404 232 \"-\" \"Mozilla/5.0 (Windows NT 10.0; Win64; x64) AppleWebKit/537.36 (KHTML, like Gecko) Chrome/77.0.3865.120 Safari/537.36\"\\n127.0.0.1 - - [15/Feb/2021:04:34:18 +0000] \"GET /MyAdmin/index.php?lang=en HTTP/1.0\" 404 232 \"-\" \"Mozilla/5.0 (Windows NT 10.0; Win64; x64) AppleWebKit/537.36 (KHTML, like Gecko) Chrome/77.0.3865.120 Safari/537.36\"\\n127.0.0.1 - - [15/Feb/2021:04:34:19 +0000] \"GET /program/index.php?lang=en HTTP/1.0\" 404 232 \"-\" \"Mozilla/5.0 (Windows NT 10.0; Win64; x64) AppleWebKit/537.36 (KHTML, like Gecko) Chrome/77.0.3865.120 Safari/537.36\"\\n127.0.0.1 - - [15/Feb/2021:04:34:19 +0000] \"GET /PMA/index.php?lang=en HTTP/1.0\" 404 232 \"-\" \"Mozilla/5.0 (Windows NT 10.0; Win64; x64) AppleWebKit/537.36 (KHTML, like Gecko) Chrome/77.0.3865.120 Safari/537.36\"\\n127.0.0.1 - - [15/Feb/2021:04:34:19 +0000] \"GET /dbadmin/index.php?lang=en HTTP/1.0\" 404 232 \"-\" \"Mozilla/5.0 (Windows NT 10.0; Win64; x64) AppleWebKit/537.36 (KHTML, like Gecko) Chrome/77.0.3865.120 Safari/537.36\"\\n127.0.0.1 - - [15/Feb/2021:04:34:19 +0000] \"GET /pma/index.php?lang=en HTTP/1.0\" 404 232 \"-\" \"Mozilla/5.0 (Windows NT 10.0; Win64; x64) AppleWebKit/537.36 (KHTML, like Gecko) Chrome/77.0.3865.120 Safari/537.36\"\\n127.0.0.1 - - [15/Feb/2021:04:34:19 +0000] \"GET /db/index.php?lang=en HTTP/1.0\" 404 232 \"-\" \"Mozilla/5.0 (Windows NT 10.0; Win64; x64) AppleWebKit/537.36 (KHTML, like Gecko) Chrome/77.0.3865.120 Safari/537.36\"\\n127.0.0.1 - - [15/Feb/2021:04:34:19 +0000] \"GET /admin/index.php?lang=en HTTP/1.0\" 404 232 \"-\" \"Mozilla/5.0 (Windows NT 10.0; Win64; x64) AppleWebKit/537.36 (KHTML, like Gecko) Chrome/77.0.3865.120 Safari/537.36\"\\n127.0.0.1 - - [15/Feb/2021:04:34:19 +0000] \"GET /db/phpmyadmin/index.php?lang=en HTTP/1.0\" 404 232 \"-\" \"Mozilla/5.0 (Windows NT 10.0; Win64; x64) AppleWebKit/537.36 (KHTML, like Gecko) Chrome/77.0.3865.120 Safari/537.36\"\\n127.0.0.1 - - [15/Feb/2021:04:34:19 +0000] \"GET /db/phpMyAdmin/index.php?lang=en HTTP/1.0\" 404 232 \"-\" \"Mozilla/5.0 (Windows NT 10.0; Win64; x64) AppleWebKit/537.36 (KHTML, like Gecko) Chrome/77.0.3865.120 Safari/537.36\"\\n127.0.0.1 - - [15/Feb/2021:04:34:20 +0000] \"GET /sqlmanager/index.php?lang=en HTTP/1.0\" 404 232 \"-\" \"Mozilla/5.0 (Windows NT 10.0; Win64; x64) AppleWebKit/537.36 (KHTML, like Gecko) Chrome/77.0.3865.120 Safari/537.36\"\\n127.0.0.1 - - [15/Feb/2021:04:34:20 +0000] \"GET /mysqlmanager/index.php?lang=en HTTP/1.0\" 404 232 \"-\" \"Mozilla/5.0 (Windows NT 10.0; Win64; x64) AppleWebKit/537.36 (KHTML, like Gecko) Chrome/77.0.3865.120 Safari/537.36\"\\n127.0.0.1 - - [15/Feb/2021:04:34:20 +0000] \"GET /php-myadmin/index.php?lang=en HTTP/1.0\" 404 232 \"-\" \"Mozilla/5.0 (Windows NT 10.0; Win64; x64) AppleWebKit/537.36 (KHTML, like Gecko) Chrome/77.0.3865.120 Safari/537.36\"\\n127.0.0.1 - - [15/Feb/2021:04:34:20 +0000] \"GET /phpmy-admin/index.php?lang=en HTTP/1.0\" 404 232 \"-\" \"Mozilla/5.0 (Windows NT 10.0; Win64; x64) AppleWebKit/537.36 (KHTML, like Gecko) Chrome/77.0.3865.120 Safari/537.36\"\\n127.0.0.1 - - [15/Feb/2021:04:34:20 +0000] \"GET /mysqladmin/index.php?lang=en HTTP/1.0\" 404 232 \"-\" \"Mozilla/5.0 (Windows NT 10.0; Win64; x64) AppleWebKit/537.36 (KHTML, like Gecko) Chrome/77.0.3865.120 Safari/537.36\"\\n127.0.0.1 - - [15/Feb/2021:04:34:20 +0000] \"GET /mysql-admin/index.php?lang=en HTTP/1.0\" 404 232 \"-\" \"Mozilla/5.0 (Windows NT 10.0; Win64; x64) AppleWebKit/537.36 (KHTML, like Gecko) Chrome/77.0.3865.120 Safari/537.36\"\\n127.0.0.1 - - [15/Feb/2021:04:34:20 +0000] \"GET /admin/phpmyadmin/index.php?lang=en HTTP/1.0\" 404 232 \"-\" \"Mozilla/5.0 (Windows NT 10.0; Win64; x64) AppleWebKit/537.36 (KHTML, like Gecko) Chrome/77.0.3865.120 Safari/537.36\"\\n127.0.0.1 - - [15/Feb/2021:04:34:20 +0000] \"GET /admin/phpMyAdmin/index.php?lang=en HTTP/1.0\" 404 232 \"-\" \"Mozilla/5.0 (Windows NT 10.0; Win64; x64) AppleWebKit/537.36 (KHTML, like Gecko) Chrome/77.0.3865.120 Safari/537.36\"\\n127.0.0.1 - - [15/Feb/2021:04:34:21 +0000] \"GET /admin/sysadmin/index.php?lang=en HTTP/1.0\" 404 232 \"-\" \"Mozilla/5.0 (Windows NT 10.0; Win64; x64) AppleWebKit/537.36 (KHTML, like Gecko) Chrome/77.0.3865.120 Safari/537.36\"\\n127.0.0.1 - - [15/Feb/2021:04:34:21 +0000] \"GET /admin/sqladmin/index.php?lang=en HTTP/1.0\" 404 232 \"-\" \"Mozilla/5.0 (Windows NT 10.0; Win64; x64) AppleWebKit/537.36 (KHTML, like Gecko) Chrome/77.0.3865.120 Safari/537.36\"\\n127.0.0.1 - - [15/Feb/2021:04:34:21 +0000] \"GET /admin/db/index.php?lang=en HTTP/1.0\" 404 232 \"-\" \"Mozilla/5.0 (Windows NT 10.0; Win64; x64) AppleWebKit/537.36 (KHTML, like Gecko) Chrome/77.0.3865.120 Safari/537.36\"\\n127.0.0.1 - - [15/Feb/2021:04:34:21 +0000] \"GET /admin/web/index.php?lang=en HTTP/1.0\" 404 232 \"-\" \"Mozilla/5.0 (Windows NT 10.0; Win64; x64) AppleWebKit/537.36 (KHTML, like Gecko) Chrome/77.0.3865.120 Safari/537.36\"\\n127.0.0.1 - - [15/Feb/2021:04:34:21 +0000] \"GET /admin/pMA/index.php?lang=en HTTP/1.0\" 404 232 \"-\" \"Mozilla/5.0 (Windows NT 10.0; Win64; x64) AppleWebKit/537.36 (KHTML, like Gecko) Chrome/77.0.3865.120 Safari/537.36\"\\n127.0.0.1 - - [15/Feb/2021:04:34:21 +0000] \"GET /mysql/pma/index.php?lang=en HTTP/1.0\" 404 232 \"-\" \"Mozilla/5.0 (Windows NT 10.0; Win64; x64) AppleWebKit/537.36 (KHTML, like Gecko) Chrome/77.0.3865.120 Safari/537.36\"\\n127.0.0.1 - - [15/Feb/2021:04:34:21 +0000] \"GET /mysql/db/index.php?lang=en HTTP/1.0\" 404 232 \"-\" \"Mozilla/5.0 (Windows NT 10.0; Win64; x64) AppleWebKit/537.36 (KHTML, like Gecko) Chrome/77.0.3865.120 Safari/537.36\"\\n127.0.0.1 - - [15/Feb/2021:04:34:21 +0000] \"GET /mysql/web/index.php?lang=en HTTP/1.0\" 404 232 \"-\" \"Mozilla/5.0 (Windows NT 10.0; Win64; x64) AppleWebKit/537.36 (KHTML, like Gecko) Chrome/77.0.3865.120 Safari/537.36\"\\n127.0.0.1 - - [15/Feb/2021:04:34:22 +0000] \"GET /mysql/pMA/index.php?lang=en HTTP/1.0\" 404 232 \"-\" \"Mozilla/5.0 (Windows NT 10.0; Win64; x64) AppleWebKit/537.36 (KHTML, like Gecko) Chrome/77.0.3865.120 Safari/537.36\"\\n127.0.0.1 - - [15/Feb/2021:04:34:22 +0000] \"GET /sql/phpmanager/index.php?lang=en HTTP/1.0\" 404 232 \"-\" \"Mozilla/5.0 (Windows NT 10.0; Win64; x64) AppleWebKit/537.36 (KHTML, like Gecko) Chrome/77.0.3865.120 Safari/537.36\"\\n127.0.0.1 - - [15/Feb/2021:04:34:22 +0000] \"GET /sql/php-myadmin/index.php?lang=en HTTP/1.0\" 404 232 \"-\" \"Mozilla/5.0 (Windows NT 10.0; Win64; x64) AppleWebKit/537.36 (KHTML, like Gecko) Chrome/77.0.3865.120 Safari/537.36\"\\n127.0.0.1 - - [15/Feb/2021:04:34:22 +0000] \"GET /sql/phpmy-admin/index.php?lang=en HTTP/1.0\" 404 232 \"-\" \"Mozilla/5.0 (Windows NT 10.0; Win64; x64) AppleWebKit/537.36 (KHTML, like Gecko) Chrome/77.0.3865.120 Safari/537.36\"\\n127.0.0.1 - - [15/Feb/2021:04:34:22 +0000] \"GET /sql/sql/index.php?lang=en HTTP/1.0\" 404 232 \"-\" \"Mozilla/5.0 (Windows NT 10.0; Win64; x64) AppleWebKit/537.36 (KHTML, like Gecko) Chrome/77.0.3865.120 Safari/537.36\"\\n127.0.0.1 - - [15/Feb/2021:04:34:22 +0000] \"GET /sql/myadmin/index.php?lang=en HTTP/1.0\" 404 232 \"-\" \"Mozilla/5.0 (Windows NT 10.0; Win64; x64) AppleWebKit/537.36 (KHTML, like Gecko) Chrome/77.0.3865.120 Safari/537.36\"\\n127.0.0.1 - - [15/Feb/2021:04:34:22 +0000] \"GET /sql/webadmin/index.php?lang=en HTTP/1.0\" 404 232 \"-\" \"Mozilla/5.0 (Windows NT 10.0; Win64; x64) AppleWebKit/537.36 (KHTML, like Gecko) Chrome/77.0.3865.120 Safari/537.36\"\\n127.0.0.1 - - [15/Feb/2021:04:34:22 +0000] \"GET /sql/sqlweb/index.php?lang=en HTTP/1.0\" 404 232 \"-\" \"Mozilla/5.0 (Windows NT 10.0; Win64; x64) AppleWebKit/537.36 (KHTML, like Gecko) Chrome/77.0.3865.120 Safari/537.36\"\\n127.0.0.1 - - [15/Feb/2021:04:34:22 +0000] \"GET /sql/websql/index.php?lang=en HTTP/1.0\" 404 232 \"-\" \"Mozilla/5.0 (Windows NT 10.0; Win64; x64) AppleWebKit/537.36 (KHTML, like Gecko) Chrome/77.0.3865.120 Safari/537.36\"\\n127.0.0.1 - - [15/Feb/2021:04:34:23 +0000] \"GET /sql/webdb/index.php?lang=en HTTP/1.0\" 404 232 \"-\" \"Mozilla/5.0 (Windows NT 10.0; Win64; x64) AppleWebKit/537.36 (KHTML, like Gecko) Chrome/77.0.3865.120 Safari/537.36\"\\n127.0.0.1 - - [15/Feb/2021:04:34:23 +0000] \"GET /sql/sqladmin/index.php?lang=en HTTP/1.0\" 404 232 \"-\" \"Mozilla/5.0 (Windows NT 10.0; Win64; x64) AppleWebKit/537.36 (KHTML, like Gecko) Chrome/77.0.3865.120 Safari/537.36\"\\n127.0.0.1 - - [15/Feb/2021:04:34:23 +0000] \"GET /sql/sql-admin/index.php?lang=en HTTP/1.0\" 404 232 \"-\" \"Mozilla/5.0 (Windows NT 10.0; Win64; x64) AppleWebKit/537.36 (KHTML, like Gecko) Chrome/77.0.3865.120 Safari/537.36\"\\n127.0.0.1 - - [15/Feb/2021:04:34:23 +0000] \"GET /sql/phpmyadmin2/index.php?lang=en HTTP/1.0\" 404 232 \"-\" \"Mozilla/5.0 (Windows NT 10.0; Win64; x64) AppleWebKit/537.36 (KHTML, like Gecko) Chrome/77.0.3865.120 Safari/537.36\"\\n127.0.0.1 - - [15/Feb/2021:04:34:23 +0000] \"GET /sql/phpMyAdmin2/index.php?lang=en HTTP/1.0\" 404 232 \"-\" \"Mozilla/5.0 (Windows NT 10.0; Win64; x64) AppleWebKit/537.36 (KHTML, like Gecko) Chrome/77.0.3865.120 Safari/537.36\"\\n127.0.0.1 - - [15/Feb/2021:04:34:23 +0000] \"GET /sql/phpMyAdmin/index.php?lang=en HTTP/1.0\" 404 232 \"-\" \"Mozilla/5.0 (Windows NT 10.0; Win64; x64) AppleWebKit/537.36 (KHTML, like Gecko) Chrome/77.0.3865.120 Safari/537.36\"\\n127.0.0.1 - - [15/Feb/2021:04:34:23 +0000] \"GET /db/myadmin/index.php?lang=en HTTP/1.0\" 404 232 \"-\" \"Mozilla/5.0 (Windows NT 10.0; Win64; x64) AppleWebKit/537.36 (KHTML, like Gecko) Chrome/77.0.3865.120 Safari/537.36\"\\n127.0.0.1 - - [15/Feb/2021:04:34:23 +0000] \"GET /db/webadmin/index.php?lang=en HTTP/1.0\" 404 232 \"-\" \"Mozilla/5.0 (Windows NT 10.0; Win64; x64) AppleWebKit/537.36 (KHTML, like Gecko) Chrome/77.0.3865.120 Safari/537.36\"\\n127.0.0.1 - - [15/Feb/2021:04:34:23 +0000] \"GET /db/dbweb/index.php?lang=en HTTP/1.0\" 404 232 \"-\" \"Mozilla/5.0 (Windows NT 10.0; Win64; x64) AppleWebKit/537.36 (KHTML, like Gecko) Chrome/77.0.3865.120 Safari/537.36\"\\n127.0.0.1 - - [15/Feb/2021:04:34:24 +0000] \"GET /db/websql/index.php?lang=en HTTP/1.0\" 404 232 \"-\" \"Mozilla/5.0 (Windows NT 10.0; Win64; x64) AppleWebKit/537.36 (KHTML, like Gecko) Chrome/77.0.3865.120 Safari/537.36\"\\n127.0.0.1 - - [15/Feb/2021:04:34:24 +0000] \"GET /db/webdb/index.php?lang=en HTTP/1.0\" 404 232 \"-\" \"Mozilla/5.0 (Windows NT 10.0; Win64; x64) AppleWebKit/537.36 (KHTML, like Gecko) Chrome/77.0.3865.120 Safari/537.36\"\\n127.0.0.1 - - [15/Feb/2021:04:34:24 +0000] \"GET /db/dbadmin/index.php?lang=en HTTP/1.0\" 404 232 \"-\" \"Mozilla/5.0 (Windows NT 10.0; Win64; x64) AppleWebKit/537.36 (KHTML, like Gecko) Chrome/77.0.3865.120 Safari/537.36\"\\n127.0.0.1 - - [15/Feb/2021:04:34:24 +0000] \"GET /db/db-admin/index.php?lang=en HTTP/1.0\" 404 232 \"-\" \"Mozilla/5.0 (Windows NT 10.0; Win64; x64) AppleWebKit/537.36 (KHTML, like Gecko) Chrome/77.0.3865.120 Safari/537.36\"\\n127.0.0.1 - - [15/Feb/2021:04:34:24 +0000] \"GET /db/phpmyadmin3/index.php?lang=en HTTP/1.0\" 404 232 \"-\" \"Mozilla/5.0 (Windows NT 10.0; Win64; x64) AppleWebKit/537.36 (KHTML, like Gecko) Chrome/77.0.3865.120 Safari/537.36\"\\n127.0.0.1 - - [15/Feb/2021:04:34:24 +0000] \"GET /db/phpMyAdmin3/index.php?lang=en HTTP/1.0\" 404 232 \"-\" \"Mozilla/5.0 (Windows NT 10.0; Win64; x64) AppleWebKit/537.36 (KHTML, like Gecko) Chrome/77.0.3865.120 Safari/537.36\"\\n127.0.0.1 - - [15/Feb/2021:04:34:24 +0000] \"GET /db/phpMyAdmin-3/index.php?lang=en HTTP/1.0\" 404 232 \"-\" \"Mozilla/5.0 (Windows NT 10.0; Win64; x64) AppleWebKit/537.36 (KHTML, like Gecko) Chrome/77.0.3865.120 Safari/537.36\"\\n127.0.0.1 - - [15/Feb/2021:04:34:24 +0000] \"GET /administrator/phpmyadmin/index.php?lang=en HTTP/1.0\" 404 232 \"-\" \"Mozilla/5.0 (Windows NT 10.0; Win64; x64) AppleWebKit/537.36 (KHTML, like Gecko) Chrome/77.0.3865.120 Safari/537.36\"\\n127.0.0.1 - - [15/Feb/2021:04:34:24 +0000] \"GET /administrator/phpMyAdmin/index.php?lang=en HTTP/1.0\" 404 232 \"-\" \"Mozilla/5.0 (Windows NT 10.0; Win64; x64) AppleWebKit/537.36 (KHTML, like Gecko) Chrome/77.0.3865.120 Safari/537.36\"\\n127.0.0.1 - - [15/Feb/2021:04:34:25 +0000] \"GET /administrator/db/index.php?lang=en HTTP/1.0\" 404 232 \"-\" \"Mozilla/5.0 (Windows NT 10.0; Win64; x64) AppleWebKit/537.36 (KHTML, like Gecko) Chrome/77.0.3865.120 Safari/537.36\"\\n127.0.0.1 - - [15/Feb/2021:04:34:25 +0000] \"GET /administrator/web/index.php?lang=en HTTP/1.0\" 404 232 \"-\" \"Mozilla/5.0 (Windows NT 10.0; Win64; x64) AppleWebKit/537.36 (KHTML, like Gecko) Chrome/77.0.3865.120 Safari/537.36\"\\n127.0.0.1 - - [15/Feb/2021:04:34:25 +0000] \"GET /administrator/pma/index.php?lang=en HTTP/1.0\" 404 232 \"-\" \"Mozilla/5.0 (Windows NT 10.0; Win64; x64) AppleWebKit/537.36 (KHTML, like Gecko) Chrome/77.0.3865.120 Safari/537.36\"\\n127.0.0.1 - - [15/Feb/2021:04:34:25 +0000] \"GET /administrator/PMA/index.php?lang=en HTTP/1.0\" 404 232 \"-\" \"Mozilla/5.0 (Windows NT 10.0; Win64; x64) AppleWebKit/537.36 (KHTML, like Gecko) Chrome/77.0.3865.120 Safari/537.36\"\\n127.0.0.1 - - [15/Feb/2021:04:34:25 +0000] \"GET /administrator/admin/index.php?lang=en HTTP/1.0\" 404 232 \"-\" \"Mozilla/5.0 (Windows NT 10.0; Win64; x64) AppleWebKit/537.36 (KHTML, like Gecko) Chrome/77.0.3865.120 Safari/537.36\"\\n127.0.0.1 - - [15/Feb/2021:04:34:25 +0000] \"GET /phpMyAdmin2/index.php?lang=en HTTP/1.0\" 404 232 \"-\" \"Mozilla/5.0 (Windows NT 10.0; Win64; x64) AppleWebKit/537.36 (KHTML, like Gecko) Chrome/77.0.3865.120 Safari/537.36\"\\n127.0.0.1 - - [15/Feb/2021:04:34:25 +0000] \"GET /phpMyAdmin3/index.php?lang=en HTTP/1.0\" 404 232 \"-\" \"Mozilla/5.0 (Windows NT 10.0; Win64; x64) AppleWebKit/537.36 (KHTML, like Gecko) Chrome/77.0.3865.120 Safari/537.36\"\\n127.0.0.1 - - [15/Feb/2021:04:34:25 +0000] \"GET /phpMyAdmin4/index.php?lang=en HTTP/1.0\" 404 232 \"-\" \"Mozilla/5.0 (Windows NT 10.0; Win64; x64) AppleWebKit/537.36 (KHTML, like Gecko) Chrome/77.0.3865.120 Safari/537.36\"\\n127.0.0.1 - - [15/Feb/2021:04:34:25 +0000] \"GET /phpMyAdmin-3/index.php?lang=en HTTP/1.0\" 404 232 \"-\" \"Mozilla/5.0 (Windows NT 10.0; Win64; x64) AppleWebKit/537.36 (KHTML, like Gecko) Chrome/77.0.3865.120 Safari/537.36\"\\n127.0.0.1 - - [15/Feb/2021:04:34:26 +0000] \"GET /php-my-admin/index.php?lang=en HTTP/1.0\" 404 232 \"-\" \"Mozilla/5.0 (Windows NT 10.0; Win64; x64) AppleWebKit/537.36 (KHTML, like Gecko) Chrome/77.0.3865.120 Safari/537.36\"\\n127.0.0.1 - - [15/Feb/2021:04:34:26 +0000] \"GET /PMA2011/index.php?lang=en HTTP/1.0\" 404 232 \"-\" \"Mozilla/5.0 (Windows NT 10.0; Win64; x64) AppleWebKit/537.36 (KHTML, like Gecko) Chrome/77.0.3865.120 Safari/537.36\"\\n127.0.0.1 - - [15/Feb/2021:04:34:26 +0000] \"GET /PMA2012/index.php?lang=en HTTP/1.0\" 404 232 \"-\" \"Mozilla/5.0 (Windows NT 10.0; Win64; x64) AppleWebKit/537.36 (KHTML, like Gecko) Chrome/77.0.3865.120 Safari/537.36\"\\n127.0.0.1 - - [15/Feb/2021:04:34:26 +0000] \"GET /PMA2013/index.php?lang=en HTTP/1.0\" 404 232 \"-\" \"Mozilla/5.0 (Windows NT 10.0; Win64; x64) AppleWebKit/537.36 (KHTML, like Gecko) Chrome/77.0.3865.120 Safari/537.36\"\\n127.0.0.1 - - [15/Feb/2021:04:34:26 +0000] \"GET /PMA2014/index.php?lang=en HTTP/1.0\" 404 232 \"-\" \"Mozilla/5.0 (Windows NT 10.0; Win64; x64) AppleWebKit/537.36 (KHTML, like Gecko) Chrome/77.0.3865.120 Safari/537.36\"\\n127.0.0.1 - - [15/Feb/2021:04:34:26 +0000] \"GET /PMA2015/index.php?lang=en HTTP/1.0\" 404 232 \"-\" \"Mozilla/5.0 (Windows NT 10.0; Win64; x64) AppleWebKit/537.36 (KHTML, like Gecko) Chrome/77.0.3865.120 Safari/537.36\"\\n127.0.0.1 - - [15/Feb/2021:04:34:26 +0000] \"GET /PMA2016/index.php?lang=en HTTP/1.0\" 404 232 \"-\" \"Mozilla/5.0 (Windows NT 10.0; Win64; x64) AppleWebKit/537.36 (KHTML, like Gecko) Chrome/77.0.3865.120 Safari/537.36\"\\n127.0.0.1 - - [15/Feb/2021:04:34:26 +0000] \"GET /PMA2017/index.php?lang=en HTTP/1.0\" 404 232 \"-\" \"Mozilla/5.0 (Windows NT 10.0; Win64; x64) AppleWebKit/537.36 (KHTML, like Gecko) Chrome/77.0.3865.120 Safari/537.36\"\\n127.0.0.1 - - [15/Feb/2021:04:34:27 +0000] \"GET /PMA2018/index.php?lang=en HTTP/1.0\" 404 232 \"-\" \"Mozilla/5.0 (Windows NT 10.0; Win64; x64) AppleWebKit/537.36 (KHTML, like Gecko) Chrome/77.0.3865.120 Safari/537.36\"\\n127.0.0.1 - - [15/Feb/2021:04:34:27 +0000] \"GET /PMA2019/index.php?lang=en HTTP/1.0\" 404 232 \"-\" \"Mozilla/5.0 (Windows NT 10.0; Win64; x64) AppleWebKit/537.36 (KHTML, like Gecko) Chrome/77.0.3865.120 Safari/537.36\"\\n127.0.0.1 - - [15/Feb/2021:04:34:27 +0000] \"GET /PMA2020/index.php?lang=en HTTP/1.0\" 404 232 \"-\" \"Mozilla/5.0 (Windows NT 10.0; Win64; x64) AppleWebKit/537.36 (KHTML, like Gecko) Chrome/77.0.3865.120 Safari/537.36\"\\n127.0.0.1 - - [15/Feb/2021:04:34:27 +0000] \"GET /pma2011/index.php?lang=en HTTP/1.0\" 404 232 \"-\" \"Mozilla/5.0 (Windows NT 10.0; Win64; x64) AppleWebKit/537.36 (KHTML, like Gecko) Chrome/77.0.3865.120 Safari/537.36\"\\n127.0.0.1 - - [15/Feb/2021:04:34:27 +0000] \"GET /pma2012/index.php?lang=en HTTP/1.0\" 404 232 \"-\" \"Mozilla/5.0 (Windows NT 10.0; Win64; x64) AppleWebKit/537.36 (KHTML, like Gecko) Chrome/77.0.3865.120 Safari/537.36\"\\n127.0.0.1 - - [15/Feb/2021:04:34:27 +0000] \"GET /pma2013/index.php?lang=en HTTP/1.0\" 404 232 \"-\" \"Mozilla/5.0 (Windows NT 10.0; Win64; x64) AppleWebKit/537.36 (KHTML, like Gecko) Chrome/77.0.3865.120 Safari/537.36\"\\n127.0.0.1 - - [15/Feb/2021:04:34:27 +0000] \"GET /pma2014/index.php?lang=en HTTP/1.0\" 404 232 \"-\" \"Mozilla/5.0 (Windows NT 10.0; Win64; x64) AppleWebKit/537.36 (KHTML, like Gecko) Chrome/77.0.3865.120 Safari/537.36\"\\n127.0.0.1 - - [15/Feb/2021:04:34:27 +0000] \"GET /pma2015/index.php?lang=en HTTP/1.0\" 404 232 \"-\" \"Mozilla/5.0 (Windows NT 10.0; Win64; x64) AppleWebKit/537.36 (KHTML, like Gecko) Chrome/77.0.3865.120 Safari/537.36\"\\n127.0.0.1 - - [15/Feb/2021:04:34:27 +0000] \"GET /pma2016/index.php?lang=en HTTP/1.0\" 404 232 \"-\" \"Mozilla/5.0 (Windows NT 10.0; Win64; x64) AppleWebKit/537.36 (KHTML, like Gecko) Chrome/77.0.3865.120 Safari/537.36\"\\n127.0.0.1 - - [15/Feb/2021:04:34:28 +0000] \"GET /pma2017/index.php?lang=en HTTP/1.0\" 404 232 \"-\" \"Mozilla/5.0 (Windows NT 10.0; Win64; x64) AppleWebKit/537.36 (KHTML, like Gecko) Chrome/77.0.3865.120 Safari/537.36\"\\n127.0.0.1 - - [15/Feb/2021:04:34:28 +0000] \"GET /pma2018/index.php?lang=en HTTP/1.0\" 404 232 \"-\" \"Mozilla/5.0 (Windows NT 10.0; Win64; x64) AppleWebKit/537.36 (KHTML, like Gecko) Chrome/77.0.3865.120 Safari/537.36\"\\n127.0.0.1 - - [15/Feb/2021:04:34:28 +0000] \"GET /pma2019/index.php?lang=en HTTP/1.0\" 404 232 \"-\" \"Mozilla/5.0 (Windows NT 10.0; Win64; x64) AppleWebKit/537.36 (KHTML, like Gecko) Chrome/77.0.3865.120 Safari/537.36\"\\n127.0.0.1 - - [15/Feb/2021:04:34:28 +0000] \"GET /pma2020/index.php?lang=en HTTP/1.0\" 404 232 \"-\" \"Mozilla/5.0 (Windows NT 10.0; Win64; x64) AppleWebKit/537.36 (KHTML, like Gecko) Chrome/77.0.3865.120 Safari/537.36\"\\n127.0.0.1 - - [15/Feb/2021:04:34:28 +0000] \"GET /phpmyadmin2011/index.php?lang=en HTTP/1.0\" 404 232 \"-\" \"Mozilla/5.0 (Windows NT 10.0; Win64; x64) AppleWebKit/537.36 (KHTML, like Gecko) Chrome/77.0.3865.120 Safari/537.36\"\\n127.0.0.1 - - [15/Feb/2021:04:34:28 +0000] \"GET /phpmyadmin2012/index.php?lang=en HTTP/1.0\" 404 232 \"-\" \"Mozilla/5.0 (Windows NT 10.0; Win64; x64) AppleWebKit/537.36 (KHTML, like Gecko) Chrome/77.0.3865.120 Safari/537.36\"\\n127.0.0.1 - - [15/Feb/2021:04:34:28 +0000] \"GET /phpmyadmin2013/index.php?lang=en HTTP/1.0\" 404 232 \"-\" \"Mozilla/5.0 (Windows NT 10.0; Win64; x64) AppleWebKit/537.36 (KHTML, like Gecko) Chrome/77.0.3865.120 Safari/537.36\"\\n127.0.0.1 - - [15/Feb/2021:04:34:28 +0000] \"GET /phpmyadmin2014/index.php?lang=en HTTP/1.0\" 404 232 \"-\" \"Mozilla/5.0 (Windows NT 10.0; Win64; x64) AppleWebKit/537.36 (KHTML, like Gecko) Chrome/77.0.3865.120 Safari/537.36\"\\n127.0.0.1 - - [15/Feb/2021:04:34:29 +0000] \"GET /phpmyadmin2015/index.php?lang=en HTTP/1.0\" 404 232 \"-\" \"Mozilla/5.0 (Windows NT 10.0; Win64; x64) AppleWebKit/537.36 (KHTML, like Gecko) Chrome/77.0.3865.120 Safari/537.36\"\\n127.0.0.1 - - [15/Feb/2021:04:34:29 +0000] \"GET /phpmyadmin2016/index.php?lang=en HTTP/1.0\" 404 232 \"-\" \"Mozilla/5.0 (Windows NT 10.0; Win64; x64) AppleWebKit/537.36 (KHTML, like Gecko) Chrome/77.0.3865.120 Safari/537.36\"\\n127.0.0.1 - - [15/Feb/2021:04:34:29 +0000] \"GET /phpmyadmin2017/index.php?lang=en HTTP/1.0\" 404 232 \"-\" \"Mozilla/5.0 (Windows NT 10.0; Win64; x64) AppleWebKit/537.36 (KHTML, like Gecko) Chrome/77.0.3865.120 Safari/537.36\"\\n127.0.0.1 - - [15/Feb/2021:04:34:29 +0000] \"GET /phpmyadmin2018/index.php?lang=en HTTP/1.0\" 404 232 \"-\" \"Mozilla/5.0 (Windows NT 10.0; Win64; x64) AppleWebKit/537.36 (KHTML, like Gecko) Chrome/77.0.3865.120 Safari/537.36\"\\n127.0.0.1 - - [15/Feb/2021:04:34:29 +0000] \"GET /phpmyadmin2019/index.php?lang=en HTTP/1.0\" 404 232 \"-\" \"Mozilla/5.0 (Windows NT 10.0; Win64; x64) AppleWebKit/537.36 (KHTML, like Gecko) Chrome/77.0.3865.120 Safari/537.36\"\\n127.0.0.1 - - [15/Feb/2021:04:34:29 +0000] \"GET /phpmyadmin2020/index.php?lang=en HTTP/1.0\" 404 232 \"-\" \"Mozilla/5.0 (Windows NT 10.0; Win64; x64) AppleWebKit/537.36 (KHTML, like Gecko) Chrome/77.0.3865.120 Safari/537.36\"\\n127.0.0.1 - - [15/Feb/2021:04:34:29 +0000] \"GET /index.php?lang=en HTTP/1.0\" 404 232 \"-\" \"Mozilla/5.0 (Windows NT 10.0; Win64; x64) AppleWebKit/537.36 (KHTML, like Gecko) Chrome/77.0.3865.120 Safari/537.36\"\\n127.0.0.1 - - [15/Feb/2021:04:52:27 +0000] \"POST /GponForm/diag_Form?images%2F= HTTP/1.0\" 404 232 \"-\" \"Hello, World\"\\n2021-02-15 05:38:49,526 | root | INFO | Swagger file not present\\n2021-02-15 05:38:49,526 | root | INFO | 404\\n127.0.0.1 - - [15/Feb/2021:05:38:49 +0000] \"GET /swagger.json HTTP/1.0\" 404 19 \"-\" \"Go-http-client/1.1\"\\n2021-02-15 05:40:24,876 | root | INFO | Swagger file not present\\n2021-02-15 05:40:24,876 | root | INFO | 404\\n127.0.0.1 - - [15/Feb/2021:05:40:24 +0000] \"GET /swagger.json HTTP/1.0\" 404 19 \"-\" \"Go-http-client/1.1\"\\n'"
      ]
     },
     "execution_count": 37,
     "metadata": {},
     "output_type": "execute_result"
    }
   ],
   "source": [
    "aci_service.get_logs()"
   ]
  },
  {
   "cell_type": "code",
   "execution_count": 38,
   "metadata": {
    "gather": {
     "logged": 1613321858692
    },
    "jupyter": {
     "outputs_hidden": false,
     "source_hidden": false
    },
    "nteract": {
     "transient": {
      "deleting": false
     }
    },
    "scrolled": false
   },
   "outputs": [
    {
     "name": "stdout",
     "output_type": "stream",
     "text": [
      "2021-02-14T21:24:39,188563500+00:00 - gunicorn/run \n",
      "2021-02-14T21:24:39,200194000+00:00 - rsyslog/run \n",
      "2021-02-14T21:24:39,201888300+00:00 - nginx/run \n",
      "/usr/sbin/nginx: /azureml-envs/azureml_7785023fceb74e4facc1b1a577b1faf9/lib/libcrypto.so.1.0.0: no version information available (required by /usr/sbin/nginx)\n",
      "/usr/sbin/nginx: /azureml-envs/azureml_7785023fceb74e4facc1b1a577b1faf9/lib/libcrypto.so.1.0.0: no version information available (required by /usr/sbin/nginx)\n",
      "/usr/sbin/nginx: /azureml-envs/azureml_7785023fceb74e4facc1b1a577b1faf9/lib/libssl.so.1.0.0: no version information available (required by /usr/sbin/nginx)\n",
      "/usr/sbin/nginx: /azureml-envs/azureml_7785023fceb74e4facc1b1a577b1faf9/lib/libssl.so.1.0.0: no version information available (required by /usr/sbin/nginx)\n",
      "/usr/sbin/nginx: /azureml-envs/azureml_7785023fceb74e4facc1b1a577b1faf9/lib/libssl.so.1.0.0: no version information available (required by /usr/sbin/nginx)\n",
      "2021-02-14T21:24:39,224147300+00:00 - iot-server/run \n",
      "rsyslogd: /azureml-envs/azureml_7785023fceb74e4facc1b1a577b1faf9/lib/libuuid.so.1: no version information available (required by rsyslogd)\n",
      "EdgeHubConnectionString and IOTEDGE_IOTHUBHOSTNAME are not set. Exiting...\n",
      "2021-02-14T21:24:40,431498300+00:00 - iot-server/finish 1 0\n",
      "2021-02-14T21:24:40,435786900+00:00 - Exit code 1 is normal. Not restarting iot-server.\n",
      "Starting gunicorn 19.9.0\n",
      "Listening at: http://127.0.0.1:31311 (67)\n",
      "Using worker: sync\n",
      "worker timeout is set to 300\n",
      "Booting worker with pid: 96\n",
      "SPARK_HOME not set. Skipping PySpark Initialization.\n",
      "Generating new fontManager, this may take some time...\n",
      "Initializing logger\n",
      "2021-02-14 21:24:48,741 | root | INFO | Starting up app insights client\n",
      "2021-02-14 21:24:48,742 | root | INFO | Starting up request id generator\n",
      "2021-02-14 21:24:48,742 | root | INFO | Starting up app insight hooks\n",
      "2021-02-14 21:24:48,742 | root | INFO | Invoking user's init function\n",
      "2021-02-14 21:24:52,481 | root | INFO | Users's init has completed successfully\n",
      "2021-02-14 21:24:52,488 | root | INFO | Skipping middleware: dbg_model_info as it's not enabled.\n",
      "2021-02-14 21:24:52,488 | root | INFO | Skipping middleware: dbg_resource_usage as it's not enabled.\n",
      "2021-02-14 21:24:52,489 | root | INFO | Scoring timeout is found from os.environ: 60000 ms\n",
      "127.0.0.1 - - [14/Feb/2021:21:33:09 +0000] \"GET /login HTTP/1.0\" 404 232 \"-\" \"Go-http-client/1.1\"\n",
      "127.0.0.1 - - [14/Feb/2021:21:33:10 +0000] \"GET /jenkins/login HTTP/1.0\" 404 232 \"-\" \"Go-http-client/1.1\"\n",
      "127.0.0.1 - 8hYTSUFk [14/Feb/2021:21:33:11 +0000] \"GET /manager/html HTTP/1.0\" 404 232 \"-\" \"Go-http-client/1.1\"\n",
      "127.0.0.1 - - [14/Feb/2021:21:33:15 +0000] \"GET /wp-login.php HTTP/1.0\" 404 232 \"-\" \"Mozilla/5.0 (Macintosh; Intel Mac OS X 10.14; rv:78.0) Gecko/20100101 Firefox/78.0\"\n",
      "127.0.0.1 - - [14/Feb/2021:21:43:50 +0000] \"GET /.env HTTP/1.0\" 404 232 \"-\" \"Mozilla/5.0 (X11; Linux x86_64) AppleWebKit/537.36 (KHTML, like Gecko) Chrome/81.0.4044.129 Safari/537.36\"\n",
      "127.0.0.1 - - [14/Feb/2021:21:43:50 +0000] \"POST / HTTP/1.0\" 405 178 \"-\" \"Mozilla/5.0 (X11; Linux x86_64) AppleWebKit/537.36 (KHTML, like Gecko) Chrome/81.0.4044.129 Safari/537.36\"\n",
      "2021-02-14 21:44:51,195 | root | INFO | Swagger file not present\n",
      "2021-02-14 21:44:51,195 | root | INFO | 404\n",
      "127.0.0.1 - - [14/Feb/2021:21:44:51 +0000] \"GET /swagger.json HTTP/1.0\" 404 19 \"-\" \"Go-http-client/1.1\"\n",
      "2021-02-14 21:45:18,091 | root | INFO | Swagger file not present\n",
      "2021-02-14 21:45:18,092 | root | INFO | 404\n",
      "127.0.0.1 - - [14/Feb/2021:21:45:18 +0000] \"GET /swagger.json HTTP/1.0\" 404 19 \"-\" \"Go-http-client/1.1\"\n",
      "2021-02-14 21:47:51,835 | root | INFO | Validation Request Content-Type\n",
      "2021-02-14 21:47:51,836 | root | INFO | Scoring Timer is set to 60.0 seconds\n",
      "2021-02-14 21:47:52,059 | root | INFO | 200\n",
      "127.0.0.1 - - [14/Feb/2021:21:47:52 +0000] \"POST /score HTTP/1.0\" 200 23 \"-\" \"python-requests/2.25.1\"\n",
      "2021-02-14 21:47:59,810 | root | INFO | Swagger file not present\n",
      "2021-02-14 21:47:59,810 | root | INFO | 404\n",
      "127.0.0.1 - - [14/Feb/2021:21:47:59 +0000] \"GET /swagger.json HTTP/1.0\" 404 19 \"-\" \"Go-http-client/1.1\"\n",
      "2021-02-14 22:10:22,686 | root | INFO | Validation Request Content-Type\n",
      "2021-02-14 22:10:22,690 | root | INFO | Scoring Timer is set to 60.0 seconds\n",
      "2021-02-14 22:10:22,893 | root | INFO | 200\n",
      "127.0.0.1 - - [14/Feb/2021:22:10:22 +0000] \"POST /score HTTP/1.0\" 200 23 \"-\" \"python-requests/2.25.1\"\n",
      "2021-02-14 22:10:22,921 | root | INFO | Validation Request Content-Type\n",
      "2021-02-14 22:10:22,922 | root | INFO | Scoring Timer is set to 60.0 seconds\n",
      "2021-02-14 22:10:23,146 | root | INFO | 200\n",
      "127.0.0.1 - - [14/Feb/2021:22:10:23 +0000] \"POST /score HTTP/1.0\" 200 23 \"-\" \"python-requests/2.25.1\"\n",
      "2021-02-14 22:11:01,825 | root | INFO | Swagger file not present\n",
      "2021-02-14 22:11:01,825 | root | INFO | 404\n",
      "127.0.0.1 - - [14/Feb/2021:22:11:01 +0000] \"GET /swagger.json HTTP/1.0\" 404 19 \"-\" \"Go-http-client/1.1\"\n",
      "2021-02-14 22:11:24,779 | root | INFO | Swagger file not present\n",
      "2021-02-14 22:11:24,779 | root | INFO | 404\n",
      "127.0.0.1 - - [14/Feb/2021:22:11:24 +0000] \"GET /swagger.json HTTP/1.0\" 404 19 \"-\" \"Go-http-client/1.1\"\n",
      "127.0.0.1 - - [14/Feb/2021:22:53:17 +0000] \"GET /config/getuser?index=0 HTTP/1.0\" 404 232 \"-\" \"Mozilla/5.0 (X11; Ubuntu; Linux x86_64; rv:76.0) Gecko/20100101 Firefox/76.0\"\n",
      "2021-02-15 04:16:07,051 | root | INFO | Swagger file not present\n",
      "2021-02-15 04:16:07,051 | root | INFO | 404\n",
      "127.0.0.1 - - [15/Feb/2021:04:16:07 +0000] \"GET /swagger.json HTTP/1.0\" 404 19 \"-\" \"Go-http-client/1.1\"\n",
      "127.0.0.1 - - [15/Feb/2021:04:34:16 +0000] \"GET /phpmyadmin/index.php?lang=en HTTP/1.0\" 404 232 \"-\" \"Mozilla/5.0 (Windows NT 10.0; Win64; x64) AppleWebKit/537.36 (KHTML, like Gecko) Chrome/77.0.3865.120 Safari/537.36\"\n",
      "127.0.0.1 - - [15/Feb/2021:04:34:16 +0000] \"GET /phpMyadmin/index.php?lang=en HTTP/1.0\" 404 232 \"-\" \"Mozilla/5.0 (Windows NT 10.0; Win64; x64) AppleWebKit/537.36 (KHTML, like Gecko) Chrome/77.0.3865.120 Safari/537.36\"\n",
      "127.0.0.1 - - [15/Feb/2021:04:34:16 +0000] \"GET /phpMyAdmin/index.php?lang=en HTTP/1.0\" 404 232 \"-\" \"Mozilla/5.0 (Windows NT 10.0; Win64; x64) AppleWebKit/537.36 (KHTML, like Gecko) Chrome/77.0.3865.120 Safari/537.36\"\n",
      "127.0.0.1 - - [15/Feb/2021:04:34:16 +0000] \"GET /phpmyAdmin/index.php?lang=en HTTP/1.0\" 404 232 \"-\" \"Mozilla/5.0 (Windows NT 10.0; Win64; x64) AppleWebKit/537.36 (KHTML, like Gecko) Chrome/77.0.3865.120 Safari/537.36\"\n",
      "127.0.0.1 - - [15/Feb/2021:04:34:16 +0000] \"GET /mysql/index.php?lang=en HTTP/1.0\" 404 232 \"-\" \"Mozilla/5.0 (Windows NT 10.0; Win64; x64) AppleWebKit/537.36 (KHTML, like Gecko) Chrome/77.0.3865.120 Safari/537.36\"\n",
      "127.0.0.1 - - [15/Feb/2021:04:34:16 +0000] \"GET /database/index.php?lang=en HTTP/1.0\" 404 232 \"-\" \"Mozilla/5.0 (Windows NT 10.0; Win64; x64) AppleWebKit/537.36 (KHTML, like Gecko) Chrome/77.0.3865.120 Safari/537.36\"\n",
      "127.0.0.1 - - [15/Feb/2021:04:34:16 +0000] \"GET /phpmyadmin1/index.php?lang=en HTTP/1.0\" 404 232 \"-\" \"Mozilla/5.0 (Windows NT 10.0; Win64; x64) AppleWebKit/537.36 (KHTML, like Gecko) Chrome/77.0.3865.120 Safari/537.36\"\n",
      "127.0.0.1 - - [15/Feb/2021:04:34:16 +0000] \"GET /phpmyadmin2/index.php?lang=en HTTP/1.0\" 404 232 \"-\" \"Mozilla/5.0 (Windows NT 10.0; Win64; x64) AppleWebKit/537.36 (KHTML, like Gecko) Chrome/77.0.3865.120 Safari/537.36\"\n",
      "127.0.0.1 - - [15/Feb/2021:04:34:16 +0000] \"GET /phpmyadmin3/index.php?lang=en HTTP/1.0\" 404 232 \"-\" \"Mozilla/5.0 (Windows NT 10.0; Win64; x64) AppleWebKit/537.36 (KHTML, like Gecko) Chrome/77.0.3865.120 Safari/537.36\"\n",
      "127.0.0.1 - - [15/Feb/2021:04:34:17 +0000] \"GET /phpmyadmin4/index.php?lang=en HTTP/1.0\" 404 232 \"-\" \"Mozilla/5.0 (Windows NT 10.0; Win64; x64) AppleWebKit/537.36 (KHTML, like Gecko) Chrome/77.0.3865.120 Safari/537.36\"\n",
      "127.0.0.1 - - [15/Feb/2021:04:34:17 +0000] \"GET /phpmyadmin5/index.php?lang=en HTTP/1.0\" 404 232 \"-\" \"Mozilla/5.0 (Windows NT 10.0; Win64; x64) AppleWebKit/537.36 (KHTML, like Gecko) Chrome/77.0.3865.120 Safari/537.36\"\n",
      "127.0.0.1 - - [15/Feb/2021:04:34:17 +0000] \"GET /phpMyAdmin1/index.php?lang=en HTTP/1.0\" 404 232 \"-\" \"Mozilla/5.0 (Windows NT 10.0; Win64; x64) AppleWebKit/537.36 (KHTML, like Gecko) Chrome/77.0.3865.120 Safari/537.36\"\n",
      "127.0.0.1 - - [15/Feb/2021:04:34:17 +0000] \"GET /phpMyAdmin2/index.php?lang=en HTTP/1.0\" 404 232 \"-\" \"Mozilla/5.0 (Windows NT 10.0; Win64; x64) AppleWebKit/537.36 (KHTML, like Gecko) Chrome/77.0.3865.120 Safari/537.36\"\n",
      "127.0.0.1 - - [15/Feb/2021:04:34:17 +0000] \"GET /phpMyAdmin3/index.php?lang=en HTTP/1.0\" 404 232 \"-\" \"Mozilla/5.0 (Windows NT 10.0; Win64; x64) AppleWebKit/537.36 (KHTML, like Gecko) Chrome/77.0.3865.120 Safari/537.36\"\n",
      "127.0.0.1 - - [15/Feb/2021:04:34:17 +0000] \"GET /phpMyAdmin4/index.php?lang=en HTTP/1.0\" 404 232 \"-\" \"Mozilla/5.0 (Windows NT 10.0; Win64; x64) AppleWebKit/537.36 (KHTML, like Gecko) Chrome/77.0.3865.120 Safari/537.36\"\n",
      "127.0.0.1 - - [15/Feb/2021:04:34:17 +0000] \"GET /phpMyAdmin5/index.php?lang=en HTTP/1.0\" 404 232 \"-\" \"Mozilla/5.0 (Windows NT 10.0; Win64; x64) AppleWebKit/537.36 (KHTML, like Gecko) Chrome/77.0.3865.120 Safari/537.36\"\n",
      "127.0.0.1 - - [15/Feb/2021:04:34:17 +0000] \"GET /mysql/admin/index.php?lang=en HTTP/1.0\" 404 232 \"-\" \"Mozilla/5.0 (Windows NT 10.0; Win64; x64) AppleWebKit/537.36 (KHTML, like Gecko) Chrome/77.0.3865.120 Safari/537.36\"\n",
      "127.0.0.1 - - [15/Feb/2021:04:34:17 +0000] \"GET /mysql/dbadmin/index.php?lang=en HTTP/1.0\" 404 232 \"-\" \"Mozilla/5.0 (Windows NT 10.0; Win64; x64) AppleWebKit/537.36 (KHTML, like Gecko) Chrome/77.0.3865.120 Safari/537.36\"\n",
      "127.0.0.1 - - [15/Feb/2021:04:34:18 +0000] \"GET /mysql/sqlmanager/index.php?lang=en HTTP/1.0\" 404 232 \"-\" \"Mozilla/5.0 (Windows NT 10.0; Win64; x64) AppleWebKit/537.36 (KHTML, like Gecko) Chrome/77.0.3865.120 Safari/537.36\"\n",
      "127.0.0.1 - - [15/Feb/2021:04:34:18 +0000] \"GET /mysql/mysqlmanager/index.php?lang=en HTTP/1.0\" 404 232 \"-\" \"Mozilla/5.0 (Windows NT 10.0; Win64; x64) AppleWebKit/537.36 (KHTML, like Gecko) Chrome/77.0.3865.120 Safari/537.36\"\n",
      "127.0.0.1 - - [15/Feb/2021:04:34:18 +0000] \"GET /2phpmyadmin/index.php?lang=en HTTP/1.0\" 404 232 \"-\" \"Mozilla/5.0 (Windows NT 10.0; Win64; x64) AppleWebKit/537.36 (KHTML, like Gecko) Chrome/77.0.3865.120 Safari/537.36\"\n",
      "127.0.0.1 - - [15/Feb/2021:04:34:18 +0000] \"GET /wp-content/plugins/portable-phpmyadmin/wp-pma-mod/index.php?lang=en HTTP/1.0\" 404 232 \"-\" \"Mozilla/5.0 (Windows NT 10.0; Win64; x64) AppleWebKit/537.36 (KHTML, like Gecko) Chrome/77.0.3865.120 Safari/537.36\"\n",
      "127.0.0.1 - - [15/Feb/2021:04:34:18 +0000] \"GET /phpmy/index.php?lang=en HTTP/1.0\" 404 232 \"-\" \"Mozilla/5.0 (Windows NT 10.0; Win64; x64) AppleWebKit/537.36 (KHTML, like Gecko) Chrome/77.0.3865.120 Safari/537.36\"\n",
      "127.0.0.1 - - [15/Feb/2021:04:34:18 +0000] \"GET /phppma/index.php?lang=en HTTP/1.0\" 404 232 \"-\" \"Mozilla/5.0 (Windows NT 10.0; Win64; x64) AppleWebKit/537.36 (KHTML, like Gecko) Chrome/77.0.3865.120 Safari/537.36\"\n",
      "127.0.0.1 - - [15/Feb/2021:04:34:18 +0000] \"GET /myadmin/index.php?lang=en HTTP/1.0\" 404 232 \"-\" \"Mozilla/5.0 (Windows NT 10.0; Win64; x64) AppleWebKit/537.36 (KHTML, like Gecko) Chrome/77.0.3865.120 Safari/537.36\"\n",
      "127.0.0.1 - - [15/Feb/2021:04:34:18 +0000] \"GET /shopdb/index.php?lang=en HTTP/1.0\" 404 232 \"-\" \"Mozilla/5.0 (Windows NT 10.0; Win64; x64) AppleWebKit/537.36 (KHTML, like Gecko) Chrome/77.0.3865.120 Safari/537.36\"\n",
      "127.0.0.1 - - [15/Feb/2021:04:34:18 +0000] \"GET /MyAdmin/index.php?lang=en HTTP/1.0\" 404 232 \"-\" \"Mozilla/5.0 (Windows NT 10.0; Win64; x64) AppleWebKit/537.36 (KHTML, like Gecko) Chrome/77.0.3865.120 Safari/537.36\"\n",
      "127.0.0.1 - - [15/Feb/2021:04:34:19 +0000] \"GET /program/index.php?lang=en HTTP/1.0\" 404 232 \"-\" \"Mozilla/5.0 (Windows NT 10.0; Win64; x64) AppleWebKit/537.36 (KHTML, like Gecko) Chrome/77.0.3865.120 Safari/537.36\"\n",
      "127.0.0.1 - - [15/Feb/2021:04:34:19 +0000] \"GET /PMA/index.php?lang=en HTTP/1.0\" 404 232 \"-\" \"Mozilla/5.0 (Windows NT 10.0; Win64; x64) AppleWebKit/537.36 (KHTML, like Gecko) Chrome/77.0.3865.120 Safari/537.36\"\n",
      "127.0.0.1 - - [15/Feb/2021:04:34:19 +0000] \"GET /dbadmin/index.php?lang=en HTTP/1.0\" 404 232 \"-\" \"Mozilla/5.0 (Windows NT 10.0; Win64; x64) AppleWebKit/537.36 (KHTML, like Gecko) Chrome/77.0.3865.120 Safari/537.36\"\n",
      "127.0.0.1 - - [15/Feb/2021:04:34:19 +0000] \"GET /pma/index.php?lang=en HTTP/1.0\" 404 232 \"-\" \"Mozilla/5.0 (Windows NT 10.0; Win64; x64) AppleWebKit/537.36 (KHTML, like Gecko) Chrome/77.0.3865.120 Safari/537.36\"\n",
      "127.0.0.1 - - [15/Feb/2021:04:34:19 +0000] \"GET /db/index.php?lang=en HTTP/1.0\" 404 232 \"-\" \"Mozilla/5.0 (Windows NT 10.0; Win64; x64) AppleWebKit/537.36 (KHTML, like Gecko) Chrome/77.0.3865.120 Safari/537.36\"\n",
      "127.0.0.1 - - [15/Feb/2021:04:34:19 +0000] \"GET /admin/index.php?lang=en HTTP/1.0\" 404 232 \"-\" \"Mozilla/5.0 (Windows NT 10.0; Win64; x64) AppleWebKit/537.36 (KHTML, like Gecko) Chrome/77.0.3865.120 Safari/537.36\"\n",
      "127.0.0.1 - - [15/Feb/2021:04:34:19 +0000] \"GET /db/phpmyadmin/index.php?lang=en HTTP/1.0\" 404 232 \"-\" \"Mozilla/5.0 (Windows NT 10.0; Win64; x64) AppleWebKit/537.36 (KHTML, like Gecko) Chrome/77.0.3865.120 Safari/537.36\"\n",
      "127.0.0.1 - - [15/Feb/2021:04:34:19 +0000] \"GET /db/phpMyAdmin/index.php?lang=en HTTP/1.0\" 404 232 \"-\" \"Mozilla/5.0 (Windows NT 10.0; Win64; x64) AppleWebKit/537.36 (KHTML, like Gecko) Chrome/77.0.3865.120 Safari/537.36\"\n",
      "127.0.0.1 - - [15/Feb/2021:04:34:20 +0000] \"GET /sqlmanager/index.php?lang=en HTTP/1.0\" 404 232 \"-\" \"Mozilla/5.0 (Windows NT 10.0; Win64; x64) AppleWebKit/537.36 (KHTML, like Gecko) Chrome/77.0.3865.120 Safari/537.36\"\n",
      "127.0.0.1 - - [15/Feb/2021:04:34:20 +0000] \"GET /mysqlmanager/index.php?lang=en HTTP/1.0\" 404 232 \"-\" \"Mozilla/5.0 (Windows NT 10.0; Win64; x64) AppleWebKit/537.36 (KHTML, like Gecko) Chrome/77.0.3865.120 Safari/537.36\"\n",
      "127.0.0.1 - - [15/Feb/2021:04:34:20 +0000] \"GET /php-myadmin/index.php?lang=en HTTP/1.0\" 404 232 \"-\" \"Mozilla/5.0 (Windows NT 10.0; Win64; x64) AppleWebKit/537.36 (KHTML, like Gecko) Chrome/77.0.3865.120 Safari/537.36\"\n",
      "127.0.0.1 - - [15/Feb/2021:04:34:20 +0000] \"GET /phpmy-admin/index.php?lang=en HTTP/1.0\" 404 232 \"-\" \"Mozilla/5.0 (Windows NT 10.0; Win64; x64) AppleWebKit/537.36 (KHTML, like Gecko) Chrome/77.0.3865.120 Safari/537.36\"\n",
      "127.0.0.1 - - [15/Feb/2021:04:34:20 +0000] \"GET /mysqladmin/index.php?lang=en HTTP/1.0\" 404 232 \"-\" \"Mozilla/5.0 (Windows NT 10.0; Win64; x64) AppleWebKit/537.36 (KHTML, like Gecko) Chrome/77.0.3865.120 Safari/537.36\"\n",
      "127.0.0.1 - - [15/Feb/2021:04:34:20 +0000] \"GET /mysql-admin/index.php?lang=en HTTP/1.0\" 404 232 \"-\" \"Mozilla/5.0 (Windows NT 10.0; Win64; x64) AppleWebKit/537.36 (KHTML, like Gecko) Chrome/77.0.3865.120 Safari/537.36\"\n",
      "127.0.0.1 - - [15/Feb/2021:04:34:20 +0000] \"GET /admin/phpmyadmin/index.php?lang=en HTTP/1.0\" 404 232 \"-\" \"Mozilla/5.0 (Windows NT 10.0; Win64; x64) AppleWebKit/537.36 (KHTML, like Gecko) Chrome/77.0.3865.120 Safari/537.36\"\n",
      "127.0.0.1 - - [15/Feb/2021:04:34:20 +0000] \"GET /admin/phpMyAdmin/index.php?lang=en HTTP/1.0\" 404 232 \"-\" \"Mozilla/5.0 (Windows NT 10.0; Win64; x64) AppleWebKit/537.36 (KHTML, like Gecko) Chrome/77.0.3865.120 Safari/537.36\"\n",
      "127.0.0.1 - - [15/Feb/2021:04:34:21 +0000] \"GET /admin/sysadmin/index.php?lang=en HTTP/1.0\" 404 232 \"-\" \"Mozilla/5.0 (Windows NT 10.0; Win64; x64) AppleWebKit/537.36 (KHTML, like Gecko) Chrome/77.0.3865.120 Safari/537.36\"\n",
      "127.0.0.1 - - [15/Feb/2021:04:34:21 +0000] \"GET /admin/sqladmin/index.php?lang=en HTTP/1.0\" 404 232 \"-\" \"Mozilla/5.0 (Windows NT 10.0; Win64; x64) AppleWebKit/537.36 (KHTML, like Gecko) Chrome/77.0.3865.120 Safari/537.36\"\n",
      "127.0.0.1 - - [15/Feb/2021:04:34:21 +0000] \"GET /admin/db/index.php?lang=en HTTP/1.0\" 404 232 \"-\" \"Mozilla/5.0 (Windows NT 10.0; Win64; x64) AppleWebKit/537.36 (KHTML, like Gecko) Chrome/77.0.3865.120 Safari/537.36\"\n",
      "127.0.0.1 - - [15/Feb/2021:04:34:21 +0000] \"GET /admin/web/index.php?lang=en HTTP/1.0\" 404 232 \"-\" \"Mozilla/5.0 (Windows NT 10.0; Win64; x64) AppleWebKit/537.36 (KHTML, like Gecko) Chrome/77.0.3865.120 Safari/537.36\"\n",
      "127.0.0.1 - - [15/Feb/2021:04:34:21 +0000] \"GET /admin/pMA/index.php?lang=en HTTP/1.0\" 404 232 \"-\" \"Mozilla/5.0 (Windows NT 10.0; Win64; x64) AppleWebKit/537.36 (KHTML, like Gecko) Chrome/77.0.3865.120 Safari/537.36\"\n",
      "127.0.0.1 - - [15/Feb/2021:04:34:21 +0000] \"GET /mysql/pma/index.php?lang=en HTTP/1.0\" 404 232 \"-\" \"Mozilla/5.0 (Windows NT 10.0; Win64; x64) AppleWebKit/537.36 (KHTML, like Gecko) Chrome/77.0.3865.120 Safari/537.36\"\n",
      "127.0.0.1 - - [15/Feb/2021:04:34:21 +0000] \"GET /mysql/db/index.php?lang=en HTTP/1.0\" 404 232 \"-\" \"Mozilla/5.0 (Windows NT 10.0; Win64; x64) AppleWebKit/537.36 (KHTML, like Gecko) Chrome/77.0.3865.120 Safari/537.36\"\n",
      "127.0.0.1 - - [15/Feb/2021:04:34:21 +0000] \"GET /mysql/web/index.php?lang=en HTTP/1.0\" 404 232 \"-\" \"Mozilla/5.0 (Windows NT 10.0; Win64; x64) AppleWebKit/537.36 (KHTML, like Gecko) Chrome/77.0.3865.120 Safari/537.36\"\n",
      "127.0.0.1 - - [15/Feb/2021:04:34:22 +0000] \"GET /mysql/pMA/index.php?lang=en HTTP/1.0\" 404 232 \"-\" \"Mozilla/5.0 (Windows NT 10.0; Win64; x64) AppleWebKit/537.36 (KHTML, like Gecko) Chrome/77.0.3865.120 Safari/537.36\"\n",
      "127.0.0.1 - - [15/Feb/2021:04:34:22 +0000] \"GET /sql/phpmanager/index.php?lang=en HTTP/1.0\" 404 232 \"-\" \"Mozilla/5.0 (Windows NT 10.0; Win64; x64) AppleWebKit/537.36 (KHTML, like Gecko) Chrome/77.0.3865.120 Safari/537.36\"\n",
      "127.0.0.1 - - [15/Feb/2021:04:34:22 +0000] \"GET /sql/php-myadmin/index.php?lang=en HTTP/1.0\" 404 232 \"-\" \"Mozilla/5.0 (Windows NT 10.0; Win64; x64) AppleWebKit/537.36 (KHTML, like Gecko) Chrome/77.0.3865.120 Safari/537.36\"\n",
      "127.0.0.1 - - [15/Feb/2021:04:34:22 +0000] \"GET /sql/phpmy-admin/index.php?lang=en HTTP/1.0\" 404 232 \"-\" \"Mozilla/5.0 (Windows NT 10.0; Win64; x64) AppleWebKit/537.36 (KHTML, like Gecko) Chrome/77.0.3865.120 Safari/537.36\"\n",
      "127.0.0.1 - - [15/Feb/2021:04:34:22 +0000] \"GET /sql/sql/index.php?lang=en HTTP/1.0\" 404 232 \"-\" \"Mozilla/5.0 (Windows NT 10.0; Win64; x64) AppleWebKit/537.36 (KHTML, like Gecko) Chrome/77.0.3865.120 Safari/537.36\"\n",
      "127.0.0.1 - - [15/Feb/2021:04:34:22 +0000] \"GET /sql/myadmin/index.php?lang=en HTTP/1.0\" 404 232 \"-\" \"Mozilla/5.0 (Windows NT 10.0; Win64; x64) AppleWebKit/537.36 (KHTML, like Gecko) Chrome/77.0.3865.120 Safari/537.36\"\n",
      "127.0.0.1 - - [15/Feb/2021:04:34:22 +0000] \"GET /sql/webadmin/index.php?lang=en HTTP/1.0\" 404 232 \"-\" \"Mozilla/5.0 (Windows NT 10.0; Win64; x64) AppleWebKit/537.36 (KHTML, like Gecko) Chrome/77.0.3865.120 Safari/537.36\"\n",
      "127.0.0.1 - - [15/Feb/2021:04:34:22 +0000] \"GET /sql/sqlweb/index.php?lang=en HTTP/1.0\" 404 232 \"-\" \"Mozilla/5.0 (Windows NT 10.0; Win64; x64) AppleWebKit/537.36 (KHTML, like Gecko) Chrome/77.0.3865.120 Safari/537.36\"\n",
      "127.0.0.1 - - [15/Feb/2021:04:34:22 +0000] \"GET /sql/websql/index.php?lang=en HTTP/1.0\" 404 232 \"-\" \"Mozilla/5.0 (Windows NT 10.0; Win64; x64) AppleWebKit/537.36 (KHTML, like Gecko) Chrome/77.0.3865.120 Safari/537.36\"\n",
      "127.0.0.1 - - [15/Feb/2021:04:34:23 +0000] \"GET /sql/webdb/index.php?lang=en HTTP/1.0\" 404 232 \"-\" \"Mozilla/5.0 (Windows NT 10.0; Win64; x64) AppleWebKit/537.36 (KHTML, like Gecko) Chrome/77.0.3865.120 Safari/537.36\"\n",
      "127.0.0.1 - - [15/Feb/2021:04:34:23 +0000] \"GET /sql/sqladmin/index.php?lang=en HTTP/1.0\" 404 232 \"-\" \"Mozilla/5.0 (Windows NT 10.0; Win64; x64) AppleWebKit/537.36 (KHTML, like Gecko) Chrome/77.0.3865.120 Safari/537.36\"\n",
      "127.0.0.1 - - [15/Feb/2021:04:34:23 +0000] \"GET /sql/sql-admin/index.php?lang=en HTTP/1.0\" 404 232 \"-\" \"Mozilla/5.0 (Windows NT 10.0; Win64; x64) AppleWebKit/537.36 (KHTML, like Gecko) Chrome/77.0.3865.120 Safari/537.36\"\n",
      "127.0.0.1 - - [15/Feb/2021:04:34:23 +0000] \"GET /sql/phpmyadmin2/index.php?lang=en HTTP/1.0\" 404 232 \"-\" \"Mozilla/5.0 (Windows NT 10.0; Win64; x64) AppleWebKit/537.36 (KHTML, like Gecko) Chrome/77.0.3865.120 Safari/537.36\"\n",
      "127.0.0.1 - - [15/Feb/2021:04:34:23 +0000] \"GET /sql/phpMyAdmin2/index.php?lang=en HTTP/1.0\" 404 232 \"-\" \"Mozilla/5.0 (Windows NT 10.0; Win64; x64) AppleWebKit/537.36 (KHTML, like Gecko) Chrome/77.0.3865.120 Safari/537.36\"\n",
      "127.0.0.1 - - [15/Feb/2021:04:34:23 +0000] \"GET /sql/phpMyAdmin/index.php?lang=en HTTP/1.0\" 404 232 \"-\" \"Mozilla/5.0 (Windows NT 10.0; Win64; x64) AppleWebKit/537.36 (KHTML, like Gecko) Chrome/77.0.3865.120 Safari/537.36\"\n",
      "127.0.0.1 - - [15/Feb/2021:04:34:23 +0000] \"GET /db/myadmin/index.php?lang=en HTTP/1.0\" 404 232 \"-\" \"Mozilla/5.0 (Windows NT 10.0; Win64; x64) AppleWebKit/537.36 (KHTML, like Gecko) Chrome/77.0.3865.120 Safari/537.36\"\n",
      "127.0.0.1 - - [15/Feb/2021:04:34:23 +0000] \"GET /db/webadmin/index.php?lang=en HTTP/1.0\" 404 232 \"-\" \"Mozilla/5.0 (Windows NT 10.0; Win64; x64) AppleWebKit/537.36 (KHTML, like Gecko) Chrome/77.0.3865.120 Safari/537.36\"\n",
      "127.0.0.1 - - [15/Feb/2021:04:34:23 +0000] \"GET /db/dbweb/index.php?lang=en HTTP/1.0\" 404 232 \"-\" \"Mozilla/5.0 (Windows NT 10.0; Win64; x64) AppleWebKit/537.36 (KHTML, like Gecko) Chrome/77.0.3865.120 Safari/537.36\"\n",
      "127.0.0.1 - - [15/Feb/2021:04:34:24 +0000] \"GET /db/websql/index.php?lang=en HTTP/1.0\" 404 232 \"-\" \"Mozilla/5.0 (Windows NT 10.0; Win64; x64) AppleWebKit/537.36 (KHTML, like Gecko) Chrome/77.0.3865.120 Safari/537.36\"\n",
      "127.0.0.1 - - [15/Feb/2021:04:34:24 +0000] \"GET /db/webdb/index.php?lang=en HTTP/1.0\" 404 232 \"-\" \"Mozilla/5.0 (Windows NT 10.0; Win64; x64) AppleWebKit/537.36 (KHTML, like Gecko) Chrome/77.0.3865.120 Safari/537.36\"\n",
      "127.0.0.1 - - [15/Feb/2021:04:34:24 +0000] \"GET /db/dbadmin/index.php?lang=en HTTP/1.0\" 404 232 \"-\" \"Mozilla/5.0 (Windows NT 10.0; Win64; x64) AppleWebKit/537.36 (KHTML, like Gecko) Chrome/77.0.3865.120 Safari/537.36\"\n",
      "127.0.0.1 - - [15/Feb/2021:04:34:24 +0000] \"GET /db/db-admin/index.php?lang=en HTTP/1.0\" 404 232 \"-\" \"Mozilla/5.0 (Windows NT 10.0; Win64; x64) AppleWebKit/537.36 (KHTML, like Gecko) Chrome/77.0.3865.120 Safari/537.36\"\n",
      "127.0.0.1 - - [15/Feb/2021:04:34:24 +0000] \"GET /db/phpmyadmin3/index.php?lang=en HTTP/1.0\" 404 232 \"-\" \"Mozilla/5.0 (Windows NT 10.0; Win64; x64) AppleWebKit/537.36 (KHTML, like Gecko) Chrome/77.0.3865.120 Safari/537.36\"\n",
      "127.0.0.1 - - [15/Feb/2021:04:34:24 +0000] \"GET /db/phpMyAdmin3/index.php?lang=en HTTP/1.0\" 404 232 \"-\" \"Mozilla/5.0 (Windows NT 10.0; Win64; x64) AppleWebKit/537.36 (KHTML, like Gecko) Chrome/77.0.3865.120 Safari/537.36\"\n",
      "127.0.0.1 - - [15/Feb/2021:04:34:24 +0000] \"GET /db/phpMyAdmin-3/index.php?lang=en HTTP/1.0\" 404 232 \"-\" \"Mozilla/5.0 (Windows NT 10.0; Win64; x64) AppleWebKit/537.36 (KHTML, like Gecko) Chrome/77.0.3865.120 Safari/537.36\"\n",
      "127.0.0.1 - - [15/Feb/2021:04:34:24 +0000] \"GET /administrator/phpmyadmin/index.php?lang=en HTTP/1.0\" 404 232 \"-\" \"Mozilla/5.0 (Windows NT 10.0; Win64; x64) AppleWebKit/537.36 (KHTML, like Gecko) Chrome/77.0.3865.120 Safari/537.36\"\n",
      "127.0.0.1 - - [15/Feb/2021:04:34:24 +0000] \"GET /administrator/phpMyAdmin/index.php?lang=en HTTP/1.0\" 404 232 \"-\" \"Mozilla/5.0 (Windows NT 10.0; Win64; x64) AppleWebKit/537.36 (KHTML, like Gecko) Chrome/77.0.3865.120 Safari/537.36\"\n",
      "127.0.0.1 - - [15/Feb/2021:04:34:25 +0000] \"GET /administrator/db/index.php?lang=en HTTP/1.0\" 404 232 \"-\" \"Mozilla/5.0 (Windows NT 10.0; Win64; x64) AppleWebKit/537.36 (KHTML, like Gecko) Chrome/77.0.3865.120 Safari/537.36\"\n",
      "127.0.0.1 - - [15/Feb/2021:04:34:25 +0000] \"GET /administrator/web/index.php?lang=en HTTP/1.0\" 404 232 \"-\" \"Mozilla/5.0 (Windows NT 10.0; Win64; x64) AppleWebKit/537.36 (KHTML, like Gecko) Chrome/77.0.3865.120 Safari/537.36\"\n",
      "127.0.0.1 - - [15/Feb/2021:04:34:25 +0000] \"GET /administrator/pma/index.php?lang=en HTTP/1.0\" 404 232 \"-\" \"Mozilla/5.0 (Windows NT 10.0; Win64; x64) AppleWebKit/537.36 (KHTML, like Gecko) Chrome/77.0.3865.120 Safari/537.36\"\n",
      "127.0.0.1 - - [15/Feb/2021:04:34:25 +0000] \"GET /administrator/PMA/index.php?lang=en HTTP/1.0\" 404 232 \"-\" \"Mozilla/5.0 (Windows NT 10.0; Win64; x64) AppleWebKit/537.36 (KHTML, like Gecko) Chrome/77.0.3865.120 Safari/537.36\"\n",
      "127.0.0.1 - - [15/Feb/2021:04:34:25 +0000] \"GET /administrator/admin/index.php?lang=en HTTP/1.0\" 404 232 \"-\" \"Mozilla/5.0 (Windows NT 10.0; Win64; x64) AppleWebKit/537.36 (KHTML, like Gecko) Chrome/77.0.3865.120 Safari/537.36\"\n",
      "127.0.0.1 - - [15/Feb/2021:04:34:25 +0000] \"GET /phpMyAdmin2/index.php?lang=en HTTP/1.0\" 404 232 \"-\" \"Mozilla/5.0 (Windows NT 10.0; Win64; x64) AppleWebKit/537.36 (KHTML, like Gecko) Chrome/77.0.3865.120 Safari/537.36\"\n",
      "127.0.0.1 - - [15/Feb/2021:04:34:25 +0000] \"GET /phpMyAdmin3/index.php?lang=en HTTP/1.0\" 404 232 \"-\" \"Mozilla/5.0 (Windows NT 10.0; Win64; x64) AppleWebKit/537.36 (KHTML, like Gecko) Chrome/77.0.3865.120 Safari/537.36\"\n",
      "127.0.0.1 - - [15/Feb/2021:04:34:25 +0000] \"GET /phpMyAdmin4/index.php?lang=en HTTP/1.0\" 404 232 \"-\" \"Mozilla/5.0 (Windows NT 10.0; Win64; x64) AppleWebKit/537.36 (KHTML, like Gecko) Chrome/77.0.3865.120 Safari/537.36\"\n",
      "127.0.0.1 - - [15/Feb/2021:04:34:25 +0000] \"GET /phpMyAdmin-3/index.php?lang=en HTTP/1.0\" 404 232 \"-\" \"Mozilla/5.0 (Windows NT 10.0; Win64; x64) AppleWebKit/537.36 (KHTML, like Gecko) Chrome/77.0.3865.120 Safari/537.36\"\n",
      "127.0.0.1 - - [15/Feb/2021:04:34:26 +0000] \"GET /php-my-admin/index.php?lang=en HTTP/1.0\" 404 232 \"-\" \"Mozilla/5.0 (Windows NT 10.0; Win64; x64) AppleWebKit/537.36 (KHTML, like Gecko) Chrome/77.0.3865.120 Safari/537.36\"\n",
      "127.0.0.1 - - [15/Feb/2021:04:34:26 +0000] \"GET /PMA2011/index.php?lang=en HTTP/1.0\" 404 232 \"-\" \"Mozilla/5.0 (Windows NT 10.0; Win64; x64) AppleWebKit/537.36 (KHTML, like Gecko) Chrome/77.0.3865.120 Safari/537.36\"\n",
      "127.0.0.1 - - [15/Feb/2021:04:34:26 +0000] \"GET /PMA2012/index.php?lang=en HTTP/1.0\" 404 232 \"-\" \"Mozilla/5.0 (Windows NT 10.0; Win64; x64) AppleWebKit/537.36 (KHTML, like Gecko) Chrome/77.0.3865.120 Safari/537.36\"\n",
      "127.0.0.1 - - [15/Feb/2021:04:34:26 +0000] \"GET /PMA2013/index.php?lang=en HTTP/1.0\" 404 232 \"-\" \"Mozilla/5.0 (Windows NT 10.0; Win64; x64) AppleWebKit/537.36 (KHTML, like Gecko) Chrome/77.0.3865.120 Safari/537.36\"\n",
      "127.0.0.1 - - [15/Feb/2021:04:34:26 +0000] \"GET /PMA2014/index.php?lang=en HTTP/1.0\" 404 232 \"-\" \"Mozilla/5.0 (Windows NT 10.0; Win64; x64) AppleWebKit/537.36 (KHTML, like Gecko) Chrome/77.0.3865.120 Safari/537.36\"\n",
      "127.0.0.1 - - [15/Feb/2021:04:34:26 +0000] \"GET /PMA2015/index.php?lang=en HTTP/1.0\" 404 232 \"-\" \"Mozilla/5.0 (Windows NT 10.0; Win64; x64) AppleWebKit/537.36 (KHTML, like Gecko) Chrome/77.0.3865.120 Safari/537.36\"\n",
      "127.0.0.1 - - [15/Feb/2021:04:34:26 +0000] \"GET /PMA2016/index.php?lang=en HTTP/1.0\" 404 232 \"-\" \"Mozilla/5.0 (Windows NT 10.0; Win64; x64) AppleWebKit/537.36 (KHTML, like Gecko) Chrome/77.0.3865.120 Safari/537.36\"\n",
      "127.0.0.1 - - [15/Feb/2021:04:34:26 +0000] \"GET /PMA2017/index.php?lang=en HTTP/1.0\" 404 232 \"-\" \"Mozilla/5.0 (Windows NT 10.0; Win64; x64) AppleWebKit/537.36 (KHTML, like Gecko) Chrome/77.0.3865.120 Safari/537.36\"\n",
      "127.0.0.1 - - [15/Feb/2021:04:34:27 +0000] \"GET /PMA2018/index.php?lang=en HTTP/1.0\" 404 232 \"-\" \"Mozilla/5.0 (Windows NT 10.0; Win64; x64) AppleWebKit/537.36 (KHTML, like Gecko) Chrome/77.0.3865.120 Safari/537.36\"\n",
      "127.0.0.1 - - [15/Feb/2021:04:34:27 +0000] \"GET /PMA2019/index.php?lang=en HTTP/1.0\" 404 232 \"-\" \"Mozilla/5.0 (Windows NT 10.0; Win64; x64) AppleWebKit/537.36 (KHTML, like Gecko) Chrome/77.0.3865.120 Safari/537.36\"\n",
      "127.0.0.1 - - [15/Feb/2021:04:34:27 +0000] \"GET /PMA2020/index.php?lang=en HTTP/1.0\" 404 232 \"-\" \"Mozilla/5.0 (Windows NT 10.0; Win64; x64) AppleWebKit/537.36 (KHTML, like Gecko) Chrome/77.0.3865.120 Safari/537.36\"\n",
      "127.0.0.1 - - [15/Feb/2021:04:34:27 +0000] \"GET /pma2011/index.php?lang=en HTTP/1.0\" 404 232 \"-\" \"Mozilla/5.0 (Windows NT 10.0; Win64; x64) AppleWebKit/537.36 (KHTML, like Gecko) Chrome/77.0.3865.120 Safari/537.36\"\n",
      "127.0.0.1 - - [15/Feb/2021:04:34:27 +0000] \"GET /pma2012/index.php?lang=en HTTP/1.0\" 404 232 \"-\" \"Mozilla/5.0 (Windows NT 10.0; Win64; x64) AppleWebKit/537.36 (KHTML, like Gecko) Chrome/77.0.3865.120 Safari/537.36\"\n",
      "127.0.0.1 - - [15/Feb/2021:04:34:27 +0000] \"GET /pma2013/index.php?lang=en HTTP/1.0\" 404 232 \"-\" \"Mozilla/5.0 (Windows NT 10.0; Win64; x64) AppleWebKit/537.36 (KHTML, like Gecko) Chrome/77.0.3865.120 Safari/537.36\"\n",
      "127.0.0.1 - - [15/Feb/2021:04:34:27 +0000] \"GET /pma2014/index.php?lang=en HTTP/1.0\" 404 232 \"-\" \"Mozilla/5.0 (Windows NT 10.0; Win64; x64) AppleWebKit/537.36 (KHTML, like Gecko) Chrome/77.0.3865.120 Safari/537.36\"\n",
      "127.0.0.1 - - [15/Feb/2021:04:34:27 +0000] \"GET /pma2015/index.php?lang=en HTTP/1.0\" 404 232 \"-\" \"Mozilla/5.0 (Windows NT 10.0; Win64; x64) AppleWebKit/537.36 (KHTML, like Gecko) Chrome/77.0.3865.120 Safari/537.36\"\n",
      "127.0.0.1 - - [15/Feb/2021:04:34:27 +0000] \"GET /pma2016/index.php?lang=en HTTP/1.0\" 404 232 \"-\" \"Mozilla/5.0 (Windows NT 10.0; Win64; x64) AppleWebKit/537.36 (KHTML, like Gecko) Chrome/77.0.3865.120 Safari/537.36\"\n",
      "127.0.0.1 - - [15/Feb/2021:04:34:28 +0000] \"GET /pma2017/index.php?lang=en HTTP/1.0\" 404 232 \"-\" \"Mozilla/5.0 (Windows NT 10.0; Win64; x64) AppleWebKit/537.36 (KHTML, like Gecko) Chrome/77.0.3865.120 Safari/537.36\"\n",
      "127.0.0.1 - - [15/Feb/2021:04:34:28 +0000] \"GET /pma2018/index.php?lang=en HTTP/1.0\" 404 232 \"-\" \"Mozilla/5.0 (Windows NT 10.0; Win64; x64) AppleWebKit/537.36 (KHTML, like Gecko) Chrome/77.0.3865.120 Safari/537.36\"\n",
      "127.0.0.1 - - [15/Feb/2021:04:34:28 +0000] \"GET /pma2019/index.php?lang=en HTTP/1.0\" 404 232 \"-\" \"Mozilla/5.0 (Windows NT 10.0; Win64; x64) AppleWebKit/537.36 (KHTML, like Gecko) Chrome/77.0.3865.120 Safari/537.36\"\n",
      "127.0.0.1 - - [15/Feb/2021:04:34:28 +0000] \"GET /pma2020/index.php?lang=en HTTP/1.0\" 404 232 \"-\" \"Mozilla/5.0 (Windows NT 10.0; Win64; x64) AppleWebKit/537.36 (KHTML, like Gecko) Chrome/77.0.3865.120 Safari/537.36\"\n",
      "127.0.0.1 - - [15/Feb/2021:04:34:28 +0000] \"GET /phpmyadmin2011/index.php?lang=en HTTP/1.0\" 404 232 \"-\" \"Mozilla/5.0 (Windows NT 10.0; Win64; x64) AppleWebKit/537.36 (KHTML, like Gecko) Chrome/77.0.3865.120 Safari/537.36\"\n",
      "127.0.0.1 - - [15/Feb/2021:04:34:28 +0000] \"GET /phpmyadmin2012/index.php?lang=en HTTP/1.0\" 404 232 \"-\" \"Mozilla/5.0 (Windows NT 10.0; Win64; x64) AppleWebKit/537.36 (KHTML, like Gecko) Chrome/77.0.3865.120 Safari/537.36\"\n",
      "127.0.0.1 - - [15/Feb/2021:04:34:28 +0000] \"GET /phpmyadmin2013/index.php?lang=en HTTP/1.0\" 404 232 \"-\" \"Mozilla/5.0 (Windows NT 10.0; Win64; x64) AppleWebKit/537.36 (KHTML, like Gecko) Chrome/77.0.3865.120 Safari/537.36\"\n",
      "127.0.0.1 - - [15/Feb/2021:04:34:28 +0000] \"GET /phpmyadmin2014/index.php?lang=en HTTP/1.0\" 404 232 \"-\" \"Mozilla/5.0 (Windows NT 10.0; Win64; x64) AppleWebKit/537.36 (KHTML, like Gecko) Chrome/77.0.3865.120 Safari/537.36\"\n",
      "127.0.0.1 - - [15/Feb/2021:04:34:29 +0000] \"GET /phpmyadmin2015/index.php?lang=en HTTP/1.0\" 404 232 \"-\" \"Mozilla/5.0 (Windows NT 10.0; Win64; x64) AppleWebKit/537.36 (KHTML, like Gecko) Chrome/77.0.3865.120 Safari/537.36\"\n",
      "127.0.0.1 - - [15/Feb/2021:04:34:29 +0000] \"GET /phpmyadmin2016/index.php?lang=en HTTP/1.0\" 404 232 \"-\" \"Mozilla/5.0 (Windows NT 10.0; Win64; x64) AppleWebKit/537.36 (KHTML, like Gecko) Chrome/77.0.3865.120 Safari/537.36\"\n",
      "127.0.0.1 - - [15/Feb/2021:04:34:29 +0000] \"GET /phpmyadmin2017/index.php?lang=en HTTP/1.0\" 404 232 \"-\" \"Mozilla/5.0 (Windows NT 10.0; Win64; x64) AppleWebKit/537.36 (KHTML, like Gecko) Chrome/77.0.3865.120 Safari/537.36\"\n",
      "127.0.0.1 - - [15/Feb/2021:04:34:29 +0000] \"GET /phpmyadmin2018/index.php?lang=en HTTP/1.0\" 404 232 \"-\" \"Mozilla/5.0 (Windows NT 10.0; Win64; x64) AppleWebKit/537.36 (KHTML, like Gecko) Chrome/77.0.3865.120 Safari/537.36\"\n",
      "127.0.0.1 - - [15/Feb/2021:04:34:29 +0000] \"GET /phpmyadmin2019/index.php?lang=en HTTP/1.0\" 404 232 \"-\" \"Mozilla/5.0 (Windows NT 10.0; Win64; x64) AppleWebKit/537.36 (KHTML, like Gecko) Chrome/77.0.3865.120 Safari/537.36\"\n",
      "127.0.0.1 - - [15/Feb/2021:04:34:29 +0000] \"GET /phpmyadmin2020/index.php?lang=en HTTP/1.0\" 404 232 \"-\" \"Mozilla/5.0 (Windows NT 10.0; Win64; x64) AppleWebKit/537.36 (KHTML, like Gecko) Chrome/77.0.3865.120 Safari/537.36\"\n",
      "127.0.0.1 - - [15/Feb/2021:04:34:29 +0000] \"GET /index.php?lang=en HTTP/1.0\" 404 232 \"-\" \"Mozilla/5.0 (Windows NT 10.0; Win64; x64) AppleWebKit/537.36 (KHTML, like Gecko) Chrome/77.0.3865.120 Safari/537.36\"\n",
      "127.0.0.1 - - [15/Feb/2021:04:52:27 +0000] \"POST /GponForm/diag_Form?images%2F= HTTP/1.0\" 404 232 \"-\" \"Hello, World\"\n",
      "2021-02-15 05:38:49,526 | root | INFO | Swagger file not present\n",
      "2021-02-15 05:38:49,526 | root | INFO | 404\n",
      "127.0.0.1 - - [15/Feb/2021:05:38:49 +0000] \"GET /swagger.json HTTP/1.0\" 404 19 \"-\" \"Go-http-client/1.1\"\n",
      "2021-02-15 05:40:24,876 | root | INFO | Swagger file not present\n",
      "2021-02-15 05:40:24,876 | root | INFO | 404\n",
      "127.0.0.1 - - [15/Feb/2021:05:40:24 +0000] \"GET /swagger.json HTTP/1.0\" 404 19 \"-\" \"Go-http-client/1.1\"\n",
      "\n"
     ]
    }
   ],
   "source": [
    "web_service_logs = aci_service.get_logs()\n",
    "with open(\"./web_service_logs.txt\", 'w') as output:\n",
    "    output.write(str(web_service_logs))\n",
    "print(web_service_logs)"
   ]
  },
  {
   "cell_type": "markdown",
   "metadata": {
    "nteract": {
     "transient": {
      "deleting": false
     }
    }
   },
   "source": [
    "### Pos. Samples:\n",
    "\n",
    "`df_sorted = df.sort_values(by=(df.columns[-1]), ascending=False, inplace=True)`\n",
    "\n",
    "`df.head(36)`\n",
    "\n",
    "`df.head(36).index.tolist()`\n",
    "\n",
    "`df.loc[73090].to_dict()`\n",
    "\n",
    "\n",
    "`Column1,Column2,Column3,Column4,Column5,Column6,Column7,Column8,Column9,Column10,Column11,Column12,Column13,Column14,Column15,Column16,Column17,Column18,Column19,Column20,Column21,Column22,Column23,Column24,Column25,Column26,Column27,Column28,Column29,Column30,Column31,Column32,Column33,Column34,Column35,Column36,Column37,Column38\n",
    "0,0,0,15,15,460,460,0,15,15,0,0,0,300,0,513927,513363,0,513925,0,0,5004624,5005212,5004692,233602.73,0,0,0,0,0,233594.23,0,0,241196.38,28,6,3.048003,6`\n"
   ]
  },
  {
   "cell_type": "code",
   "execution_count": 39,
   "metadata": {
    "gather": {
     "logged": 1613316945431
    },
    "jupyter": {
     "outputs_hidden": false,
     "source_hidden": false
    },
    "nteract": {
     "transient": {
      "deleting": false
     }
    }
   },
   "outputs": [
    {
     "name": "stdout",
     "output_type": "stream",
     "text": [
      "[{\"Column1\":11,\"Column2\":17856,\"Column3\":17856,\"Column4\":13,\"Column5\":13,\"Column6\":284,\"Column7\":284,\"Column8\":0.0,\"Column9\":9,\"Column10\":9,\"Column11\":0,\"Column12\":0,\"Column13\":0.0,\"Column14\":204,\"Column15\":0.0,\"Column16\":28508,\"Column17\":28302,\"Column18\":0,\"Column19\":28302,\"Column20\":0,\"Column21\":0,\"Column22\":33195,\"Column23\":33307,\"Column24\":33203,\"Column25\":9964.668,\"Column26\":0.0,\"Column27\":1373.5385,\"Column28\":1373.5385,\"Column29\":2920,\"Column30\":1151.352,\"Column31\":8140.0273,\"Column32\":0,\"Column33\":0,\"Column34\":6194.4062,\"Column35\":20,\"Column36\":2920,\"Column37\":1097.6366,\"Column38\":0},{\"Column1\":0,\"Column2\":6,\"Column3\":6,\"Column4\":1,\"Column5\":1,\"Column6\":20,\"Column7\":20,\"Column8\":0.0,\"Column9\":1,\"Column10\":1,\"Column11\":0,\"Column12\":0,\"Column13\":0.0,\"Column14\":20,\"Column15\":0.0,\"Column16\":0,\"Column17\":41,\"Column18\":0,\"Column19\":0,\"Column20\":0,\"Column21\":0,\"Column22\":0,\"Column23\":41,\"Column24\":0,\"Column25\":0.0,\"Column26\":0.0,\"Column27\":6.0,\"Column28\":6.0,\"Column29\":6,\"Column30\":0.0,\"Column31\":0.0,\"Column32\":0,\"Column33\":1,\"Column34\":0.0,\"Column35\":20,\"Column36\":6,\"Column37\":0.0,\"Column38\":6}]\n",
      "foresights:\n",
      "[0, 0]\n",
      "\n"
     ]
    }
   ],
   "source": [
    "X_test_json = X_test_df[9:11].to_json(orient='records')\n",
    "print(X_test_json)\n",
    "output = aci_service.run(X_test_json)\n",
    "print('foresights:\\n{}\\n'.format(output['predictions']))"
   ]
  },
  {
   "cell_type": "code",
   "execution_count": 40,
   "metadata": {
    "gather": {
     "logged": 1613321520003
    },
    "jupyter": {
     "outputs_hidden": false,
     "source_hidden": false
    },
    "nteract": {
     "transient": {
      "deleting": false
     }
    }
   },
   "outputs": [],
   "source": [
    "aci_service.update(enable_app_insights=True)"
   ]
  },
  {
   "cell_type": "code",
   "execution_count": 41,
   "metadata": {
    "gather": {
     "logged": 1613321555013
    },
    "jupyter": {
     "outputs_hidden": false,
     "source_hidden": false
    },
    "nteract": {
     "transient": {
      "deleting": false
     }
    }
   },
   "outputs": [
    {
     "data": {
      "text/plain": [
       "'http://ae33d91f-ccc4-4772-a8e3-990ed9d914ba.uksouth.azurecontainer.io/score'"
      ]
     },
     "execution_count": 41,
     "metadata": {},
     "output_type": "execute_result"
    }
   ],
   "source": [
    "aci_service.scoring_uri"
   ]
  },
  {
   "cell_type": "code",
   "execution_count": 42,
   "metadata": {
    "gather": {
     "logged": 1613328293385
    },
    "jupyter": {
     "outputs_hidden": false,
     "source_hidden": false
    },
    "nteract": {
     "transient": {
      "deleting": false
     }
    }
   },
   "outputs": [],
   "source": [
    "y_test_df_sorted = y_test_df.sort_values(by=(df.columns[-1]), ascending=False, inplace=True)"
   ]
  },
  {
   "cell_type": "code",
   "execution_count": 43,
   "metadata": {
    "gather": {
     "logged": 1613328441493
    },
    "jupyter": {
     "outputs_hidden": false,
     "source_hidden": false
    },
    "nteract": {
     "transient": {
      "deleting": false
     }
    }
   },
   "outputs": [
    {
     "data": {
      "text/html": [
       "<div>\n",
       "<style scoped>\n",
       "    .dataframe tbody tr th:only-of-type {\n",
       "        vertical-align: middle;\n",
       "    }\n",
       "\n",
       "    .dataframe tbody tr th {\n",
       "        vertical-align: top;\n",
       "    }\n",
       "\n",
       "    .dataframe thead th {\n",
       "        text-align: right;\n",
       "    }\n",
       "</style>\n",
       "<table border=\"1\" class=\"dataframe\">\n",
       "  <thead>\n",
       "    <tr style=\"text-align: right;\">\n",
       "      <th></th>\n",
       "      <th>Column39</th>\n",
       "    </tr>\n",
       "  </thead>\n",
       "  <tbody>\n",
       "    <tr>\n",
       "      <th>13799</th>\n",
       "      <td>1</td>\n",
       "    </tr>\n",
       "    <tr>\n",
       "      <th>16872</th>\n",
       "      <td>1</td>\n",
       "    </tr>\n",
       "    <tr>\n",
       "      <th>32082</th>\n",
       "      <td>1</td>\n",
       "    </tr>\n",
       "    <tr>\n",
       "      <th>15572</th>\n",
       "      <td>1</td>\n",
       "    </tr>\n",
       "    <tr>\n",
       "      <th>17539</th>\n",
       "      <td>1</td>\n",
       "    </tr>\n",
       "    <tr>\n",
       "      <th>17219</th>\n",
       "      <td>1</td>\n",
       "    </tr>\n",
       "    <tr>\n",
       "      <th>38531</th>\n",
       "      <td>0</td>\n",
       "    </tr>\n",
       "    <tr>\n",
       "      <th>38532</th>\n",
       "      <td>0</td>\n",
       "    </tr>\n",
       "  </tbody>\n",
       "</table>\n",
       "</div>"
      ],
      "text/plain": [
       "       Column39\n",
       "13799  1       \n",
       "16872  1       \n",
       "32082  1       \n",
       "15572  1       \n",
       "17539  1       \n",
       "17219  1       \n",
       "38531  0       \n",
       "38532  0       "
      ]
     },
     "execution_count": 43,
     "metadata": {},
     "output_type": "execute_result"
    }
   ],
   "source": [
    "y_test_df.head(8)"
   ]
  },
  {
   "cell_type": "code",
   "execution_count": 44,
   "metadata": {
    "gather": {
     "logged": 1613328535972
    },
    "jupyter": {
     "outputs_hidden": false,
     "source_hidden": false
    },
    "nteract": {
     "transient": {
      "deleting": false
     }
    }
   },
   "outputs": [
    {
     "data": {
      "text/html": [
       "[13799, 16872, 32082, 15572, 17539, 17219, 38531]"
      ],
      "text/plain": [
       "[13799, 16872, 32082, 15572, 17539, 17219, 38531]"
      ]
     },
     "execution_count": 44,
     "metadata": {},
     "output_type": "execute_result"
    }
   ],
   "source": [
    "y_test_df.head(7).index.tolist()"
   ]
  },
  {
   "cell_type": "code",
   "execution_count": 45,
   "metadata": {
    "gather": {
     "logged": 1613328617904
    },
    "jupyter": {
     "outputs_hidden": false,
     "source_hidden": false
    },
    "nteract": {
     "transient": {
      "deleting": false
     }
    }
   },
   "outputs": [
    {
     "data": {
      "text/plain": [
       "{'Column1': 0.0,\n",
       " 'Column2': 0.0,\n",
       " 'Column3': 0.0,\n",
       " 'Column4': 1.0,\n",
       " 'Column5': 1.0,\n",
       " 'Column6': 32.0,\n",
       " 'Column7': 32.0,\n",
       " 'Column8': 0.0,\n",
       " 'Column9': 1.0,\n",
       " 'Column10': 1.0,\n",
       " 'Column11': 0.0,\n",
       " 'Column12': 0.0,\n",
       " 'Column13': 0.0,\n",
       " 'Column14': 32.0,\n",
       " 'Column15': 0.0,\n",
       " 'Column16': 0.0,\n",
       " 'Column17': 51.0,\n",
       " 'Column18': 0.0,\n",
       " 'Column19': 0.0,\n",
       " 'Column20': 0.0,\n",
       " 'Column21': 0.0,\n",
       " 'Column22': 0.0,\n",
       " 'Column23': 51.0,\n",
       " 'Column24': 0.0,\n",
       " 'Column25': 0.0,\n",
       " 'Column26': 0.0,\n",
       " 'Column27': 0.0,\n",
       " 'Column28': 0.0,\n",
       " 'Column29': 0.0,\n",
       " 'Column30': 0.0,\n",
       " 'Column31': 0.0,\n",
       " 'Column32': 0.0,\n",
       " 'Column33': 1.0,\n",
       " 'Column34': 0.0,\n",
       " 'Column35': 32.0,\n",
       " 'Column36': 0.0,\n",
       " 'Column37': 0.0,\n",
       " 'Column38': 0.0,\n",
       " 'Column39': 0.0}"
      ]
     },
     "execution_count": 45,
     "metadata": {},
     "output_type": "execute_result"
    }
   ],
   "source": [
    "df.loc[26841].to_dict()"
   ]
  },
  {
   "cell_type": "code",
   "execution_count": 46,
   "metadata": {
    "gather": {
     "logged": 1613324449291
    },
    "jupyter": {
     "outputs_hidden": false,
     "source_hidden": false
    },
    "nteract": {
     "transient": {
      "deleting": false
     }
    }
   },
   "outputs": [
    {
     "name": "stdout",
     "output_type": "stream",
     "text": [
      "[' Destination Port', ' Flow Duration', ' Total Fwd Packets', ' Total Backward Packets', 'Total Length of Fwd Packets', ' Total Length of Bwd Packets', ' Fwd Packet Length Max', ' Fwd Packet Length Min', ' Fwd Packet Length Mean', ' Fwd Packet Length Std', 'Bwd Packet Length Max', ' Bwd Packet Length Min', ' Bwd Packet Length Mean', ' Bwd Packet Length Std', 'Flow Bytes/s', ' Flow Packets/s', ' Flow IAT Mean', ' Flow IAT Std', ' Flow IAT Max', ' Flow IAT Min', 'Fwd IAT Total', ' Fwd IAT Mean', ' Fwd IAT Std', ' Fwd IAT Max', ' Fwd IAT Min', 'Bwd IAT Total', ' Bwd IAT Mean', ' Bwd IAT Std', ' Bwd IAT Max', ' Bwd IAT Min', 'Fwd PSH Flags', ' Bwd PSH Flags', ' Fwd URG Flags', ' Bwd URG Flags', ' Fwd Header Length', ' Bwd Header Length', 'Fwd Packets/s', ' Bwd Packets/s', ' Min Packet Length', ' Max Packet Length', ' Packet Length Mean', ' Packet Length Std', ' Packet Length Variance', 'FIN Flag Count', ' SYN Flag Count', ' RST Flag Count', ' PSH Flag Count', ' ACK Flag Count', ' URG Flag Count', ' CWE Flag Count', ' ECE Flag Count', ' Down/Up Ratio', ' Average Packet Size', ' Avg Fwd Segment Size', ' Avg Bwd Segment Size', ' Fwd Header Length.1', 'Fwd Avg Bytes/Bulk', ' Fwd Avg Packets/Bulk', ' Fwd Avg Bulk Rate', ' Bwd Avg Bytes/Bulk', ' Bwd Avg Packets/Bulk', 'Bwd Avg Bulk Rate', 'Subflow Fwd Packets', ' Subflow Fwd Bytes', ' Subflow Bwd Packets', ' Subflow Bwd Bytes', 'Init_Win_bytes_forward', ' Init_Win_bytes_backward', ' act_data_pkt_fwd', ' min_seg_size_forward', 'Active Mean', ' Active Std', ' Active Max', ' Active Min', 'Idle Mean', ' Idle Std', ' Idle Max', ' Idle Min', ' Label']\n"
     ]
    }
   ],
   "source": [
    "csv_data = 'https://workspace1st4305015718.blob.core.windows.net/public/IDS2017-Infilteration.csv'\n",
    "cols = list(pd.read_csv(csv_data, nrows =1))\n",
    "print(cols)"
   ]
  },
  {
   "cell_type": "code",
   "execution_count": 47,
   "metadata": {
    "gather": {
     "logged": 1613328728207
    },
    "jupyter": {
     "outputs_hidden": false,
     "source_hidden": false
    },
    "nteract": {
     "transient": {
      "deleting": false
     }
    }
   },
   "outputs": [],
   "source": [
    "## # train-within-notebook?!!\n",
    "## https://render.githubusercontent.com/view/ipynb?color_mode=light&commit=475ea361068d237680f8f6127577b39cbeee42cc&enc_url=68747470733a2f2f7261772e67697468756275736572636f6e74656e742e636f6d2f417a7572652f4d616368696e654c6561726e696e674e6f7465626f6f6b732f343735656133363130363864323337363830663866363132373537376233396362656565343263632f686f772d746f2d7573652d617a7572656d6c2f747261696e696e672f747261696e2d77697468696e2d6e6f7465626f6f6b2f747261696e2d77697468696e2d6e6f7465626f6f6b2e6970796e62&nwo=Azure%2FMachineLearningNotebooks&path=how-to-use-azureml%2Ftraining%2Ftrain-within-notebook%2Ftrain-within-notebook.ipynb&repository_id=145148726&repository_type=Repository#Deploy\n",
    "service = ws.webservices['score025ids2017inf']\n",
    "test_samples = X_test_json\n",
    "test_samples = X_test_df[26840:26842].to_json(orient='records')\n",
    "result = service.run(input_data = test_samples)\n",
    "residual = result - y_test_df # y_test\n",
    "# headers = cols\n",
    "url = aci_service.scoring_uri # 'http://2f4ed05e-8740-4ddb-935c-e18dafce794d.uksouth.azurecontainer.io/score'\n",
    "api_key = '' # 'sCqE2ssjRlYgwDRgC1MZxAZgDjP6dwMp' # Replace with the API key for the web service, IF AUTH ENABLED!\n",
    "headers = {'Content-Type':'application/json', 'Authorization':('Bearer '+ api_key)}\n",
    "resp = requests.post(aci_service.scoring_uri, test_samples, headers = headers)"
   ]
  },
  {
   "cell_type": "code",
   "execution_count": 48,
   "metadata": {
    "gather": {
     "logged": 1613328730786
    },
    "jupyter": {
     "outputs_hidden": false,
     "source_hidden": false
    },
    "nteract": {
     "transient": {
      "deleting": false
     }
    }
   },
   "outputs": [
    {
     "data": {
      "text/plain": [
       "'{\"predictions\": [0, 0]}'"
      ]
     },
     "execution_count": 48,
     "metadata": {},
     "output_type": "execute_result"
    }
   ],
   "source": [
    "resp.text"
   ]
  },
  {
   "cell_type": "code",
   "execution_count": 49,
   "metadata": {
    "gather": {
     "logged": 1613321551459
    },
    "jupyter": {
     "outputs_hidden": false,
     "source_hidden": false
    },
    "nteract": {
     "transient": {
      "deleting": false
     }
    }
   },
   "outputs": [
    {
     "data": {
      "text/plain": [
       "'Healthy'"
      ]
     },
     "execution_count": 49,
     "metadata": {},
     "output_type": "execute_result"
    }
   ],
   "source": [
    "aci_service.state"
   ]
  },
  {
   "cell_type": "code",
   "execution_count": 50,
   "metadata": {
    "gather": {
     "logged": 1613327404752
    },
    "jupyter": {
     "outputs_hidden": false,
     "source_hidden": false
    },
    "nteract": {
     "transient": {
      "deleting": false
     }
    }
   },
   "outputs": [
    {
     "data": {
      "text/html": [
       "['resp.txt']"
      ],
      "text/plain": [
       "['resp.txt']"
      ]
     },
     "execution_count": 50,
     "metadata": {},
     "output_type": "execute_result"
    }
   ],
   "source": [
    "joblib.dump(resp.text, \"resp.txt\")"
   ]
  },
  {
   "cell_type": "code",
   "execution_count": 51,
   "metadata": {
    "gather": {
     "logged": 1613328786718
    },
    "jupyter": {
     "outputs_hidden": false,
     "source_hidden": false
    },
    "nteract": {
     "transient": {
      "deleting": false
     }
    }
   },
   "outputs": [
    {
     "data": {
      "image/png": "[encoded data removed]",
      "text/plain": [
       "<Figure size 1008x432 with 2 Axes>"
      ]
     },
     "metadata": {
      "needs_background": "light"
     },
     "output_type": "display_data"
    }
   ],
   "source": [
    "%matplotlib inline\n",
    "import matplotlib.pyplot as plt\n",
    "f, (a0, a1) = plt.subplots(1, 2, gridspec_kw={'width_ratios':[3, 1], 'wspace':0, 'hspace': 0})\n",
    "f.suptitle('Residual Values', fontsize = 18)\n",
    "f.set_figheight(6)\n",
    "f.set_figwidth(14)\n",
    "a0.plot(residual, 'bo', alpha=0.4)\n",
    "a0.plot([0,90], [0,0], 'r', lw=2)\n",
    "a0.set_ylabel('residue values', fontsize=14)\n",
    "a0.set_xlabel('test data set', fontsize=14)\n",
    "# a1.hist(residual, orientation='horizontal', color='blue', bins=10, histtype='step')\n",
    "# a1.hist(residual, orientation='horizontal', color='blue', alpha=0.2, bins=10)\n",
    "a1.set_yticklabels([])\n",
    "plt.show()"
   ]
  },
  {
   "cell_type": "code",
   "execution_count": 52,
   "metadata": {
    "gather": {
     "logged": 1613324747404
    },
    "jupyter": {
     "outputs_hidden": false,
     "source_hidden": false
    },
    "nteract": {
     "transient": {
      "deleting": false
     }
    }
   },
   "outputs": [],
   "source": [
    "# # TODO: ONNX Exporting\n",
    "# automl_onnx_model = automl_run.get_output(return_onnx_model=True)\n",
    "# joblib.dump(automl_onnx_model, \"automl_onnx_model.pkl\") # !## # !## # !##\n",
    "# # # automl_onnx_model"
   ]
  },
  {
   "cell_type": "code",
   "execution_count": 53,
   "metadata": {
    "gather": {
     "logged": 1613321429675
    },
    "jupyter": {
     "outputs_hidden": false,
     "source_hidden": false
    },
    "nteract": {
     "transient": {
      "deleting": false
     }
    }
   },
   "outputs": [
    {
     "name": "stdout",
     "output_type": "stream",
     "text": [
      "CPU times: user 5 µs, sys: 0 ns, total: 5 µs\n",
      "Wall time: 10.5 µs\n"
     ]
    }
   ],
   "source": [
    "%%time\n",
    "# aci_service.delete()\n",
    "# print(aci_service.state)"
   ]
  },
  {
   "cell_type": "code",
   "execution_count": 54,
   "metadata": {
    "gather": {
     "logged": 1613312773196
    }
   },
   "outputs": [],
   "source": [
    "# aks_service.delete()\n",
    "# aks_target.delete()\n",
    "# print(aks_service.state)"
   ]
  },
  {
   "cell_type": "code",
   "execution_count": 55,
   "metadata": {
    "gather": {
     "logged": 1613321601777
    },
    "jupyter": {
     "outputs_hidden": false,
     "source_hidden": false
    },
    "nteract": {
     "transient": {
      "deleting": false
     }
    }
   },
   "outputs": [],
   "source": [
    "# # # Deleting AML Compute Cluster via APIs\n",
    "# # from azureml.core.compute import ComputeTarget, AmlCompute # !1st\n",
    "# if delete_completion == True:\n",
    "#     try:\n",
    "#         cluster_target.delete()\n",
    "#         print('\\n Attemting to delete the ComputeTarget (if found)...')\n",
    "#         print(cluster_target.status.serialize())\n",
    "#         cluster_target.wait_for_completion()\n",
    "#     except Exception as e:\n",
    "#         if '\\n ComputeTarget Not Found!' in e.message:\n",
    "#             print(\"\\n ComputeTarget has been deleted\")\n",
    "#             delete_completion = False\n"
   ]
  },
  {
   "cell_type": "code",
   "execution_count": 57,
   "metadata": {},
   "outputs": [],
   "source": [
    "# !tar -czvf automl-hd-archive.tar.gz ."
   ]
  },
  {
   "cell_type": "markdown",
   "metadata": {
    "nteract": {
     "transient": {
      "deleting": false
     }
    }
   },
   "source": [
    "## Acknowledgements"
   ]
  },
  {
   "cell_type": "markdown",
   "metadata": {
    "nteract": {
     "transient": {
      "deleting": false
     }
    }
   },
   "source": [
    "Apart from the officially provided best practice and patterns' snippets by Microsoft and/or Udacity, this is to acknowledge that such data [subset](https://workspace1st4305015718.blob.core.windows.net/public/IDS2017-Infilteration.csv) was originally made public and is [available online](https://www.unb.ca/cic/datasets/ids-2017.html); while citing the following works: \n",
    "\n",
    "Iman Sharafaldin, Arash Habibi Lashkari, and Ali A. Ghorbani,\n",
    "“Toward Generating a New Intrusion Detection Dataset and Intrusion Traffic Characterization”,\n",
    "4th International Conference on Information Systems Security and Privacy (ICISSP), Purtogal, January 2018.\n"
   ]
  }
 ],
 "metadata": {
  "authors": [
   {
    "name": "ratanase"
   }
  ],
  "category": "tutorial",
  "compute": [
   "Local"
  ],
  "datasets": [
   "creditcard"
  ],
  "deployment": [
   "None"
  ],
  "exclude_from_index": true,
  "file_extension": ".py",
  "framework": [
   "None"
  ],
  "friendly_name": "Classification of credit card fraudulent transactions using Automated ML",
  "index_order": 5,
  "kernel_info": {
   "name": "python3-azureml"
  },
  "kernelspec": {
   "display_name": "Python 3.6 - AzureML",
   "language": "python",
   "name": "python3-azureml"
  },
  "language_info": {
   "codemirror_mode": {
    "name": "ipython",
    "version": 3
   },
   "file_extension": ".py",
   "mimetype": "text/x-python",
   "name": "python",
   "nbconvert_exporter": "python",
   "pygments_lexer": "ipython3",
   "version": "3.6.9"
  },
  "mimetype": "text/x-python",
  "name": "python",
  "nbconvert_exporter": "python",
  "nteract": {
   "version": "nteract-front-end@1.0.0"
  },
  "pygments_lexer": "ipython3",
  "tags": [
   "local_run",
   "AutomatedML"
  ],
  "task": "Classification",
  "version": "3.6.7"
 },
 "nbformat": 4,
 "nbformat_minor": 2
}
