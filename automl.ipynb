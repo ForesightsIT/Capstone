{
  "cells": [
    {
      "cell_type": "code",
      "source": [
        "# !wget https://raw.githubusercontent.com/udacity/nd00333-capstone/master/starter_file/automl.ipynb"
      ],
      "outputs": [],
      "execution_count": null,
      "metadata": {
        "collapsed": true,
        "jupyter": {
          "source_hidden": false,
          "outputs_hidden": false
        },
        "nteract": {
          "transient": {
            "deleting": false
          }
        }
      }
    },
    {
      "cell_type": "markdown",
      "source": [
        "# Automated ML\r\n",
        "\r\n",
        "TODO: Import Dependencies. In the cell below, import all the dependencies that you will need to complete the project."
      ],
      "metadata": {
        "nteract": {
          "transient": {
            "deleting": false
          }
        }
      }
    },
    {
      "cell_type": "code",
      "source": [
        "# experiment_name = \"ml-experiment-023b\" # ids2017\" # PLACEHOLDER\r\n",
        "experiment_name = \"ml-experiment-025\" # ids2017\" # PLACEHOLDER\r\n",
        "run1_id = 'AutoML_532e1f2e-40f2-44cf-845f-4ff45db1a7c8'\r\n",
        "\r\n",
        "csv_data = 'https://workspace1st4305015718.blob.core.windows.net/public/IDS2017-Infilteration.csv'\r\n",
        "data_urls = \"https://raw.githubusercontent.com/ForesightsIT/IDS/main/IDS2017-Infilteration.zip\"\r\n",
        "ds_key = \"IDS2017Infilteration\"\r\n",
        "ds_description_text = \"IDS2017Infilteration\"\r\n",
        "source_directory = \"./training\"\r\n",
        "project_folder = source_directory # './training'\r\n",
        "script_folder = source_directory\r\n",
        "\r\n",
        "# ws_name = \"quick-starts-ws-129448\" # !##\r\n",
        "workspace_name = \"workspace1st\" # PLACEHOLDER\r\n",
        "subscription_id = \"5cf0bb76-4731-4cb5-ac3d-950c07dda6ef\" # PLACEHOLDER\r\n",
        "resource_group = \"group1st\" # PLACEHOLDER\r\n",
        "workspace_region = \"uksouth\" #region\r\n"
      ],
      "outputs": [],
      "execution_count": 1,
      "metadata": {
        "collapsed": true,
        "jupyter": {
          "source_hidden": false,
          "outputs_hidden": false
        },
        "nteract": {
          "transient": {
            "deleting": false
          }
        },
        "gather": {
          "logged": 1613310458835
        }
      }
    },
    {
      "cell_type": "code",
      "source": [
        "## # from azureml.core import Workspace, Datastore, Dataset, Experiment, Environment, Run, ScriptRunConfig, Model\r\n",
        "from azureml.telemetry import set_diagnostics_collection\r\n",
        "set_diagnostics_collection(send_diagnostics=True)\r\n",
        "print(\"Starting the setup...\")\r\n",
        "## from sklearn.externals import joblib\r\n",
        "# %pip install --upgrade --force-reinstall -r https://aka.ms/automl_linux_requirements.txt\r\n",
        "# %pip install --upgrade --force-reinstall -r /anaconda/envs/azureml_py36/lib/python3.6/site-packages/azureml/automl/core/validated_linux_requirements.txt\r\n",
        "# !pip install joblib\r\n",
        "# !pip install --upgrade azureml-sdk[notebooks]\r\n",
        "# !pip install --user azureml-core\r\n",
        "# !pip install azureml-dataprep[parquet] # pyarrow\r\n",
        "# %pip install --upgrade --force-reinstall -r https://aka.ms/automl_linux_requirements.txt\r\n",
        "import azureml.core\r\n",
        "from azureml.core import Workspace, Datastore, Dataset, Experiment, Environment, Run, ScriptRunConfig, Model\r\n",
        "from azureml.core.compute import ComputeTarget, AmlCompute\r\n",
        "from azureml.core.compute_target import ComputeTargetException\r\n",
        "from azureml.core.experiment import Experiment\r\n",
        "from azureml.core.workspace import Workspace\r\n",
        "from azureml.data.dataset_factory import TabularDatasetFactory\r\n",
        "from azureml.core.dataset import Dataset\r\n",
        "from azureml.core.datastore import Datastore\r\n",
        "from azureml.core.model import Model\r\n",
        "from azureml.core.model import InferenceConfig\r\n",
        "from azureml.core.webservice import AksWebservice\r\n",
        "from azureml.core.webservice import Webservice\r\n",
        "from azureml.exceptions import ComputeTargetException\r\n",
        "from azureml.widgets import RunDetails\r\n",
        "from azureml.pipeline.steps import AutoMLStep\r\n",
        "import azureml.dataprep as dprep\r\n",
        "from azureml.train.automl import AutoMLConfig\r\n",
        "from azureml.train.hyperdrive import BanditPolicy, HyperDriveRunConfig, PrimaryMetricGoal, RandomParameterSampling, uniform\r\n",
        "from azureml.train.hyperdrive.parameter_expressions import uniform, choice\r\n",
        "from azureml.train.hyperdrive.policy import BanditPolicy\r\n",
        "from azureml.train.hyperdrive.run import PrimaryMetricGoal\r\n",
        "from azureml.train.hyperdrive.runconfig import HyperDriveConfig\r\n",
        "from azureml.train.hyperdrive.sampling import RandomParameterSampling\r\n",
        "from azureml.train.automl.runtime.automl_explain_utilities import automl_setup_model_explanations\r\n",
        "from azureml.interpret import ExplanationClient\r\n",
        "from azureml.interpret.mimic_wrapper import MimicWrapper\r\n",
        "from azureml.interpret.scoring.scoring_explainer import TreeScoringExplainer\r\n",
        "from interpret.ext.glassbox import LGBMExplainableModel\r\n",
        "from azureml.train.sklearn import SKLearn\r\n",
        "from sklearn import datasets\r\n",
        "from sklearn.metrics import mean_squared_error\r\n",
        "from sklearn.metrics import confusion_matrix\r\n",
        "from IPython import get_ipython\r\n",
        "from matplotlib import pyplot as plt\r\n",
        "from matplotlib.pyplot import imshow\r\n",
        "import numpy as np\r\n",
        "import pandas as pd\r\n",
        "import logging, os, csv, pkg_resources, itertools, shutil, joblib, json, requests, random, sys, time, traceback\r\n",
        "print(\"SDK version:\", azureml.core.VERSION)"
      ],
      "outputs": [
        {
          "output_type": "stream",
          "name": "stdout",
          "text": [
            "Turning diagnostics collection on. \n",
            "Starting the setup...\n",
            "SDK version: 1.22.0\n"
          ]
        }
      ],
      "execution_count": 138,
      "metadata": {
        "collapsed": true,
        "jupyter": {
          "source_hidden": false,
          "outputs_hidden": false
        },
        "nteract": {
          "transient": {
            "deleting": false
          }
        },
        "gather": {
          "logged": 1613324523798
        }
      }
    },
    {
      "cell_type": "code",
      "source": [
        "ws = Workspace.from_config()\n",
        "experiment_name = experiment_name\n",
        "experiment=Experiment(ws, experiment_name)\n",
        "\n",
        "output = {}\n",
        "output['Subscription ID'] = ws.subscription_id\n",
        "output['Workspace'] = ws.name\n",
        "output['Resource Group'] = ws.resource_group\n",
        "output['Location'] = ws.location\n",
        "output['Experiment Name'] = experiment.name\n",
        "pd.set_option('display.max_colwidth', -1)\n",
        "outputDf = pd.DataFrame(data = output, index = [''])\n",
        "outputDf.T"
      ],
      "outputs": [
        {
          "output_type": "execute_result",
          "execution_count": 5,
          "data": {
            "text/plain": "                                                     \nSubscription ID  5cf0bb76-4731-4cb5-ac3d-950c07dda6ef\nWorkspace        workspace1st                        \nResource Group   group1st                            \nLocation         uksouth                             \nExperiment Name  ml-experiment-025                   ",
            "text/html": "<div>\n<style scoped>\n    .dataframe tbody tr th:only-of-type {\n        vertical-align: middle;\n    }\n\n    .dataframe tbody tr th {\n        vertical-align: top;\n    }\n\n    .dataframe thead th {\n        text-align: right;\n    }\n</style>\n<table border=\"1\" class=\"dataframe\">\n  <thead>\n    <tr style=\"text-align: right;\">\n      <th></th>\n      <th></th>\n    </tr>\n  </thead>\n  <tbody>\n    <tr>\n      <th>Subscription ID</th>\n      <td>5cf0bb76-4731-4cb5-ac3d-950c07dda6ef</td>\n    </tr>\n    <tr>\n      <th>Workspace</th>\n      <td>workspace1st</td>\n    </tr>\n    <tr>\n      <th>Resource Group</th>\n      <td>group1st</td>\n    </tr>\n    <tr>\n      <th>Location</th>\n      <td>uksouth</td>\n    </tr>\n    <tr>\n      <th>Experiment Name</th>\n      <td>ml-experiment-025</td>\n    </tr>\n  </tbody>\n</table>\n</div>"
          },
          "metadata": {}
        }
      ],
      "execution_count": 5,
      "metadata": {
        "gather": {
          "logged": 1613310459666
        }
      }
    },
    {
      "cell_type": "code",
      "source": [
        "cpu_cluster_name = \"cpu-cluster\" # \"cpu-cluster-1\"\r\n",
        "\r\n",
        "try:\r\n",
        "    compute_target = ComputeTarget(workspace=ws, name=cpu_cluster_name)\r\n",
        "    print('Found existing cluster, use it.')\r\n",
        "except ComputeTargetException:\r\n",
        "    compute_config = AmlCompute.provisioning_configuration(vm_size='STANDARD_DS12_V2',min_nodes=1,max_nodes=4,vm_priority='lowpriority')\r\n",
        "    compute_target = ComputeTarget.create(ws, cpu_cluster_name, compute_config)\r\n",
        "\r\n",
        "compute_target.wait_for_completion(show_output=True)"
      ],
      "outputs": [
        {
          "output_type": "stream",
          "name": "stdout",
          "text": [
            "Found existing cluster, use it.\n",
            "Succeeded\n",
            "AmlCompute wait for completion finished\n",
            "\n",
            "Minimum number of nodes requested have been provisioned\n"
          ]
        }
      ],
      "execution_count": 6,
      "metadata": {
        "collapsed": true,
        "jupyter": {
          "source_hidden": false,
          "outputs_hidden": false
        },
        "nteract": {
          "transient": {
            "deleting": false
          }
        },
        "gather": {
          "logged": 1613310459890
        }
      }
    },
    {
      "cell_type": "markdown",
      "source": [
        "## Dataset\r\n",
        "\r\n",
        "### Overview\r\n",
        "TODO: In this markdown cell, give an overview of the dataset you are using. Also mention the task you will be performing.\r\n",
        "\r\n",
        "\r\n",
        "TODO: Get data. In the cell below, write code to access the data you will be using in this project. Remember that the dataset needs to be external."
      ],
      "metadata": {
        "nteract": {
          "transient": {
            "deleting": false
          }
        }
      }
    },
    {
      "cell_type": "code",
      "source": [
        "## # https://workspace1st4305015718.blob.core.windows.net/public/IDS2017-Infilteration.csv\r\n",
        "## # https://www.unb.ca/cic/datasets/ids-2017.html\r\n",
        "## # Iman Sharafaldin, Arash Habibi Lashkari, and Ali A. Ghorbani,\r\n",
        "## # “Toward Generating a New Intrusion Detection Dataset and Intrusion Traffic Characterization”,\r\n",
        "## # 4th International Conference on Information Systems Security and Privacy (ICISSP), Purtogal, January 2018.\r\n",
        "## # Try to load the dataset from the Workspace. Otherwise, create it from the file\r\n",
        "## # NOTE: update the key to match the dataset name\r\n",
        "found = False\r\n",
        "key = ds_key # \"IDS2017Infilteration\"\r\n",
        "description_text = ds_description_text # \"IDS2017Infilteration\"\r\n",
        "\r\n",
        "if key in ws.datasets.keys(): \r\n",
        "        found = True\r\n",
        "        dataset = ws.datasets[key] \r\n",
        "\r\n",
        "if not found:\r\n",
        "        # # Create AML Dataset and register it into Workspace\r\n",
        "        csv_data = 'https://workspace1st4305015718.blob.core.windows.net/public/IDS2017-Infilteration.csv'\r\n",
        "\r\n",
        "data = csv_data # \"https://automlsamplenotebookdata.blob.core.windows.net/automl-sample-notebook-data/creditcard.csv\"\r\n",
        "# dataset = Dataset.Tabular.from_delimited_files(data)\r\n",
        "\r\n",
        "dataset = ws.datasets[key]\r\n",
        "training_data, validation_data = dataset.random_split(percentage=0.8, seed=0) # 0.8 # 223\r\n",
        "\r\n",
        "# dataset = Dataset.Tabular.from_delimited_files(data)\r\n",
        "# training_data, validation_data = dataset.random_split(percentage=0.8, seed=223)\r\n",
        "# !training_data = dataset\r\n",
        "# !validation_data = dataset\r\n",
        "\r\n",
        "df = dataset.to_pandas_dataframe()\r\n",
        "\r\n",
        "# label_column_name = ' Label' # 'Class'\r\n",
        "label_column_name = df.columns[-1]\r\n",
        "\r\n",
        "df.describe()"
      ],
      "outputs": [
        {
          "output_type": "execute_result",
          "execution_count": 7,
          "data": {
            "text/plain": "             Column1       Column2       Column3        Column4  \\\ncount  288602.000000  2.886020e+05  2.886020e+05  288602.000000   \nmean   3.435766       5.661134e+02  5.662162e+02  6.229749        \nstd    49.746169      2.600262e+04  2.605350e+04  74.587817       \nmin    0.000000       0.000000e+00  0.000000e+00  1.000000        \n25%    1.000000       4.000000e+00  4.000000e+00  2.000000        \n50%    1.000000       4.900000e+01  4.900000e+01  2.000000        \n75%    1.000000       9.500000e+01  9.500000e+01  3.000000        \nmax    9130.000000    1.287034e+07  1.290000e+07  22673.000000    \n\n             Column5        Column6        Column7       Column8  \\\ncount  288602.000000  288602.000000  288602.000000  2.886020e+05   \nmean   6.229749       162.484040     162.484040     6.137151e+04   \nstd    74.587817      2094.132799    2094.132799    5.195102e+05   \nmin    1.000000       0.000000       0.000000       0.000000e+00   \n25%    2.000000       40.000000      40.000000      0.000000e+00   \n50%    2.000000       48.000000      48.000000      0.000000e+00   \n75%    3.000000       72.000000      72.000000      0.000000e+00   \nmax    22673.000000   742984.000000  742984.000000  6.520000e+07   \n\n             Column9       Column10  ...       Column30      Column31  \\\ncount  288602.000000  288602.000000  ...  288602.000000  2.886020e+05   \nmean   6.221596       6.221596       ...  40.731899      8.494571e+05   \nstd    111.399547     111.399547     ...  137.715423     3.188037e+06   \nmin    0.000000       0.000000       ...  0.000000       0.000000e+00   \n25%    1.000000       1.000000       ...  0.000000       0.000000e+00   \n50%    2.000000       2.000000       ...  0.000000       0.000000e+00   \n75%    2.000000       2.000000       ...  0.000000       3.252691e+01   \nmax    44553.000000   44553.000000   ...  4467.113300    8.160000e+07   \n\n           Column32       Column33      Column34       Column35  \\\ncount  2.886020e+05  288602.000000  2.886020e+05  288602.000000   \nmean   2.484257e+06  0.229115       1.072000e+06  25.686859       \nstd    1.051758e+07  0.420264       4.639822e+06  5.853203        \nmin    0.000000e+00  0.000000       0.000000e+00  0.000000        \n25%    0.000000e+00  0.000000       0.000000e+00  20.000000       \n50%    0.000000e+00  0.000000       3.226187e+01  24.000000       \n75%    0.000000e+00  0.000000       2.775871e+04  32.000000       \nmax    1.200000e+08  1.000000       8.480000e+07  60.000000       \n\n            Column36       Column37       Column38       Column39  \ncount  288602.000000  288602.000000  288602.000000  288602.000000  \nmean   362.783591     107.554263     40.423188      0.000125       \nstd    825.925261     229.139064     63.634968      0.011168       \nmin    0.000000       0.000000       0.000000       0.000000       \n25%    6.000000       0.000000       0.000000       0.000000       \n50%    53.000000      10.406729      6.000000       0.000000       \n75%    145.000000     54.224533      77.000000      0.000000       \nmax    23360.000000   3439.674300    1543.000000    1.000000       \n\n[8 rows x 39 columns]",
            "text/html": "<div>\n<style scoped>\n    .dataframe tbody tr th:only-of-type {\n        vertical-align: middle;\n    }\n\n    .dataframe tbody tr th {\n        vertical-align: top;\n    }\n\n    .dataframe thead th {\n        text-align: right;\n    }\n</style>\n<table border=\"1\" class=\"dataframe\">\n  <thead>\n    <tr style=\"text-align: right;\">\n      <th></th>\n      <th>Column1</th>\n      <th>Column2</th>\n      <th>Column3</th>\n      <th>Column4</th>\n      <th>Column5</th>\n      <th>Column6</th>\n      <th>Column7</th>\n      <th>Column8</th>\n      <th>Column9</th>\n      <th>Column10</th>\n      <th>...</th>\n      <th>Column30</th>\n      <th>Column31</th>\n      <th>Column32</th>\n      <th>Column33</th>\n      <th>Column34</th>\n      <th>Column35</th>\n      <th>Column36</th>\n      <th>Column37</th>\n      <th>Column38</th>\n      <th>Column39</th>\n    </tr>\n  </thead>\n  <tbody>\n    <tr>\n      <th>count</th>\n      <td>288602.000000</td>\n      <td>2.886020e+05</td>\n      <td>2.886020e+05</td>\n      <td>288602.000000</td>\n      <td>288602.000000</td>\n      <td>288602.000000</td>\n      <td>288602.000000</td>\n      <td>2.886020e+05</td>\n      <td>288602.000000</td>\n      <td>288602.000000</td>\n      <td>...</td>\n      <td>288602.000000</td>\n      <td>2.886020e+05</td>\n      <td>2.886020e+05</td>\n      <td>288602.000000</td>\n      <td>2.886020e+05</td>\n      <td>288602.000000</td>\n      <td>288602.000000</td>\n      <td>288602.000000</td>\n      <td>288602.000000</td>\n      <td>288602.000000</td>\n    </tr>\n    <tr>\n      <th>mean</th>\n      <td>3.435766</td>\n      <td>5.661134e+02</td>\n      <td>5.662162e+02</td>\n      <td>6.229749</td>\n      <td>6.229749</td>\n      <td>162.484040</td>\n      <td>162.484040</td>\n      <td>6.137151e+04</td>\n      <td>6.221596</td>\n      <td>6.221596</td>\n      <td>...</td>\n      <td>40.731899</td>\n      <td>8.494571e+05</td>\n      <td>2.484257e+06</td>\n      <td>0.229115</td>\n      <td>1.072000e+06</td>\n      <td>25.686859</td>\n      <td>362.783591</td>\n      <td>107.554263</td>\n      <td>40.423188</td>\n      <td>0.000125</td>\n    </tr>\n    <tr>\n      <th>std</th>\n      <td>49.746169</td>\n      <td>2.600262e+04</td>\n      <td>2.605350e+04</td>\n      <td>74.587817</td>\n      <td>74.587817</td>\n      <td>2094.132799</td>\n      <td>2094.132799</td>\n      <td>5.195102e+05</td>\n      <td>111.399547</td>\n      <td>111.399547</td>\n      <td>...</td>\n      <td>137.715423</td>\n      <td>3.188037e+06</td>\n      <td>1.051758e+07</td>\n      <td>0.420264</td>\n      <td>4.639822e+06</td>\n      <td>5.853203</td>\n      <td>825.925261</td>\n      <td>229.139064</td>\n      <td>63.634968</td>\n      <td>0.011168</td>\n    </tr>\n    <tr>\n      <th>min</th>\n      <td>0.000000</td>\n      <td>0.000000e+00</td>\n      <td>0.000000e+00</td>\n      <td>1.000000</td>\n      <td>1.000000</td>\n      <td>0.000000</td>\n      <td>0.000000</td>\n      <td>0.000000e+00</td>\n      <td>0.000000</td>\n      <td>0.000000</td>\n      <td>...</td>\n      <td>0.000000</td>\n      <td>0.000000e+00</td>\n      <td>0.000000e+00</td>\n      <td>0.000000</td>\n      <td>0.000000e+00</td>\n      <td>0.000000</td>\n      <td>0.000000</td>\n      <td>0.000000</td>\n      <td>0.000000</td>\n      <td>0.000000</td>\n    </tr>\n    <tr>\n      <th>25%</th>\n      <td>1.000000</td>\n      <td>4.000000e+00</td>\n      <td>4.000000e+00</td>\n      <td>2.000000</td>\n      <td>2.000000</td>\n      <td>40.000000</td>\n      <td>40.000000</td>\n      <td>0.000000e+00</td>\n      <td>1.000000</td>\n      <td>1.000000</td>\n      <td>...</td>\n      <td>0.000000</td>\n      <td>0.000000e+00</td>\n      <td>0.000000e+00</td>\n      <td>0.000000</td>\n      <td>0.000000e+00</td>\n      <td>20.000000</td>\n      <td>6.000000</td>\n      <td>0.000000</td>\n      <td>0.000000</td>\n      <td>0.000000</td>\n    </tr>\n    <tr>\n      <th>50%</th>\n      <td>1.000000</td>\n      <td>4.900000e+01</td>\n      <td>4.900000e+01</td>\n      <td>2.000000</td>\n      <td>2.000000</td>\n      <td>48.000000</td>\n      <td>48.000000</td>\n      <td>0.000000e+00</td>\n      <td>2.000000</td>\n      <td>2.000000</td>\n      <td>...</td>\n      <td>0.000000</td>\n      <td>0.000000e+00</td>\n      <td>0.000000e+00</td>\n      <td>0.000000</td>\n      <td>3.226187e+01</td>\n      <td>24.000000</td>\n      <td>53.000000</td>\n      <td>10.406729</td>\n      <td>6.000000</td>\n      <td>0.000000</td>\n    </tr>\n    <tr>\n      <th>75%</th>\n      <td>1.000000</td>\n      <td>9.500000e+01</td>\n      <td>9.500000e+01</td>\n      <td>3.000000</td>\n      <td>3.000000</td>\n      <td>72.000000</td>\n      <td>72.000000</td>\n      <td>0.000000e+00</td>\n      <td>2.000000</td>\n      <td>2.000000</td>\n      <td>...</td>\n      <td>0.000000</td>\n      <td>3.252691e+01</td>\n      <td>0.000000e+00</td>\n      <td>0.000000</td>\n      <td>2.775871e+04</td>\n      <td>32.000000</td>\n      <td>145.000000</td>\n      <td>54.224533</td>\n      <td>77.000000</td>\n      <td>0.000000</td>\n    </tr>\n    <tr>\n      <th>max</th>\n      <td>9130.000000</td>\n      <td>1.287034e+07</td>\n      <td>1.290000e+07</td>\n      <td>22673.000000</td>\n      <td>22673.000000</td>\n      <td>742984.000000</td>\n      <td>742984.000000</td>\n      <td>6.520000e+07</td>\n      <td>44553.000000</td>\n      <td>44553.000000</td>\n      <td>...</td>\n      <td>4467.113300</td>\n      <td>8.160000e+07</td>\n      <td>1.200000e+08</td>\n      <td>1.000000</td>\n      <td>8.480000e+07</td>\n      <td>60.000000</td>\n      <td>23360.000000</td>\n      <td>3439.674300</td>\n      <td>1543.000000</td>\n      <td>1.000000</td>\n    </tr>\n  </tbody>\n</table>\n<p>8 rows × 39 columns</p>\n</div>"
          },
          "metadata": {}
        }
      ],
      "execution_count": 7,
      "metadata": {
        "collapsed": false,
        "jupyter": {
          "source_hidden": false,
          "outputs_hidden": false
        },
        "nteract": {
          "transient": {
            "deleting": false
          }
        },
        "gather": {
          "logged": 1613310460107
        }
      }
    },
    {
      "cell_type": "code",
      "source": [
        "df.groupby([label_column_name]).count()"
      ],
      "outputs": [
        {
          "output_type": "execute_result",
          "execution_count": 8,
          "data": {
            "text/plain": "          Column1  Column2  Column3  Column4  Column5  Column6  Column7  \\\nColumn39                                                                  \n0         288566   288566   288566   288566   288566   288566   288566    \n1         36       36       36       36       36       36       36        \n\n          Column8  Column9  Column10  ...  Column29  Column30  Column31  \\\nColumn39                              ...                                 \n0         288566   288566   288566    ...  288566    288566    288566     \n1         36       36       36        ...  36        36        36         \n\n          Column32  Column33  Column34  Column35  Column36  Column37  Column38  \nColumn39                                                                        \n0         288566    288566    288566    288566    288566    288566    288566    \n1         36        36        36        36        36        36        36        \n\n[2 rows x 38 columns]",
            "text/html": "<div>\n<style scoped>\n    .dataframe tbody tr th:only-of-type {\n        vertical-align: middle;\n    }\n\n    .dataframe tbody tr th {\n        vertical-align: top;\n    }\n\n    .dataframe thead th {\n        text-align: right;\n    }\n</style>\n<table border=\"1\" class=\"dataframe\">\n  <thead>\n    <tr style=\"text-align: right;\">\n      <th></th>\n      <th>Column1</th>\n      <th>Column2</th>\n      <th>Column3</th>\n      <th>Column4</th>\n      <th>Column5</th>\n      <th>Column6</th>\n      <th>Column7</th>\n      <th>Column8</th>\n      <th>Column9</th>\n      <th>Column10</th>\n      <th>...</th>\n      <th>Column29</th>\n      <th>Column30</th>\n      <th>Column31</th>\n      <th>Column32</th>\n      <th>Column33</th>\n      <th>Column34</th>\n      <th>Column35</th>\n      <th>Column36</th>\n      <th>Column37</th>\n      <th>Column38</th>\n    </tr>\n    <tr>\n      <th>Column39</th>\n      <th></th>\n      <th></th>\n      <th></th>\n      <th></th>\n      <th></th>\n      <th></th>\n      <th></th>\n      <th></th>\n      <th></th>\n      <th></th>\n      <th></th>\n      <th></th>\n      <th></th>\n      <th></th>\n      <th></th>\n      <th></th>\n      <th></th>\n      <th></th>\n      <th></th>\n      <th></th>\n      <th></th>\n    </tr>\n  </thead>\n  <tbody>\n    <tr>\n      <th>0</th>\n      <td>288566</td>\n      <td>288566</td>\n      <td>288566</td>\n      <td>288566</td>\n      <td>288566</td>\n      <td>288566</td>\n      <td>288566</td>\n      <td>288566</td>\n      <td>288566</td>\n      <td>288566</td>\n      <td>...</td>\n      <td>288566</td>\n      <td>288566</td>\n      <td>288566</td>\n      <td>288566</td>\n      <td>288566</td>\n      <td>288566</td>\n      <td>288566</td>\n      <td>288566</td>\n      <td>288566</td>\n      <td>288566</td>\n    </tr>\n    <tr>\n      <th>1</th>\n      <td>36</td>\n      <td>36</td>\n      <td>36</td>\n      <td>36</td>\n      <td>36</td>\n      <td>36</td>\n      <td>36</td>\n      <td>36</td>\n      <td>36</td>\n      <td>36</td>\n      <td>...</td>\n      <td>36</td>\n      <td>36</td>\n      <td>36</td>\n      <td>36</td>\n      <td>36</td>\n      <td>36</td>\n      <td>36</td>\n      <td>36</td>\n      <td>36</td>\n      <td>36</td>\n    </tr>\n  </tbody>\n</table>\n<p>2 rows × 38 columns</p>\n</div>"
          },
          "metadata": {}
        }
      ],
      "execution_count": 8,
      "metadata": {
        "collapsed": true,
        "jupyter": {
          "source_hidden": false,
          "outputs_hidden": false
        },
        "nteract": {
          "transient": {
            "deleting": false
          }
        },
        "gather": {
          "logged": 1613310460317
        }
      }
    },
    {
      "cell_type": "code",
      "source": [
        "# df_sorted = df.sort_values(by=(df.columns[-1]), ascending=False, inplace=True)\r\n",
        "# df.loc[73090].to_dict()\r\n",
        "# df.dtypes\r\n",
        "# columns_to_be_removed = ['Flow Bytes/s', ' Flow Packets/s']\r\n",
        "# df = pd.read_csv(csv_data).drop(columns_to_be_removed, axis = 'columns') # dataset\r\n",
        "# training_data = dataset.drop_columns(columns=['Flow Bytes/s'])\r\n",
        "# training_data = dataset.drop_columns(columns=['Flow Bytes/s'])\r\n",
        "# df.rename(columns={' Label':'Label'}, inplace=True)\r\n",
        "# label = ' Label'\r\n",
        "# y_df = x_df.pop(\" Label\").apply(lambda s: 1 if s == \"BENIGN\" else 0)"
      ],
      "outputs": [],
      "execution_count": null,
      "metadata": {
        "collapsed": true,
        "jupyter": {
          "source_hidden": false,
          "outputs_hidden": false
        },
        "nteract": {
          "transient": {
            "deleting": false
          }
        }
      }
    },
    {
      "cell_type": "markdown",
      "source": [
        "## AutoML Configuration\r\n",
        "\r\n",
        "TODO: Explain why you chose the automl settings and cofiguration you used below."
      ],
      "metadata": {
        "nteract": {
          "transient": {
            "deleting": false
          }
        }
      }
    },
    {
      "cell_type": "code",
      "source": [
        "#\"n_cross_validations\": 5, # 3\r\n",
        "#\"enable_stack_ensemble\": False\r\n",
        "#\"experiment_timeout_hours\": 0.25,\r\n",
        "\r\n",
        "automl_settings = {\r\n",
        "    \"experiment_timeout_minutes\": 25,\r\n",
        "    \"max_concurrent_iterations\": 5,\r\n",
        "    'model_explainability': True,\r\n",
        "    \"primary_metric\": 'accuracy' # 'normalized_root_mean_squared_error' # 'precision_score_weighted, accuracy, AUC_weighted, norm_macro_recall, average_precision_score\r\n",
        "}\r\n",
        "\r\n",
        "## # https://aka.ms/AutoMLConfig\r\n",
        "# !training_data = dataset # training_data = training_data\r\n",
        "\r\n",
        "automl_config = AutoMLConfig(compute_target=compute_target,\r\n",
        "                             task = \"classification\", # !\"regression\",\r\n",
        "                             training_data = training_data,\r\n",
        "                             label_column_name = label_column_name, # 'Column39', # \" Label\" # 'y'\r\n",
        "                             path = project_folder,\r\n",
        "                             enable_early_stopping = True,\r\n",
        "                             # featurization= 'auto', # Default\r\n",
        "                             # enable_onnx_compatible_models=True,\r\n",
        "                             debug_log = \"automl_errors.log\",\r\n",
        "                             **automl_settings\r\n",
        "                            )\r\n"
      ],
      "outputs": [],
      "execution_count": 9,
      "metadata": {
        "collapsed": true,
        "jupyter": {
          "source_hidden": false,
          "outputs_hidden": false
        },
        "nteract": {
          "transient": {
            "deleting": false
          }
        },
        "gather": {
          "logged": 1613310460536
        }
      }
    },
    {
      "cell_type": "code",
      "source": [
        "# local_run = experiment.submit(automl_config, show_output = True)\r\n",
        "# remote_run = experiment.submit(automl_config, show_output = False)"
      ],
      "outputs": [],
      "execution_count": 11,
      "metadata": {
        "gather": {
          "logged": 1613310460908
        }
      }
    },
    {
      "cell_type": "code",
      "source": [
        "# run1_id = 'AutoML_532e1f2e-40f2-44cf-845f-4ff45db1a7c8'\n",
        "from azureml.train.automl.run import AutoMLRun\n",
        "# local_run = AutoMLRun(experiment = experiment, run_id = 'AutoML_532e1f2e-40f2-44cf-845f-4ff45db1a7c8')\n",
        "remote_run = AutoMLRun(experiment = experiment, run_id = run1_id)"
      ],
      "outputs": [],
      "execution_count": 12,
      "metadata": {
        "gather": {
          "logged": 1613310461083
        }
      }
    },
    {
      "cell_type": "code",
      "source": [
        "local_run = remote_run"
      ],
      "outputs": [],
      "execution_count": 13,
      "metadata": {
        "gather": {
          "logged": 1613310461273
        }
      }
    },
    {
      "cell_type": "markdown",
      "source": [
        "## Run Details\r\n",
        "\r\n",
        "OPTIONAL: Write about the different models trained and their performance. Why do you think some models did better than others?\r\n",
        "\r\n",
        "TODO: In the cell below, use the `RunDetails` widget to show the different experiments."
      ],
      "metadata": {
        "nteract": {
          "transient": {
            "deleting": false
          }
        }
      }
    },
    {
      "cell_type": "code",
      "source": [
        "remote_run"
      ],
      "outputs": [
        {
          "output_type": "execute_result",
          "execution_count": 14,
          "data": {
            "text/plain": "Run(Experiment: ml-experiment-025,\nId: AutoML_532e1f2e-40f2-44cf-845f-4ff45db1a7c8,\nType: automl,\nStatus: Completed)",
            "text/html": "<table style=\"width:100%\"><tr><th>Experiment</th><th>Id</th><th>Type</th><th>Status</th><th>Details Page</th><th>Docs Page</th></tr><tr><td>ml-experiment-025</td><td>AutoML_532e1f2e-40f2-44cf-845f-4ff45db1a7c8</td><td>automl</td><td>Completed</td><td><a href=\"https://ml.azure.com/experiments/ml-experiment-025/runs/AutoML_532e1f2e-40f2-44cf-845f-4ff45db1a7c8?wsid=/subscriptions/5cf0bb76-4731-4cb5-ac3d-950c07dda6ef/resourcegroups/group1st/workspaces/workspace1st\" target=\"_blank\" rel=\"noopener\">Link to Azure Machine Learning studio</a></td><td><a href=\"https://docs.microsoft.com/en-us/python/api/overview/azure/ml/intro?view=azure-ml-py\" target=\"_blank\" rel=\"noopener\">Link to Documentation</a></td></tr></table>"
          },
          "metadata": {}
        }
      ],
      "execution_count": 14,
      "metadata": {
        "collapsed": true,
        "jupyter": {
          "source_hidden": false,
          "outputs_hidden": false
        },
        "nteract": {
          "transient": {
            "deleting": false
          }
        },
        "gather": {
          "logged": 1613310461597
        }
      }
    },
    {
      "cell_type": "code",
      "source": [
        "remote_run.wait_for_completion(show_output=True)"
      ],
      "outputs": [
        {
          "output_type": "stream",
          "name": "stdout",
          "text": [
            "\n",
            "\n",
            "****************************************************************************************************\n",
            "DATA GUARDRAILS: \n",
            "\n",
            "TYPE:         Train-Test data split\n",
            "STATUS:       DONE\n",
            "DESCRIPTION:  Your input data has been split into a training dataset and a holdout test dataset for validation of the model. The test holdout dataset reflects the original distribution of your input data.\n",
            "              \n",
            "DETAILS:      \n",
            "+---------------------------------+---------------------------------+---------------------------------+\n",
            "|Dataset                          |Row counts                       |Percentage                       |\n",
            "+=================================+=================================+=================================+\n",
            "|train                            |259741                           |89.99972280164378                |\n",
            "|test                             |28861                            |10.000277198356214               |\n",
            "+---------------------------------+---------------------------------+---------------------------------+\n",
            "\n",
            "****************************************************************************************************\n",
            "\n",
            "TYPE:         Class balancing detection\n",
            "STATUS:       ALERTED\n",
            "DESCRIPTION:  To decrease model bias, please cancel the current run and fix balancing problem.\n",
            "              Learn more about imbalanced data: https://aka.ms/AutomatedMLImbalancedData\n",
            "DETAILS:      Imbalanced data can lead to a falsely perceived positive effect of a model's accuracy because the input data has bias towards one class.\n",
            "+---------------------------------+---------------------------------+--------------------------------------+\n",
            "|Size of the smallest class       |Name/Label of the smallest class |Number of samples in the training data|\n",
            "+=================================+=================================+======================================+\n",
            "|32                               |1                                |259741                                |\n",
            "+---------------------------------+---------------------------------+--------------------------------------+\n",
            "\n",
            "****************************************************************************************************\n",
            "\n",
            "TYPE:         Missing feature values imputation\n",
            "STATUS:       PASSED\n",
            "DESCRIPTION:  No feature missing values were detected in the training data.\n",
            "              Learn more about missing value imputation: https://aka.ms/AutomatedMLFeaturization\n",
            "\n",
            "****************************************************************************************************\n",
            "\n",
            "TYPE:         High cardinality feature detection\n",
            "STATUS:       PASSED\n",
            "DESCRIPTION:  Your inputs were analyzed, and no high cardinality features were detected.\n",
            "              Learn more about high cardinality feature handling: https://aka.ms/AutomatedMLFeaturization\n",
            "\n",
            "****************************************************************************************************\n",
            "\n",
            "****************************************************************************************************\n",
            "ITERATION: The iteration being evaluated.\n",
            "PIPELINE: A summary description of the pipeline being evaluated.\n",
            "DURATION: Time taken for the current iteration.\n",
            "METRIC: The result of computing score on the fitted pipeline.\n",
            "BEST: The best observed score thus far.\n",
            "****************************************************************************************************\n",
            "\n",
            " ITERATION   PIPELINE                                       DURATION      METRIC      BEST\n",
            "         0   MaxAbsScaler LightGBM                          0:00:56       0.9993    0.9993\n",
            "         1   MaxAbsScaler XGBoostClassifier                 0:02:39       1.0000    1.0000\n",
            "         2   MaxAbsScaler RandomForest                      0:00:51       0.9999    1.0000\n",
            "         3   MaxAbsScaler RandomForest                      0:00:51       0.9999    1.0000\n",
            "         4   MaxAbsScaler RandomForest                      0:00:58       0.9793    1.0000\n",
            "         5   MaxAbsScaler RandomForest                      0:00:58       0.8868    1.0000\n",
            "         6   SparseNormalizer XGBoostClassifier             0:01:42       1.0000    1.0000\n",
            "         7   SparseNormalizer XGBoostClassifier             0:01:17       0.9999    1.0000\n",
            "         8   MaxAbsScaler LightGBM                          0:00:49       0.9999    1.0000\n",
            "         9   SparseNormalizer LightGBM                      0:01:17       0.9999    1.0000\n",
            "        10   SparseNormalizer LightGBM                      0:00:53       0.9999    1.0000\n",
            "        11   MaxAbsScaler LightGBM                          0:00:54       0.9999    1.0000\n",
            "        12   MaxAbsScaler LightGBM                          0:00:56       0.9999    1.0000\n",
            "        13   SparseNormalizer XGBoostClassifier             0:01:14       0.9999    1.0000\n",
            "        14   SparseNormalizer XGBoostClassifier             0:02:00       1.0000    1.0000\n",
            "        15   StandardScalerWrapper LightGBM                 0:01:06       0.9999    1.0000\n",
            "        16   SparseNormalizer XGBoostClassifier             0:01:48       1.0000    1.0000\n",
            "        17   StandardScalerWrapper LogisticRegression       0:01:30       0.9999    1.0000\n",
            "        18   StandardScalerWrapper LightGBM                 0:01:11       0.9999    1.0000\n",
            "        19   SparseNormalizer ExtremeRandomTrees            0:01:39       0.9999    1.0000\n",
            "        20   SparseNormalizer XGBoostClassifier             0:02:15       1.0000    1.0000\n",
            "        21   SparseNormalizer XGBoostClassifier             0:01:09       0.9999    1.0000\n",
            "        22   SparseNormalizer XGBoostClassifier             0:02:09       1.0000    1.0000\n",
            "        23   SparseNormalizer XGBoostClassifier             0:02:59       1.0000    1.0000\n",
            "        24   SparseNormalizer XGBoostClassifier             0:02:08       1.0000    1.0000\n",
            "        25   SparseNormalizer XGBoostClassifier             0:00:56       0.9999    1.0000\n",
            "        26   MaxAbsScaler LightGBM                          0:01:07       0.9999    1.0000\n",
            "        27   SparseNormalizer XGBoostClassifier             0:02:28       1.0000    1.0000\n",
            "        28   SparseNormalizer XGBoostClassifier             0:01:00       0.9998    1.0000\n",
            "        29   StandardScalerWrapper XGBoostClassifier        0:01:30       1.0000    1.0000\n",
            "        30   SparseNormalizer XGBoostClassifier             0:01:30       1.0000    1.0000\n",
            "        31   MaxAbsScaler ExtremeRandomTrees                0:00:38          nan    1.0000\n",
            "ERROR: {\n",
            "    \"additional_properties\": {},\n",
            "    \"error\": {\n",
            "        \"additional_properties\": {\n",
            "            \"debugInfo\": null\n",
            "        },\n",
            "        \"code\": \"UserError\",\n",
            "        \"severity\": null,\n",
            "        \"message\": \"Experiment timeout reached, please consider increasing your experiment timeout.\",\n",
            "        \"message_format\": \"Experiment timeout reached, please consider increasing your experiment timeout.\",\n",
            "        \"message_parameters\": {},\n",
            "        \"reference_code\": null,\n",
            "        \"details_uri\": null,\n",
            "        \"target\": null,\n",
            "        \"details\": [],\n",
            "        \"inner_error\": {\n",
            "            \"additional_properties\": {},\n",
            "            \"code\": \"ResourceExhausted\",\n",
            "            \"inner_error\": {\n",
            "                \"additional_properties\": {},\n",
            "                \"code\": \"Timeout\",\n",
            "                \"inner_error\": {\n",
            "                    \"additional_properties\": {},\n",
            "                    \"code\": \"ExperimentTimeoutForIterations\",\n",
            "                    \"inner_error\": null\n",
            "                }\n",
            "            }\n",
            "        }\n",
            "    },\n",
            "    \"correlation\": null,\n",
            "    \"environment\": null,\n",
            "    \"location\": null,\n",
            "    \"time\": {},\n",
            "    \"component_name\": null\n",
            "}\n",
            "        32                                                  0:02:08          nan    1.0000\n",
            "ERROR: {\n",
            "    \"additional_properties\": {},\n",
            "    \"error\": {\n",
            "        \"additional_properties\": {\n",
            "            \"debugInfo\": null\n",
            "        },\n",
            "        \"code\": \"UserError\",\n",
            "        \"severity\": null,\n",
            "        \"message\": \"Experiment timeout reached, please consider increasing your experiment timeout.\",\n",
            "        \"message_format\": \"Experiment timeout reached, please consider increasing your experiment timeout.\",\n",
            "        \"message_parameters\": {},\n",
            "        \"reference_code\": null,\n",
            "        \"details_uri\": null,\n",
            "        \"target\": null,\n",
            "        \"details\": [],\n",
            "        \"inner_error\": {\n",
            "            \"additional_properties\": {},\n",
            "            \"code\": \"ResourceExhausted\",\n",
            "            \"inner_error\": {\n",
            "                \"additional_properties\": {},\n",
            "                \"code\": \"Timeout\",\n",
            "                \"inner_error\": {\n",
            "                    \"additional_properties\": {},\n",
            "                    \"code\": \"ExperimentTimeoutForIterations\",\n",
            "                    \"inner_error\": null\n",
            "                }\n",
            "            }\n",
            "        }\n",
            "    },\n",
            "    \"correlation\": null,\n",
            "    \"environment\": null,\n",
            "    \"location\": null,\n",
            "    \"time\": {},\n",
            "    \"component_name\": null\n",
            "}\n",
            "        33                                                  0:01:38          nan    1.0000\n",
            "ERROR: {\n",
            "    \"additional_properties\": {},\n",
            "    \"error\": {\n",
            "        \"additional_properties\": {\n",
            "            \"debugInfo\": null\n",
            "        },\n",
            "        \"code\": \"UserError\",\n",
            "        \"severity\": null,\n",
            "        \"message\": \"Experiment timeout reached, please consider increasing your experiment timeout.\",\n",
            "        \"message_format\": \"Experiment timeout reached, please consider increasing your experiment timeout.\",\n",
            "        \"message_parameters\": {},\n",
            "        \"reference_code\": null,\n",
            "        \"details_uri\": null,\n",
            "        \"target\": null,\n",
            "        \"details\": [],\n",
            "        \"inner_error\": {\n",
            "            \"additional_properties\": {},\n",
            "            \"code\": \"ResourceExhausted\",\n",
            "            \"inner_error\": {\n",
            "                \"additional_properties\": {},\n",
            "                \"code\": \"Timeout\",\n",
            "                \"inner_error\": {\n",
            "                    \"additional_properties\": {},\n",
            "                    \"code\": \"ExperimentTimeoutForIterations\",\n",
            "                    \"inner_error\": null\n",
            "                }\n",
            "            }\n",
            "        }\n",
            "    },\n",
            "    \"correlation\": null,\n",
            "    \"environment\": null,\n",
            "    \"location\": null,\n",
            "    \"time\": {},\n",
            "    \"component_name\": null\n",
            "}\n",
            "        34                                                  0:00:34          nan    1.0000\n",
            "ERROR: {\n",
            "    \"additional_properties\": {},\n",
            "    \"error\": {\n",
            "        \"additional_properties\": {\n",
            "            \"debugInfo\": null\n",
            "        },\n",
            "        \"code\": \"UserError\",\n",
            "        \"severity\": null,\n",
            "        \"message\": \"Experiment timeout reached, please consider increasing your experiment timeout.\",\n",
            "        \"message_format\": \"Experiment timeout reached, please consider increasing your experiment timeout.\",\n",
            "        \"message_parameters\": {},\n",
            "        \"reference_code\": null,\n",
            "        \"details_uri\": null,\n",
            "        \"target\": null,\n",
            "        \"details\": [],\n",
            "        \"inner_error\": {\n",
            "            \"additional_properties\": {},\n",
            "            \"code\": \"ResourceExhausted\",\n",
            "            \"inner_error\": {\n",
            "                \"additional_properties\": {},\n",
            "                \"code\": \"Timeout\",\n",
            "                \"inner_error\": {\n",
            "                    \"additional_properties\": {},\n",
            "                    \"code\": \"ExperimentTimeoutForIterations\",\n",
            "                    \"inner_error\": null\n",
            "                }\n",
            "            }\n",
            "        }\n",
            "    },\n",
            "    \"correlation\": null,\n",
            "    \"environment\": null,\n",
            "    \"location\": null,\n",
            "    \"time\": {},\n",
            "    \"component_name\": null\n",
            "}\n",
            "        35    VotingEnsemble                                0:01:06       1.0000    1.0000\n",
            "        36    StackEnsemble                                 0:05:58       0.9999    1.0000\n"
          ]
        },
        {
          "output_type": "execute_result",
          "execution_count": 15,
          "data": {
            "text/plain": "{'runId': 'AutoML_532e1f2e-40f2-44cf-845f-4ff45db1a7c8',\n 'target': 'cpu-cluster',\n 'status': 'Completed',\n 'startTimeUtc': '2021-02-14T08:29:20.27565Z',\n 'endTimeUtc': '2021-02-14T09:05:12.39142Z',\n 'properties': {'num_iterations': '1000',\n  'training_type': 'TrainFull',\n  'acquisition_function': 'EI',\n  'primary_metric': 'accuracy',\n  'train_split': '0',\n  'acquisition_parameter': '0',\n  'num_cross_validation': None,\n  'target': 'cpu-cluster',\n  'AMLSettingsJsonString': '{\"path\":null,\"name\":\"ml-experiment-025\",\"subscription_id\":\"5cf0bb76-4731-4cb5-ac3d-950c07dda6ef\",\"resource_group\":\"group1st\",\"workspace_name\":\"workspace1st\",\"region\":\"uksouth\",\"compute_target\":\"cpu-cluster\",\"spark_service\":null,\"azure_service\":\"remote\",\"many_models\":false,\"pipeline_fetch_max_batch_size\":1,\"iterations\":1000,\"primary_metric\":\"accuracy\",\"task_type\":\"classification\",\"data_script\":null,\"validation_size\":0.0,\"n_cross_validations\":null,\"y_min\":null,\"y_max\":null,\"num_classes\":null,\"featurization\":\"auto\",\"_ignore_package_version_incompatibilities\":false,\"is_timeseries\":false,\"max_cores_per_iteration\":1,\"max_concurrent_iterations\":5,\"iteration_timeout_minutes\":null,\"mem_in_mb\":null,\"enforce_time_on_windows\":false,\"experiment_timeout_minutes\":25,\"experiment_exit_score\":null,\"whitelist_models\":null,\"blacklist_algos\":[\"TensorFlowLinearClassifier\",\"TensorFlowDNN\"],\"supported_models\":[\"LightGBM\",\"LinearSVM\",\"TensorFlowDNN\",\"SVM\",\"GradientBoosting\",\"ExtremeRandomTrees\",\"TensorFlowLinearClassifier\",\"KNN\",\"SGD\",\"BernoulliNaiveBayes\",\"XGBoostClassifier\",\"MultinomialNaiveBayes\",\"LogisticRegression\",\"RandomForest\",\"AveragedPerceptronClassifier\",\"DecisionTree\"],\"private_models\":[],\"auto_blacklist\":true,\"blacklist_samples_reached\":false,\"exclude_nan_labels\":true,\"verbosity\":20,\"_debug_log\":\"azureml_automl.log\",\"show_warnings\":false,\"model_explainability\":true,\"service_url\":null,\"sdk_url\":null,\"sdk_packages\":null,\"enable_onnx_compatible_models\":false,\"enable_split_onnx_featurizer_estimator_models\":false,\"vm_type\":\"STANDARD_DS12_V2\",\"telemetry_verbosity\":20,\"send_telemetry\":true,\"enable_dnn\":false,\"scenario\":\"SDK-1.13.0\",\"environment_label\":null,\"force_text_dnn\":false,\"enable_feature_sweeping\":true,\"enable_early_stopping\":true,\"early_stopping_n_iters\":10,\"metrics\":null,\"enable_ensembling\":true,\"enable_stack_ensembling\":true,\"ensemble_iterations\":15,\"enable_tf\":false,\"enable_subsampling\":null,\"subsample_seed\":null,\"enable_nimbusml\":false,\"enable_streaming\":false,\"force_streaming\":false,\"track_child_runs\":true,\"allowed_private_models\":[],\"label_column_name\":\"Column39\",\"weight_column_name\":null,\"cv_split_column_names\":null,\"enable_local_managed\":false,\"_local_managed_run_id\":null,\"cost_mode\":1,\"lag_length\":0,\"metric_operation\":\"maximize\",\"preprocess\":true}',\n  'DataPrepJsonString': '{\\\\\"training_data\\\\\": \\\\\"{\\\\\\\\\\\\\"blocks\\\\\\\\\\\\\": [{\\\\\\\\\\\\\"id\\\\\\\\\\\\\": \\\\\\\\\\\\\"3628f5f7-61ec-4004-a311-ad85df693423\\\\\\\\\\\\\", \\\\\\\\\\\\\"type\\\\\\\\\\\\\": \\\\\\\\\\\\\"Microsoft.DPrep.GetFilesBlock\\\\\\\\\\\\\", \\\\\\\\\\\\\"arguments\\\\\\\\\\\\\": {\\\\\\\\\\\\\"isArchive\\\\\\\\\\\\\": false, \\\\\\\\\\\\\"path\\\\\\\\\\\\\": {\\\\\\\\\\\\\"target\\\\\\\\\\\\\": 1, \\\\\\\\\\\\\"resourceDetails\\\\\\\\\\\\\": [{\\\\\\\\\\\\\"path\\\\\\\\\\\\\": \\\\\\\\\\\\\"https://workspace1st4305015718.blob.core.windows.net/public/IDS2017InfilterationFeaturized.csv\\\\\\\\\\\\\", \\\\\\\\\\\\\"sas\\\\\\\\\\\\\": null, \\\\\\\\\\\\\"storageAccountName\\\\\\\\\\\\\": null, \\\\\\\\\\\\\"storageAccountKey\\\\\\\\\\\\\": null}]}}, \\\\\\\\\\\\\"localData\\\\\\\\\\\\\": {}, \\\\\\\\\\\\\"isEnabled\\\\\\\\\\\\\": true, \\\\\\\\\\\\\"name\\\\\\\\\\\\\": null, \\\\\\\\\\\\\"annotation\\\\\\\\\\\\\": null}, {\\\\\\\\\\\\\"id\\\\\\\\\\\\\": \\\\\\\\\\\\\"18965f0f-b280-4bfb-84db-54dd4f0da3f9\\\\\\\\\\\\\", \\\\\\\\\\\\\"type\\\\\\\\\\\\\": \\\\\\\\\\\\\"Microsoft.DPrep.ParseDelimitedBlock\\\\\\\\\\\\\", \\\\\\\\\\\\\"arguments\\\\\\\\\\\\\": {\\\\\\\\\\\\\"columnHeadersMode\\\\\\\\\\\\\": 0, \\\\\\\\\\\\\"fileEncoding\\\\\\\\\\\\\": 0, \\\\\\\\\\\\\"handleQuotedLineBreaks\\\\\\\\\\\\\": false, \\\\\\\\\\\\\"preview\\\\\\\\\\\\\": false, \\\\\\\\\\\\\"separator\\\\\\\\\\\\\": \\\\\\\\\\\\\",\\\\\\\\\\\\\", \\\\\\\\\\\\\"skipRows\\\\\\\\\\\\\": 1, \\\\\\\\\\\\\"skipRowsMode\\\\\\\\\\\\\": 1}, \\\\\\\\\\\\\"localData\\\\\\\\\\\\\": {}, \\\\\\\\\\\\\"isEnabled\\\\\\\\\\\\\": true, \\\\\\\\\\\\\"name\\\\\\\\\\\\\": null, \\\\\\\\\\\\\"annotation\\\\\\\\\\\\\": null}, {\\\\\\\\\\\\\"id\\\\\\\\\\\\\": \\\\\\\\\\\\\"2d26ecf4-da26-443b-85b7-e43738d3596d\\\\\\\\\\\\\", \\\\\\\\\\\\\"type\\\\\\\\\\\\\": \\\\\\\\\\\\\"Microsoft.DPrep.DropColumnsBlock\\\\\\\\\\\\\", \\\\\\\\\\\\\"arguments\\\\\\\\\\\\\": {\\\\\\\\\\\\\"columns\\\\\\\\\\\\\": {\\\\\\\\\\\\\"type\\\\\\\\\\\\\": 0, \\\\\\\\\\\\\"details\\\\\\\\\\\\\": {\\\\\\\\\\\\\"selectedColumns\\\\\\\\\\\\\": [\\\\\\\\\\\\\"Path\\\\\\\\\\\\\"]}}}, \\\\\\\\\\\\\"localData\\\\\\\\\\\\\": {}, \\\\\\\\\\\\\"isEnabled\\\\\\\\\\\\\": true, \\\\\\\\\\\\\"name\\\\\\\\\\\\\": null, \\\\\\\\\\\\\"annotation\\\\\\\\\\\\\": null}, {\\\\\\\\\\\\\"id\\\\\\\\\\\\\": \\\\\\\\\\\\\"5a39b11d-e69c-476b-aba7-7f33c275db64\\\\\\\\\\\\\", \\\\\\\\\\\\\"type\\\\\\\\\\\\\": \\\\\\\\\\\\\"Microsoft.DPrep.SetColumnTypesBlock\\\\\\\\\\\\\", \\\\\\\\\\\\\"arguments\\\\\\\\\\\\\": {\\\\\\\\\\\\\"columnConversion\\\\\\\\\\\\\": [{\\\\\\\\\\\\\"column\\\\\\\\\\\\\": {\\\\\\\\\\\\\"type\\\\\\\\\\\\\": 2, \\\\\\\\\\\\\"details\\\\\\\\\\\\\": {\\\\\\\\\\\\\"selectedColumn\\\\\\\\\\\\\": \\\\\\\\\\\\\"Path\\\\\\\\\\\\\"}}, \\\\\\\\\\\\\"typeProperty\\\\\\\\\\\\\": 0}, {\\\\\\\\\\\\\"column\\\\\\\\\\\\\": {\\\\\\\\\\\\\"type\\\\\\\\\\\\\": 2, \\\\\\\\\\\\\"details\\\\\\\\\\\\\": {\\\\\\\\\\\\\"selectedColumn\\\\\\\\\\\\\": \\\\\\\\\\\\\"Column1\\\\\\\\\\\\\"}}, \\\\\\\\\\\\\"typeProperty\\\\\\\\\\\\\": 2}, {\\\\\\\\\\\\\"column\\\\\\\\\\\\\": {\\\\\\\\\\\\\"type\\\\\\\\\\\\\": 2, \\\\\\\\\\\\\"details\\\\\\\\\\\\\": {\\\\\\\\\\\\\"selectedColumn\\\\\\\\\\\\\": \\\\\\\\\\\\\"Column2\\\\\\\\\\\\\"}}, \\\\\\\\\\\\\"typeProperty\\\\\\\\\\\\\": 2}, {\\\\\\\\\\\\\"column\\\\\\\\\\\\\": {\\\\\\\\\\\\\"type\\\\\\\\\\\\\": 2, \\\\\\\\\\\\\"details\\\\\\\\\\\\\": {\\\\\\\\\\\\\"selectedColumn\\\\\\\\\\\\\": \\\\\\\\\\\\\"Column3\\\\\\\\\\\\\"}}, \\\\\\\\\\\\\"typeProperty\\\\\\\\\\\\\": 2}, {\\\\\\\\\\\\\"column\\\\\\\\\\\\\": {\\\\\\\\\\\\\"type\\\\\\\\\\\\\": 2, \\\\\\\\\\\\\"details\\\\\\\\\\\\\": {\\\\\\\\\\\\\"selectedColumn\\\\\\\\\\\\\": \\\\\\\\\\\\\"Column4\\\\\\\\\\\\\"}}, \\\\\\\\\\\\\"typeProperty\\\\\\\\\\\\\": 2}, {\\\\\\\\\\\\\"column\\\\\\\\\\\\\": {\\\\\\\\\\\\\"type\\\\\\\\\\\\\": 2, \\\\\\\\\\\\\"details\\\\\\\\\\\\\": {\\\\\\\\\\\\\"selectedColumn\\\\\\\\\\\\\": \\\\\\\\\\\\\"Column5\\\\\\\\\\\\\"}}, \\\\\\\\\\\\\"typeProperty\\\\\\\\\\\\\": 2}, {\\\\\\\\\\\\\"column\\\\\\\\\\\\\": {\\\\\\\\\\\\\"type\\\\\\\\\\\\\": 2, \\\\\\\\\\\\\"details\\\\\\\\\\\\\": {\\\\\\\\\\\\\"selectedColumn\\\\\\\\\\\\\": \\\\\\\\\\\\\"Column6\\\\\\\\\\\\\"}}, \\\\\\\\\\\\\"typeProperty\\\\\\\\\\\\\": 2}, {\\\\\\\\\\\\\"column\\\\\\\\\\\\\": {\\\\\\\\\\\\\"type\\\\\\\\\\\\\": 2, \\\\\\\\\\\\\"details\\\\\\\\\\\\\": {\\\\\\\\\\\\\"selectedColumn\\\\\\\\\\\\\": \\\\\\\\\\\\\"Column7\\\\\\\\\\\\\"}}, \\\\\\\\\\\\\"typeProperty\\\\\\\\\\\\\": 2}, {\\\\\\\\\\\\\"column\\\\\\\\\\\\\": {\\\\\\\\\\\\\"type\\\\\\\\\\\\\": 2, \\\\\\\\\\\\\"details\\\\\\\\\\\\\": {\\\\\\\\\\\\\"selectedColumn\\\\\\\\\\\\\": \\\\\\\\\\\\\"Column8\\\\\\\\\\\\\"}}, \\\\\\\\\\\\\"typeProperty\\\\\\\\\\\\\": 3}, {\\\\\\\\\\\\\"column\\\\\\\\\\\\\": {\\\\\\\\\\\\\"type\\\\\\\\\\\\\": 2, \\\\\\\\\\\\\"details\\\\\\\\\\\\\": {\\\\\\\\\\\\\"selectedColumn\\\\\\\\\\\\\": \\\\\\\\\\\\\"Column9\\\\\\\\\\\\\"}}, \\\\\\\\\\\\\"typeProperty\\\\\\\\\\\\\": 2}, {\\\\\\\\\\\\\"column\\\\\\\\\\\\\": {\\\\\\\\\\\\\"type\\\\\\\\\\\\\": 2, \\\\\\\\\\\\\"details\\\\\\\\\\\\\": {\\\\\\\\\\\\\"selectedColumn\\\\\\\\\\\\\": \\\\\\\\\\\\\"Column10\\\\\\\\\\\\\"}}, \\\\\\\\\\\\\"typeProperty\\\\\\\\\\\\\": 2}, {\\\\\\\\\\\\\"column\\\\\\\\\\\\\": {\\\\\\\\\\\\\"type\\\\\\\\\\\\\": 2, \\\\\\\\\\\\\"details\\\\\\\\\\\\\": {\\\\\\\\\\\\\"selectedColumn\\\\\\\\\\\\\": \\\\\\\\\\\\\"Column11\\\\\\\\\\\\\"}}, \\\\\\\\\\\\\"typeProperty\\\\\\\\\\\\\": 2}, {\\\\\\\\\\\\\"column\\\\\\\\\\\\\": {\\\\\\\\\\\\\"type\\\\\\\\\\\\\": 2, \\\\\\\\\\\\\"details\\\\\\\\\\\\\": {\\\\\\\\\\\\\"selectedColumn\\\\\\\\\\\\\": \\\\\\\\\\\\\"Column12\\\\\\\\\\\\\"}}, \\\\\\\\\\\\\"typeProperty\\\\\\\\\\\\\": 2}, {\\\\\\\\\\\\\"column\\\\\\\\\\\\\": {\\\\\\\\\\\\\"type\\\\\\\\\\\\\": 2, \\\\\\\\\\\\\"details\\\\\\\\\\\\\": {\\\\\\\\\\\\\"selectedColumn\\\\\\\\\\\\\": \\\\\\\\\\\\\"Column13\\\\\\\\\\\\\"}}, \\\\\\\\\\\\\"typeProperty\\\\\\\\\\\\\": 3}, {\\\\\\\\\\\\\"column\\\\\\\\\\\\\": {\\\\\\\\\\\\\"type\\\\\\\\\\\\\": 2, \\\\\\\\\\\\\"details\\\\\\\\\\\\\": {\\\\\\\\\\\\\"selectedColumn\\\\\\\\\\\\\": \\\\\\\\\\\\\"Column14\\\\\\\\\\\\\"}}, \\\\\\\\\\\\\"typeProperty\\\\\\\\\\\\\": 2}, {\\\\\\\\\\\\\"column\\\\\\\\\\\\\": {\\\\\\\\\\\\\"type\\\\\\\\\\\\\": 2, \\\\\\\\\\\\\"details\\\\\\\\\\\\\": {\\\\\\\\\\\\\"selectedColumn\\\\\\\\\\\\\": \\\\\\\\\\\\\"Column15\\\\\\\\\\\\\"}}, \\\\\\\\\\\\\"typeProperty\\\\\\\\\\\\\": 3}, {\\\\\\\\\\\\\"column\\\\\\\\\\\\\": {\\\\\\\\\\\\\"type\\\\\\\\\\\\\": 2, \\\\\\\\\\\\\"details\\\\\\\\\\\\\": {\\\\\\\\\\\\\"selectedColumn\\\\\\\\\\\\\": \\\\\\\\\\\\\"Column16\\\\\\\\\\\\\"}}, \\\\\\\\\\\\\"typeProperty\\\\\\\\\\\\\": 2}, {\\\\\\\\\\\\\"column\\\\\\\\\\\\\": {\\\\\\\\\\\\\"type\\\\\\\\\\\\\": 2, \\\\\\\\\\\\\"details\\\\\\\\\\\\\": {\\\\\\\\\\\\\"selectedColumn\\\\\\\\\\\\\": \\\\\\\\\\\\\"Column17\\\\\\\\\\\\\"}}, \\\\\\\\\\\\\"typeProperty\\\\\\\\\\\\\": 2}, {\\\\\\\\\\\\\"column\\\\\\\\\\\\\": {\\\\\\\\\\\\\"type\\\\\\\\\\\\\": 2, \\\\\\\\\\\\\"details\\\\\\\\\\\\\": {\\\\\\\\\\\\\"selectedColumn\\\\\\\\\\\\\": \\\\\\\\\\\\\"Column18\\\\\\\\\\\\\"}}, \\\\\\\\\\\\\"typeProperty\\\\\\\\\\\\\": 2}, {\\\\\\\\\\\\\"column\\\\\\\\\\\\\": {\\\\\\\\\\\\\"type\\\\\\\\\\\\\": 2, \\\\\\\\\\\\\"details\\\\\\\\\\\\\": {\\\\\\\\\\\\\"selectedColumn\\\\\\\\\\\\\": \\\\\\\\\\\\\"Column19\\\\\\\\\\\\\"}}, \\\\\\\\\\\\\"typeProperty\\\\\\\\\\\\\": 2}, {\\\\\\\\\\\\\"column\\\\\\\\\\\\\": {\\\\\\\\\\\\\"type\\\\\\\\\\\\\": 2, \\\\\\\\\\\\\"details\\\\\\\\\\\\\": {\\\\\\\\\\\\\"selectedColumn\\\\\\\\\\\\\": \\\\\\\\\\\\\"Column20\\\\\\\\\\\\\"}}, \\\\\\\\\\\\\"typeProperty\\\\\\\\\\\\\": 2}, {\\\\\\\\\\\\\"column\\\\\\\\\\\\\": {\\\\\\\\\\\\\"type\\\\\\\\\\\\\": 2, \\\\\\\\\\\\\"details\\\\\\\\\\\\\": {\\\\\\\\\\\\\"selectedColumn\\\\\\\\\\\\\": \\\\\\\\\\\\\"Column21\\\\\\\\\\\\\"}}, \\\\\\\\\\\\\"typeProperty\\\\\\\\\\\\\": 2}, {\\\\\\\\\\\\\"column\\\\\\\\\\\\\": {\\\\\\\\\\\\\"type\\\\\\\\\\\\\": 2, \\\\\\\\\\\\\"details\\\\\\\\\\\\\": {\\\\\\\\\\\\\"selectedColumn\\\\\\\\\\\\\": \\\\\\\\\\\\\"Column22\\\\\\\\\\\\\"}}, \\\\\\\\\\\\\"typeProperty\\\\\\\\\\\\\": 2}, {\\\\\\\\\\\\\"column\\\\\\\\\\\\\": {\\\\\\\\\\\\\"type\\\\\\\\\\\\\": 2, \\\\\\\\\\\\\"details\\\\\\\\\\\\\": {\\\\\\\\\\\\\"selectedColumn\\\\\\\\\\\\\": \\\\\\\\\\\\\"Column23\\\\\\\\\\\\\"}}, \\\\\\\\\\\\\"typeProperty\\\\\\\\\\\\\": 2}, {\\\\\\\\\\\\\"column\\\\\\\\\\\\\": {\\\\\\\\\\\\\"type\\\\\\\\\\\\\": 2, \\\\\\\\\\\\\"details\\\\\\\\\\\\\": {\\\\\\\\\\\\\"selectedColumn\\\\\\\\\\\\\": \\\\\\\\\\\\\"Column24\\\\\\\\\\\\\"}}, \\\\\\\\\\\\\"typeProperty\\\\\\\\\\\\\": 2}, {\\\\\\\\\\\\\"column\\\\\\\\\\\\\": {\\\\\\\\\\\\\"type\\\\\\\\\\\\\": 2, \\\\\\\\\\\\\"details\\\\\\\\\\\\\": {\\\\\\\\\\\\\"selectedColumn\\\\\\\\\\\\\": \\\\\\\\\\\\\"Column25\\\\\\\\\\\\\"}}, \\\\\\\\\\\\\"typeProperty\\\\\\\\\\\\\": 3}, {\\\\\\\\\\\\\"column\\\\\\\\\\\\\": {\\\\\\\\\\\\\"type\\\\\\\\\\\\\": 2, \\\\\\\\\\\\\"details\\\\\\\\\\\\\": {\\\\\\\\\\\\\"selectedColumn\\\\\\\\\\\\\": \\\\\\\\\\\\\"Column26\\\\\\\\\\\\\"}}, \\\\\\\\\\\\\"typeProperty\\\\\\\\\\\\\": 3}, {\\\\\\\\\\\\\"column\\\\\\\\\\\\\": {\\\\\\\\\\\\\"type\\\\\\\\\\\\\": 2, \\\\\\\\\\\\\"details\\\\\\\\\\\\\": {\\\\\\\\\\\\\"selectedColumn\\\\\\\\\\\\\": \\\\\\\\\\\\\"Column27\\\\\\\\\\\\\"}}, \\\\\\\\\\\\\"typeProperty\\\\\\\\\\\\\": 3}, {\\\\\\\\\\\\\"column\\\\\\\\\\\\\": {\\\\\\\\\\\\\"type\\\\\\\\\\\\\": 2, \\\\\\\\\\\\\"details\\\\\\\\\\\\\": {\\\\\\\\\\\\\"selectedColumn\\\\\\\\\\\\\": \\\\\\\\\\\\\"Column28\\\\\\\\\\\\\"}}, \\\\\\\\\\\\\"typeProperty\\\\\\\\\\\\\": 3}, {\\\\\\\\\\\\\"column\\\\\\\\\\\\\": {\\\\\\\\\\\\\"type\\\\\\\\\\\\\": 2, \\\\\\\\\\\\\"details\\\\\\\\\\\\\": {\\\\\\\\\\\\\"selectedColumn\\\\\\\\\\\\\": \\\\\\\\\\\\\"Column29\\\\\\\\\\\\\"}}, \\\\\\\\\\\\\"typeProperty\\\\\\\\\\\\\": 2}, {\\\\\\\\\\\\\"column\\\\\\\\\\\\\": {\\\\\\\\\\\\\"type\\\\\\\\\\\\\": 2, \\\\\\\\\\\\\"details\\\\\\\\\\\\\": {\\\\\\\\\\\\\"selectedColumn\\\\\\\\\\\\\": \\\\\\\\\\\\\"Column30\\\\\\\\\\\\\"}}, \\\\\\\\\\\\\"typeProperty\\\\\\\\\\\\\": 3}, {\\\\\\\\\\\\\"column\\\\\\\\\\\\\": {\\\\\\\\\\\\\"type\\\\\\\\\\\\\": 2, \\\\\\\\\\\\\"details\\\\\\\\\\\\\": {\\\\\\\\\\\\\"selectedColumn\\\\\\\\\\\\\": \\\\\\\\\\\\\"Column31\\\\\\\\\\\\\"}}, \\\\\\\\\\\\\"typeProperty\\\\\\\\\\\\\": 3}, {\\\\\\\\\\\\\"column\\\\\\\\\\\\\": {\\\\\\\\\\\\\"type\\\\\\\\\\\\\": 2, \\\\\\\\\\\\\"details\\\\\\\\\\\\\": {\\\\\\\\\\\\\"selectedColumn\\\\\\\\\\\\\": \\\\\\\\\\\\\"Column32\\\\\\\\\\\\\"}}, \\\\\\\\\\\\\"typeProperty\\\\\\\\\\\\\": 2}, {\\\\\\\\\\\\\"column\\\\\\\\\\\\\": {\\\\\\\\\\\\\"type\\\\\\\\\\\\\": 2, \\\\\\\\\\\\\"details\\\\\\\\\\\\\": {\\\\\\\\\\\\\"selectedColumn\\\\\\\\\\\\\": \\\\\\\\\\\\\"Column33\\\\\\\\\\\\\"}}, \\\\\\\\\\\\\"typeProperty\\\\\\\\\\\\\": 2}, {\\\\\\\\\\\\\"column\\\\\\\\\\\\\": {\\\\\\\\\\\\\"type\\\\\\\\\\\\\": 2, \\\\\\\\\\\\\"details\\\\\\\\\\\\\": {\\\\\\\\\\\\\"selectedColumn\\\\\\\\\\\\\": \\\\\\\\\\\\\"Column34\\\\\\\\\\\\\"}}, \\\\\\\\\\\\\"typeProperty\\\\\\\\\\\\\": 3}, {\\\\\\\\\\\\\"column\\\\\\\\\\\\\": {\\\\\\\\\\\\\"type\\\\\\\\\\\\\": 2, \\\\\\\\\\\\\"details\\\\\\\\\\\\\": {\\\\\\\\\\\\\"selectedColumn\\\\\\\\\\\\\": \\\\\\\\\\\\\"Column35\\\\\\\\\\\\\"}}, \\\\\\\\\\\\\"typeProperty\\\\\\\\\\\\\": 2}, {\\\\\\\\\\\\\"column\\\\\\\\\\\\\": {\\\\\\\\\\\\\"type\\\\\\\\\\\\\": 2, \\\\\\\\\\\\\"details\\\\\\\\\\\\\": {\\\\\\\\\\\\\"selectedColumn\\\\\\\\\\\\\": \\\\\\\\\\\\\"Column36\\\\\\\\\\\\\"}}, \\\\\\\\\\\\\"typeProperty\\\\\\\\\\\\\": 2}, {\\\\\\\\\\\\\"column\\\\\\\\\\\\\": {\\\\\\\\\\\\\"type\\\\\\\\\\\\\": 2, \\\\\\\\\\\\\"details\\\\\\\\\\\\\": {\\\\\\\\\\\\\"selectedColumn\\\\\\\\\\\\\": \\\\\\\\\\\\\"Column37\\\\\\\\\\\\\"}}, \\\\\\\\\\\\\"typeProperty\\\\\\\\\\\\\": 3}, {\\\\\\\\\\\\\"column\\\\\\\\\\\\\": {\\\\\\\\\\\\\"type\\\\\\\\\\\\\": 2, \\\\\\\\\\\\\"details\\\\\\\\\\\\\": {\\\\\\\\\\\\\"selectedColumn\\\\\\\\\\\\\": \\\\\\\\\\\\\"Column38\\\\\\\\\\\\\"}}, \\\\\\\\\\\\\"typeProperty\\\\\\\\\\\\\": 2}, {\\\\\\\\\\\\\"column\\\\\\\\\\\\\": {\\\\\\\\\\\\\"type\\\\\\\\\\\\\": 2, \\\\\\\\\\\\\"details\\\\\\\\\\\\\": {\\\\\\\\\\\\\"selectedColumn\\\\\\\\\\\\\": \\\\\\\\\\\\\"Column39\\\\\\\\\\\\\"}}, \\\\\\\\\\\\\"typeProperty\\\\\\\\\\\\\": 2}]}, \\\\\\\\\\\\\"localData\\\\\\\\\\\\\": {}, \\\\\\\\\\\\\"isEnabled\\\\\\\\\\\\\": true, \\\\\\\\\\\\\"name\\\\\\\\\\\\\": null, \\\\\\\\\\\\\"annotation\\\\\\\\\\\\\": null}], \\\\\\\\\\\\\"inspectors\\\\\\\\\\\\\": [], \\\\\\\\\\\\\"meta\\\\\\\\\\\\\": {\\\\\\\\\\\\\"savedDatasetId\\\\\\\\\\\\\": \\\\\\\\\\\\\"18688820-c5ad-4062-bcb7-bda63372398a\\\\\\\\\\\\\", \\\\\\\\\\\\\"datasetType\\\\\\\\\\\\\": \\\\\\\\\\\\\"tabular\\\\\\\\\\\\\", \\\\\\\\\\\\\"subscriptionId\\\\\\\\\\\\\": \\\\\\\\\\\\\"5cf0bb76-4731-4cb5-ac3d-950c07dda6ef\\\\\\\\\\\\\", \\\\\\\\\\\\\"workspaceId\\\\\\\\\\\\\": \\\\\\\\\\\\\"fc3b37fb-bacc-4eab-9f1e-3b7d75d79cf5\\\\\\\\\\\\\", \\\\\\\\\\\\\"workspaceLocation\\\\\\\\\\\\\": \\\\\\\\\\\\\"uksouth\\\\\\\\\\\\\"}}\\\\\", \\\\\"activities\\\\\": 0}',\n  'EnableSubsampling': None,\n  'runTemplate': 'AutoML',\n  'azureml.runsource': 'automl',\n  'display_task_type': 'classification',\n  'dependencies_versions': '{\"azureml-widgets\": \"1.20.0\", \"azureml-train\": \"1.20.0\", \"azureml-train-restclients-hyperdrive\": \"1.22.0\", \"azureml-train-core\": \"1.22.0\", \"azureml-train-automl\": \"1.22.0\", \"azureml-train-automl-runtime\": \"1.22.0\", \"azureml-train-automl-client\": \"1.22.0\", \"azureml-tensorboard\": \"1.20.0\", \"azureml-telemetry\": \"1.22.0\", \"azureml-sdk\": \"1.20.0\", \"azureml-samples\": \"0+unknown\", \"azureml-pipeline\": \"1.20.0\", \"azureml-pipeline-steps\": \"1.22.0\", \"azureml-pipeline-core\": \"1.22.0\", \"azureml-opendatasets\": \"1.20.0\", \"azureml-model-management-sdk\": \"1.0.1b6.post1\", \"azureml-mlflow\": \"1.20.0.post1\", \"azureml-interpret\": \"1.22.0\", \"azureml-explain-model\": \"1.20.0\", \"azureml-defaults\": \"1.22.0\", \"azureml-dataset-runtime\": \"1.22.0\", \"azureml-dataprep\": \"2.9.0\", \"azureml-dataprep-rslex\": \"1.7.0\", \"azureml-dataprep-native\": \"29.0.0\", \"azureml-datadrift\": \"1.20.0\", \"azureml-core\": \"1.22.0\", \"azureml-contrib-services\": \"1.20.0\", \"azureml-contrib-server\": \"1.20.0\", \"azureml-contrib-reinforcementlearning\": \"1.20.0\", \"azureml-contrib-pipeline-steps\": \"1.20.0\", \"azureml-contrib-notebook\": \"1.20.0\", \"azureml-contrib-interpret\": \"1.20.0\", \"azureml-contrib-gbdt\": \"1.20.0\", \"azureml-contrib-fairness\": \"1.20.0\", \"azureml-contrib-dataset\": \"1.20.0\", \"azureml-cli-common\": \"1.20.0\", \"azureml-automl-runtime\": \"1.22.0\", \"azureml-automl-core\": \"1.22.0\", \"azureml-accel-models\": \"1.20.0\"}',\n  '_aml_system_scenario_identification': 'Remote.Parent',\n  'ClientType': 'SDK',\n  'environment_cpu_name': 'AzureML-AutoML',\n  'environment_cpu_label': 'prod',\n  'environment_gpu_name': 'AzureML-AutoML-GPU',\n  'environment_gpu_label': 'prod',\n  'root_attribution': 'automl',\n  'attribution': 'AutoML',\n  'Orchestrator': 'AutoML',\n  'CancelUri': 'https://uksouth.experiments.azureml.net/jasmine/v1.0/subscriptions/5cf0bb76-4731-4cb5-ac3d-950c07dda6ef/resourceGroups/group1st/providers/Microsoft.MachineLearningServices/workspaces/workspace1st/experimentids/16d32214-2925-43c0-a8f2-ff9ae56d6268/cancel/AutoML_532e1f2e-40f2-44cf-845f-4ff45db1a7c8',\n  'ClientSdkVersion': '1.21.0',\n  'snapshotId': '00000000-0000-0000-0000-000000000000',\n  'SetupRunId': 'AutoML_532e1f2e-40f2-44cf-845f-4ff45db1a7c8_setup',\n  'SetupRunContainerId': 'dcid.AutoML_532e1f2e-40f2-44cf-845f-4ff45db1a7c8_setup',\n  'FeaturizationRunJsonPath': 'featurizer_container.json',\n  'FeaturizationRunId': 'AutoML_532e1f2e-40f2-44cf-845f-4ff45db1a7c8_featurize',\n  'ProblemInfoJsonString': '{\"dataset_num_categorical\": 0, \"is_sparse\": true, \"subsampling\": false, \"dataset_classes\": 2, \"dataset_features\": 51, \"dataset_samples\": 259741, \"single_frequency_class_detected\": false}',\n  'ModelExplainRunId': 'AutoML_532e1f2e-40f2-44cf-845f-4ff45db1a7c8_ModelExplain'},\n 'inputDatasets': [{'dataset': {'id': '18688820-c5ad-4062-bcb7-bda63372398a'}, 'consumptionDetails': {'type': 'RunInput', 'inputName': 'training_data', 'mechanism': 'Direct'}}],\n 'outputDatasets': [],\n 'logFiles': {},\n 'submittedBy': 'A Admin'}"
          },
          "metadata": {}
        }
      ],
      "execution_count": 15,
      "metadata": {
        "collapsed": false,
        "jupyter": {
          "source_hidden": false,
          "outputs_hidden": false
        },
        "nteract": {
          "transient": {
            "deleting": false
          }
        },
        "gather": {
          "logged": 1613310623076
        }
      }
    },
    {
      "cell_type": "markdown",
      "source": [
        "## Results"
      ],
      "metadata": {}
    },
    {
      "cell_type": "code",
      "source": [
        "from azureml.widgets import RunDetails\n",
        "# RunDetails(local_run).show()\n",
        "RunDetails(remote_run).show()"
      ],
      "outputs": [
        {
          "output_type": "display_data",
          "data": {
            "text/plain": "_AutoMLWidget(widget_settings={'childWidgetDisplay': 'popup', 'send_telemetry': True, 'log_level': 'INFO', 'sd…",
            "application/vnd.jupyter.widget-view+json": {
              "version_major": 2,
              "version_minor": 0,
              "model_id": "d059e2dc26cf49e186a3ddd922632a72"
            }
          },
          "metadata": {}
        },
        {
          "output_type": "display_data",
          "data": {
            "application/aml.mini.widget.v1": "{\"status\": \"Completed\", \"workbench_run_details_uri\": \"https://ml.azure.com/experiments/ml-experiment-025/runs/AutoML_532e1f2e-40f2-44cf-845f-4ff45db1a7c8?wsid=/subscriptions/5cf0bb76-4731-4cb5-ac3d-950c07dda6ef/resourcegroups/group1st/workspaces/workspace1st\", \"run_id\": \"AutoML_532e1f2e-40f2-44cf-845f-4ff45db1a7c8\", \"run_properties\": {\"run_id\": \"AutoML_532e1f2e-40f2-44cf-845f-4ff45db1a7c8\", \"created_utc\": \"2021-02-14T08:29:06.16611Z\", \"properties\": {\"num_iterations\": \"1000\", \"training_type\": \"TrainFull\", \"acquisition_function\": \"EI\", \"primary_metric\": \"accuracy\", \"train_split\": \"0\", \"acquisition_parameter\": \"0\", \"num_cross_validation\": null, \"target\": \"cpu-cluster\", \"AMLSettingsJsonString\": \"{\\\"path\\\":null,\\\"name\\\":\\\"ml-experiment-025\\\",\\\"subscription_id\\\":\\\"5cf0bb76-4731-4cb5-ac3d-950c07dda6ef\\\",\\\"resource_group\\\":\\\"group1st\\\",\\\"workspace_name\\\":\\\"workspace1st\\\",\\\"region\\\":\\\"uksouth\\\",\\\"compute_target\\\":\\\"cpu-cluster\\\",\\\"spark_service\\\":null,\\\"azure_service\\\":\\\"remote\\\",\\\"many_models\\\":false,\\\"pipeline_fetch_max_batch_size\\\":1,\\\"iterations\\\":1000,\\\"primary_metric\\\":\\\"accuracy\\\",\\\"task_type\\\":\\\"classification\\\",\\\"data_script\\\":null,\\\"validation_size\\\":0.0,\\\"n_cross_validations\\\":null,\\\"y_min\\\":null,\\\"y_max\\\":null,\\\"num_classes\\\":null,\\\"featurization\\\":\\\"auto\\\",\\\"_ignore_package_version_incompatibilities\\\":false,\\\"is_timeseries\\\":false,\\\"max_cores_per_iteration\\\":1,\\\"max_concurrent_iterations\\\":5,\\\"iteration_timeout_minutes\\\":null,\\\"mem_in_mb\\\":null,\\\"enforce_time_on_windows\\\":false,\\\"experiment_timeout_minutes\\\":25,\\\"experiment_exit_score\\\":null,\\\"whitelist_models\\\":null,\\\"blacklist_algos\\\":[\\\"TensorFlowLinearClassifier\\\",\\\"TensorFlowDNN\\\"],\\\"supported_models\\\":[\\\"LightGBM\\\",\\\"LinearSVM\\\",\\\"TensorFlowDNN\\\",\\\"SVM\\\",\\\"GradientBoosting\\\",\\\"ExtremeRandomTrees\\\",\\\"TensorFlowLinearClassifier\\\",\\\"KNN\\\",\\\"SGD\\\",\\\"BernoulliNaiveBayes\\\",\\\"XGBoostClassifier\\\",\\\"MultinomialNaiveBayes\\\",\\\"LogisticRegression\\\",\\\"RandomForest\\\",\\\"AveragedPerceptronClassifier\\\",\\\"DecisionTree\\\"],\\\"private_models\\\":[],\\\"auto_blacklist\\\":true,\\\"blacklist_samples_reached\\\":false,\\\"exclude_nan_labels\\\":true,\\\"verbosity\\\":20,\\\"_debug_log\\\":\\\"azureml_automl.log\\\",\\\"show_warnings\\\":false,\\\"model_explainability\\\":true,\\\"service_url\\\":null,\\\"sdk_url\\\":null,\\\"sdk_packages\\\":null,\\\"enable_onnx_compatible_models\\\":false,\\\"enable_split_onnx_featurizer_estimator_models\\\":false,\\\"vm_type\\\":\\\"STANDARD_DS12_V2\\\",\\\"telemetry_verbosity\\\":20,\\\"send_telemetry\\\":true,\\\"enable_dnn\\\":false,\\\"scenario\\\":\\\"SDK-1.13.0\\\",\\\"environment_label\\\":null,\\\"force_text_dnn\\\":false,\\\"enable_feature_sweeping\\\":true,\\\"enable_early_stopping\\\":true,\\\"early_stopping_n_iters\\\":10,\\\"metrics\\\":null,\\\"enable_ensembling\\\":true,\\\"enable_stack_ensembling\\\":true,\\\"ensemble_iterations\\\":15,\\\"enable_tf\\\":false,\\\"enable_subsampling\\\":null,\\\"subsample_seed\\\":null,\\\"enable_nimbusml\\\":false,\\\"enable_streaming\\\":false,\\\"force_streaming\\\":false,\\\"track_child_runs\\\":true,\\\"allowed_private_models\\\":[],\\\"label_column_name\\\":\\\"Column39\\\",\\\"weight_column_name\\\":null,\\\"cv_split_column_names\\\":null,\\\"enable_local_managed\\\":false,\\\"_local_managed_run_id\\\":null,\\\"cost_mode\\\":1,\\\"lag_length\\\":0,\\\"metric_operation\\\":\\\"maximize\\\",\\\"preprocess\\\":true}\", \"DataPrepJsonString\": \"{\\\\\\\"training_data\\\\\\\": \\\\\\\"{\\\\\\\\\\\\\\\"blocks\\\\\\\\\\\\\\\": [{\\\\\\\\\\\\\\\"id\\\\\\\\\\\\\\\": \\\\\\\\\\\\\\\"3628f5f7-61ec-4004-a311-ad85df693423\\\\\\\\\\\\\\\", \\\\\\\\\\\\\\\"type\\\\\\\\\\\\\\\": \\\\\\\\\\\\\\\"Microsoft.DPrep.GetFilesBlock\\\\\\\\\\\\\\\", \\\\\\\\\\\\\\\"arguments\\\\\\\\\\\\\\\": {\\\\\\\\\\\\\\\"isArchive\\\\\\\\\\\\\\\": false, \\\\\\\\\\\\\\\"path\\\\\\\\\\\\\\\": {\\\\\\\\\\\\\\\"target\\\\\\\\\\\\\\\": 1, \\\\\\\\\\\\\\\"resourceDetails\\\\\\\\\\\\\\\": [{\\\\\\\\\\\\\\\"path\\\\\\\\\\\\\\\": \\\\\\\\\\\\\\\"https://workspace1st4305015718.blob.core.windows.net/public/IDS2017InfilterationFeaturized.csv\\\\\\\\\\\\\\\", \\\\\\\\\\\\\\\"sas\\\\\\\\\\\\\\\": null, \\\\\\\\\\\\\\\"storageAccountName\\\\\\\\\\\\\\\": null, \\\\\\\\\\\\\\\"storageAccountKey\\\\\\\\\\\\\\\": null}]}}, \\\\\\\\\\\\\\\"localData\\\\\\\\\\\\\\\": {}, \\\\\\\\\\\\\\\"isEnabled\\\\\\\\\\\\\\\": true, \\\\\\\\\\\\\\\"name\\\\\\\\\\\\\\\": null, \\\\\\\\\\\\\\\"annotation\\\\\\\\\\\\\\\": null}, {\\\\\\\\\\\\\\\"id\\\\\\\\\\\\\\\": \\\\\\\\\\\\\\\"18965f0f-b280-4bfb-84db-54dd4f0da3f9\\\\\\\\\\\\\\\", \\\\\\\\\\\\\\\"type\\\\\\\\\\\\\\\": \\\\\\\\\\\\\\\"Microsoft.DPrep.ParseDelimitedBlock\\\\\\\\\\\\\\\", \\\\\\\\\\\\\\\"arguments\\\\\\\\\\\\\\\": {\\\\\\\\\\\\\\\"columnHeadersMode\\\\\\\\\\\\\\\": 0, \\\\\\\\\\\\\\\"fileEncoding\\\\\\\\\\\\\\\": 0, \\\\\\\\\\\\\\\"handleQuotedLineBreaks\\\\\\\\\\\\\\\": false, \\\\\\\\\\\\\\\"preview\\\\\\\\\\\\\\\": false, \\\\\\\\\\\\\\\"separator\\\\\\\\\\\\\\\": \\\\\\\\\\\\\\\",\\\\\\\\\\\\\\\", \\\\\\\\\\\\\\\"skipRows\\\\\\\\\\\\\\\": 1, \\\\\\\\\\\\\\\"skipRowsMode\\\\\\\\\\\\\\\": 1}, \\\\\\\\\\\\\\\"localData\\\\\\\\\\\\\\\": {}, \\\\\\\\\\\\\\\"isEnabled\\\\\\\\\\\\\\\": true, \\\\\\\\\\\\\\\"name\\\\\\\\\\\\\\\": null, \\\\\\\\\\\\\\\"annotation\\\\\\\\\\\\\\\": null}, {\\\\\\\\\\\\\\\"id\\\\\\\\\\\\\\\": \\\\\\\\\\\\\\\"2d26ecf4-da26-443b-85b7-e43738d3596d\\\\\\\\\\\\\\\", \\\\\\\\\\\\\\\"type\\\\\\\\\\\\\\\": \\\\\\\\\\\\\\\"Microsoft.DPrep.DropColumnsBlock\\\\\\\\\\\\\\\", \\\\\\\\\\\\\\\"arguments\\\\\\\\\\\\\\\": {\\\\\\\\\\\\\\\"columns\\\\\\\\\\\\\\\": {\\\\\\\\\\\\\\\"type\\\\\\\\\\\\\\\": 0, \\\\\\\\\\\\\\\"details\\\\\\\\\\\\\\\": {\\\\\\\\\\\\\\\"selectedColumns\\\\\\\\\\\\\\\": [\\\\\\\\\\\\\\\"Path\\\\\\\\\\\\\\\"]}}}, \\\\\\\\\\\\\\\"localData\\\\\\\\\\\\\\\": {}, \\\\\\\\\\\\\\\"isEnabled\\\\\\\\\\\\\\\": true, \\\\\\\\\\\\\\\"name\\\\\\\\\\\\\\\": null, \\\\\\\\\\\\\\\"annotation\\\\\\\\\\\\\\\": null}, {\\\\\\\\\\\\\\\"id\\\\\\\\\\\\\\\": \\\\\\\\\\\\\\\"5a39b11d-e69c-476b-aba7-7f33c275db64\\\\\\\\\\\\\\\", \\\\\\\\\\\\\\\"type\\\\\\\\\\\\\\\": \\\\\\\\\\\\\\\"Microsoft.DPrep.SetColumnTypesBlock\\\\\\\\\\\\\\\", \\\\\\\\\\\\\\\"arguments\\\\\\\\\\\\\\\": {\\\\\\\\\\\\\\\"columnConversion\\\\\\\\\\\\\\\": [{\\\\\\\\\\\\\\\"column\\\\\\\\\\\\\\\": {\\\\\\\\\\\\\\\"type\\\\\\\\\\\\\\\": 2, \\\\\\\\\\\\\\\"details\\\\\\\\\\\\\\\": {\\\\\\\\\\\\\\\"selectedColumn\\\\\\\\\\\\\\\": \\\\\\\\\\\\\\\"Path\\\\\\\\\\\\\\\"}}, \\\\\\\\\\\\\\\"typeProperty\\\\\\\\\\\\\\\": 0}, {\\\\\\\\\\\\\\\"column\\\\\\\\\\\\\\\": {\\\\\\\\\\\\\\\"type\\\\\\\\\\\\\\\": 2, \\\\\\\\\\\\\\\"details\\\\\\\\\\\\\\\": {\\\\\\\\\\\\\\\"selectedColumn\\\\\\\\\\\\\\\": \\\\\\\\\\\\\\\"Column1\\\\\\\\\\\\\\\"}}, \\\\\\\\\\\\\\\"typeProperty\\\\\\\\\\\\\\\": 2}, {\\\\\\\\\\\\\\\"column\\\\\\\\\\\\\\\": {\\\\\\\\\\\\\\\"type\\\\\\\\\\\\\\\": 2, \\\\\\\\\\\\\\\"details\\\\\\\\\\\\\\\": {\\\\\\\\\\\\\\\"selectedColumn\\\\\\\\\\\\\\\": \\\\\\\\\\\\\\\"Column2\\\\\\\\\\\\\\\"}}, \\\\\\\\\\\\\\\"typeProperty\\\\\\\\\\\\\\\": 2}, {\\\\\\\\\\\\\\\"column\\\\\\\\\\\\\\\": {\\\\\\\\\\\\\\\"type\\\\\\\\\\\\\\\": 2, \\\\\\\\\\\\\\\"details\\\\\\\\\\\\\\\": {\\\\\\\\\\\\\\\"selectedColumn\\\\\\\\\\\\\\\": \\\\\\\\\\\\\\\"Column3\\\\\\\\\\\\\\\"}}, \\\\\\\\\\\\\\\"typeProperty\\\\\\\\\\\\\\\": 2}, {\\\\\\\\\\\\\\\"column\\\\\\\\\\\\\\\": {\\\\\\\\\\\\\\\"type\\\\\\\\\\\\\\\": 2, \\\\\\\\\\\\\\\"details\\\\\\\\\\\\\\\": {\\\\\\\\\\\\\\\"selectedColumn\\\\\\\\\\\\\\\": \\\\\\\\\\\\\\\"Column4\\\\\\\\\\\\\\\"}}, \\\\\\\\\\\\\\\"typeProperty\\\\\\\\\\\\\\\": 2}, {\\\\\\\\\\\\\\\"column\\\\\\\\\\\\\\\": {\\\\\\\\\\\\\\\"type\\\\\\\\\\\\\\\": 2, \\\\\\\\\\\\\\\"details\\\\\\\\\\\\\\\": {\\\\\\\\\\\\\\\"selectedColumn\\\\\\\\\\\\\\\": \\\\\\\\\\\\\\\"Column5\\\\\\\\\\\\\\\"}}, \\\\\\\\\\\\\\\"typeProperty\\\\\\\\\\\\\\\": 2}, {\\\\\\\\\\\\\\\"column\\\\\\\\\\\\\\\": {\\\\\\\\\\\\\\\"type\\\\\\\\\\\\\\\": 2, \\\\\\\\\\\\\\\"details\\\\\\\\\\\\\\\": {\\\\\\\\\\\\\\\"selectedColumn\\\\\\\\\\\\\\\": \\\\\\\\\\\\\\\"Column6\\\\\\\\\\\\\\\"}}, \\\\\\\\\\\\\\\"typeProperty\\\\\\\\\\\\\\\": 2}, {\\\\\\\\\\\\\\\"column\\\\\\\\\\\\\\\": {\\\\\\\\\\\\\\\"type\\\\\\\\\\\\\\\": 2, \\\\\\\\\\\\\\\"details\\\\\\\\\\\\\\\": {\\\\\\\\\\\\\\\"selectedColumn\\\\\\\\\\\\\\\": \\\\\\\\\\\\\\\"Column7\\\\\\\\\\\\\\\"}}, \\\\\\\\\\\\\\\"typeProperty\\\\\\\\\\\\\\\": 2}, {\\\\\\\\\\\\\\\"column\\\\\\\\\\\\\\\": {\\\\\\\\\\\\\\\"type\\\\\\\\\\\\\\\": 2, \\\\\\\\\\\\\\\"details\\\\\\\\\\\\\\\": {\\\\\\\\\\\\\\\"selectedColumn\\\\\\\\\\\\\\\": \\\\\\\\\\\\\\\"Column8\\\\\\\\\\\\\\\"}}, \\\\\\\\\\\\\\\"typeProperty\\\\\\\\\\\\\\\": 3}, {\\\\\\\\\\\\\\\"column\\\\\\\\\\\\\\\": {\\\\\\\\\\\\\\\"type\\\\\\\\\\\\\\\": 2, \\\\\\\\\\\\\\\"details\\\\\\\\\\\\\\\": {\\\\\\\\\\\\\\\"selectedColumn\\\\\\\\\\\\\\\": \\\\\\\\\\\\\\\"Column9\\\\\\\\\\\\\\\"}}, \\\\\\\\\\\\\\\"typeProperty\\\\\\\\\\\\\\\": 2}, {\\\\\\\\\\\\\\\"column\\\\\\\\\\\\\\\": {\\\\\\\\\\\\\\\"type\\\\\\\\\\\\\\\": 2, \\\\\\\\\\\\\\\"details\\\\\\\\\\\\\\\": {\\\\\\\\\\\\\\\"selectedColumn\\\\\\\\\\\\\\\": \\\\\\\\\\\\\\\"Column10\\\\\\\\\\\\\\\"}}, \\\\\\\\\\\\\\\"typeProperty\\\\\\\\\\\\\\\": 2}, {\\\\\\\\\\\\\\\"column\\\\\\\\\\\\\\\": {\\\\\\\\\\\\\\\"type\\\\\\\\\\\\\\\": 2, \\\\\\\\\\\\\\\"details\\\\\\\\\\\\\\\": {\\\\\\\\\\\\\\\"selectedColumn\\\\\\\\\\\\\\\": \\\\\\\\\\\\\\\"Column11\\\\\\\\\\\\\\\"}}, \\\\\\\\\\\\\\\"typeProperty\\\\\\\\\\\\\\\": 2}, {\\\\\\\\\\\\\\\"column\\\\\\\\\\\\\\\": {\\\\\\\\\\\\\\\"type\\\\\\\\\\\\\\\": 2, \\\\\\\\\\\\\\\"details\\\\\\\\\\\\\\\": {\\\\\\\\\\\\\\\"selectedColumn\\\\\\\\\\\\\\\": \\\\\\\\\\\\\\\"Column12\\\\\\\\\\\\\\\"}}, \\\\\\\\\\\\\\\"typeProperty\\\\\\\\\\\\\\\": 2}, {\\\\\\\\\\\\\\\"column\\\\\\\\\\\\\\\": {\\\\\\\\\\\\\\\"type\\\\\\\\\\\\\\\": 2, \\\\\\\\\\\\\\\"details\\\\\\\\\\\\\\\": {\\\\\\\\\\\\\\\"selectedColumn\\\\\\\\\\\\\\\": \\\\\\\\\\\\\\\"Column13\\\\\\\\\\\\\\\"}}, \\\\\\\\\\\\\\\"typeProperty\\\\\\\\\\\\\\\": 3}, {\\\\\\\\\\\\\\\"column\\\\\\\\\\\\\\\": {\\\\\\\\\\\\\\\"type\\\\\\\\\\\\\\\": 2, \\\\\\\\\\\\\\\"details\\\\\\\\\\\\\\\": {\\\\\\\\\\\\\\\"selectedColumn\\\\\\\\\\\\\\\": \\\\\\\\\\\\\\\"Column14\\\\\\\\\\\\\\\"}}, \\\\\\\\\\\\\\\"typeProperty\\\\\\\\\\\\\\\": 2}, {\\\\\\\\\\\\\\\"column\\\\\\\\\\\\\\\": {\\\\\\\\\\\\\\\"type\\\\\\\\\\\\\\\": 2, \\\\\\\\\\\\\\\"details\\\\\\\\\\\\\\\": {\\\\\\\\\\\\\\\"selectedColumn\\\\\\\\\\\\\\\": \\\\\\\\\\\\\\\"Column15\\\\\\\\\\\\\\\"}}, \\\\\\\\\\\\\\\"typeProperty\\\\\\\\\\\\\\\": 3}, {\\\\\\\\\\\\\\\"column\\\\\\\\\\\\\\\": {\\\\\\\\\\\\\\\"type\\\\\\\\\\\\\\\": 2, \\\\\\\\\\\\\\\"details\\\\\\\\\\\\\\\": {\\\\\\\\\\\\\\\"selectedColumn\\\\\\\\\\\\\\\": \\\\\\\\\\\\\\\"Column16\\\\\\\\\\\\\\\"}}, \\\\\\\\\\\\\\\"typeProperty\\\\\\\\\\\\\\\": 2}, {\\\\\\\\\\\\\\\"column\\\\\\\\\\\\\\\": {\\\\\\\\\\\\\\\"type\\\\\\\\\\\\\\\": 2, \\\\\\\\\\\\\\\"details\\\\\\\\\\\\\\\": {\\\\\\\\\\\\\\\"selectedColumn\\\\\\\\\\\\\\\": \\\\\\\\\\\\\\\"Column17\\\\\\\\\\\\\\\"}}, \\\\\\\\\\\\\\\"typeProperty\\\\\\\\\\\\\\\": 2}, {\\\\\\\\\\\\\\\"column\\\\\\\\\\\\\\\": {\\\\\\\\\\\\\\\"type\\\\\\\\\\\\\\\": 2, \\\\\\\\\\\\\\\"details\\\\\\\\\\\\\\\": {\\\\\\\\\\\\\\\"selectedColumn\\\\\\\\\\\\\\\": \\\\\\\\\\\\\\\"Column18\\\\\\\\\\\\\\\"}}, \\\\\\\\\\\\\\\"typeProperty\\\\\\\\\\\\\\\": 2}, {\\\\\\\\\\\\\\\"column\\\\\\\\\\\\\\\": {\\\\\\\\\\\\\\\"type\\\\\\\\\\\\\\\": 2, \\\\\\\\\\\\\\\"details\\\\\\\\\\\\\\\": {\\\\\\\\\\\\\\\"selectedColumn\\\\\\\\\\\\\\\": \\\\\\\\\\\\\\\"Column19\\\\\\\\\\\\\\\"}}, \\\\\\\\\\\\\\\"typeProperty\\\\\\\\\\\\\\\": 2}, {\\\\\\\\\\\\\\\"column\\\\\\\\\\\\\\\": {\\\\\\\\\\\\\\\"type\\\\\\\\\\\\\\\": 2, \\\\\\\\\\\\\\\"details\\\\\\\\\\\\\\\": {\\\\\\\\\\\\\\\"selectedColumn\\\\\\\\\\\\\\\": \\\\\\\\\\\\\\\"Column20\\\\\\\\\\\\\\\"}}, \\\\\\\\\\\\\\\"typeProperty\\\\\\\\\\\\\\\": 2}, {\\\\\\\\\\\\\\\"column\\\\\\\\\\\\\\\": {\\\\\\\\\\\\\\\"type\\\\\\\\\\\\\\\": 2, \\\\\\\\\\\\\\\"details\\\\\\\\\\\\\\\": {\\\\\\\\\\\\\\\"selectedColumn\\\\\\\\\\\\\\\": \\\\\\\\\\\\\\\"Column21\\\\\\\\\\\\\\\"}}, \\\\\\\\\\\\\\\"typeProperty\\\\\\\\\\\\\\\": 2}, {\\\\\\\\\\\\\\\"column\\\\\\\\\\\\\\\": {\\\\\\\\\\\\\\\"type\\\\\\\\\\\\\\\": 2, \\\\\\\\\\\\\\\"details\\\\\\\\\\\\\\\": {\\\\\\\\\\\\\\\"selectedColumn\\\\\\\\\\\\\\\": \\\\\\\\\\\\\\\"Column22\\\\\\\\\\\\\\\"}}, \\\\\\\\\\\\\\\"typeProperty\\\\\\\\\\\\\\\": 2}, {\\\\\\\\\\\\\\\"column\\\\\\\\\\\\\\\": {\\\\\\\\\\\\\\\"type\\\\\\\\\\\\\\\": 2, \\\\\\\\\\\\\\\"details\\\\\\\\\\\\\\\": {\\\\\\\\\\\\\\\"selectedColumn\\\\\\\\\\\\\\\": \\\\\\\\\\\\\\\"Column23\\\\\\\\\\\\\\\"}}, \\\\\\\\\\\\\\\"typeProperty\\\\\\\\\\\\\\\": 2}, {\\\\\\\\\\\\\\\"column\\\\\\\\\\\\\\\": {\\\\\\\\\\\\\\\"type\\\\\\\\\\\\\\\": 2, \\\\\\\\\\\\\\\"details\\\\\\\\\\\\\\\": {\\\\\\\\\\\\\\\"selectedColumn\\\\\\\\\\\\\\\": \\\\\\\\\\\\\\\"Column24\\\\\\\\\\\\\\\"}}, \\\\\\\\\\\\\\\"typeProperty\\\\\\\\\\\\\\\": 2}, {\\\\\\\\\\\\\\\"column\\\\\\\\\\\\\\\": {\\\\\\\\\\\\\\\"type\\\\\\\\\\\\\\\": 2, \\\\\\\\\\\\\\\"details\\\\\\\\\\\\\\\": {\\\\\\\\\\\\\\\"selectedColumn\\\\\\\\\\\\\\\": \\\\\\\\\\\\\\\"Column25\\\\\\\\\\\\\\\"}}, \\\\\\\\\\\\\\\"typeProperty\\\\\\\\\\\\\\\": 3}, {\\\\\\\\\\\\\\\"column\\\\\\\\\\\\\\\": {\\\\\\\\\\\\\\\"type\\\\\\\\\\\\\\\": 2, \\\\\\\\\\\\\\\"details\\\\\\\\\\\\\\\": {\\\\\\\\\\\\\\\"selectedColumn\\\\\\\\\\\\\\\": \\\\\\\\\\\\\\\"Column26\\\\\\\\\\\\\\\"}}, \\\\\\\\\\\\\\\"typeProperty\\\\\\\\\\\\\\\": 3}, {\\\\\\\\\\\\\\\"column\\\\\\\\\\\\\\\": {\\\\\\\\\\\\\\\"type\\\\\\\\\\\\\\\": 2, \\\\\\\\\\\\\\\"details\\\\\\\\\\\\\\\": {\\\\\\\\\\\\\\\"selectedColumn\\\\\\\\\\\\\\\": \\\\\\\\\\\\\\\"Column27\\\\\\\\\\\\\\\"}}, \\\\\\\\\\\\\\\"typeProperty\\\\\\\\\\\\\\\": 3}, {\\\\\\\\\\\\\\\"column\\\\\\\\\\\\\\\": {\\\\\\\\\\\\\\\"type\\\\\\\\\\\\\\\": 2, \\\\\\\\\\\\\\\"details\\\\\\\\\\\\\\\": {\\\\\\\\\\\\\\\"selectedColumn\\\\\\\\\\\\\\\": \\\\\\\\\\\\\\\"Column28\\\\\\\\\\\\\\\"}}, \\\\\\\\\\\\\\\"typeProperty\\\\\\\\\\\\\\\": 3}, {\\\\\\\\\\\\\\\"column\\\\\\\\\\\\\\\": {\\\\\\\\\\\\\\\"type\\\\\\\\\\\\\\\": 2, \\\\\\\\\\\\\\\"details\\\\\\\\\\\\\\\": {\\\\\\\\\\\\\\\"selectedColumn\\\\\\\\\\\\\\\": \\\\\\\\\\\\\\\"Column29\\\\\\\\\\\\\\\"}}, \\\\\\\\\\\\\\\"typeProperty\\\\\\\\\\\\\\\": 2}, {\\\\\\\\\\\\\\\"column\\\\\\\\\\\\\\\": {\\\\\\\\\\\\\\\"type\\\\\\\\\\\\\\\": 2, \\\\\\\\\\\\\\\"details\\\\\\\\\\\\\\\": {\\\\\\\\\\\\\\\"selectedColumn\\\\\\\\\\\\\\\": \\\\\\\\\\\\\\\"Column30\\\\\\\\\\\\\\\"}}, \\\\\\\\\\\\\\\"typeProperty\\\\\\\\\\\\\\\": 3}, {\\\\\\\\\\\\\\\"column\\\\\\\\\\\\\\\": {\\\\\\\\\\\\\\\"type\\\\\\\\\\\\\\\": 2, \\\\\\\\\\\\\\\"details\\\\\\\\\\\\\\\": {\\\\\\\\\\\\\\\"selectedColumn\\\\\\\\\\\\\\\": \\\\\\\\\\\\\\\"Column31\\\\\\\\\\\\\\\"}}, \\\\\\\\\\\\\\\"typeProperty\\\\\\\\\\\\\\\": 3}, {\\\\\\\\\\\\\\\"column\\\\\\\\\\\\\\\": {\\\\\\\\\\\\\\\"type\\\\\\\\\\\\\\\": 2, \\\\\\\\\\\\\\\"details\\\\\\\\\\\\\\\": {\\\\\\\\\\\\\\\"selectedColumn\\\\\\\\\\\\\\\": \\\\\\\\\\\\\\\"Column32\\\\\\\\\\\\\\\"}}, \\\\\\\\\\\\\\\"typeProperty\\\\\\\\\\\\\\\": 2}, {\\\\\\\\\\\\\\\"column\\\\\\\\\\\\\\\": {\\\\\\\\\\\\\\\"type\\\\\\\\\\\\\\\": 2, \\\\\\\\\\\\\\\"details\\\\\\\\\\\\\\\": {\\\\\\\\\\\\\\\"selectedColumn\\\\\\\\\\\\\\\": \\\\\\\\\\\\\\\"Column33\\\\\\\\\\\\\\\"}}, \\\\\\\\\\\\\\\"typeProperty\\\\\\\\\\\\\\\": 2}, {\\\\\\\\\\\\\\\"column\\\\\\\\\\\\\\\": {\\\\\\\\\\\\\\\"type\\\\\\\\\\\\\\\": 2, \\\\\\\\\\\\\\\"details\\\\\\\\\\\\\\\": {\\\\\\\\\\\\\\\"selectedColumn\\\\\\\\\\\\\\\": \\\\\\\\\\\\\\\"Column34\\\\\\\\\\\\\\\"}}, \\\\\\\\\\\\\\\"typeProperty\\\\\\\\\\\\\\\": 3}, {\\\\\\\\\\\\\\\"column\\\\\\\\\\\\\\\": {\\\\\\\\\\\\\\\"type\\\\\\\\\\\\\\\": 2, \\\\\\\\\\\\\\\"details\\\\\\\\\\\\\\\": {\\\\\\\\\\\\\\\"selectedColumn\\\\\\\\\\\\\\\": \\\\\\\\\\\\\\\"Column35\\\\\\\\\\\\\\\"}}, \\\\\\\\\\\\\\\"typeProperty\\\\\\\\\\\\\\\": 2}, {\\\\\\\\\\\\\\\"column\\\\\\\\\\\\\\\": {\\\\\\\\\\\\\\\"type\\\\\\\\\\\\\\\": 2, \\\\\\\\\\\\\\\"details\\\\\\\\\\\\\\\": {\\\\\\\\\\\\\\\"selectedColumn\\\\\\\\\\\\\\\": \\\\\\\\\\\\\\\"Column36\\\\\\\\\\\\\\\"}}, \\\\\\\\\\\\\\\"typeProperty\\\\\\\\\\\\\\\": 2}, {\\\\\\\\\\\\\\\"column\\\\\\\\\\\\\\\": {\\\\\\\\\\\\\\\"type\\\\\\\\\\\\\\\": 2, \\\\\\\\\\\\\\\"details\\\\\\\\\\\\\\\": {\\\\\\\\\\\\\\\"selectedColumn\\\\\\\\\\\\\\\": \\\\\\\\\\\\\\\"Column37\\\\\\\\\\\\\\\"}}, \\\\\\\\\\\\\\\"typeProperty\\\\\\\\\\\\\\\": 3}, {\\\\\\\\\\\\\\\"column\\\\\\\\\\\\\\\": {\\\\\\\\\\\\\\\"type\\\\\\\\\\\\\\\": 2, \\\\\\\\\\\\\\\"details\\\\\\\\\\\\\\\": {\\\\\\\\\\\\\\\"selectedColumn\\\\\\\\\\\\\\\": \\\\\\\\\\\\\\\"Column38\\\\\\\\\\\\\\\"}}, \\\\\\\\\\\\\\\"typeProperty\\\\\\\\\\\\\\\": 2}, {\\\\\\\\\\\\\\\"column\\\\\\\\\\\\\\\": {\\\\\\\\\\\\\\\"type\\\\\\\\\\\\\\\": 2, \\\\\\\\\\\\\\\"details\\\\\\\\\\\\\\\": {\\\\\\\\\\\\\\\"selectedColumn\\\\\\\\\\\\\\\": \\\\\\\\\\\\\\\"Column39\\\\\\\\\\\\\\\"}}, \\\\\\\\\\\\\\\"typeProperty\\\\\\\\\\\\\\\": 2}]}, \\\\\\\\\\\\\\\"localData\\\\\\\\\\\\\\\": {}, \\\\\\\\\\\\\\\"isEnabled\\\\\\\\\\\\\\\": true, \\\\\\\\\\\\\\\"name\\\\\\\\\\\\\\\": null, \\\\\\\\\\\\\\\"annotation\\\\\\\\\\\\\\\": null}], \\\\\\\\\\\\\\\"inspectors\\\\\\\\\\\\\\\": [], \\\\\\\\\\\\\\\"meta\\\\\\\\\\\\\\\": {\\\\\\\\\\\\\\\"savedDatasetId\\\\\\\\\\\\\\\": \\\\\\\\\\\\\\\"18688820-c5ad-4062-bcb7-bda63372398a\\\\\\\\\\\\\\\", \\\\\\\\\\\\\\\"datasetType\\\\\\\\\\\\\\\": \\\\\\\\\\\\\\\"tabular\\\\\\\\\\\\\\\", \\\\\\\\\\\\\\\"subscriptionId\\\\\\\\\\\\\\\": \\\\\\\\\\\\\\\"5cf0bb76-4731-4cb5-ac3d-950c07dda6ef\\\\\\\\\\\\\\\", \\\\\\\\\\\\\\\"workspaceId\\\\\\\\\\\\\\\": \\\\\\\\\\\\\\\"fc3b37fb-bacc-4eab-9f1e-3b7d75d79cf5\\\\\\\\\\\\\\\", \\\\\\\\\\\\\\\"workspaceLocation\\\\\\\\\\\\\\\": \\\\\\\\\\\\\\\"uksouth\\\\\\\\\\\\\\\"}}\\\\\\\", \\\\\\\"activities\\\\\\\": 0}\", \"EnableSubsampling\": null, \"runTemplate\": \"AutoML\", \"azureml.runsource\": \"automl\", \"display_task_type\": \"classification\", \"dependencies_versions\": \"{\\\"azureml-widgets\\\": \\\"1.20.0\\\", \\\"azureml-train\\\": \\\"1.20.0\\\", \\\"azureml-train-restclients-hyperdrive\\\": \\\"1.22.0\\\", \\\"azureml-train-core\\\": \\\"1.22.0\\\", \\\"azureml-train-automl\\\": \\\"1.22.0\\\", \\\"azureml-train-automl-runtime\\\": \\\"1.22.0\\\", \\\"azureml-train-automl-client\\\": \\\"1.22.0\\\", \\\"azureml-tensorboard\\\": \\\"1.20.0\\\", \\\"azureml-telemetry\\\": \\\"1.22.0\\\", \\\"azureml-sdk\\\": \\\"1.20.0\\\", \\\"azureml-samples\\\": \\\"0+unknown\\\", \\\"azureml-pipeline\\\": \\\"1.20.0\\\", \\\"azureml-pipeline-steps\\\": \\\"1.22.0\\\", \\\"azureml-pipeline-core\\\": \\\"1.22.0\\\", \\\"azureml-opendatasets\\\": \\\"1.20.0\\\", \\\"azureml-model-management-sdk\\\": \\\"1.0.1b6.post1\\\", \\\"azureml-mlflow\\\": \\\"1.20.0.post1\\\", \\\"azureml-interpret\\\": \\\"1.22.0\\\", \\\"azureml-explain-model\\\": \\\"1.20.0\\\", \\\"azureml-defaults\\\": \\\"1.22.0\\\", \\\"azureml-dataset-runtime\\\": \\\"1.22.0\\\", \\\"azureml-dataprep\\\": \\\"2.9.0\\\", \\\"azureml-dataprep-rslex\\\": \\\"1.7.0\\\", \\\"azureml-dataprep-native\\\": \\\"29.0.0\\\", \\\"azureml-datadrift\\\": \\\"1.20.0\\\", \\\"azureml-core\\\": \\\"1.22.0\\\", \\\"azureml-contrib-services\\\": \\\"1.20.0\\\", \\\"azureml-contrib-server\\\": \\\"1.20.0\\\", \\\"azureml-contrib-reinforcementlearning\\\": \\\"1.20.0\\\", \\\"azureml-contrib-pipeline-steps\\\": \\\"1.20.0\\\", \\\"azureml-contrib-notebook\\\": \\\"1.20.0\\\", \\\"azureml-contrib-interpret\\\": \\\"1.20.0\\\", \\\"azureml-contrib-gbdt\\\": \\\"1.20.0\\\", \\\"azureml-contrib-fairness\\\": \\\"1.20.0\\\", \\\"azureml-contrib-dataset\\\": \\\"1.20.0\\\", \\\"azureml-cli-common\\\": \\\"1.20.0\\\", \\\"azureml-automl-runtime\\\": \\\"1.22.0\\\", \\\"azureml-automl-core\\\": \\\"1.22.0\\\", \\\"azureml-accel-models\\\": \\\"1.20.0\\\"}\", \"_aml_system_scenario_identification\": \"Remote.Parent\", \"ClientType\": \"SDK\", \"environment_cpu_name\": \"AzureML-AutoML\", \"environment_cpu_label\": \"prod\", \"environment_gpu_name\": \"AzureML-AutoML-GPU\", \"environment_gpu_label\": \"prod\", \"root_attribution\": \"automl\", \"attribution\": \"AutoML\", \"Orchestrator\": \"AutoML\", \"CancelUri\": \"https://uksouth.experiments.azureml.net/jasmine/v1.0/subscriptions/5cf0bb76-4731-4cb5-ac3d-950c07dda6ef/resourceGroups/group1st/providers/Microsoft.MachineLearningServices/workspaces/workspace1st/experimentids/16d32214-2925-43c0-a8f2-ff9ae56d6268/cancel/AutoML_532e1f2e-40f2-44cf-845f-4ff45db1a7c8\", \"ClientSdkVersion\": \"1.21.0\", \"snapshotId\": \"00000000-0000-0000-0000-000000000000\", \"SetupRunId\": \"AutoML_532e1f2e-40f2-44cf-845f-4ff45db1a7c8_setup\", \"SetupRunContainerId\": \"dcid.AutoML_532e1f2e-40f2-44cf-845f-4ff45db1a7c8_setup\", \"FeaturizationRunJsonPath\": \"featurizer_container.json\", \"FeaturizationRunId\": \"AutoML_532e1f2e-40f2-44cf-845f-4ff45db1a7c8_featurize\", \"ProblemInfoJsonString\": \"{\\\"dataset_num_categorical\\\": 0, \\\"is_sparse\\\": true, \\\"subsampling\\\": false, \\\"dataset_classes\\\": 2, \\\"dataset_features\\\": 51, \\\"dataset_samples\\\": 259741, \\\"single_frequency_class_detected\\\": false}\", \"ModelExplainRunId\": \"AutoML_532e1f2e-40f2-44cf-845f-4ff45db1a7c8_ModelExplain\"}, \"tags\": {\"model_explain_run\": \"best_run\", \"_aml_system_azureml.automlComponent\": \"AutoML\", \"pipeline_id\": \"\", \"score\": \"\", \"predicted_cost\": \"\", \"fit_time\": \"\", \"training_percent\": \"\", \"iteration\": \"\", \"run_preprocessor\": \"\", \"run_algorithm\": \"\", \"dynamic_whitelisting_iterations\": \"<25>;<30>;\", \"automl_best_child_run_id\": \"AutoML_532e1f2e-40f2-44cf-845f-4ff45db1a7c8_6\", \"model_explain_best_run_child_id\": \"AutoML_532e1f2e-40f2-44cf-845f-4ff45db1a7c8_6\"}, \"end_time_utc\": \"2021-02-14T09:05:12.39142Z\", \"status\": \"Completed\", \"log_files\": {}, \"log_groups\": [], \"run_duration\": \"0:36:06\"}, \"child_runs\": [{\"run_id\": \"AutoML_532e1f2e-40f2-44cf-845f-4ff45db1a7c8_2\", \"run_number\": 5, \"metric\": null, \"status\": \"Completed\", \"run_type\": \"azureml.scriptrun\", \"training_percent\": \"100\", \"start_time\": \"2021-02-14T08:33:47.427116Z\", \"end_time\": \"2021-02-14T08:34:37.994527Z\", \"created_time\": \"2021-02-14T08:33:37.782091Z\", \"created_time_dt\": \"2021-02-14T08:33:37.782091Z\", \"duration\": \"0:01:00\", \"iteration\": \"2\", \"goal\": \"accuracy_max\", \"run_name\": \"MaxAbsScaler, RandomForest\", \"run_properties\": \"copy=True\", \"primary_metric\": 0.9998614, \"best_metric\": 0.99996535}, {\"run_id\": \"AutoML_532e1f2e-40f2-44cf-845f-4ff45db1a7c8_0\", \"run_number\": 6, \"metric\": null, \"status\": \"Completed\", \"run_type\": \"azureml.scriptrun\", \"training_percent\": \"100\", \"start_time\": \"2021-02-14T08:35:39.817867Z\", \"end_time\": \"2021-02-14T08:36:35.812621Z\", \"created_time\": \"2021-02-14T08:33:37.793819Z\", \"created_time_dt\": \"2021-02-14T08:33:37.793819Z\", \"duration\": \"0:02:58\", \"iteration\": \"0\", \"goal\": \"accuracy_max\", \"run_name\": \"MaxAbsScaler, LightGBM\", \"run_properties\": \"copy=True\", \"primary_metric\": 0.99930702, \"best_metric\": 0.99930702}, {\"run_id\": \"AutoML_532e1f2e-40f2-44cf-845f-4ff45db1a7c8_3\", \"run_number\": 7, \"metric\": null, \"status\": \"Completed\", \"run_type\": \"azureml.scriptrun\", \"training_percent\": \"100\", \"start_time\": \"2021-02-14T08:34:41.450524Z\", \"end_time\": \"2021-02-14T08:35:32.082428Z\", \"created_time\": \"2021-02-14T08:33:37.80453Z\", \"created_time_dt\": \"2021-02-14T08:33:37.80453Z\", \"duration\": \"0:01:54\", \"iteration\": \"3\", \"goal\": \"accuracy_max\", \"run_name\": \"MaxAbsScaler, RandomForest\", \"run_properties\": \"copy=True\", \"primary_metric\": 0.9998614, \"best_metric\": 0.99996535}, {\"run_id\": \"AutoML_532e1f2e-40f2-44cf-845f-4ff45db1a7c8_4\", \"run_number\": 8, \"metric\": null, \"status\": \"Completed\", \"run_type\": \"azureml.scriptrun\", \"training_percent\": \"100\", \"start_time\": \"2021-02-14T08:36:40.736637Z\", \"end_time\": \"2021-02-14T08:37:38.719093Z\", \"created_time\": \"2021-02-14T08:33:37.804856Z\", \"created_time_dt\": \"2021-02-14T08:33:37.804856Z\", \"duration\": \"0:04:00\", \"iteration\": \"4\", \"goal\": \"accuracy_max\", \"run_name\": \"MaxAbsScaler, RandomForest\", \"run_properties\": \"copy=True\", \"primary_metric\": 0.97934929, \"best_metric\": 0.99996535}, {\"run_id\": \"AutoML_532e1f2e-40f2-44cf-845f-4ff45db1a7c8_1\", \"run_number\": 9, \"metric\": null, \"status\": \"Completed\", \"run_type\": \"azureml.scriptrun\", \"training_percent\": \"100\", \"start_time\": \"2021-02-14T08:37:05.360536Z\", \"end_time\": \"2021-02-14T08:39:44.337799Z\", \"created_time\": \"2021-02-14T08:33:37.797873Z\", \"created_time_dt\": \"2021-02-14T08:33:37.797873Z\", \"duration\": \"0:06:06\", \"iteration\": \"1\", \"goal\": \"accuracy_max\", \"run_name\": \"MaxAbsScaler, XGBoostClassifier\", \"run_properties\": \"copy=True\", \"primary_metric\": 0.99996535, \"best_metric\": 0.99996535}, {\"run_id\": \"AutoML_532e1f2e-40f2-44cf-845f-4ff45db1a7c8_5\", \"run_number\": 10, \"metric\": null, \"status\": \"Completed\", \"run_type\": \"azureml.scriptrun\", \"training_percent\": \"100\", \"start_time\": \"2021-02-14T08:37:43.171358Z\", \"end_time\": \"2021-02-14T08:38:41.220098Z\", \"created_time\": \"2021-02-14T08:34:40.973428Z\", \"created_time_dt\": \"2021-02-14T08:34:40.973428Z\", \"duration\": \"0:04:00\", \"iteration\": \"5\", \"goal\": \"accuracy_max\", \"run_name\": \"MaxAbsScaler, RandomForest\", \"run_properties\": \"copy=True\", \"primary_metric\": 0.88683691, \"best_metric\": 0.99996535}, {\"run_id\": \"AutoML_532e1f2e-40f2-44cf-845f-4ff45db1a7c8_6\", \"run_number\": 11, \"metric\": null, \"status\": \"Completed\", \"run_type\": \"azureml.scriptrun\", \"training_percent\": \"100\", \"start_time\": \"2021-02-14T08:38:42.131654Z\", \"end_time\": \"2021-02-14T08:40:24.230577Z\", \"created_time\": \"2021-02-14T08:35:34.24568Z\", \"created_time_dt\": \"2021-02-14T08:35:34.24568Z\", \"duration\": \"0:04:49\", \"iteration\": \"6\", \"goal\": \"accuracy_max\", \"run_name\": \"SparseNormalizer, XGBoostClassifier\", \"run_properties\": \"<azureml.automl.runtime.shared.model_wrappers.SparseNormalizer object at 0x7f1b37b12278\", \"primary_metric\": 1.0, \"best_metric\": 1.0}, {\"run_id\": \"AutoML_532e1f2e-40f2-44cf-845f-4ff45db1a7c8_7\", \"run_number\": 12, \"metric\": null, \"status\": \"Completed\", \"run_type\": \"azureml.scriptrun\", \"training_percent\": \"100\", \"start_time\": \"2021-02-14T08:39:46.265257Z\", \"end_time\": \"2021-02-14T08:41:03.124171Z\", \"created_time\": \"2021-02-14T08:36:38.048989Z\", \"created_time_dt\": \"2021-02-14T08:36:38.048989Z\", \"duration\": \"0:04:25\", \"iteration\": \"7\", \"goal\": \"accuracy_max\", \"run_name\": \"SparseNormalizer, XGBoostClassifier\", \"run_properties\": \"<azureml.automl.runtime.shared.model_wrappers.SparseNormalizer object at 0x7efbc4cf26d8\", \"primary_metric\": 0.99989605, \"best_metric\": 1.0}, {\"run_id\": \"AutoML_532e1f2e-40f2-44cf-845f-4ff45db1a7c8_8\", \"run_number\": 13, \"metric\": null, \"status\": \"Completed\", \"run_type\": \"azureml.scriptrun\", \"training_percent\": \"100\", \"start_time\": \"2021-02-14T08:40:25.194484Z\", \"end_time\": \"2021-02-14T08:41:14.366104Z\", \"created_time\": \"2021-02-14T08:37:40.860563Z\", \"created_time_dt\": \"2021-02-14T08:37:40.860563Z\", \"duration\": \"0:03:33\", \"iteration\": \"8\", \"goal\": \"accuracy_max\", \"run_name\": \"MaxAbsScaler, LightGBM\", \"run_properties\": \"copy=True\", \"primary_metric\": 0.9998614, \"best_metric\": 1.0}, {\"run_id\": \"AutoML_532e1f2e-40f2-44cf-845f-4ff45db1a7c8_9\", \"run_number\": 14, \"metric\": null, \"status\": \"Completed\", \"run_type\": \"azureml.scriptrun\", \"training_percent\": \"100\", \"start_time\": \"2021-02-14T08:41:09.869341Z\", \"end_time\": \"2021-02-14T08:42:27.357309Z\", \"created_time\": \"2021-02-14T08:38:43.015922Z\", \"created_time_dt\": \"2021-02-14T08:38:43.015922Z\", \"duration\": \"0:03:44\", \"iteration\": \"9\", \"goal\": \"accuracy_max\", \"run_name\": \"SparseNormalizer, LightGBM\", \"run_properties\": \"<azureml.automl.runtime.shared.model_wrappers.SparseNormalizer object at 0x7f233bc9ca58\", \"primary_metric\": 0.9998614, \"best_metric\": 1.0}, {\"run_id\": \"AutoML_532e1f2e-40f2-44cf-845f-4ff45db1a7c8_10\", \"run_number\": 15, \"metric\": null, \"status\": \"Completed\", \"run_type\": \"azureml.scriptrun\", \"training_percent\": \"100\", \"start_time\": \"2021-02-14T08:41:15.998838Z\", \"end_time\": \"2021-02-14T08:42:09.120485Z\", \"created_time\": \"2021-02-14T08:39:46.439729Z\", \"created_time_dt\": \"2021-02-14T08:39:46.439729Z\", \"duration\": \"0:02:22\", \"iteration\": \"10\", \"goal\": \"accuracy_max\", \"run_name\": \"SparseNormalizer, LightGBM\", \"run_properties\": \"<azureml.automl.runtime.shared.model_wrappers.SparseNormalizer object at 0x7fea55528d30\", \"primary_metric\": 0.9998614, \"best_metric\": 1.0}, {\"run_id\": \"AutoML_532e1f2e-40f2-44cf-845f-4ff45db1a7c8_11\", \"run_number\": 16, \"metric\": null, \"status\": \"Completed\", \"run_type\": \"azureml.scriptrun\", \"training_percent\": \"100\", \"start_time\": \"2021-02-14T08:42:15.966807Z\", \"end_time\": \"2021-02-14T08:43:09.523497Z\", \"created_time\": \"2021-02-14T08:40:26.015805Z\", \"created_time_dt\": \"2021-02-14T08:40:26.015805Z\", \"duration\": \"0:02:43\", \"iteration\": \"11\", \"goal\": \"accuracy_max\", \"run_name\": \"MaxAbsScaler, LightGBM\", \"run_properties\": \"copy=True\", \"primary_metric\": 0.9998614, \"best_metric\": 1.0}, {\"run_id\": \"AutoML_532e1f2e-40f2-44cf-845f-4ff45db1a7c8_12\", \"run_number\": 17, \"metric\": null, \"status\": \"Completed\", \"run_type\": \"azureml.scriptrun\", \"training_percent\": \"100\", \"start_time\": \"2021-02-14T08:42:27.8648Z\", \"end_time\": \"2021-02-14T08:43:23.413574Z\", \"created_time\": \"2021-02-14T08:41:05.059435Z\", \"created_time_dt\": \"2021-02-14T08:41:05.059435Z\", \"duration\": \"0:02:18\", \"iteration\": \"12\", \"goal\": \"accuracy_max\", \"run_name\": \"MaxAbsScaler, LightGBM\", \"run_properties\": \"copy=True\", \"primary_metric\": 0.9998614, \"best_metric\": 1.0}, {\"run_id\": \"AutoML_532e1f2e-40f2-44cf-845f-4ff45db1a7c8_13\", \"run_number\": 18, \"metric\": null, \"status\": \"Completed\", \"run_type\": \"azureml.scriptrun\", \"training_percent\": \"100\", \"start_time\": \"2021-02-14T08:43:13.490798Z\", \"end_time\": \"2021-02-14T08:44:27.782687Z\", \"created_time\": \"2021-02-14T08:41:16.04583Z\", \"created_time_dt\": \"2021-02-14T08:41:16.04583Z\", \"duration\": \"0:03:11\", \"iteration\": \"13\", \"goal\": \"accuracy_max\", \"run_name\": \"SparseNormalizer, XGBoostClassifier\", \"run_properties\": \"<azureml.automl.runtime.shared.model_wrappers.SparseNormalizer object at 0x7f1945596588\", \"primary_metric\": 0.9999307, \"best_metric\": 1.0}, {\"run_id\": \"AutoML_532e1f2e-40f2-44cf-845f-4ff45db1a7c8_14\", \"run_number\": 19, \"metric\": null, \"status\": \"Completed\", \"run_type\": \"azureml.scriptrun\", \"training_percent\": \"100\", \"start_time\": \"2021-02-14T08:43:25.531333Z\", \"end_time\": \"2021-02-14T08:45:25.516014Z\", \"created_time\": \"2021-02-14T08:42:11.172453Z\", \"created_time_dt\": \"2021-02-14T08:42:11.172453Z\", \"duration\": \"0:03:14\", \"iteration\": \"14\", \"goal\": \"accuracy_max\", \"run_name\": \"SparseNormalizer, XGBoostClassifier\", \"run_properties\": \"<azureml.automl.runtime.shared.model_wrappers.SparseNormalizer object at 0x7f2d61748c88\", \"primary_metric\": 1.0, \"best_metric\": 1.0}, {\"run_id\": \"AutoML_532e1f2e-40f2-44cf-845f-4ff45db1a7c8_15\", \"run_number\": 20, \"metric\": null, \"status\": \"Completed\", \"run_type\": \"azureml.scriptrun\", \"training_percent\": \"100\", \"start_time\": \"2021-02-14T08:44:30.565982Z\", \"end_time\": \"2021-02-14T08:45:36.519445Z\", \"created_time\": \"2021-02-14T08:42:29.324455Z\", \"created_time_dt\": \"2021-02-14T08:42:29.324455Z\", \"duration\": \"0:03:07\", \"iteration\": \"15\", \"goal\": \"accuracy_max\", \"run_name\": \"StandardScalerWrapper, LightGBM\", \"run_properties\": \"<azureml.automl.runtime.shared.model_wrappers.StandardScalerWrapper object at 0x7fa5dda88ef0\", \"primary_metric\": 0.9998614, \"best_metric\": 1.0}, {\"run_id\": \"AutoML_532e1f2e-40f2-44cf-845f-4ff45db1a7c8_16\", \"run_number\": 21, \"metric\": null, \"status\": \"Completed\", \"run_type\": \"azureml.scriptrun\", \"training_percent\": \"100\", \"start_time\": \"2021-02-14T08:45:29.238379Z\", \"end_time\": \"2021-02-14T08:47:17.561894Z\", \"created_time\": \"2021-02-14T08:43:11.503908Z\", \"created_time_dt\": \"2021-02-14T08:43:11.503908Z\", \"duration\": \"0:04:06\", \"iteration\": \"16\", \"goal\": \"accuracy_max\", \"run_name\": \"SparseNormalizer, XGBoostClassifier\", \"run_properties\": \"<azureml.automl.runtime.shared.model_wrappers.SparseNormalizer object at 0x7fc431a47940\", \"primary_metric\": 1.0, \"best_metric\": 1.0}, {\"run_id\": \"AutoML_532e1f2e-40f2-44cf-845f-4ff45db1a7c8_17\", \"run_number\": 22, \"metric\": null, \"status\": \"Completed\", \"run_type\": \"azureml.scriptrun\", \"training_percent\": \"100\", \"start_time\": \"2021-02-14T08:45:38.953507Z\", \"end_time\": \"2021-02-14T08:47:08.87069Z\", \"created_time\": \"2021-02-14T08:43:25.193228Z\", \"created_time_dt\": \"2021-02-14T08:43:25.193228Z\", \"duration\": \"0:03:43\", \"iteration\": \"17\", \"goal\": \"accuracy_max\", \"run_name\": \"StandardScalerWrapper, LogisticRegression\", \"run_properties\": \"<azureml.automl.runtime.shared.model_wrappers.StandardScalerWrapper object at 0x7f8f9d610fd0\", \"primary_metric\": 0.9998614, \"best_metric\": 1.0}, {\"run_id\": \"AutoML_532e1f2e-40f2-44cf-845f-4ff45db1a7c8_18\", \"run_number\": 23, \"metric\": null, \"status\": \"Completed\", \"run_type\": \"azureml.scriptrun\", \"training_percent\": \"100\", \"start_time\": \"2021-02-14T08:47:14.302814Z\", \"end_time\": \"2021-02-14T08:48:25.395501Z\", \"created_time\": \"2021-02-14T08:44:29.633098Z\", \"created_time_dt\": \"2021-02-14T08:44:29.633098Z\", \"duration\": \"0:03:55\", \"iteration\": \"18\", \"goal\": \"accuracy_max\", \"run_name\": \"StandardScalerWrapper, LightGBM\", \"run_properties\": \"<azureml.automl.runtime.shared.model_wrappers.StandardScalerWrapper object at 0x7f25a977feb8\", \"primary_metric\": 0.9998614, \"best_metric\": 1.0}, {\"run_id\": \"AutoML_532e1f2e-40f2-44cf-845f-4ff45db1a7c8_19\", \"run_number\": 24, \"metric\": null, \"status\": \"Completed\", \"run_type\": \"azureml.scriptrun\", \"training_percent\": \"100\", \"start_time\": \"2021-02-14T08:47:21.481657Z\", \"end_time\": \"2021-02-14T08:49:00.27083Z\", \"created_time\": \"2021-02-14T08:45:27.145057Z\", \"created_time_dt\": \"2021-02-14T08:45:27.145057Z\", \"duration\": \"0:03:33\", \"iteration\": \"19\", \"goal\": \"accuracy_max\", \"run_name\": \"SparseNormalizer, ExtremeRandomTrees\", \"run_properties\": \"<azureml.automl.runtime.shared.model_wrappers.SparseNormalizer object at 0x7f40f44ae4e0\", \"primary_metric\": 0.9998614, \"best_metric\": 1.0}, {\"run_id\": \"AutoML_532e1f2e-40f2-44cf-845f-4ff45db1a7c8_20\", \"run_number\": 25, \"metric\": null, \"status\": \"Completed\", \"run_type\": \"azureml.scriptrun\", \"training_percent\": \"100\", \"start_time\": \"2021-02-14T08:48:28.956179Z\", \"end_time\": \"2021-02-14T08:50:43.901276Z\", \"created_time\": \"2021-02-14T08:45:38.369644Z\", \"created_time_dt\": \"2021-02-14T08:45:38.369644Z\", \"duration\": \"0:05:05\", \"iteration\": \"20\", \"goal\": \"accuracy_max\", \"run_name\": \"SparseNormalizer, XGBoostClassifier\", \"run_properties\": \"<azureml.automl.runtime.shared.model_wrappers.SparseNormalizer object at 0x7fb5352ab2b0\", \"primary_metric\": 1.0, \"best_metric\": 1.0}, {\"run_id\": \"AutoML_532e1f2e-40f2-44cf-845f-4ff45db1a7c8_21\", \"run_number\": 26, \"metric\": null, \"status\": \"Completed\", \"run_type\": \"azureml.scriptrun\", \"training_percent\": \"100\", \"start_time\": \"2021-02-14T08:49:07.270059Z\", \"end_time\": \"2021-02-14T08:50:16.037779Z\", \"created_time\": \"2021-02-14T08:47:11.98667Z\", \"created_time_dt\": \"2021-02-14T08:47:11.98667Z\", \"duration\": \"0:03:04\", \"iteration\": \"21\", \"goal\": \"accuracy_max\", \"run_name\": \"SparseNormalizer, XGBoostClassifier\", \"run_properties\": \"<azureml.automl.runtime.shared.model_wrappers.SparseNormalizer object at 0x7ff090749d30\", \"primary_metric\": 0.99989605, \"best_metric\": 1.0}, {\"run_id\": \"AutoML_532e1f2e-40f2-44cf-845f-4ff45db1a7c8_22\", \"run_number\": 27, \"metric\": null, \"status\": \"Completed\", \"run_type\": \"azureml.scriptrun\", \"training_percent\": \"100\", \"start_time\": \"2021-02-14T08:50:13.537451Z\", \"end_time\": \"2021-02-14T08:52:22.87281Z\", \"created_time\": \"2021-02-14T08:47:19.261297Z\", \"created_time_dt\": \"2021-02-14T08:47:19.261297Z\", \"duration\": \"0:05:03\", \"iteration\": \"22\", \"goal\": \"accuracy_max\", \"run_name\": \"SparseNormalizer, XGBoostClassifier\", \"run_properties\": \"<azureml.automl.runtime.shared.model_wrappers.SparseNormalizer object at 0x7f686f069cc0\", \"primary_metric\": 1.0, \"best_metric\": 1.0}, {\"run_id\": \"AutoML_532e1f2e-40f2-44cf-845f-4ff45db1a7c8_23\", \"run_number\": 28, \"metric\": null, \"status\": \"Completed\", \"run_type\": \"azureml.scriptrun\", \"training_percent\": \"100\", \"start_time\": \"2021-02-14T08:50:45.958032Z\", \"end_time\": \"2021-02-14T08:53:44.840828Z\", \"created_time\": \"2021-02-14T08:48:27.381498Z\", \"created_time_dt\": \"2021-02-14T08:48:27.381498Z\", \"duration\": \"0:05:17\", \"iteration\": \"23\", \"goal\": \"accuracy_max\", \"run_name\": \"SparseNormalizer, XGBoostClassifier\", \"run_properties\": \"<azureml.automl.runtime.shared.model_wrappers.SparseNormalizer object at 0x7f99b91e5630\", \"primary_metric\": 0.99996535, \"best_metric\": 1.0}, {\"run_id\": \"AutoML_532e1f2e-40f2-44cf-845f-4ff45db1a7c8_24\", \"run_number\": 29, \"metric\": null, \"status\": \"Completed\", \"run_type\": \"azureml.scriptrun\", \"training_percent\": \"100\", \"start_time\": \"2021-02-14T08:52:25.644158Z\", \"end_time\": \"2021-02-14T08:54:33.472276Z\", \"created_time\": \"2021-02-14T08:49:01.984439Z\", \"created_time_dt\": \"2021-02-14T08:49:01.984439Z\", \"duration\": \"0:05:31\", \"iteration\": \"24\", \"goal\": \"accuracy_max\", \"run_name\": \"SparseNormalizer, XGBoostClassifier\", \"run_properties\": \"<azureml.automl.runtime.shared.model_wrappers.SparseNormalizer object at 0x7f5105299400\", \"primary_metric\": 1.0, \"best_metric\": 1.0}, {\"run_id\": \"AutoML_532e1f2e-40f2-44cf-845f-4ff45db1a7c8_25\", \"run_number\": 30, \"metric\": null, \"status\": \"Completed\", \"run_type\": \"azureml.scriptrun\", \"training_percent\": \"100\", \"start_time\": \"2021-02-14T08:53:46.434291Z\", \"end_time\": \"2021-02-14T08:54:42.865617Z\", \"created_time\": \"2021-02-14T08:50:18.973328Z\", \"created_time_dt\": \"2021-02-14T08:50:18.973328Z\", \"duration\": \"0:04:23\", \"iteration\": \"25\", \"goal\": \"accuracy_max\", \"run_name\": \"SparseNormalizer, XGBoostClassifier\", \"run_properties\": \"<azureml.automl.runtime.shared.model_wrappers.SparseNormalizer object at 0x7fd9eeb9c828\", \"primary_metric\": 0.9998614, \"best_metric\": 1.0}, {\"run_id\": \"AutoML_532e1f2e-40f2-44cf-845f-4ff45db1a7c8_26\", \"run_number\": 31, \"metric\": null, \"status\": \"Completed\", \"run_type\": \"azureml.scriptrun\", \"training_percent\": \"100\", \"start_time\": \"2021-02-14T08:54:34.725804Z\", \"end_time\": \"2021-02-14T08:55:41.247371Z\", \"created_time\": \"2021-02-14T08:50:45.916068Z\", \"created_time_dt\": \"2021-02-14T08:50:45.916068Z\", \"duration\": \"0:04:55\", \"iteration\": \"26\", \"goal\": \"accuracy_max\", \"run_name\": \"MaxAbsScaler, LightGBM\", \"run_properties\": \"copy=True\", \"primary_metric\": 0.9999307, \"best_metric\": 1.0}, {\"run_id\": \"AutoML_532e1f2e-40f2-44cf-845f-4ff45db1a7c8_27\", \"run_number\": 32, \"metric\": null, \"status\": \"Completed\", \"run_type\": \"azureml.scriptrun\", \"training_percent\": \"100\", \"start_time\": \"2021-02-14T08:54:46.943503Z\", \"end_time\": \"2021-02-14T08:57:14.448738Z\", \"created_time\": \"2021-02-14T08:52:24.587084Z\", \"created_time_dt\": \"2021-02-14T08:52:24.587084Z\", \"duration\": \"0:04:49\", \"iteration\": \"27\", \"goal\": \"accuracy_max\", \"run_name\": \"SparseNormalizer, XGBoostClassifier\", \"run_properties\": \"<azureml.automl.runtime.shared.model_wrappers.SparseNormalizer object at 0x7fd23fa4bba8\", \"primary_metric\": 1.0, \"best_metric\": 1.0}, {\"run_id\": \"AutoML_532e1f2e-40f2-44cf-845f-4ff45db1a7c8_28\", \"run_number\": 33, \"metric\": null, \"status\": \"Completed\", \"run_type\": \"azureml.scriptrun\", \"training_percent\": \"100\", \"start_time\": \"2021-02-14T08:55:44.948238Z\", \"end_time\": \"2021-02-14T08:56:44.769078Z\", \"created_time\": \"2021-02-14T08:53:46.991205Z\", \"created_time_dt\": \"2021-02-14T08:53:46.991205Z\", \"duration\": \"0:02:57\", \"iteration\": \"28\", \"goal\": \"accuracy_max\", \"run_name\": \"SparseNormalizer, XGBoostClassifier\", \"run_properties\": \"<azureml.automl.runtime.shared.model_wrappers.SparseNormalizer object at 0x7fac180ffd30\", \"primary_metric\": 0.99982676, \"best_metric\": 1.0}, {\"run_id\": \"AutoML_532e1f2e-40f2-44cf-845f-4ff45db1a7c8_29\", \"run_number\": 34, \"metric\": null, \"status\": \"Completed\", \"run_type\": \"azureml.scriptrun\", \"training_percent\": \"100\", \"start_time\": \"2021-02-14T08:56:49.715482Z\", \"end_time\": \"2021-02-14T08:58:19.722946Z\", \"created_time\": \"2021-02-14T08:54:35.23095Z\", \"created_time_dt\": \"2021-02-14T08:54:35.23095Z\", \"duration\": \"0:03:44\", \"iteration\": \"29\", \"goal\": \"accuracy_max\", \"run_name\": \"StandardScalerWrapper, XGBoostClassifier\", \"run_properties\": \"<azureml.automl.runtime.shared.model_wrappers.StandardScalerWrapper object at 0x7f4556c29518\", \"primary_metric\": 0.99996535, \"best_metric\": 1.0}, {\"run_id\": \"AutoML_532e1f2e-40f2-44cf-845f-4ff45db1a7c8_30\", \"run_number\": 35, \"metric\": null, \"status\": \"Completed\", \"run_type\": \"azureml.scriptrun\", \"training_percent\": \"100\", \"start_time\": \"2021-02-14T08:57:17.750333Z\", \"end_time\": \"2021-02-14T08:58:47.937211Z\", \"created_time\": \"2021-02-14T08:54:45.601608Z\", \"created_time_dt\": \"2021-02-14T08:54:45.601608Z\", \"duration\": \"0:04:02\", \"iteration\": \"30\", \"goal\": \"accuracy_max\", \"run_name\": \"SparseNormalizer, XGBoostClassifier\", \"run_properties\": \"<azureml.automl.runtime.shared.model_wrappers.SparseNormalizer object at 0x7f12df32a6d8\", \"primary_metric\": 1.0, \"best_metric\": 1.0}, {\"run_id\": \"AutoML_532e1f2e-40f2-44cf-845f-4ff45db1a7c8_31\", \"run_number\": 36, \"metric\": null, \"status\": \"Canceled\", \"run_type\": \"azureml.scriptrun\", \"training_percent\": \"100\", \"start_time\": \"2021-02-14T08:58:19.248686Z\", \"end_time\": \"2021-02-14T08:58:57.074292Z\", \"created_time\": \"2021-02-14T08:55:43.173643Z\", \"created_time_dt\": \"2021-02-14T08:55:43.173643Z\", \"duration\": \"0:03:13\", \"iteration\": \"31\", \"goal\": null, \"run_name\": \"MaxAbsScaler, ExtremeRandomTrees\", \"run_properties\": null}, {\"run_id\": \"AutoML_532e1f2e-40f2-44cf-845f-4ff45db1a7c8_32\", \"run_number\": 37, \"metric\": null, \"status\": \"Canceled\", \"run_type\": \"azureml.scriptrun\", \"training_percent\": \"100\", \"start_time\": \"2021-02-14T08:56:46.714741Z\", \"end_time\": \"2021-02-14T08:58:54.277762Z\", \"created_time\": \"2021-02-14T08:56:46.714741Z\", \"created_time_dt\": \"2021-02-14T08:56:46.714741Z\", \"duration\": \"0:02:07\", \"iteration\": \"32\", \"goal\": null, \"run_name\": \"Canceled\", \"run_properties\": null}, {\"run_id\": \"AutoML_532e1f2e-40f2-44cf-845f-4ff45db1a7c8_33\", \"run_number\": 38, \"metric\": null, \"status\": \"Canceled\", \"run_type\": \"azureml.scriptrun\", \"training_percent\": \"100\", \"start_time\": \"2021-02-14T08:57:16.208877Z\", \"end_time\": \"2021-02-14T08:58:54.394236Z\", \"created_time\": \"2021-02-14T08:57:16.208877Z\", \"created_time_dt\": \"2021-02-14T08:57:16.208877Z\", \"duration\": \"0:01:38\", \"iteration\": \"33\", \"goal\": null, \"run_name\": \"Canceled\", \"run_properties\": null}, {\"run_id\": \"AutoML_532e1f2e-40f2-44cf-845f-4ff45db1a7c8_34\", \"run_number\": 39, \"metric\": null, \"status\": \"Canceled\", \"run_type\": \"azureml.scriptrun\", \"training_percent\": \"100\", \"start_time\": \"2021-02-14T08:58:21.776546Z\", \"end_time\": \"2021-02-14T08:58:55.872299Z\", \"created_time\": \"2021-02-14T08:58:21.776546Z\", \"created_time_dt\": \"2021-02-14T08:58:21.776546Z\", \"duration\": \"0:00:34\", \"iteration\": \"34\", \"goal\": null, \"run_name\": \"Canceled\", \"run_properties\": null}, {\"run_id\": \"AutoML_532e1f2e-40f2-44cf-845f-4ff45db1a7c8_35\", \"run_number\": 40, \"metric\": null, \"status\": \"Completed\", \"run_type\": \"azureml.scriptrun\", \"training_percent\": \"100\", \"start_time\": \"2021-02-14T08:59:07.623956Z\", \"end_time\": \"2021-02-14T09:00:13.745209Z\", \"created_time\": \"2021-02-14T08:58:57.963397Z\", \"created_time_dt\": \"2021-02-14T08:58:57.963397Z\", \"duration\": \"0:01:15\", \"iteration\": \"35\", \"goal\": \"accuracy_max\", \"run_name\": \"VotingEnsemble\", \"run_properties\": \"classification_labels=None,\\n                              estimators=[('30',\\n                                           Pipeline(memory=None,\\n                                                    steps=[('sparsenormalizer',\\n                                                            <azureml.automl.runtime.shared.model_wrappers.SparseNormalizer object at 0x7fbeec3ec978>\", \"primary_metric\": 1.0, \"best_metric\": 1.0}, {\"run_id\": \"AutoML_532e1f2e-40f2-44cf-845f-4ff45db1a7c8_36\", \"run_number\": 41, \"metric\": null, \"status\": \"Completed\", \"run_type\": \"azureml.scriptrun\", \"training_percent\": \"100\", \"start_time\": \"2021-02-14T08:59:07.872351Z\", \"end_time\": \"2021-02-14T09:05:05.550476Z\", \"created_time\": \"2021-02-14T08:58:58.00254Z\", \"created_time_dt\": \"2021-02-14T08:58:58.00254Z\", \"duration\": \"0:06:07\", \"iteration\": \"36\", \"goal\": \"accuracy_max\", \"run_name\": \"StackEnsemble\", \"run_properties\": \"base_learners=[('30',\\n                                        Pipeline(memory=None,\\n                                                 steps=[('sparsenormalizer',\\n                                                         <azureml.automl.runtime.shared.model_wrappers.SparseNormalizer object at 0x7f71b01cb630>\", \"primary_metric\": 0.99989605, \"best_metric\": 1.0}], \"children_metrics\": {\"categories\": [0], \"series\": {\"recall_score_weighted\": [{\"categories\": [\"0\", \"1\", \"2\", \"3\", \"4\", \"5\", \"6\", \"7\", \"8\", \"9\", \"10\", \"11\", \"12\", \"13\", \"14\", \"15\", \"16\", \"17\", \"18\", \"19\", \"20\", \"21\", \"22\", \"23\", \"24\", \"25\", \"26\", \"27\", \"28\", \"29\", \"30\", \"35\", \"36\"], \"mode\": \"markers\", \"name\": \"recall_score_weighted\", \"stepped\": false, \"type\": \"scatter\", \"data\": [0.9993070233186653, 0.9999653511659332, 0.9998614046637331, 0.9998614046637331, 0.9793492948962268, 0.8868369079380479, 1.0, 0.9998960534977998, 0.9998614046637331, 0.9998614046637331, 0.9998614046637331, 0.9998614046637331, 0.9998614046637331, 0.9999307023318665, 1.0, 0.9998614046637331, 1.0, 0.9998614046637331, 0.9998614046637331, 0.9998614046637331, 1.0, 0.9998960534977998, 1.0, 0.9999653511659332, 1.0, 0.9998614046637331, 0.9999307023318665, 1.0, 0.9998267558296663, 0.9999653511659332, 1.0, 1.0, 0.9998960534977998]}, {\"categories\": [\"0\", \"1\", \"2\", \"3\", \"4\", \"5\", \"6\", \"7\", \"8\", \"9\", \"10\", \"11\", \"12\", \"13\", \"14\", \"15\", \"16\", \"17\", \"18\", \"19\", \"20\", \"21\", \"22\", \"23\", \"24\", \"25\", \"26\", \"27\", \"28\", \"29\", \"30\", \"35\", \"36\"], \"mode\": \"lines\", \"name\": \"recall_score_weighted_max\", \"stepped\": true, \"type\": \"scatter\", \"data\": [0.9993070233186653, 0.9999653511659332, 0.9999653511659332, 0.9999653511659332, 0.9999653511659332, 0.9999653511659332, 1.0, 1.0, 1.0, 1.0, 1.0, 1.0, 1.0, 1.0, 1.0, 1.0, 1.0, 1.0, 1.0, 1.0, 1.0, 1.0, 1.0, 1.0, 1.0, 1.0, 1.0, 1.0, 1.0, 1.0, 1.0, 1.0, 1.0]}], \"recall_score_micro\": [{\"categories\": [\"0\", \"1\", \"2\", \"3\", \"4\", \"5\", \"6\", \"7\", \"8\", \"9\", \"10\", \"11\", \"12\", \"13\", \"14\", \"15\", \"16\", \"17\", \"18\", \"19\", \"20\", \"21\", \"22\", \"23\", \"24\", \"25\", \"26\", \"27\", \"28\", \"29\", \"30\", \"35\", \"36\"], \"mode\": \"markers\", \"name\": \"recall_score_micro\", \"stepped\": false, \"type\": \"scatter\", \"data\": [0.9993070233186653, 0.9999653511659332, 0.9998614046637331, 0.9998614046637331, 0.9793492948962268, 0.8868369079380479, 1.0, 0.9998960534977998, 0.9998614046637331, 0.9998614046637331, 0.9998614046637331, 0.9998614046637331, 0.9998614046637331, 0.9999307023318665, 1.0, 0.9998614046637331, 1.0, 0.9998614046637331, 0.9998614046637331, 0.9998614046637331, 1.0, 0.9998960534977998, 1.0, 0.9999653511659332, 1.0, 0.9998614046637331, 0.9999307023318665, 1.0, 0.9998267558296663, 0.9999653511659332, 1.0, 1.0, 0.9998960534977998]}, {\"categories\": [\"0\", \"1\", \"2\", \"3\", \"4\", \"5\", \"6\", \"7\", \"8\", \"9\", \"10\", \"11\", \"12\", \"13\", \"14\", \"15\", \"16\", \"17\", \"18\", \"19\", \"20\", \"21\", \"22\", \"23\", \"24\", \"25\", \"26\", \"27\", \"28\", \"29\", \"30\", \"35\", \"36\"], \"mode\": \"lines\", \"name\": \"recall_score_micro_max\", \"stepped\": true, \"type\": \"scatter\", \"data\": [0.9993070233186653, 0.9999653511659332, 0.9999653511659332, 0.9999653511659332, 0.9999653511659332, 0.9999653511659332, 1.0, 1.0, 1.0, 1.0, 1.0, 1.0, 1.0, 1.0, 1.0, 1.0, 1.0, 1.0, 1.0, 1.0, 1.0, 1.0, 1.0, 1.0, 1.0, 1.0, 1.0, 1.0, 1.0, 1.0, 1.0, 1.0, 1.0]}], \"recall_score_macro\": [{\"categories\": [\"0\", \"1\", \"2\", \"3\", \"4\", \"5\", \"6\", \"7\", \"8\", \"9\", \"10\", \"11\", \"12\", \"13\", \"14\", \"15\", \"16\", \"17\", \"18\", \"19\", \"20\", \"21\", \"22\", \"23\", \"24\", \"25\", \"26\", \"27\", \"28\", \"29\", \"30\", \"35\", \"36\"], \"mode\": \"markers\", \"name\": \"recall_score_macro\", \"stepped\": false, \"type\": \"scatter\", \"data\": [0.49972277090480643, 0.875, 0.5, 0.5, 0.9896732162040407, 0.9434106109436186, 1.0, 0.625, 0.5, 0.5, 0.5, 0.5, 0.5, 0.75, 1.0, 0.5, 1.0, 0.5, 0.5, 0.5, 1.0, 0.625, 1.0, 0.875, 1.0, 0.5, 0.75, 1.0, 0.49998267318155043, 0.875, 1.0, 1.0, 0.625]}, {\"categories\": [\"0\", \"1\", \"2\", \"3\", \"4\", \"5\", \"6\", \"7\", \"8\", \"9\", \"10\", \"11\", \"12\", \"13\", \"14\", \"15\", \"16\", \"17\", \"18\", \"19\", \"20\", \"21\", \"22\", \"23\", \"24\", \"25\", \"26\", \"27\", \"28\", \"29\", \"30\", \"35\", \"36\"], \"mode\": \"lines\", \"name\": \"recall_score_macro_max\", \"stepped\": true, \"type\": \"scatter\", \"data\": [0.49972277090480643, 0.875, 0.875, 0.875, 0.9896732162040407, 0.9896732162040407, 1.0, 1.0, 1.0, 1.0, 1.0, 1.0, 1.0, 1.0, 1.0, 1.0, 1.0, 1.0, 1.0, 1.0, 1.0, 1.0, 1.0, 1.0, 1.0, 1.0, 1.0, 1.0, 1.0, 1.0, 1.0, 1.0, 1.0]}], \"f1_score_micro\": [{\"categories\": [\"0\", \"1\", \"2\", \"3\", \"4\", \"5\", \"6\", \"7\", \"8\", \"9\", \"10\", \"11\", \"12\", \"13\", \"14\", \"15\", \"16\", \"17\", \"18\", \"19\", \"20\", \"21\", \"22\", \"23\", \"24\", \"25\", \"26\", \"27\", \"28\", \"29\", \"30\", \"35\", \"36\"], \"mode\": \"markers\", \"name\": \"f1_score_micro\", \"stepped\": false, \"type\": \"scatter\", \"data\": [0.9993070233186653, 0.9999653511659332, 0.9998614046637331, 0.9998614046637331, 0.9793492948962268, 0.8868369079380479, 1.0, 0.9998960534977998, 0.9998614046637331, 0.9998614046637331, 0.9998614046637331, 0.9998614046637331, 0.9998614046637331, 0.9999307023318665, 1.0, 0.9998614046637331, 1.0, 0.9998614046637331, 0.9998614046637331, 0.9998614046637331, 1.0, 0.9998960534977998, 1.0, 0.9999653511659332, 1.0, 0.9998614046637331, 0.9999307023318665, 1.0, 0.9998267558296663, 0.9999653511659332, 1.0, 1.0, 0.9998960534977998]}, {\"categories\": [\"0\", \"1\", \"2\", \"3\", \"4\", \"5\", \"6\", \"7\", \"8\", \"9\", \"10\", \"11\", \"12\", \"13\", \"14\", \"15\", \"16\", \"17\", \"18\", \"19\", \"20\", \"21\", \"22\", \"23\", \"24\", \"25\", \"26\", \"27\", \"28\", \"29\", \"30\", \"35\", \"36\"], \"mode\": \"lines\", \"name\": \"f1_score_micro_max\", \"stepped\": true, \"type\": \"scatter\", \"data\": [0.9993070233186653, 0.9999653511659332, 0.9999653511659332, 0.9999653511659332, 0.9999653511659332, 0.9999653511659332, 1.0, 1.0, 1.0, 1.0, 1.0, 1.0, 1.0, 1.0, 1.0, 1.0, 1.0, 1.0, 1.0, 1.0, 1.0, 1.0, 1.0, 1.0, 1.0, 1.0, 1.0, 1.0, 1.0, 1.0, 1.0, 1.0, 1.0]}], \"f1_score_macro\": [{\"categories\": [\"0\", \"1\", \"2\", \"3\", \"4\", \"5\", \"6\", \"7\", \"8\", \"9\", \"10\", \"11\", \"12\", \"13\", \"14\", \"15\", \"16\", \"17\", \"18\", \"19\", \"20\", \"21\", \"22\", \"23\", \"24\", \"25\", \"26\", \"27\", \"28\", \"29\", \"30\", \"35\", \"36\"], \"mode\": \"markers\", \"name\": \"f1_score_macro\", \"stepped\": false, \"type\": \"scatter\", \"data\": [0.4998266957817753, 0.9285627653123105, 0.49996534876468346, 0.49996534876468346, 0.5014052470440535, 0.4712298282032581, 1.0, 0.6999740111232393, 0.49996534876468346, 0.49996534876468346, 0.49996534876468346, 0.49996534876468346, 0.49996534876468346, 0.8333160071153002, 1.0, 0.49996534876468346, 1.0, 0.49996534876468346, 0.49996534876468346, 0.49996534876468346, 1.0, 0.6999740111232393, 1.0, 0.9285627653123105, 1.0, 0.49996534876468346, 0.8333160071153002, 1.0, 0.49995668520539877, 0.9285627653123105, 1.0, 1.0, 0.6999740111232393]}, {\"categories\": [\"0\", \"1\", \"2\", \"3\", \"4\", \"5\", \"6\", \"7\", \"8\", \"9\", \"10\", \"11\", \"12\", \"13\", \"14\", \"15\", \"16\", \"17\", \"18\", \"19\", \"20\", \"21\", \"22\", \"23\", \"24\", \"25\", \"26\", \"27\", \"28\", \"29\", \"30\", \"35\", \"36\"], \"mode\": \"lines\", \"name\": \"f1_score_macro_max\", \"stepped\": true, \"type\": \"scatter\", \"data\": [0.4998266957817753, 0.9285627653123105, 0.9285627653123105, 0.9285627653123105, 0.9285627653123105, 0.9285627653123105, 1.0, 1.0, 1.0, 1.0, 1.0, 1.0, 1.0, 1.0, 1.0, 1.0, 1.0, 1.0, 1.0, 1.0, 1.0, 1.0, 1.0, 1.0, 1.0, 1.0, 1.0, 1.0, 1.0, 1.0, 1.0, 1.0, 1.0]}], \"AUC_macro\": [{\"categories\": [\"0\", \"1\", \"2\", \"3\", \"4\", \"5\", \"6\", \"7\", \"8\", \"9\", \"10\", \"11\", \"12\", \"13\", \"14\", \"15\", \"16\", \"17\", \"18\", \"19\", \"20\", \"21\", \"22\", \"23\", \"24\", \"25\", \"26\", \"27\", \"28\", \"29\", \"30\", \"35\", \"36\"], \"mode\": \"markers\", \"name\": \"AUC_macro\", \"stepped\": false, \"type\": \"scatter\", \"data\": [0.49474131060054755, 1.0, 0.9924021901098521, 0.9971194164327546, 0.9991769761236442, 0.991111342135357, 1.0, 0.9999653463631009, 0.9998960390893024, 0.9999740097723256, 0.9999306927262017, 1.0, 0.9999220293169768, 1.0, 1.0, 0.9999826731815504, 1.0, 0.010396091069757762, 0.999956682953876, 0.98315400076238, 1.0, 0.7493329174896906, 1.0, 1.0, 1.0, 0.5, 1.0, 1.0, 0.9999436878400387, 1.0, 1.0, 1.0, 1.0]}, {\"categories\": [\"0\", \"1\", \"2\", \"3\", \"4\", \"5\", \"6\", \"7\", \"8\", \"9\", \"10\", \"11\", \"12\", \"13\", \"14\", \"15\", \"16\", \"17\", \"18\", \"19\", \"20\", \"21\", \"22\", \"23\", \"24\", \"25\", \"26\", \"27\", \"28\", \"29\", \"30\", \"35\", \"36\"], \"mode\": \"lines\", \"name\": \"AUC_macro_max\", \"stepped\": true, \"type\": \"scatter\", \"data\": [0.49474131060054755, 1.0, 1.0, 1.0, 1.0, 1.0, 1.0, 1.0, 1.0, 1.0, 1.0, 1.0, 1.0, 1.0, 1.0, 1.0, 1.0, 1.0, 1.0, 1.0, 1.0, 1.0, 1.0, 1.0, 1.0, 1.0, 1.0, 1.0, 1.0, 1.0, 1.0, 1.0, 1.0]}], \"norm_macro_recall\": [{\"categories\": [\"0\", \"1\", \"2\", \"3\", \"4\", \"5\", \"6\", \"7\", \"8\", \"9\", \"10\", \"11\", \"12\", \"13\", \"14\", \"15\", \"16\", \"17\", \"18\", \"19\", \"20\", \"21\", \"22\", \"23\", \"24\", \"25\", \"26\", \"27\", \"28\", \"29\", \"30\", \"35\", \"36\"], \"mode\": \"markers\", \"name\": \"norm_macro_recall\", \"stepped\": false, \"type\": \"scatter\", \"data\": [0.0, 0.75, 0.0, 0.0, 0.9793464324080814, 0.8868212218872371, 1.0, 0.25, 0.0, 0.0, 0.0, 0.0, 0.0, 0.5, 1.0, 0.0, 1.0, 0.0, 0.0, 0.0, 1.0, 0.25, 1.0, 0.75, 1.0, 0.0, 0.5, 1.0, 0.0, 0.75, 1.0, 1.0, 0.25]}, {\"categories\": [\"0\", \"1\", \"2\", \"3\", \"4\", \"5\", \"6\", \"7\", \"8\", \"9\", \"10\", \"11\", \"12\", \"13\", \"14\", \"15\", \"16\", \"17\", \"18\", \"19\", \"20\", \"21\", \"22\", \"23\", \"24\", \"25\", \"26\", \"27\", \"28\", \"29\", \"30\", \"35\", \"36\"], \"mode\": \"lines\", \"name\": \"norm_macro_recall_max\", \"stepped\": true, \"type\": \"scatter\", \"data\": [0.0, 0.75, 0.75, 0.75, 0.9793464324080814, 0.9793464324080814, 1.0, 1.0, 1.0, 1.0, 1.0, 1.0, 1.0, 1.0, 1.0, 1.0, 1.0, 1.0, 1.0, 1.0, 1.0, 1.0, 1.0, 1.0, 1.0, 1.0, 1.0, 1.0, 1.0, 1.0, 1.0, 1.0, 1.0]}], \"average_precision_score_weighted\": [{\"categories\": [\"0\", \"1\", \"2\", \"3\", \"4\", \"5\", \"6\", \"7\", \"8\", \"9\", \"10\", \"11\", \"12\", \"13\", \"14\", \"15\", \"16\", \"17\", \"18\", \"19\", \"20\", \"21\", \"22\", \"23\", \"24\", \"25\", \"26\", \"27\", \"28\", \"29\", \"30\", \"35\", \"36\"], \"mode\": \"markers\", \"name\": \"average_precision_score_weighted\", \"stepped\": false, \"type\": \"scatter\", \"data\": [0.9997219663407306, 1.0, 0.9998701850430034, 0.9998652558690249, 0.9999286093446667, 0.9998613722525449, 1.0, 0.9999682337663142, 0.9999168139852389, 0.9999851468975613, 0.9999391588401946, 1.0, 0.9999331628417525, 1.0, 1.0, 0.9999861380651234, 1.0, 0.9992137600765241, 0.9999614892892323, 0.9998597700007075, 1.0, 0.9998319290126387, 1.0, 1.0, 1.0, 0.9997228477448007, 1.0, 1.0, 0.9999481833390983, 0.9999999999999999, 1.0, 1.0, 1.0]}, {\"categories\": [\"0\", \"1\", \"2\", \"3\", \"4\", \"5\", \"6\", \"7\", \"8\", \"9\", \"10\", \"11\", \"12\", \"13\", \"14\", \"15\", \"16\", \"17\", \"18\", \"19\", \"20\", \"21\", \"22\", \"23\", \"24\", \"25\", \"26\", \"27\", \"28\", \"29\", \"30\", \"35\", \"36\"], \"mode\": \"lines\", \"name\": \"average_precision_score_weighted_max\", \"stepped\": true, \"type\": \"scatter\", \"data\": [0.9997219663407306, 1.0, 1.0, 1.0, 1.0, 1.0, 1.0, 1.0, 1.0, 1.0, 1.0, 1.0, 1.0, 1.0, 1.0, 1.0, 1.0, 1.0, 1.0, 1.0, 1.0, 1.0, 1.0, 1.0, 1.0, 1.0, 1.0, 1.0, 1.0, 1.0, 1.0, 1.0, 1.0]}], \"precision_score_micro\": [{\"categories\": [\"0\", \"1\", \"2\", \"3\", \"4\", \"5\", \"6\", \"7\", \"8\", \"9\", \"10\", \"11\", \"12\", \"13\", \"14\", \"15\", \"16\", \"17\", \"18\", \"19\", \"20\", \"21\", \"22\", \"23\", \"24\", \"25\", \"26\", \"27\", \"28\", \"29\", \"30\", \"35\", \"36\"], \"mode\": \"markers\", \"name\": \"precision_score_micro\", \"stepped\": false, \"type\": \"scatter\", \"data\": [0.9993070233186653, 0.9999653511659332, 0.9998614046637331, 0.9998614046637331, 0.9793492948962268, 0.8868369079380479, 1.0, 0.9998960534977998, 0.9998614046637331, 0.9998614046637331, 0.9998614046637331, 0.9998614046637331, 0.9998614046637331, 0.9999307023318665, 1.0, 0.9998614046637331, 1.0, 0.9998614046637331, 0.9998614046637331, 0.9998614046637331, 1.0, 0.9998960534977998, 1.0, 0.9999653511659332, 1.0, 0.9998614046637331, 0.9999307023318665, 1.0, 0.9998267558296663, 0.9999653511659332, 1.0, 1.0, 0.9998960534977998]}, {\"categories\": [\"0\", \"1\", \"2\", \"3\", \"4\", \"5\", \"6\", \"7\", \"8\", \"9\", \"10\", \"11\", \"12\", \"13\", \"14\", \"15\", \"16\", \"17\", \"18\", \"19\", \"20\", \"21\", \"22\", \"23\", \"24\", \"25\", \"26\", \"27\", \"28\", \"29\", \"30\", \"35\", \"36\"], \"mode\": \"lines\", \"name\": \"precision_score_micro_max\", \"stepped\": true, \"type\": \"scatter\", \"data\": [0.9993070233186653, 0.9999653511659332, 0.9999653511659332, 0.9999653511659332, 0.9999653511659332, 0.9999653511659332, 1.0, 1.0, 1.0, 1.0, 1.0, 1.0, 1.0, 1.0, 1.0, 1.0, 1.0, 1.0, 1.0, 1.0, 1.0, 1.0, 1.0, 1.0, 1.0, 1.0, 1.0, 1.0, 1.0, 1.0, 1.0, 1.0, 1.0]}], \"weighted_accuracy\": [{\"categories\": [\"0\", \"1\", \"2\", \"3\", \"4\", \"5\", \"6\", \"7\", \"8\", \"9\", \"10\", \"11\", \"12\", \"13\", \"14\", \"15\", \"16\", \"17\", \"18\", \"19\", \"20\", \"21\", \"22\", \"23\", \"24\", \"25\", \"26\", \"27\", \"28\", \"29\", \"30\", \"35\", \"36\"], \"mode\": \"markers\", \"name\": \"weighted_accuracy\", \"stepped\": false, \"type\": \"scatter\", \"data\": [0.9994455226062738, 0.9999999951965018, 0.9999999807860075, 0.9999999807860075, 0.9793464328049186, 0.8868212240618533, 1.0, 0.9999999855895056, 0.9999999807860075, 0.9999999807860075, 0.9999999807860075, 0.9999999807860075, 0.9999999807860075, 0.9999999903930038, 1.0, 0.9999999807860075, 1.0, 0.9999999807860075, 0.9999999807860075, 0.9999999807860075, 1.0, 0.9999999855895056, 1.0, 0.9999999951965018, 1.0, 0.9999999807860075, 0.9999999903930038, 1.0, 0.9999653271497742, 0.9999999951965018, 1.0, 1.0, 0.9999999855895056]}, {\"categories\": [\"0\", \"1\", \"2\", \"3\", \"4\", \"5\", \"6\", \"7\", \"8\", \"9\", \"10\", \"11\", \"12\", \"13\", \"14\", \"15\", \"16\", \"17\", \"18\", \"19\", \"20\", \"21\", \"22\", \"23\", \"24\", \"25\", \"26\", \"27\", \"28\", \"29\", \"30\", \"35\", \"36\"], \"mode\": \"lines\", \"name\": \"weighted_accuracy_max\", \"stepped\": true, \"type\": \"scatter\", \"data\": [0.9994455226062738, 0.9999999951965018, 0.9999999951965018, 0.9999999951965018, 0.9999999951965018, 0.9999999951965018, 1.0, 1.0, 1.0, 1.0, 1.0, 1.0, 1.0, 1.0, 1.0, 1.0, 1.0, 1.0, 1.0, 1.0, 1.0, 1.0, 1.0, 1.0, 1.0, 1.0, 1.0, 1.0, 1.0, 1.0, 1.0, 1.0, 1.0]}], \"balanced_accuracy\": [{\"categories\": [\"0\", \"1\", \"2\", \"3\", \"4\", \"5\", \"6\", \"7\", \"8\", \"9\", \"10\", \"11\", \"12\", \"13\", \"14\", \"15\", \"16\", \"17\", \"18\", \"19\", \"20\", \"21\", \"22\", \"23\", \"24\", \"25\", \"26\", \"27\", \"28\", \"29\", \"30\", \"35\", \"36\"], \"mode\": \"markers\", \"name\": \"balanced_accuracy\", \"stepped\": false, \"type\": \"scatter\", \"data\": [0.49972277090480643, 0.875, 0.5, 0.5, 0.9896732162040407, 0.9434106109436186, 1.0, 0.625, 0.5, 0.5, 0.5, 0.5, 0.5, 0.75, 1.0, 0.5, 1.0, 0.5, 0.5, 0.5, 1.0, 0.625, 1.0, 0.875, 1.0, 0.5, 0.75, 1.0, 0.49998267318155043, 0.875, 1.0, 1.0, 0.625]}, {\"categories\": [\"0\", \"1\", \"2\", \"3\", \"4\", \"5\", \"6\", \"7\", \"8\", \"9\", \"10\", \"11\", \"12\", \"13\", \"14\", \"15\", \"16\", \"17\", \"18\", \"19\", \"20\", \"21\", \"22\", \"23\", \"24\", \"25\", \"26\", \"27\", \"28\", \"29\", \"30\", \"35\", \"36\"], \"mode\": \"lines\", \"name\": \"balanced_accuracy_max\", \"stepped\": true, \"type\": \"scatter\", \"data\": [0.49972277090480643, 0.875, 0.875, 0.875, 0.9896732162040407, 0.9896732162040407, 1.0, 1.0, 1.0, 1.0, 1.0, 1.0, 1.0, 1.0, 1.0, 1.0, 1.0, 1.0, 1.0, 1.0, 1.0, 1.0, 1.0, 1.0, 1.0, 1.0, 1.0, 1.0, 1.0, 1.0, 1.0, 1.0, 1.0]}], \"average_precision_score_macro\": [{\"categories\": [\"0\", \"1\", \"2\", \"3\", \"4\", \"5\", \"6\", \"7\", \"8\", \"9\", \"10\", \"11\", \"12\", \"13\", \"14\", \"15\", \"16\", \"17\", \"18\", \"19\", \"20\", \"21\", \"22\", \"23\", \"24\", \"25\", \"26\", \"27\", \"28\", \"29\", \"30\", \"35\", \"36\"], \"mode\": \"markers\", \"name\": \"average_precision_score_macro\", \"stepped\": false, \"type\": \"scatter\", \"data\": [0.4999995592368773, 1.0, 0.5354998335988096, 0.5158580920024725, 0.742861248249574, 0.5054017992982648, 1.0, 0.8854166642651048, 0.6999999855915027, 0.9464285696272596, 0.7805555489513072, 1.0, 0.7589285642241563, 1.0, 1.0, 0.9499999987992087, 1.0, 0.49971980964519364, 0.8611111051071545, 0.5026190014759004, 1.0, 0.6442306809107529, 1.0, 1.0, 1.0, 0.5, 1.0, 1.0, 0.8130952338925308, 1.0, 1.0, 1.0, 1.0]}, {\"categories\": [\"0\", \"1\", \"2\", \"3\", \"4\", \"5\", \"6\", \"7\", \"8\", \"9\", \"10\", \"11\", \"12\", \"13\", \"14\", \"15\", \"16\", \"17\", \"18\", \"19\", \"20\", \"21\", \"22\", \"23\", \"24\", \"25\", \"26\", \"27\", \"28\", \"29\", \"30\", \"35\", \"36\"], \"mode\": \"lines\", \"name\": \"average_precision_score_macro_max\", \"stepped\": true, \"type\": \"scatter\", \"data\": [0.4999995592368773, 1.0, 1.0, 1.0, 1.0, 1.0, 1.0, 1.0, 1.0, 1.0, 1.0, 1.0, 1.0, 1.0, 1.0, 1.0, 1.0, 1.0, 1.0, 1.0, 1.0, 1.0, 1.0, 1.0, 1.0, 1.0, 1.0, 1.0, 1.0, 1.0, 1.0, 1.0, 1.0]}], \"precision_score_macro\": [{\"categories\": [\"0\", \"1\", \"2\", \"3\", \"4\", \"5\", \"6\", \"7\", \"8\", \"9\", \"10\", \"11\", \"12\", \"13\", \"14\", \"15\", \"16\", \"17\", \"18\", \"19\", \"20\", \"21\", \"22\", \"23\", \"24\", \"25\", \"26\", \"27\", \"28\", \"29\", \"30\", \"35\", \"36\"], \"mode\": \"markers\", \"name\": \"precision_score_macro\", \"stepped\": false, \"type\": \"scatter\", \"data\": [0.4999306638932224, 0.9999826737819668, 0.49993070233186654, 0.49993070233186654, 0.5033333333333333, 0.500611620795107, 1.0, 0.9999480249480249, 0.49993070233186654, 0.49993070233186654, 0.49993070233186654, 0.49993070233186654, 0.49993070233186654, 0.9999653487646835, 1.0, 0.49993070233186654, 1.0, 0.49993070233186654, 0.49993070233186654, 0.49993070233186654, 1.0, 0.9999480249480249, 1.0, 0.9999826737819668, 1.0, 0.49993070233186654, 0.9999653487646835, 1.0, 0.49993069993069994, 0.9999826737819668, 1.0, 1.0, 0.9999480249480249]}, {\"categories\": [\"0\", \"1\", \"2\", \"3\", \"4\", \"5\", \"6\", \"7\", \"8\", \"9\", \"10\", \"11\", \"12\", \"13\", \"14\", \"15\", \"16\", \"17\", \"18\", \"19\", \"20\", \"21\", \"22\", \"23\", \"24\", \"25\", \"26\", \"27\", \"28\", \"29\", \"30\", \"35\", \"36\"], \"mode\": \"lines\", \"name\": \"precision_score_macro_max\", \"stepped\": true, \"type\": \"scatter\", \"data\": [0.4999306638932224, 0.9999826737819668, 0.9999826737819668, 0.9999826737819668, 0.9999826737819668, 0.9999826737819668, 1.0, 1.0, 1.0, 1.0, 1.0, 1.0, 1.0, 1.0, 1.0, 1.0, 1.0, 1.0, 1.0, 1.0, 1.0, 1.0, 1.0, 1.0, 1.0, 1.0, 1.0, 1.0, 1.0, 1.0, 1.0, 1.0, 1.0]}], \"accuracy\": [{\"categories\": [\"0\", \"1\", \"2\", \"3\", \"4\", \"5\", \"6\", \"7\", \"8\", \"9\", \"10\", \"11\", \"12\", \"13\", \"14\", \"15\", \"16\", \"17\", \"18\", \"19\", \"20\", \"21\", \"22\", \"23\", \"24\", \"25\", \"26\", \"27\", \"28\", \"29\", \"30\", \"35\", \"36\"], \"mode\": \"markers\", \"name\": \"accuracy\", \"stepped\": false, \"type\": \"scatter\", \"data\": [0.9993070233186653, 0.9999653511659332, 0.9998614046637331, 0.9998614046637331, 0.9793492948962268, 0.8868369079380479, 1.0, 0.9998960534977998, 0.9998614046637331, 0.9998614046637331, 0.9998614046637331, 0.9998614046637331, 0.9998614046637331, 0.9999307023318665, 1.0, 0.9998614046637331, 1.0, 0.9998614046637331, 0.9998614046637331, 0.9998614046637331, 1.0, 0.9998960534977998, 1.0, 0.9999653511659332, 1.0, 0.9998614046637331, 0.9999307023318665, 1.0, 0.9998267558296663, 0.9999653511659332, 1.0, 1.0, 0.9998960534977998]}, {\"categories\": [\"0\", \"1\", \"2\", \"3\", \"4\", \"5\", \"6\", \"7\", \"8\", \"9\", \"10\", \"11\", \"12\", \"13\", \"14\", \"15\", \"16\", \"17\", \"18\", \"19\", \"20\", \"21\", \"22\", \"23\", \"24\", \"25\", \"26\", \"27\", \"28\", \"29\", \"30\", \"35\", \"36\"], \"mode\": \"lines\", \"name\": \"accuracy_max\", \"stepped\": true, \"type\": \"scatter\", \"data\": [0.9993070233186653, 0.9999653511659332, 0.9999653511659332, 0.9999653511659332, 0.9999653511659332, 0.9999653511659332, 1.0, 1.0, 1.0, 1.0, 1.0, 1.0, 1.0, 1.0, 1.0, 1.0, 1.0, 1.0, 1.0, 1.0, 1.0, 1.0, 1.0, 1.0, 1.0, 1.0, 1.0, 1.0, 1.0, 1.0, 1.0, 1.0, 1.0]}], \"AUC_micro\": [{\"categories\": [\"0\", \"1\", \"2\", \"3\", \"4\", \"5\", \"6\", \"7\", \"8\", \"9\", \"10\", \"11\", \"12\", \"13\", \"14\", \"15\", \"16\", \"17\", \"18\", \"19\", \"20\", \"21\", \"22\", \"23\", \"24\", \"25\", \"26\", \"27\", \"28\", \"29\", \"30\", \"35\", \"36\"], \"mode\": \"markers\", \"name\": \"AUC_micro\", \"stepped\": false, \"type\": \"scatter\", \"data\": [0.9994739352317908, 0.9999999963983749, 0.9999978750411871, 0.9999991824311008, 0.9990636567080489, 0.9725819421665183, 1.0, 0.9999999723875409, 0.9999999519783318, 0.9999999735880826, 0.9999999615826656, 0.9999999807913327, 0.9999999591815821, 0.9999999927967498, 1.0, 0.999999975989166, 1.0, 0.9997257098362187, 0.9999999687859158, 0.999995311884653, 1.0, 0.9999305090446524, 1.0, 0.9999999987994582, 1.0, 0.9998614046637331, 0.9999999903956664, 1.0, 0.9999999639837489, 0.999999996398375, 1.0, 1.0, 0.9999999843929578]}, {\"categories\": [\"0\", \"1\", \"2\", \"3\", \"4\", \"5\", \"6\", \"7\", \"8\", \"9\", \"10\", \"11\", \"12\", \"13\", \"14\", \"15\", \"16\", \"17\", \"18\", \"19\", \"20\", \"21\", \"22\", \"23\", \"24\", \"25\", \"26\", \"27\", \"28\", \"29\", \"30\", \"35\", \"36\"], \"mode\": \"lines\", \"name\": \"AUC_micro_max\", \"stepped\": true, \"type\": \"scatter\", \"data\": [0.9994739352317908, 0.9999999963983749, 0.9999999963983749, 0.9999999963983749, 0.9999999963983749, 0.9999999963983749, 1.0, 1.0, 1.0, 1.0, 1.0, 1.0, 1.0, 1.0, 1.0, 1.0, 1.0, 1.0, 1.0, 1.0, 1.0, 1.0, 1.0, 1.0, 1.0, 1.0, 1.0, 1.0, 1.0, 1.0, 1.0, 1.0, 1.0]}], \"f1_score_weighted\": [{\"categories\": [\"0\", \"1\", \"2\", \"3\", \"4\", \"5\", \"6\", \"7\", \"8\", \"9\", \"10\", \"11\", \"12\", \"13\", \"14\", \"15\", \"16\", \"17\", \"18\", \"19\", \"20\", \"21\", \"22\", \"23\", \"24\", \"25\", \"26\", \"27\", \"28\", \"29\", \"30\", \"35\", \"36\"], \"mode\": \"markers\", \"name\": \"f1_score_weighted\", \"stepped\": false, \"type\": \"scatter\", \"data\": [0.9995148442655964, 0.9999628765493861, 0.9997921117980992, 0.9997921117980992, 0.9894301475175205, 0.939886219010617, 1.0, 0.9998648722485926, 0.9997921117980992, 0.9997921117980992, 0.9997921117980992, 0.9997921117980992, 0.9997921117980992, 0.9999191539211775, 1.0, 0.9997921117980992, 1.0, 0.9997921117980992, 0.9997921117980992, 0.9997921117980992, 1.0, 0.9998648722485926, 1.0, 0.9999628765493861, 1.0, 0.9997921117980992, 0.9999191539211775, 1.0, 0.9997747870809875, 0.9999628765493861, 1.0, 1.0, 0.9998648722485926]}, {\"categories\": [\"0\", \"1\", \"2\", \"3\", \"4\", \"5\", \"6\", \"7\", \"8\", \"9\", \"10\", \"11\", \"12\", \"13\", \"14\", \"15\", \"16\", \"17\", \"18\", \"19\", \"20\", \"21\", \"22\", \"23\", \"24\", \"25\", \"26\", \"27\", \"28\", \"29\", \"30\", \"35\", \"36\"], \"mode\": \"lines\", \"name\": \"f1_score_weighted_max\", \"stepped\": true, \"type\": \"scatter\", \"data\": [0.9995148442655964, 0.9999628765493861, 0.9999628765493861, 0.9999628765493861, 0.9999628765493861, 0.9999628765493861, 1.0, 1.0, 1.0, 1.0, 1.0, 1.0, 1.0, 1.0, 1.0, 1.0, 1.0, 1.0, 1.0, 1.0, 1.0, 1.0, 1.0, 1.0, 1.0, 1.0, 1.0, 1.0, 1.0, 1.0, 1.0, 1.0, 1.0]}], \"average_precision_score_micro\": [{\"categories\": [\"0\", \"1\", \"2\", \"3\", \"4\", \"5\", \"6\", \"7\", \"8\", \"9\", \"10\", \"11\", \"12\", \"13\", \"14\", \"15\", \"16\", \"17\", \"18\", \"19\", \"20\", \"21\", \"22\", \"23\", \"24\", \"25\", \"26\", \"27\", \"28\", \"29\", \"30\", \"35\", \"36\"], \"mode\": \"markers\", \"name\": \"average_precision_score_micro\", \"stepped\": false, \"type\": \"scatter\", \"data\": [0.9992165036310088, 0.9999999963985413, 0.9999978832942851, 0.9999988951722752, 0.9990801075335276, 0.9737142387094884, 1.0, 0.9999999723902026, 0.9999999231819642, 0.9999999735906192, 0.9999999543858195, 0.9999999807931628, 0.9999999519852771, 0.9999999927971657, 1.0, 0.9999999759915782, 1.0, 0.9992834062410882, 0.9999999567869025, 0.9999953322986233, 1.0, 0.9998958648849393, 1.0, 0.9999999987994999, 1.0, 0.9997921262042668, 0.9999999903964151, 0.9999999999999999, 0.9999999627874908, 0.9999999963985413, 1.0, 0.9999999999999999, 0.999999984394164]}, {\"categories\": [\"0\", \"1\", \"2\", \"3\", \"4\", \"5\", \"6\", \"7\", \"8\", \"9\", \"10\", \"11\", \"12\", \"13\", \"14\", \"15\", \"16\", \"17\", \"18\", \"19\", \"20\", \"21\", \"22\", \"23\", \"24\", \"25\", \"26\", \"27\", \"28\", \"29\", \"30\", \"35\", \"36\"], \"mode\": \"lines\", \"name\": \"average_precision_score_micro_max\", \"stepped\": true, \"type\": \"scatter\", \"data\": [0.9992165036310088, 0.9999999963985413, 0.9999999963985413, 0.9999999963985413, 0.9999999963985413, 0.9999999963985413, 1.0, 1.0, 1.0, 1.0, 1.0, 1.0, 1.0, 1.0, 1.0, 1.0, 1.0, 1.0, 1.0, 1.0, 1.0, 1.0, 1.0, 1.0, 1.0, 1.0, 1.0, 1.0, 1.0, 1.0, 1.0, 1.0, 1.0]}], \"log_loss\": [{\"categories\": [\"0\", \"1\", \"2\", \"3\", \"4\", \"5\", \"6\", \"7\", \"8\", \"9\", \"10\", \"11\", \"12\", \"13\", \"14\", \"15\", \"16\", \"17\", \"18\", \"19\", \"20\", \"21\", \"22\", \"23\", \"24\", \"25\", \"26\", \"27\", \"28\", \"29\", \"30\", \"35\", \"36\"], \"mode\": \"markers\", \"name\": \"log_loss\", \"stepped\": false, \"type\": \"scatter\", \"data\": [0.021184215708078668, 0.0001497131658836899, 0.0009395693181364035, 0.0010270928540893778, 0.07713020127984012, 0.21257155234072309, 9.3142013956508e-05, 0.04074908161799587, 0.0008138348254229474, 0.0005204659885904932, 0.0007470508317743546, 0.0003207684890649332, 0.00039648329769936206, 0.040659797549860245, 0.00013702199962649383, 0.0003108421908846112, 0.00014313849870684577, 0.006689080248716873, 0.0004489406070765617, 0.0011193368908870706, 9.220166866992552e-05, 0.040944877633903407, 0.00012063258974128732, 6.990814456838168e-05, 9.25464891262697e-05, 0.0013699815764781744, 0.0001584784300403891, 3.136580810953636e-05, 0.0004786061364172262, 0.0001436376434972519, 0.00013599956468171137, 9.248875084194558e-05, 0.00022119623710712641]}, {\"categories\": [\"0\", \"1\", \"2\", \"3\", \"4\", \"5\", \"6\", \"7\", \"8\", \"9\", \"10\", \"11\", \"12\", \"13\", \"14\", \"15\", \"16\", \"17\", \"18\", \"19\", \"20\", \"21\", \"22\", \"23\", \"24\", \"25\", \"26\", \"27\", \"28\", \"29\", \"30\", \"35\", \"36\"], \"mode\": \"lines\", \"name\": \"log_loss_min\", \"stepped\": true, \"type\": \"scatter\", \"data\": [0.021184215708078668, 0.0001497131658836899, 0.0001497131658836899, 0.0001497131658836899, 0.0001497131658836899, 0.0001497131658836899, 9.3142013956508e-05, 9.3142013956508e-05, 9.3142013956508e-05, 9.3142013956508e-05, 9.3142013956508e-05, 9.3142013956508e-05, 9.3142013956508e-05, 9.3142013956508e-05, 9.3142013956508e-05, 9.3142013956508e-05, 9.3142013956508e-05, 9.3142013956508e-05, 9.3142013956508e-05, 9.3142013956508e-05, 9.220166866992552e-05, 9.220166866992552e-05, 9.220166866992552e-05, 6.990814456838168e-05, 6.990814456838168e-05, 6.990814456838168e-05, 6.990814456838168e-05, 3.136580810953636e-05, 3.136580810953636e-05, 3.136580810953636e-05, 3.136580810953636e-05, 3.136580810953636e-05, 3.136580810953636e-05]}], \"precision_score_weighted\": [{\"categories\": [\"0\", \"1\", \"2\", \"3\", \"4\", \"5\", \"6\", \"7\", \"8\", \"9\", \"10\", \"11\", \"12\", \"13\", \"14\", \"15\", \"16\", \"17\", \"18\", \"19\", \"20\", \"21\", \"22\", \"23\", \"24\", \"25\", \"26\", \"27\", \"28\", \"29\", \"30\", \"35\", \"36\"], \"mode\": \"markers\", \"name\": \"precision_score_weighted\", \"stepped\": false, \"type\": \"scatter\", \"data\": [0.9997227516694999, 0.9999653523665998, 0.9997228285361334, 0.9997228285361334, 0.9998623286326416, 0.9998615741993125, 1.0, 0.9998960643030496, 0.9997228285361334, 0.9997228285361334, 0.9997228285361334, 0.9997228285361334, 0.9997228285361334, 0.9999307071343662, 1.0, 0.9997228285361334, 1.0, 0.9997228285361334, 0.9997228285361334, 0.9997228285361334, 1.0, 0.9998960643030496, 1.0, 0.9999653523665998, 1.0, 0.9997228285361334, 0.9999307071343662, 1.0, 0.9997228237344657, 0.9999653523665998, 1.0, 1.0, 0.9998960643030496]}, {\"categories\": [\"0\", \"1\", \"2\", \"3\", \"4\", \"5\", \"6\", \"7\", \"8\", \"9\", \"10\", \"11\", \"12\", \"13\", \"14\", \"15\", \"16\", \"17\", \"18\", \"19\", \"20\", \"21\", \"22\", \"23\", \"24\", \"25\", \"26\", \"27\", \"28\", \"29\", \"30\", \"35\", \"36\"], \"mode\": \"lines\", \"name\": \"precision_score_weighted_max\", \"stepped\": true, \"type\": \"scatter\", \"data\": [0.9997227516694999, 0.9999653523665998, 0.9999653523665998, 0.9999653523665998, 0.9999653523665998, 0.9999653523665998, 1.0, 1.0, 1.0, 1.0, 1.0, 1.0, 1.0, 1.0, 1.0, 1.0, 1.0, 1.0, 1.0, 1.0, 1.0, 1.0, 1.0, 1.0, 1.0, 1.0, 1.0, 1.0, 1.0, 1.0, 1.0, 1.0, 1.0]}], \"AUC_weighted\": [{\"categories\": [\"0\", \"1\", \"2\", \"3\", \"4\", \"5\", \"6\", \"7\", \"8\", \"9\", \"10\", \"11\", \"12\", \"13\", \"14\", \"15\", \"16\", \"17\", \"18\", \"19\", \"20\", \"21\", \"22\", \"23\", \"24\", \"25\", \"26\", \"27\", \"28\", \"29\", \"30\", \"35\", \"36\"], \"mode\": \"markers\", \"name\": \"AUC_weighted\", \"stepped\": false, \"type\": \"scatter\", \"data\": [0.4968286134824126, 1.0, 0.992402190109852, 0.9971194164327546, 0.9991769761236442, 0.991111342135357, 1.0, 0.9999653463631007, 0.9998960390893024, 0.9999740097723255, 0.9999306927262018, 1.0, 0.9999220293169769, 1.0, 1.0, 0.9999826731815504, 1.0, 0.010396091069757772, 0.999956682953876, 0.98315400076238, 1.0, 0.7493329174896906, 1.0, 1.0, 1.0, 0.5, 1.0, 1.0, 0.9999436878400387, 1.0, 1.0, 1.0, 1.0]}, {\"categories\": [\"0\", \"1\", \"2\", \"3\", \"4\", \"5\", \"6\", \"7\", \"8\", \"9\", \"10\", \"11\", \"12\", \"13\", \"14\", \"15\", \"16\", \"17\", \"18\", \"19\", \"20\", \"21\", \"22\", \"23\", \"24\", \"25\", \"26\", \"27\", \"28\", \"29\", \"30\", \"35\", \"36\"], \"mode\": \"lines\", \"name\": \"AUC_weighted_max\", \"stepped\": true, \"type\": \"scatter\", \"data\": [0.4968286134824126, 1.0, 1.0, 1.0, 1.0, 1.0, 1.0, 1.0, 1.0, 1.0, 1.0, 1.0, 1.0, 1.0, 1.0, 1.0, 1.0, 1.0, 1.0, 1.0, 1.0, 1.0, 1.0, 1.0, 1.0, 1.0, 1.0, 1.0, 1.0, 1.0, 1.0, 1.0, 1.0]}], \"matthews_correlation\": [{\"categories\": [\"0\", \"1\", \"2\", \"3\", \"4\", \"5\", \"6\", \"7\", \"8\", \"9\", \"10\", \"11\", \"12\", \"13\", \"14\", \"15\", \"16\", \"17\", \"18\", \"19\", \"20\", \"21\", \"22\", \"23\", \"24\", \"25\", \"26\", \"27\", \"28\", \"29\", \"30\", \"35\", \"36\"], \"mode\": \"markers\", \"name\": \"matthews_correlation\", \"stepped\": false, \"type\": \"scatter\", \"data\": [-0.0002772867551557268, 0.8660103987094788, 0.0, 0.0, 0.08080208051810221, 0.03293625057132227, 1.0, 0.4999740117986259, 0.0, 0.0, 0.0, 0.0, 0.0, 0.7070822786385496, 1.0, 0.0, 1.0, 0.0, 0.0, 0.0, 1.0, 0.4999740117986259, 1.0, 0.8660103987094788, 1.0, 0.0, 0.7070822786385496, 1.0, -6.930367145560882e-05, 0.8660103987094788, 1.0, 1.0, 0.4999740117986259]}, {\"categories\": [\"0\", \"1\", \"2\", \"3\", \"4\", \"5\", \"6\", \"7\", \"8\", \"9\", \"10\", \"11\", \"12\", \"13\", \"14\", \"15\", \"16\", \"17\", \"18\", \"19\", \"20\", \"21\", \"22\", \"23\", \"24\", \"25\", \"26\", \"27\", \"28\", \"29\", \"30\", \"35\", \"36\"], \"mode\": \"lines\", \"name\": \"matthews_correlation_max\", \"stepped\": true, \"type\": \"scatter\", \"data\": [-0.0002772867551557268, 0.8660103987094788, 0.8660103987094788, 0.8660103987094788, 0.8660103987094788, 0.8660103987094788, 1.0, 1.0, 1.0, 1.0, 1.0, 1.0, 1.0, 1.0, 1.0, 1.0, 1.0, 1.0, 1.0, 1.0, 1.0, 1.0, 1.0, 1.0, 1.0, 1.0, 1.0, 1.0, 1.0, 1.0, 1.0, 1.0, 1.0]}]}, \"metricName\": null, \"primaryMetricName\": \"accuracy\", \"showLegend\": false}, \"run_metrics\": [{\"name\": \"experiment_status\", \"run_id\": \"AutoML_532e1f2e-40f2-44cf-845f-4ff45db1a7c8\", \"categories\": [0, 1, 2, 3, 4, 5, 6, 7, 8, 9, 10, 11, 12, 13], \"series\": [{\"data\": [\"DatasetEvaluation\", \"FeaturesGeneration\", \"DatasetFeaturization\", \"DatasetFeaturizationCompleted\", \"DatasetBalancing\", \"ModelSelection\", \"BestRunExplainModel\", \"ModelExplanationDataSetSetup\", \"PickSurrogateModel\", \"EngineeredFeatureExplanations\", \"EngineeredFeatureExplanations\", \"RawFeaturesExplanations\", \"RawFeaturesExplanations\", \"BestRunExplainModel\"]}]}, {\"name\": \"experiment_status_description\", \"run_id\": \"AutoML_532e1f2e-40f2-44cf-845f-4ff45db1a7c8\", \"categories\": [0, 1, 2, 3, 4, 5, 6, 7, 8, 9, 10, 11, 12, 13], \"series\": [{\"data\": [\"Gathering dataset statistics.\", \"Generating features for the dataset.\", \"Beginning to fit featurizers and featurize the dataset.\", \"Completed fit featurizers and featurizing the dataset.\", \"Performing class balancing sweeping\", \"Beginning model selection.\", \"Best run model explanations started\", \"Model explanations data setup completed\", \"Choosing LightGBM as the surrogate model for explanations\", \"Computation of engineered features started\", \"Computation of engineered features completed\", \"Computation of raw features started\", \"Computation of raw features completed\", \"Best run model explanations completed\"]}]}, {\"name\": \"average_precision_score_weighted\", \"run_id\": \"AutoML_532e1f2e-40f2-44cf-845f-4ff45db1a7c8\", \"categories\": [0], \"series\": [{\"data\": [1.0]}]}, {\"name\": \"AUC_macro\", \"run_id\": \"AutoML_532e1f2e-40f2-44cf-845f-4ff45db1a7c8\", \"categories\": [0], \"series\": [{\"data\": [1.0]}]}, {\"name\": \"recall_score_macro\", \"run_id\": \"AutoML_532e1f2e-40f2-44cf-845f-4ff45db1a7c8\", \"categories\": [0], \"series\": [{\"data\": [1.0]}]}, {\"name\": \"average_precision_score_micro\", \"run_id\": \"AutoML_532e1f2e-40f2-44cf-845f-4ff45db1a7c8\", \"categories\": [0], \"series\": [{\"data\": [1.0]}]}, {\"name\": \"balanced_accuracy\", \"run_id\": \"AutoML_532e1f2e-40f2-44cf-845f-4ff45db1a7c8\", \"categories\": [0], \"series\": [{\"data\": [1.0]}]}, {\"name\": \"f1_score_weighted\", \"run_id\": \"AutoML_532e1f2e-40f2-44cf-845f-4ff45db1a7c8\", \"categories\": [0], \"series\": [{\"data\": [1.0]}]}, {\"name\": \"precision_score_macro\", \"run_id\": \"AutoML_532e1f2e-40f2-44cf-845f-4ff45db1a7c8\", \"categories\": [0], \"series\": [{\"data\": [1.0]}]}, {\"name\": \"AUC_micro\", \"run_id\": \"AutoML_532e1f2e-40f2-44cf-845f-4ff45db1a7c8\", \"categories\": [0], \"series\": [{\"data\": [1.0]}]}, {\"name\": \"weighted_accuracy\", \"run_id\": \"AutoML_532e1f2e-40f2-44cf-845f-4ff45db1a7c8\", \"categories\": [0], \"series\": [{\"data\": [1.0]}]}, {\"name\": \"recall_score_weighted\", \"run_id\": \"AutoML_532e1f2e-40f2-44cf-845f-4ff45db1a7c8\", \"categories\": [0], \"series\": [{\"data\": [1.0]}]}, {\"name\": \"precision_score_weighted\", \"run_id\": \"AutoML_532e1f2e-40f2-44cf-845f-4ff45db1a7c8\", \"categories\": [0], \"series\": [{\"data\": [1.0]}]}, {\"name\": \"f1_score_micro\", \"run_id\": \"AutoML_532e1f2e-40f2-44cf-845f-4ff45db1a7c8\", \"categories\": [0], \"series\": [{\"data\": [1.0]}]}, {\"name\": \"accuracy\", \"run_id\": \"AutoML_532e1f2e-40f2-44cf-845f-4ff45db1a7c8\", \"categories\": [0], \"series\": [{\"data\": [1.0]}]}, {\"name\": \"AUC_weighted\", \"run_id\": \"AutoML_532e1f2e-40f2-44cf-845f-4ff45db1a7c8\", \"categories\": [0], \"series\": [{\"data\": [1.0]}]}, {\"name\": \"average_precision_score_macro\", \"run_id\": \"AutoML_532e1f2e-40f2-44cf-845f-4ff45db1a7c8\", \"categories\": [0], \"series\": [{\"data\": [1.0]}]}, {\"name\": \"matthews_correlation\", \"run_id\": \"AutoML_532e1f2e-40f2-44cf-845f-4ff45db1a7c8\", \"categories\": [0], \"series\": [{\"data\": [1.0]}]}, {\"name\": \"norm_macro_recall\", \"run_id\": \"AutoML_532e1f2e-40f2-44cf-845f-4ff45db1a7c8\", \"categories\": [0], \"series\": [{\"data\": [1.0]}]}, {\"name\": \"precision_score_micro\", \"run_id\": \"AutoML_532e1f2e-40f2-44cf-845f-4ff45db1a7c8\", \"categories\": [0], \"series\": [{\"data\": [1.0]}]}, {\"name\": \"log_loss\", \"run_id\": \"AutoML_532e1f2e-40f2-44cf-845f-4ff45db1a7c8\", \"categories\": [0], \"series\": [{\"data\": [9.3142013956508e-05]}]}, {\"name\": \"recall_score_micro\", \"run_id\": \"AutoML_532e1f2e-40f2-44cf-845f-4ff45db1a7c8\", \"categories\": [0], \"series\": [{\"data\": [1.0]}]}, {\"name\": \"f1_score_macro\", \"run_id\": \"AutoML_532e1f2e-40f2-44cf-845f-4ff45db1a7c8\", \"categories\": [0], \"series\": [{\"data\": [1.0]}]}], \"run_logs\": \"\\nRun is completed.\", \"graph\": {}, \"widget_settings\": {\"childWidgetDisplay\": \"popup\", \"send_telemetry\": true, \"log_level\": \"INFO\", \"sdk_version\": \"1.22.0\"}, \"loading\": false}"
          },
          "metadata": {}
        }
      ],
      "execution_count": 17,
      "metadata": {
        "gather": {
          "logged": 1613310623712
        }
      }
    },
    {
      "cell_type": "markdown",
      "source": [
        "## Best Model\r\n",
        "\r\n",
        "TODO: In the cell below, get the best model from the automl experiments and display all the properties of the model."
      ],
      "metadata": {
        "nteract": {
          "transient": {
            "deleting": false
          }
        }
      }
    },
    {
      "cell_type": "code",
      "source": [
        "# best_run, fitted_model = local_run.get_output()\r\n",
        "best_run, fitted_model = remote_run.get_output()\r\n",
        "fitted_model"
      ],
      "outputs": [
        {
          "output_type": "execute_result",
          "execution_count": 18,
          "data": {
            "text/plain": "Pipeline(memory=None,\n         steps=[('datatransformer',\n                 DataTransformer(enable_dnn=None, enable_feature_sweeping=None,\n                                 feature_sweeping_config=None,\n                                 feature_sweeping_timeout=None,\n                                 featurization_config=None, force_text_dnn=None,\n                                 is_cross_validation=None,\n                                 is_onnx_compatible=None, logger=None,\n                                 observer=None, task=None, working_dir=None)),\n                ('SparseNormalizer',\n                 <azureml.auto...\n                                   colsample_bytree=0.5, eta=0.1, gamma=0,\n                                   learning_rate=0.1, max_delta_step=0,\n                                   max_depth=6, max_leaves=15,\n                                   min_child_weight=1, missing=nan,\n                                   n_estimators=100, n_jobs=1, nthread=None,\n                                   objective='reg:logistic', random_state=0,\n                                   reg_alpha=0, reg_lambda=2.0833333333333335,\n                                   scale_pos_weight=1, seed=None, silent=None,\n                                   subsample=1, tree_method='auto', verbose=-10,\n                                   verbosity=0))],\n         verbose=False)"
          },
          "metadata": {}
        }
      ],
      "execution_count": 18,
      "metadata": {
        "collapsed": false,
        "jupyter": {
          "source_hidden": false,
          "outputs_hidden": false
        },
        "nteract": {
          "transient": {
            "deleting": false
          }
        },
        "gather": {
          "logged": 1613310626198
        }
      }
    },
    {
      "cell_type": "code",
      "source": [
        "# best_run, fitted_model = local_run.get_output()\n",
        "best_run, fitted_model = remote_run.get_output()\n",
        "fitted_model"
      ],
      "outputs": [
        {
          "output_type": "execute_result",
          "execution_count": 19,
          "data": {
            "text/plain": "Pipeline(memory=None,\n         steps=[('datatransformer',\n                 DataTransformer(enable_dnn=None, enable_feature_sweeping=None,\n                                 feature_sweeping_config=None,\n                                 feature_sweeping_timeout=None,\n                                 featurization_config=None, force_text_dnn=None,\n                                 is_cross_validation=None,\n                                 is_onnx_compatible=None, logger=None,\n                                 observer=None, task=None, working_dir=None)),\n                ('SparseNormalizer',\n                 <azureml.auto...\n                                   colsample_bytree=0.5, eta=0.1, gamma=0,\n                                   learning_rate=0.1, max_delta_step=0,\n                                   max_depth=6, max_leaves=15,\n                                   min_child_weight=1, missing=nan,\n                                   n_estimators=100, n_jobs=1, nthread=None,\n                                   objective='reg:logistic', random_state=0,\n                                   reg_alpha=0, reg_lambda=2.0833333333333335,\n                                   scale_pos_weight=1, seed=None, silent=None,\n                                   subsample=1, tree_method='auto', verbose=-10,\n                                   verbosity=0))],\n         verbose=False)"
          },
          "metadata": {}
        }
      ],
      "execution_count": 19,
      "metadata": {
        "gather": {
          "logged": 1613310627025
        },
        "collapsed": false
      }
    },
    {
      "cell_type": "markdown",
      "source": [
        "## Tests"
      ],
      "metadata": {}
    },
    {
      "cell_type": "code",
      "source": [
        "X_test_df = validation_data.drop_columns(columns=[label_column_name]).to_pandas_dataframe()\n",
        "y_test_df = validation_data.keep_columns(columns=[label_column_name], validate=True).to_pandas_dataframe()"
      ],
      "outputs": [],
      "execution_count": 43,
      "metadata": {
        "gather": {
          "logged": 1613310717308
        }
      }
    },
    {
      "cell_type": "code",
      "source": [
        "foresights = fitted_model.predict(X_test_df)\n",
        "y_pred = foresights\n",
        "foresights"
      ],
      "outputs": [
        {
          "output_type": "execute_result",
          "execution_count": 45,
          "data": {
            "text/plain": "array([0, 0, 0, ..., 0, 0, 0])"
          },
          "metadata": {}
        }
      ],
      "execution_count": 45,
      "metadata": {
        "gather": {
          "logged": 1613310758851
        }
      }
    },
    {
      "cell_type": "code",
      "source": [
        "cf =confusion_matrix(y_test_df.values,y_pred)\n",
        "plt.imshow(cf,cmap=plt.cm.Blues,interpolation='nearest')\n",
        "plt.colorbar()\n",
        "plt.title('Confusion Matrix')\n",
        "plt.xlabel('Predicted')\n",
        "plt.ylabel('Actual')\n",
        "class_labels = ['False','True']\n",
        "tick_marks = np.arange(len(class_labels))\n",
        "plt.xticks(tick_marks,class_labels)\n",
        "plt.yticks([-0.5,0,1,1.5],['','False','True',''])\n",
        "thresh = cf.max() / 2.\n",
        "for i,j in itertools.product(range(cf.shape[0]),range(cf.shape[1])):\n",
        "    plt.text(j,i,format(cf[i,j],'d'),horizontalalignment='center',color='white' if cf[i,j] >thresh else 'black')\n",
        "plt.show()"
      ],
      "outputs": [
        {
          "output_type": "display_data",
          "data": {
            "text/plain": "<Figure size 432x288 with 2 Axes>",
            "image/png": "[encoded data removed]"
          },
          "metadata": {
            "needs_background": "light"
          }
        }
      ],
      "execution_count": 46,
      "metadata": {
        "gather": {
          "logged": 1613310787523
        }
      }
    },
    {
      "cell_type": "code",
      "source": [
        "client = ExplanationClient.from_run(best_run)\n",
        "engineered_explanations = client.download_model_explanation(raw=False)\n",
        "print(engineered_explanations.get_feature_importance_dict())\n",
        "print(\"visualize engineered explanations at:-\\n\" + best_run.get_portal_url())"
      ],
      "outputs": [
        {
          "output_type": "stream",
          "name": "stdout",
          "text": [
            "{'Column11_MeanImputer': 0.0015425096635215399, 'Column27_MeanImputer': 0.0010443397075211736, 'Column33_ModeCatImputer_LabelEncoder': 0.0009755629263988446, 'Column2_MeanImputer': 0.0008435998175376433, 'Column8_MeanImputer': 0.0008232987681998969, 'Column34_MeanImputer': 0.0006351613426137262, 'Column1_MeanImputer': 0.00043579995996339546, 'Column30_MeanImputer': 0.0004253264576946728, 'Column22_MeanImputer': 0.0003727681962172535, 'Column38_MeanImputer': 0.0003415170781588766, 'Column37_MeanImputer': 0.00031088276116576145, 'Column13_MeanImputer': 0.0003044764688907655, 'Column26_MeanImputer': 0.00027305004810269386, 'Column16_MeanImputer': 0.00026410181079611773, 'Column15_MeanImputer': 0.0002606103736030877, 'Column18_MeanImputer': 0.00020828673343186455, 'Column25_MeanImputer': 0.00018922857498201743, 'Column20_ModeCatImputer_LabelEncoder': 0.0001760581898320137, 'Column4_MeanImputer': 0.00017492003082774624, 'Column12_MeanImputer': 0.00017255342030685682, 'Column36_MeanImputer': 0.0001631806702128847, 'Column32_MeanImputer': 0.000161506522489175, 'Column31_MeanImputer': 0.00015688053579047902, 'Column14_MeanImputer': 0.0001285220329626992, 'Column24_MeanImputer': 0.00012609809838634583, 'Column29_MeanImputer': 0.0001245118441807895, 'Column6_MeanImputer': 0.00011489720961046486, 'Column17_MeanImputer': 8.133456694301181e-05, 'Column9_MeanImputer': 6.231331366420337e-05, 'Column35_CharGramCountVectorizer_20': 6.116595853156967e-05, 'Column23_MeanImputer': 3.7537185670881044e-05, 'Column19_MeanImputer': 2.2029534907258616e-05, 'Column35_CharGramCountVectorizer_28': 2.6690641391134965e-06, 'Column5_MeanImputer': 0.0, 'Column7_MeanImputer': 0.0, 'Column3_MeanImputer': 0.0, 'Column10_MeanImputer': 0.0, 'Column35_CharGramCountVectorizer_60': 0.0, 'Column35_CharGramCountVectorizer_6': 0.0, 'Column21_ModeCatImputer_LabelEncoder': 0.0, 'Column35_CharGramCountVectorizer_0': 0.0, 'Column35_CharGramCountVectorizer_24': 0.0, 'Column35_CharGramCountVectorizer_31': 0.0, 'Column35_CharGramCountVectorizer_32': 0.0, 'Column35_CharGramCountVectorizer_36': 0.0, 'Column35_CharGramCountVectorizer_40': 0.0, 'Column35_CharGramCountVectorizer_44': 0.0, 'Column35_CharGramCountVectorizer_48': 0.0, 'Column35_CharGramCountVectorizer_52': 0.0, 'Column35_CharGramCountVectorizer_56': 0.0, 'Column28_MeanImputer': 0.0}\n",
            "You can visualize the engineered explanations under the 'Explanations (preview)' tab in the AutoML run at:-\n",
            "https://ml.azure.com/experiments/ml-experiment-025/runs/AutoML_532e1f2e-40f2-44cf-845f-4ff45db1a7c8_6?wsid=/subscriptions/5cf0bb76-4731-4cb5-ac3d-950c07dda6ef/resourcegroups/group1st/workspaces/workspace1st\n"
          ]
        }
      ],
      "execution_count": 47,
      "metadata": {
        "gather": {
          "logged": 1613310855131
        }
      }
    },
    {
      "cell_type": "code",
      "source": [
        "raw_explanations = client.download_model_explanation(raw=True)\n",
        "print(raw_explanations.get_feature_importance_dict())\n",
        "print(\"visualize raw explanations at:-\\n\" + best_run.get_portal_url())"
      ],
      "outputs": [
        {
          "output_type": "stream",
          "name": "stdout",
          "text": [
            "{'Column11': 0.0015425096635215399, 'Column27': 0.0010443397075211736, 'Column33': 0.0009755629263988446, 'Column2': 0.0008435998175376433, 'Column8': 0.0008232987681998969, 'Column34': 0.0006351613426137262, 'Column1': 0.00043579995996339546, 'Column30': 0.0004253264576946728, 'Column22': 0.0003727681962172535, 'Column38': 0.0003415170781588766, 'Column37': 0.00031088276116576145, 'Column13': 0.0003044764688907655, 'Column26': 0.00027305004810269386, 'Column16': 0.00026410181079611773, 'Column15': 0.0002606103736030877, 'Column18': 0.00020828673343186455, 'Column25': 0.00018922857498201743, 'Column20': 0.0001760581898320137, 'Column4': 0.00017492003082774624, 'Column12': 0.00017255342030685682, 'Column36': 0.0001631806702128847, 'Column32': 0.000161506522489175, 'Column31': 0.00015688053579047902, 'Column14': 0.0001285220329626992, 'Column24': 0.00012609809838634583, 'Column29': 0.0001245118441807895, 'Column6': 0.00011489720961046486, 'Column17': 8.133456694301181e-05, 'Column35': 6.383502267068316e-05, 'Column9': 6.231331366420337e-05, 'Column23': 3.7537185670881044e-05, 'Column19': 2.2029534907258616e-05, 'Column7': 0.0, 'Column5': 0.0, 'Column10': 0.0, 'Column3': 0.0, 'Column21': 0.0, 'Column28': 0.0}\n",
            "You can visualize the raw explanations under the 'Explanations (preview)' tab in the AutoML run at:-\n",
            "https://ml.azure.com/experiments/ml-experiment-025/runs/AutoML_532e1f2e-40f2-44cf-845f-4ff45db1a7c8_6?wsid=/subscriptions/5cf0bb76-4731-4cb5-ac3d-950c07dda6ef/resourcegroups/group1st/workspaces/workspace1st\n"
          ]
        }
      ],
      "execution_count": 48,
      "metadata": {
        "gather": {
          "logged": 1613310908450
        }
      }
    },
    {
      "cell_type": "markdown",
      "source": [
        "#### Retrieve AutoML models from training"
      ],
      "metadata": {}
    },
    {
      "cell_type": "code",
      "source": [
        "automl_run, fitted_model = local_run.get_output(metric='accuracy')"
      ],
      "outputs": [],
      "execution_count": 49,
      "metadata": {
        "gather": {
          "logged": 1613310974528
        }
      }
    },
    {
      "cell_type": "code",
      "source": [
        "X_train = training_data.drop_columns(columns=[label_column_name])\n",
        "y_train = training_data.keep_columns(columns=[label_column_name], validate=True)\n",
        "X_test = validation_data.drop_columns(columns=[label_column_name])"
      ],
      "outputs": [],
      "execution_count": 50,
      "metadata": {
        "gather": {
          "logged": 1613310989715
        }
      }
    },
    {
      "cell_type": "code",
      "source": [
        "\n",
        "automl_explainer_setup_obj = automl_setup_model_explanations(fitted_model, X=X_train, \n",
        "                                                             X_test=X_test, y=y_train, \n",
        "                                                             task='classification')"
      ],
      "outputs": [
        {
          "output_type": "stream",
          "name": "stdout",
          "text": [
            "Current status: Setting up data for AutoML explanations\n",
            "Current status: Setting up the AutoML featurizer\n",
            "Current status: Setting up the AutoML estimator\n",
            "Current status: Setting up the AutoML featurization for explanations\n",
            "Current status: Downsampling of evaluation samples from 57688 to 5000 samples\n",
            "Current status: Generating a feature map for raw feature importance\n",
            "Current status: Finding all classes from the dataset\n",
            "Current status: Choosing the surrogate model as LightGBM for the AutoML model\n",
            "Current status: Data for AutoML explanations successfully setup\n"
          ]
        }
      ],
      "execution_count": 51,
      "metadata": {
        "gather": {
          "logged": 1613311011736
        }
      }
    },
    {
      "cell_type": "code",
      "source": [
        "explainer = MimicWrapper(ws, automl_explainer_setup_obj.automl_estimator,\n",
        "                         explainable_model=automl_explainer_setup_obj.surrogate_model, \n",
        "                         init_dataset=automl_explainer_setup_obj.X_transform, run=automl_run,\n",
        "                         features=automl_explainer_setup_obj.engineered_feature_names, \n",
        "                         feature_maps=[automl_explainer_setup_obj.feature_map],\n",
        "                         classes=automl_explainer_setup_obj.classes,\n",
        "                         explainer_kwargs=automl_explainer_setup_obj.surrogate_model_params)"
      ],
      "outputs": [],
      "execution_count": 52,
      "metadata": {
        "gather": {
          "logged": 1613311056757
        }
      }
    },
    {
      "cell_type": "code",
      "source": [
        "engineered_explanations = explainer.explain(['local', 'global'], eval_dataset=automl_explainer_setup_obj.X_test_transform)\n",
        "print(engineered_explanations.get_feature_importance_dict())\n",
        "print(\"visualize engineered explanations at:-\\n\" + automl_run.get_portal_url())"
      ],
      "outputs": [
        {
          "output_type": "stream",
          "name": "stdout",
          "text": [
            "{'Column11_MeanImputer': 0.0015045155864212949, 'Column27_MeanImputer': 0.0010139796285701865, 'Column33_ModeCatImputer_LabelEncoder': 0.0009793713555595386, 'Column2_MeanImputer': 0.0008190992964810801, 'Column8_MeanImputer': 0.0006992062069522812, 'Column34_MeanImputer': 0.0006035160610261334, 'Column1_MeanImputer': 0.0005946977719036335, 'Column30_MeanImputer': 0.00037566308391945557, 'Column13_MeanImputer': 0.0003689923553159829, 'Column22_MeanImputer': 0.0003452178218566377, 'Column38_MeanImputer': 0.000343603551867478, 'Column37_MeanImputer': 0.00033286772585169427, 'Column26_MeanImputer': 0.00029640553327094505, 'Column16_MeanImputer': 0.0002560221429344298, 'Column20_ModeCatImputer_LabelEncoder': 0.00024035167564614036, 'Column15_MeanImputer': 0.00022834015687761347, 'Column18_MeanImputer': 0.0002100619224106858, 'Column4_MeanImputer': 0.00020508757269274488, 'Column25_MeanImputer': 0.00018860660663125962, 'Column32_MeanImputer': 0.0001818218060124899, 'Column12_MeanImputer': 0.00015587754775312976, 'Column29_MeanImputer': 0.00014089423925041947, 'Column31_MeanImputer': 0.00014037870191421585, 'Column6_MeanImputer': 0.0001388708120803112, 'Column36_MeanImputer': 0.00013491062668064306, 'Column24_MeanImputer': 0.0001270544590691167, 'Column14_MeanImputer': 0.00012044847256610563, 'Column17_MeanImputer': 9.385717217372509e-05, 'Column35_CharGramCountVectorizer_20': 6.544613686024161e-05, 'Column9_MeanImputer': 5.468252944704228e-05, 'Column23_MeanImputer': 3.928338254799218e-05, 'Column19_MeanImputer': 2.5654967230788035e-05, 'Column35_CharGramCountVectorizer_28': 2.5011408663512085e-06, 'Column10_MeanImputer': 0.0, 'Column5_MeanImputer': 0.0, 'Column7_MeanImputer': 0.0, 'Column3_MeanImputer': 0.0, 'Column35_CharGramCountVectorizer_60': 0.0, 'Column35_CharGramCountVectorizer_6': 0.0, 'Column21_ModeCatImputer_LabelEncoder': 0.0, 'Column35_CharGramCountVectorizer_0': 0.0, 'Column35_CharGramCountVectorizer_24': 0.0, 'Column35_CharGramCountVectorizer_31': 0.0, 'Column35_CharGramCountVectorizer_32': 0.0, 'Column35_CharGramCountVectorizer_36': 0.0, 'Column35_CharGramCountVectorizer_40': 0.0, 'Column35_CharGramCountVectorizer_44': 0.0, 'Column35_CharGramCountVectorizer_48': 0.0, 'Column35_CharGramCountVectorizer_52': 0.0, 'Column35_CharGramCountVectorizer_56': 0.0, 'Column28_MeanImputer': 0.0}\n",
            "You can visualize the engineered explanations under the 'Explanations (preview)' tab in the AutoML run at:-\n",
            "https://ml.azure.com/experiments/ml-experiment-025/runs/AutoML_532e1f2e-40f2-44cf-845f-4ff45db1a7c8_6?wsid=/subscriptions/5cf0bb76-4731-4cb5-ac3d-950c07dda6ef/resourcegroups/group1st/workspaces/workspace1st\n"
          ]
        }
      ],
      "execution_count": 53,
      "metadata": {
        "gather": {
          "logged": 1613311097831
        },
        "collapsed": false
      }
    },
    {
      "cell_type": "code",
      "source": [
        "raw_explanations = explainer.explain(['local', 'global'], get_raw=True,\n",
        "                                     raw_feature_names=automl_explainer_setup_obj.raw_feature_names,\n",
        "                                     eval_dataset=automl_explainer_setup_obj.X_test_transform,\n",
        "                                     raw_eval_dataset=automl_explainer_setup_obj.X_test_raw)\n",
        "print(raw_explanations.get_feature_importance_dict())\n",
        "print(\"visualize raw explanations at:-\\n\" + automl_run.get_portal_url())"
      ],
      "outputs": [
        {
          "output_type": "stream",
          "name": "stdout",
          "text": [
            "{'Column11': 0.0015045155864212949, 'Column27': 0.0010139796285701865, 'Column33': 0.0009793713555595386, 'Column2': 0.0008190992964810801, 'Column8': 0.0006992062069522812, 'Column34': 0.0006035160610261334, 'Column1': 0.0005946977719036335, 'Column30': 0.00037566308391945557, 'Column13': 0.0003689923553159829, 'Column22': 0.0003452178218566377, 'Column38': 0.000343603551867478, 'Column37': 0.00033286772585169427, 'Column26': 0.00029640553327094505, 'Column16': 0.0002560221429344298, 'Column20': 0.00024035167564614036, 'Column15': 0.00022834015687761347, 'Column18': 0.0002100619224106858, 'Column4': 0.00020508757269274488, 'Column25': 0.00018860660663125962, 'Column32': 0.0001818218060124899, 'Column12': 0.00015587754775312976, 'Column29': 0.00014089423925041947, 'Column31': 0.00014037870191421585, 'Column6': 0.0001388708120803112, 'Column36': 0.00013491062668064306, 'Column24': 0.0001270544590691167, 'Column14': 0.00012044847256610563, 'Column17': 9.385717217372509e-05, 'Column35': 6.794727772659283e-05, 'Column9': 5.468252944704228e-05, 'Column23': 3.928338254799218e-05, 'Column19': 2.5654967230788035e-05, 'Column7': 0.0, 'Column5': 0.0, 'Column10': 0.0, 'Column3': 0.0, 'Column21': 0.0, 'Column28': 0.0}\n",
            "You can visualize the raw explanations under the 'Explanations (preview)' tab in the AutoML run at:-\n",
            "https://ml.azure.com/experiments/ml-experiment-025/runs/AutoML_532e1f2e-40f2-44cf-845f-4ff45db1a7c8_6?wsid=/subscriptions/5cf0bb76-4731-4cb5-ac3d-950c07dda6ef/resourcegroups/group1st/workspaces/workspace1st\n"
          ]
        }
      ],
      "execution_count": 54,
      "metadata": {
        "gather": {
          "logged": 1613311183934
        }
      }
    },
    {
      "cell_type": "markdown",
      "source": [
        "## Model Deployment\r\n",
        "\r\n",
        "Remember you have to deploy only one of the two models you trained.. Perform the steps in the rest of this notebook only if you wish to deploy this model.\r\n",
        "\r\n",
        "TODO: In the cell below, register the model, create an inference config and deploy the model as a web service."
      ],
      "metadata": {}
    },
    {
      "cell_type": "code",
      "source": [
        "original_model = automl_run.register_model(model_name='automl_model', \n",
        "                                           model_path='outputs/model.pkl')"
      ],
      "outputs": [],
      "execution_count": 62,
      "metadata": {
        "gather": {
          "logged": 1613311498694
        }
      }
    },
    {
      "cell_type": "code",
      "source": [
        "automl_run.download_file(constants.CONDA_ENV_FILE_PATH, 'myenv.yml')\n",
        "myenv = Environment.from_conda_specification(name=\"myenv\", file_path=\"myenv.yml\")\n",
        "myenv"
      ],
      "outputs": [
        {
          "output_type": "execute_result",
          "execution_count": 63,
          "data": {
            "text/plain": "{\n    \"databricks\": {\n        \"eggLibraries\": [],\n        \"jarLibraries\": [],\n        \"mavenLibraries\": [],\n        \"pypiLibraries\": [],\n        \"rcranLibraries\": []\n    },\n    \"docker\": {\n        \"arguments\": [],\n        \"baseDockerfile\": null,\n        \"baseImage\": \"mcr.microsoft.com/azureml/intelmpi2018.3-ubuntu16.04:20210104.v1\",\n        \"baseImageRegistry\": {\n            \"address\": null,\n            \"password\": null,\n            \"registryIdentity\": null,\n            \"username\": null\n        },\n        \"enabled\": false,\n        \"platform\": {\n            \"architecture\": \"amd64\",\n            \"os\": \"Linux\"\n        },\n        \"sharedVolumes\": true,\n        \"shmSize\": \"2g\"\n    },\n    \"environmentVariables\": {\n        \"EXAMPLE_ENV_VAR\": \"EXAMPLE_VALUE\"\n    },\n    \"inferencingStackVersion\": null,\n    \"name\": \"myenv\",\n    \"python\": {\n        \"baseCondaEnvironment\": null,\n        \"condaDependencies\": {\n            \"channels\": [\n                \"anaconda\",\n                \"conda-forge\"\n            ],\n            \"dependencies\": [\n                \"python=3.6.2\",\n                {\n                    \"pip\": [\n                        \"azureml-train-automl-runtime==1.21.0\",\n                        \"inference-schema\",\n                        \"azureml-interpret==1.21.0\",\n                        \"azureml-defaults==1.21.0\"\n                    ]\n                },\n                \"numpy>=1.16.0,<1.19.0\",\n                \"pandas==0.25.1\",\n                \"scikit-learn==0.22.1\",\n                \"py-xgboost<=0.90\",\n                \"fbprophet==0.5\",\n                \"holidays==0.9.11\",\n                \"psutil>=5.2.2,<6.0.0\"\n            ],\n            \"name\": \"project_environment\"\n        },\n        \"condaDependenciesFile\": null,\n        \"interpreterPath\": \"python\",\n        \"userManagedDependencies\": false\n    },\n    \"r\": null,\n    \"spark\": {\n        \"packages\": [],\n        \"precachePackages\": true,\n        \"repositories\": []\n    },\n    \"version\": null\n}"
          },
          "metadata": {}
        }
      ],
      "execution_count": 63,
      "metadata": {
        "gather": {
          "logged": 1613311512690
        },
        "collapsed": false
      }
    },
    {
      "cell_type": "code",
      "source": [
        "%%writefile score_025_ids2017inf.py\r\n",
        "\r\n",
        "import urllib.request\r\n",
        "import json\r\n",
        "import os\r\n",
        "import ssl\r\n",
        "\r\n",
        "def allowSelfSignedHttps(allowed):\r\n",
        "    if allowed and not os.environ.get('PYTHONHTTPSVERIFY', '') and getattr(ssl, '_create_unverified_context', None):\r\n",
        "        ssl._create_default_https_context = ssl._create_unverified_context\r\n",
        "\r\n",
        "allowSelfSignedHttps(True)\r\n",
        "\r\n",
        "data = {\r\n",
        "    \"data\":\r\n",
        "    [\r\n",
        "        {\r\n",
        "            'Column1': \"0\",\r\n",
        "            'Column2': \"0\",\r\n",
        "            'Column3': \"0\",\r\n",
        "            'Column4': \"0\",\r\n",
        "            'Column5': \"0\",\r\n",
        "            'Column6': \"0\",\r\n",
        "            'Column7': \"0\",\r\n",
        "            'Column8': \"0\",\r\n",
        "            'Column9': \"0\",\r\n",
        "            'Column10': \"0\",\r\n",
        "            'Column11': \"0\",\r\n",
        "            'Column12': \"0\",\r\n",
        "            'Column13': \"0\",\r\n",
        "            'Column14': \"0\",\r\n",
        "            'Column15': \"0\",\r\n",
        "            'Column16': \"0\",\r\n",
        "            'Column17': \"0\",\r\n",
        "            'Column18': \"0\",\r\n",
        "            'Column19': \"0\",\r\n",
        "            'Column20': \"0\",\r\n",
        "            'Column21': \"0\",\r\n",
        "            'Column22': \"0\",\r\n",
        "            'Column23': \"0\",\r\n",
        "            'Column24': \"0\",\r\n",
        "            'Column25': \"0\",\r\n",
        "            'Column26': \"0\",\r\n",
        "            'Column27': \"0\",\r\n",
        "            'Column28': \"0\",\r\n",
        "            'Column29': \"0\",\r\n",
        "            'Column30': \"0\",\r\n",
        "            'Column31': \"0\",\r\n",
        "            'Column32': \"0\",\r\n",
        "            'Column33': \"0\",\r\n",
        "            'Column34': \"0\",\r\n",
        "            'Column35': \"0\",\r\n",
        "            'Column36': \"0\",\r\n",
        "            'Column37': \"0\",\r\n",
        "            'Column38': \"0\",\r\n",
        "        },\r\n",
        "    ],\r\n",
        "}\r\n",
        "\r\n",
        "body = str.encode(json.dumps(data))\r\n",
        "\r\n",
        "url = 'http://c76e1449-ef84-4a53-9904-61ce2f8aa744.uksouth.azurecontainer.io/score'\r\n",
        "api_key = '' # No need for API key for the web service\r\n",
        "headers = {'Content-Type':'application/json', 'Authorization':('Bearer '+ api_key)}\r\n",
        "\r\n",
        "req = urllib.request.Request(url, body, headers)\r\n",
        "\r\n",
        "try:\r\n",
        "    response = urllib.request.urlopen(req)\r\n",
        "\r\n",
        "    result = response.read()\r\n",
        "    print(result)\r\n",
        "except urllib.error.HTTPError as error:\r\n",
        "    print(\"The request failed with status code: \" + str(error.code))\r\n",
        "\r\n",
        "    print(error.info())\r\n",
        "    print(json.loads(error.read().decode(\"utf8\", 'ignore')))\r\n"
      ],
      "outputs": [
        {
          "output_type": "stream",
          "name": "stdout",
          "text": [
            "Overwriting score_025_ids2017inf.py\n"
          ]
        }
      ],
      "execution_count": 100,
      "metadata": {
        "collapsed": true,
        "jupyter": {
          "source_hidden": false,
          "outputs_hidden": false
        },
        "nteract": {
          "transient": {
            "deleting": false
          }
        }
      }
    },
    {
      "cell_type": "code",
      "source": [
        "%%writefile scoring.py\r\n",
        "\r\n",
        "import urllib.request\r\n",
        "import joblib, json, logging, os, pickle, ssl\r\n",
        "import numpy as np\r\n",
        "import pandas as pd\r\n",
        "import azureml.automl.core\r\n",
        "from azureml.core.model import Model\r\n",
        "from azureml.automl.core.shared import logging_utilities, log_server\r\n",
        "from azureml.telemetry import INSTRUMENTATION_KEY\r\n",
        "from inference_schema.schema_decorators import input_schema, output_schema\r\n",
        "from inference_schema.parameter_types.numpy_parameter_type import NumpyParameterType\r\n",
        "from inference_schema.parameter_types.pandas_parameter_type import PandasParameterType\r\n",
        "\r\n",
        "input_sample = pd.DataFrame({\"Column1\": pd.Series([0], dtype=\"int64\"), \"Column2\": pd.Series([0], dtype=\"int64\"), \"Column3\": pd.Series([0], dtype=\"int64\"), \"Column4\": pd.Series([0], dtype=\"int64\"), \"Column5\": pd.Series([0], dtype=\"int64\"), \"Column6\": pd.Series([0], dtype=\"int64\"), \"Column7\": pd.Series([0], dtype=\"int64\"), \"Column8\": pd.Series([0.0], dtype=\"float64\"), \"Column9\": pd.Series([0], dtype=\"int64\"), \"Column10\": pd.Series([0], dtype=\"int64\"), \"Column11\": pd.Series([0], dtype=\"int64\"), \"Column12\": pd.Series([0], dtype=\"int64\"), \"Column13\": pd.Series([0.0], dtype=\"float64\"), \"Column14\": pd.Series([0], dtype=\"int64\"), \"Column15\": pd.Series([0.0], dtype=\"float64\"), \"Column16\": pd.Series([0], dtype=\"int64\"), \"Column17\": pd.Series([0], dtype=\"int64\"), \"Column18\": pd.Series([0], dtype=\"int64\"), \"Column19\": pd.Series([0], dtype=\"int64\"), \"Column20\": pd.Series([0], dtype=\"int64\"), \"Column21\": pd.Series([0], dtype=\"int64\"), \"Column22\": pd.Series([0], dtype=\"int64\"), \"Column23\": pd.Series([0], dtype=\"int64\"), \"Column24\": pd.Series([0], dtype=\"int64\"), \"Column25\": pd.Series([0.0], dtype=\"float64\"), \"Column26\": pd.Series([0.0], dtype=\"float64\"), \"Column27\": pd.Series([0.0], dtype=\"float64\"), \"Column28\": pd.Series([0.0], dtype=\"float64\"), \"Column29\": pd.Series([0], dtype=\"int64\"), \"Column30\": pd.Series([0.0], dtype=\"float64\"), \"Column31\": pd.Series([0.0], dtype=\"float64\"), \"Column32\": pd.Series([0], dtype=\"int64\"), \"Column33\": pd.Series([0], dtype=\"int64\"), \"Column34\": pd.Series([0.0], dtype=\"float64\"), \"Column35\": pd.Series([0], dtype=\"int64\"), \"Column36\": pd.Series([0], dtype=\"int64\"), \"Column37\": pd.Series([0.0], dtype=\"float64\"), \"Column38\": pd.Series([0], dtype=\"int64\")})\r\n",
        "output_sample = np.array([0])\r\n",
        "try:\r\n",
        "    log_server.enable_telemetry(INSTRUMENTATION_KEY)\r\n",
        "    log_server.set_verbosity('INFO')\r\n",
        "    logger = logging.getLogger('azureml.automl.core.scoring_script')\r\n",
        "except:\r\n",
        "    pass\r\n",
        "\r\n",
        "def init():\r\n",
        "    global model\r\n",
        "    # This name is model.id of model that we want to deploy deserialize the model file back\r\n",
        "    # into a sklearn model\r\n",
        "    model_path = os.path.join(os.getenv('AZUREML_MODEL_DIR'), 'model.pkl')\r\n",
        "    path = os.path.normpath(model_path)\r\n",
        "    path_split = path.split(os.sep)\r\n",
        "    log_server.update_custom_dimensions({'model_name': path_split[-3], 'model_version': path_split[-2]})\r\n",
        "    try:\r\n",
        "        logger.info(\"Loading model from path.\")\r\n",
        "        model = joblib.load(model_path)\r\n",
        "        logger.info(\"Loading successful.\")\r\n",
        "    except Exception as e:\r\n",
        "        logging_utilities.log_traceback(e, logger)\r\n",
        "        raise\r\n",
        "\r\n",
        "@input_schema('data', PandasParameterType(input_sample))\r\n",
        "@output_schema(NumpyParameterType(output_sample))\r\n",
        "def run(data):\r\n",
        "    try:\r\n",
        "        result = model.predict(data)\r\n",
        "        return json.dumps({\"result\": result.tolist()})\r\n",
        "    except Exception as e:\r\n",
        "        result = str(e)\r\n",
        "        return json.dumps({\"error\": result})"
      ],
      "outputs": [
        {
          "output_type": "stream",
          "name": "stdout",
          "text": [
            "Overwriting scoring.py\n"
          ]
        }
      ],
      "execution_count": 128,
      "metadata": {
        "collapsed": true,
        "jupyter": {
          "source_hidden": false,
          "outputs_hidden": false
        },
        "nteract": {
          "transient": {
            "deleting": false
          }
        }
      }
    },
    {
      "cell_type": "code",
      "source": [
        "%%writefile score_025_no_exp.py\n",
        "import joblib\n",
        "import pandas as pd\n",
        "from azureml.core.model import Model\n",
        "\n",
        "def init():\n",
        "    global automl_model\n",
        "    automl_model_path = Model.get_model_path('automl_model')\n",
        "    automl_model = joblib.load(automl_model_path)\n",
        "\n",
        "def run(raw_data):\n",
        "    data = pd.read_json(raw_data, orient='records') \n",
        "    predictions = automl_model.predict(data)\n",
        "    foresights = predictions\n",
        "    return {'predictions': predictions.tolist()}"
      ],
      "outputs": [
        {
          "output_type": "stream",
          "name": "stdout",
          "text": [
            "Overwriting score_025_no_exp.py\n"
          ]
        }
      ],
      "execution_count": 101,
      "metadata": {}
    },
    {
      "cell_type": "code",
      "source": [
        "inf_config = InferenceConfig(entry_script='score_025_no_exp.py', environment=myenv)"
      ],
      "outputs": [],
      "execution_count": 102,
      "metadata": {
        "gather": {
          "logged": 1613315480173
        }
      }
    },
    {
      "cell_type": "markdown",
      "source": [
        "#### Deploy web service to ACI (Staging)"
      ],
      "metadata": {
        "nteract": {
          "transient": {
            "deleting": false
          }
        }
      }
    },
    {
      "cell_type": "code",
      "source": [
        "aciconfig = AciWebservice.deploy_configuration(cpu_cores = 1, \r\n",
        "                                               memory_gb = 1, \r\n",
        "                                               tags = {'area': \"digits\", 'type': \"ids_automl_1st\"}, \r\n",
        "                                               description = 'service for Automl IDS Classification')\r\n"
      ],
      "outputs": [],
      "execution_count": 103,
      "metadata": {
        "collapsed": true,
        "jupyter": {
          "source_hidden": false,
          "outputs_hidden": false
        },
        "nteract": {
          "transient": {
            "deleting": false
          }
        },
        "gather": {
          "logged": 1613315498250
        }
      }
    },
    {
      "cell_type": "code",
      "source": [
        "%%time\r\n",
        "aci_service_name = 'score025ids2017inf'\r\n",
        "print(aci_service_name)\r\n",
        "aci_service = Model.deploy(ws, aci_service_name, [original_model], inf_config, aciconfig)\r\n",
        "aci_service.wait_for_deployment(True)\r\n",
        "print(aci_service.state)"
      ],
      "outputs": [
        {
          "output_type": "stream",
          "name": "stdout",
          "text": [
            "score025ids2017inf\n",
            "Tips: You can try get_logs(): https://aka.ms/debugimage#dockerlog or local deployment: https://aka.ms/debugimage#debug-locally to debug if deployment takes longer than 10 minutes.\n",
            "Running.............................................\n",
            "Succeeded\n",
            "ACI service creation operation finished, operation \"Succeeded\"\n",
            "Healthy\n"
          ]
        }
      ],
      "execution_count": 105,
      "metadata": {
        "collapsed": true,
        "jupyter": {
          "source_hidden": false,
          "outputs_hidden": false
        },
        "nteract": {
          "transient": {
            "deleting": false
          }
        },
        "gather": {
          "logged": 1613315769958
        }
      }
    },
    {
      "cell_type": "code",
      "source": [
        "aci_service.get_logs()"
      ],
      "outputs": [
        {
          "output_type": "execute_result",
          "execution_count": 107,
          "data": {
            "text/plain": "'2021-02-14T15:14:51,465537200+00:00 - rsyslog/run \\n2021-02-14T15:14:51,467372200+00:00 - iot-server/run \\n2021-02-14T15:14:51,464128100+00:00 - gunicorn/run \\n2021-02-14T15:14:51,512806500+00:00 - nginx/run \\n/usr/sbin/nginx: /azureml-envs/azureml_7785023fceb74e4facc1b1a577b1faf9/lib/libcrypto.so.1.0.0: no version information available (required by /usr/sbin/nginx)\\n/usr/sbin/nginx: /azureml-envs/azureml_7785023fceb74e4facc1b1a577b1faf9/lib/libcrypto.so.1.0.0: no version information available (required by /usr/sbin/nginx)\\n/usr/sbin/nginx: /azureml-envs/azureml_7785023fceb74e4facc1b1a577b1faf9/lib/libssl.so.1.0.0: no version information available (required by /usr/sbin/nginx)\\n/usr/sbin/nginx: /azureml-envs/azureml_7785023fceb74e4facc1b1a577b1faf9/lib/libssl.so.1.0.0: no version information available (required by /usr/sbin/nginx)\\n/usr/sbin/nginx: /azureml-envs/azureml_7785023fceb74e4facc1b1a577b1faf9/lib/libssl.so.1.0.0: no version information available (required by /usr/sbin/nginx)\\nrsyslogd: /azureml-envs/azureml_7785023fceb74e4facc1b1a577b1faf9/lib/libuuid.so.1: no version information available (required by rsyslogd)\\nEdgeHubConnectionString and IOTEDGE_IOTHUBHOSTNAME are not set. Exiting...\\n2021-02-14T15:14:52,392660800+00:00 - iot-server/finish 1 0\\n2021-02-14T15:14:52,398486700+00:00 - Exit code 1 is normal. Not restarting iot-server.\\nStarting gunicorn 19.9.0\\nListening at: http://127.0.0.1:31311 (65)\\nUsing worker: sync\\nworker timeout is set to 300\\nBooting worker with pid: 97\\nSPARK_HOME not set. Skipping PySpark Initialization.\\nGenerating new fontManager, this may take some time...\\nInitializing logger\\n2021-02-14 15:15:00,892 | root | INFO | Starting up app insights client\\n2021-02-14 15:15:00,892 | root | INFO | Starting up request id generator\\n2021-02-14 15:15:00,892 | root | INFO | Starting up app insight hooks\\n2021-02-14 15:15:00,892 | root | INFO | Invoking user\\'s init function\\n2021-02-14 15:15:04,594 | root | INFO | Users\\'s init has completed successfully\\n2021-02-14 15:15:04,600 | root | INFO | Skipping middleware: dbg_model_info as it\\'s not enabled.\\n2021-02-14 15:15:04,600 | root | INFO | Skipping middleware: dbg_resource_usage as it\\'s not enabled.\\n2021-02-14 15:15:04,601 | root | INFO | Scoring timeout is found from os.environ: 60000 ms\\n2021-02-14 15:15:06,589 | root | INFO | Swagger file not present\\n2021-02-14 15:15:06,589 | root | INFO | 404\\n127.0.0.1 - - [14/Feb/2021:15:15:06 +0000] \"GET /swagger.json HTTP/1.0\" 404 19 \"-\" \"Go-http-client/1.1\"\\n2021-02-14 15:15:08,403 | root | INFO | Swagger file not present\\n2021-02-14 15:15:08,403 | root | INFO | 404\\n127.0.0.1 - - [14/Feb/2021:15:15:08 +0000] \"GET /swagger.json HTTP/1.0\" 404 19 \"-\" \"Go-http-client/1.1\"\\n'"
          },
          "metadata": {}
        }
      ],
      "execution_count": 107,
      "metadata": {
        "collapsed": true,
        "jupyter": {
          "source_hidden": false,
          "outputs_hidden": false
        },
        "nteract": {
          "transient": {
            "deleting": false
          }
        },
        "gather": {
          "logged": 1613316225286
        }
      }
    },
    {
      "cell_type": "code",
      "source": [
        "web_service_logs = aci_service.get_logs()\r\n",
        "with open(\"./web_service_logs.txt\", 'w') as output:\r\n",
        "    output.write(str(web_service_logs))\r\n",
        "print(web_service_logs)"
      ],
      "outputs": [
        {
          "output_type": "stream",
          "name": "stdout",
          "text": [
            "2021-02-14T16:55:04,541135600+00:00 - rsyslog/run \n",
            "2021-02-14T16:55:04,544123300+00:00 - nginx/run \n",
            "/usr/sbin/nginx: /azureml-envs/azureml_7785023fceb74e4facc1b1a577b1faf9/lib/libcrypto.so.1.0.0: no version information available (required by /usr/sbin/nginx)\n",
            "2021-02-14T16:55:04,549183700+00:00 - iot-server/run \n",
            "/usr/sbin/nginx: /azureml-envs/azureml_7785023fceb74e4facc1b1a577b1faf9/lib/libcrypto.so.1.0.0: no version information available (required by /usr/sbin/nginx)\n",
            "/usr/sbin/nginx: /azureml-envs/azureml_7785023fceb74e4facc1b1a577b1faf9/lib/libssl.so.1.0.0: no version information available (required by /usr/sbin/nginx)\n",
            "/usr/sbin/nginx: /azureml-envs/azureml_7785023fceb74e4facc1b1a577b1faf9/lib/libssl.so.1.0.0: no version information available (required by /usr/sbin/nginx)\n",
            "/usr/sbin/nginx: /azureml-envs/azureml_7785023fceb74e4facc1b1a577b1faf9/lib/libssl.so.1.0.0: no version information available (required by /usr/sbin/nginx)\n",
            "2021-02-14T16:55:04,568037100+00:00 - gunicorn/run \n",
            "rsyslogd: /azureml-envs/azureml_7785023fceb74e4facc1b1a577b1faf9/lib/libuuid.so.1: no version information available (required by rsyslogd)\n",
            "EdgeHubConnectionString and IOTEDGE_IOTHUBHOSTNAME are not set. Exiting...\n",
            "2021-02-14T16:55:05,825968000+00:00 - iot-server/finish 1 0\n",
            "2021-02-14T16:55:05,833033100+00:00 - Exit code 1 is normal. Not restarting iot-server.\n",
            "Starting gunicorn 19.9.0\n",
            "Listening at: http://127.0.0.1:31311 (67)\n",
            "Using worker: sync\n",
            "worker timeout is set to 300\n",
            "Booting worker with pid: 99\n",
            "SPARK_HOME not set. Skipping PySpark Initialization.\n",
            "Generating new fontManager, this may take some time...\n",
            "Initializing logger\n",
            "2021-02-14 16:55:13,349 | root | INFO | Starting up app insights client\n",
            "2021-02-14 16:55:13,349 | root | INFO | Starting up request id generator\n",
            "2021-02-14 16:55:13,349 | root | INFO | Starting up app insight hooks\n",
            "2021-02-14 16:55:13,350 | root | INFO | Invoking user's init function\n",
            "2021-02-14 16:55:17,011 | root | INFO | Users's init has completed successfully\n",
            "2021-02-14 16:55:17,016 | root | INFO | Skipping middleware: dbg_model_info as it's not enabled.\n",
            "2021-02-14 16:55:17,016 | root | INFO | Skipping middleware: dbg_resource_usage as it's not enabled.\n",
            "2021-02-14 16:55:17,017 | root | INFO | Scoring timeout is found from os.environ: 60000 ms\n",
            "2021-02-14 16:55:26,427 | root | INFO | Swagger file not present\n",
            "2021-02-14 16:55:26,427 | root | INFO | 404\n",
            "127.0.0.1 - - [14/Feb/2021:16:55:26 +0000] \"GET /swagger.json HTTP/1.0\" 404 19 \"-\" \"Go-http-client/1.1\"\n",
            "\n"
          ]
        }
      ],
      "execution_count": 126,
      "metadata": {
        "collapsed": false,
        "jupyter": {
          "source_hidden": false,
          "outputs_hidden": false
        },
        "nteract": {
          "transient": {
            "deleting": false
          }
        },
        "gather": {
          "logged": 1613321858692
        }
      }
    },
    {
      "cell_type": "markdown",
      "source": [
        "### Pos. Samples:\r\n",
        "\r\n",
        "`df_sorted = df.sort_values(by=(df.columns[-1]), ascending=False, inplace=True)`\r\n",
        "\r\n",
        "`df.head(36)`\r\n",
        "\r\n",
        "`df.head(36).index.tolist()`\r\n",
        "\r\n",
        "`df.loc[73090].to_dict()`\r\n",
        "\r\n",
        "\r\n",
        "`Column1,Column2,Column3,Column4,Column5,Column6,Column7,Column8,Column9,Column10,Column11,Column12,Column13,Column14,Column15,Column16,Column17,Column18,Column19,Column20,Column21,Column22,Column23,Column24,Column25,Column26,Column27,Column28,Column29,Column30,Column31,Column32,Column33,Column34,Column35,Column36,Column37,Column38\r\n",
        "0,0,0,15,15,460,460,0,15,15,0,0,0,300,0,513927,513363,0,513925,0,0,5004624,5005212,5004692,233602.73,0,0,0,0,0,233594.23,0,0,241196.38,28,6,3.048003,6`\r\n"
      ],
      "metadata": {
        "nteract": {
          "transient": {
            "deleting": false
          }
        }
      }
    },
    {
      "cell_type": "code",
      "source": [
        "X_test_json = X_test_df[9:11].to_json(orient='records')\r\n",
        "print(X_test_json)\r\n",
        "output = aci_service.run(X_test_json)\r\n",
        "print('foresights:\\n{}\\n'.format(output['predictions']))"
      ],
      "outputs": [
        {
          "output_type": "stream",
          "name": "stdout",
          "text": [
            "[{\"Column1\":7,\"Column2\":272,\"Column3\":272,\"Column4\":8,\"Column5\":8,\"Column6\":232,\"Column7\":232,\"Column8\":0.0,\"Column9\":8,\"Column10\":8,\"Column11\":0,\"Column12\":0,\"Column13\":0.0,\"Column14\":232,\"Column15\":0.0,\"Column16\":912415,\"Column17\":2002481,\"Column18\":0,\"Column19\":2002481,\"Column20\":0,\"Column21\":0,\"Column22\":1814351,\"Column23\":4921227,\"Column24\":3041961,\"Column25\":442616.4,\"Column26\":0.0,\"Column27\":34.0,\"Column28\":34.0,\"Column29\":34,\"Column30\":0.0,\"Column31\":785651.9399999999,\"Column32\":0,\"Column33\":0,\"Column34\":601236.7,\"Column35\":20,\"Column36\":95,\"Column37\":31.384241,\"Column38\":95},{\"Column1\":4,\"Column2\":135,\"Column3\":135,\"Column4\":5,\"Column5\":5,\"Column6\":100,\"Column7\":100,\"Column8\":0.0,\"Column9\":1,\"Column10\":1,\"Column11\":0,\"Column12\":0,\"Column13\":0.0,\"Column14\":20,\"Column15\":0.0,\"Column16\":0,\"Column17\":4297290,\"Column18\":0,\"Column19\":4297290,\"Column20\":1,\"Column21\":1,\"Column22\":0,\"Column23\":4394614,\"Column24\":4394614,\"Column25\":0.0,\"Column26\":0.0,\"Column27\":27.0,\"Column28\":27.0,\"Column29\":46,\"Column30\":20.12461,\"Column31\":2132863.0,\"Column32\":0,\"Column33\":1,\"Column34\":1911096.5,\"Column35\":20,\"Column36\":46,\"Column37\":18.866701,\"Column38\":46}]\n",
            "foresights:\n",
            "[0, 0]\n",
            "\n"
          ]
        }
      ],
      "execution_count": 118,
      "metadata": {
        "collapsed": true,
        "jupyter": {
          "source_hidden": false,
          "outputs_hidden": false
        },
        "nteract": {
          "transient": {
            "deleting": false
          }
        },
        "gather": {
          "logged": 1613316945431
        }
      }
    },
    {
      "cell_type": "code",
      "source": [
        "aci_service.update(enable_app_insights=True)"
      ],
      "outputs": [],
      "execution_count": 122,
      "metadata": {
        "collapsed": true,
        "jupyter": {
          "source_hidden": false,
          "outputs_hidden": false
        },
        "nteract": {
          "transient": {
            "deleting": false
          }
        },
        "gather": {
          "logged": 1613321520003
        }
      }
    },
    {
      "cell_type": "code",
      "source": [
        "aci_service.scoring_uri"
      ],
      "outputs": [
        {
          "output_type": "execute_result",
          "execution_count": 124,
          "data": {
            "text/plain": "'http://ae33d91f-ccc4-4772-a8e3-990ed9d914ba.uksouth.azurecontainer.io/score'"
          },
          "metadata": {}
        }
      ],
      "execution_count": 124,
      "metadata": {
        "collapsed": true,
        "jupyter": {
          "source_hidden": false,
          "outputs_hidden": false
        },
        "nteract": {
          "transient": {
            "deleting": false
          }
        },
        "gather": {
          "logged": 1613321555013
        }
      }
    },
    {
      "cell_type": "code",
      "source": [
        "y_test_df_sorted = y_test_df.sort_values(by=(df.columns[-1]), ascending=False, inplace=True)"
      ],
      "outputs": [],
      "execution_count": 179,
      "metadata": {
        "collapsed": true,
        "jupyter": {
          "source_hidden": false,
          "outputs_hidden": false
        },
        "nteract": {
          "transient": {
            "deleting": false
          }
        },
        "gather": {
          "logged": 1613328293385
        }
      }
    },
    {
      "cell_type": "code",
      "source": [
        "y_test_df.head(8)"
      ],
      "outputs": [
        {
          "output_type": "execute_result",
          "execution_count": 186,
          "data": {
            "text/plain": "       Column39\n26841  1       \n17123  1       \n44103  1       \n13702  1       \n31954  1       \n27790  1       \n24133  1       \n38462  0       ",
            "text/html": "<div>\n<style scoped>\n    .dataframe tbody tr th:only-of-type {\n        vertical-align: middle;\n    }\n\n    .dataframe tbody tr th {\n        vertical-align: top;\n    }\n\n    .dataframe thead th {\n        text-align: right;\n    }\n</style>\n<table border=\"1\" class=\"dataframe\">\n  <thead>\n    <tr style=\"text-align: right;\">\n      <th></th>\n      <th>Column39</th>\n    </tr>\n  </thead>\n  <tbody>\n    <tr>\n      <th>26841</th>\n      <td>1</td>\n    </tr>\n    <tr>\n      <th>17123</th>\n      <td>1</td>\n    </tr>\n    <tr>\n      <th>44103</th>\n      <td>1</td>\n    </tr>\n    <tr>\n      <th>13702</th>\n      <td>1</td>\n    </tr>\n    <tr>\n      <th>31954</th>\n      <td>1</td>\n    </tr>\n    <tr>\n      <th>27790</th>\n      <td>1</td>\n    </tr>\n    <tr>\n      <th>24133</th>\n      <td>1</td>\n    </tr>\n    <tr>\n      <th>38462</th>\n      <td>0</td>\n    </tr>\n  </tbody>\n</table>\n</div>"
          },
          "metadata": {}
        }
      ],
      "execution_count": 186,
      "metadata": {
        "collapsed": false,
        "jupyter": {
          "source_hidden": false,
          "outputs_hidden": false
        },
        "nteract": {
          "transient": {
            "deleting": false
          }
        },
        "gather": {
          "logged": 1613328441493
        }
      }
    },
    {
      "cell_type": "code",
      "source": [
        "y_test_df.head(7).index.tolist()"
      ],
      "outputs": [
        {
          "output_type": "execute_result",
          "execution_count": 188,
          "data": {
            "text/plain": "[26841, 17123, 44103, 13702, 31954, 27790, 24133]",
            "text/html": "[26841, 17123, 44103, 13702, 31954, 27790, 24133]"
          },
          "metadata": {}
        }
      ],
      "execution_count": 188,
      "metadata": {
        "collapsed": true,
        "jupyter": {
          "source_hidden": false,
          "outputs_hidden": false
        },
        "nteract": {
          "transient": {
            "deleting": false
          }
        },
        "gather": {
          "logged": 1613328535972
        }
      }
    },
    {
      "cell_type": "code",
      "source": [
        "df.loc[26841].to_dict()"
      ],
      "outputs": [
        {
          "output_type": "execute_result",
          "execution_count": 191,
          "data": {
            "text/plain": "{'Column1': 0.0,\n 'Column2': 0.0,\n 'Column3': 0.0,\n 'Column4': 1.0,\n 'Column5': 1.0,\n 'Column6': 32.0,\n 'Column7': 32.0,\n 'Column8': 0.0,\n 'Column9': 1.0,\n 'Column10': 1.0,\n 'Column11': 0.0,\n 'Column12': 0.0,\n 'Column13': 0.0,\n 'Column14': 32.0,\n 'Column15': 0.0,\n 'Column16': 0.0,\n 'Column17': 51.0,\n 'Column18': 0.0,\n 'Column19': 0.0,\n 'Column20': 0.0,\n 'Column21': 0.0,\n 'Column22': 0.0,\n 'Column23': 51.0,\n 'Column24': 0.0,\n 'Column25': 0.0,\n 'Column26': 0.0,\n 'Column27': 0.0,\n 'Column28': 0.0,\n 'Column29': 0.0,\n 'Column30': 0.0,\n 'Column31': 0.0,\n 'Column32': 0.0,\n 'Column33': 1.0,\n 'Column34': 0.0,\n 'Column35': 32.0,\n 'Column36': 0.0,\n 'Column37': 0.0,\n 'Column38': 0.0,\n 'Column39': 0.0}"
          },
          "metadata": {}
        }
      ],
      "execution_count": 191,
      "metadata": {
        "collapsed": false,
        "jupyter": {
          "source_hidden": false,
          "outputs_hidden": false
        },
        "nteract": {
          "transient": {
            "deleting": false
          }
        },
        "gather": {
          "logged": 1613328617904
        }
      }
    },
    {
      "cell_type": "code",
      "source": [
        "csv_data = 'https://workspace1st4305015718.blob.core.windows.net/public/IDS2017-Infilteration.csv'\r\n",
        "cols = list(pd.read_csv(csv_data, nrows =1))\r\n",
        "print(cols)"
      ],
      "outputs": [
        {
          "output_type": "stream",
          "name": "stdout",
          "text": [
            "[' Destination Port', ' Flow Duration', ' Total Fwd Packets', ' Total Backward Packets', 'Total Length of Fwd Packets', ' Total Length of Bwd Packets', ' Fwd Packet Length Max', ' Fwd Packet Length Min', ' Fwd Packet Length Mean', ' Fwd Packet Length Std', 'Bwd Packet Length Max', ' Bwd Packet Length Min', ' Bwd Packet Length Mean', ' Bwd Packet Length Std', 'Flow Bytes/s', ' Flow Packets/s', ' Flow IAT Mean', ' Flow IAT Std', ' Flow IAT Max', ' Flow IAT Min', 'Fwd IAT Total', ' Fwd IAT Mean', ' Fwd IAT Std', ' Fwd IAT Max', ' Fwd IAT Min', 'Bwd IAT Total', ' Bwd IAT Mean', ' Bwd IAT Std', ' Bwd IAT Max', ' Bwd IAT Min', 'Fwd PSH Flags', ' Bwd PSH Flags', ' Fwd URG Flags', ' Bwd URG Flags', ' Fwd Header Length', ' Bwd Header Length', 'Fwd Packets/s', ' Bwd Packets/s', ' Min Packet Length', ' Max Packet Length', ' Packet Length Mean', ' Packet Length Std', ' Packet Length Variance', 'FIN Flag Count', ' SYN Flag Count', ' RST Flag Count', ' PSH Flag Count', ' ACK Flag Count', ' URG Flag Count', ' CWE Flag Count', ' ECE Flag Count', ' Down/Up Ratio', ' Average Packet Size', ' Avg Fwd Segment Size', ' Avg Bwd Segment Size', ' Fwd Header Length.1', 'Fwd Avg Bytes/Bulk', ' Fwd Avg Packets/Bulk', ' Fwd Avg Bulk Rate', ' Bwd Avg Bytes/Bulk', ' Bwd Avg Packets/Bulk', 'Bwd Avg Bulk Rate', 'Subflow Fwd Packets', ' Subflow Fwd Bytes', ' Subflow Bwd Packets', ' Subflow Bwd Bytes', 'Init_Win_bytes_forward', ' Init_Win_bytes_backward', ' act_data_pkt_fwd', ' min_seg_size_forward', 'Active Mean', ' Active Std', ' Active Max', ' Active Min', 'Idle Mean', ' Idle Std', ' Idle Max', ' Idle Min', ' Label']\n"
          ]
        }
      ],
      "execution_count": 134,
      "metadata": {
        "collapsed": true,
        "jupyter": {
          "source_hidden": false,
          "outputs_hidden": false
        },
        "nteract": {
          "transient": {
            "deleting": false
          }
        },
        "gather": {
          "logged": 1613324449291
        }
      }
    },
    {
      "cell_type": "code",
      "source": [
        "## # train-within-notebook?!!\r\n",
        "## https://render.githubusercontent.com/view/ipynb?color_mode=light&commit=475ea361068d237680f8f6127577b39cbeee42cc&enc_url=68747470733a2f2f7261772e67697468756275736572636f6e74656e742e636f6d2f417a7572652f4d616368696e654c6561726e696e674e6f7465626f6f6b732f343735656133363130363864323337363830663866363132373537376233396362656565343263632f686f772d746f2d7573652d617a7572656d6c2f747261696e696e672f747261696e2d77697468696e2d6e6f7465626f6f6b2f747261696e2d77697468696e2d6e6f7465626f6f6b2e6970796e62&nwo=Azure%2FMachineLearningNotebooks&path=how-to-use-azureml%2Ftraining%2Ftrain-within-notebook%2Ftrain-within-notebook.ipynb&repository_id=145148726&repository_type=Repository#Deploy\r\n",
        "service = ws.webservices['score025ids2017inf']\r\n",
        "test_samples = X_test_json\r\n",
        "test_samples = X_test_df[26840:26842].to_json(orient='records')\r\n",
        "result = service.run(input_data = test_samples)\r\n",
        "residual = result - y_test_df # y_test\r\n",
        "# headers = cols\r\n",
        "url = aci_service.scoring_uri # 'http://2f4ed05e-8740-4ddb-935c-e18dafce794d.uksouth.azurecontainer.io/score'\r\n",
        "api_key = '' # 'sCqE2ssjRlYgwDRgC1MZxAZgDjP6dwMp' # Replace with the API key for the web service, IF AUTH ENABLED!\r\n",
        "headers = {'Content-Type':'application/json', 'Authorization':('Bearer '+ api_key)}\r\n",
        "resp = requests.post(aci_service.scoring_uri, test_samples, headers = headers)"
      ],
      "outputs": [],
      "execution_count": 196,
      "metadata": {
        "collapsed": true,
        "jupyter": {
          "source_hidden": false,
          "outputs_hidden": false
        },
        "nteract": {
          "transient": {
            "deleting": false
          }
        },
        "gather": {
          "logged": 1613328728207
        }
      }
    },
    {
      "cell_type": "code",
      "source": [
        "resp.text"
      ],
      "outputs": [
        {
          "output_type": "execute_result",
          "execution_count": 197,
          "data": {
            "text/plain": "'{\"predictions\": [0, 1]}'"
          },
          "metadata": {}
        }
      ],
      "execution_count": 197,
      "metadata": {
        "collapsed": true,
        "jupyter": {
          "source_hidden": false,
          "outputs_hidden": false
        },
        "nteract": {
          "transient": {
            "deleting": false
          }
        },
        "gather": {
          "logged": 1613328730786
        }
      }
    },
    {
      "cell_type": "code",
      "source": [
        "joblib.dump(resp.text, \"resp.txt\")"
      ],
      "outputs": [
        {
          "output_type": "execute_result",
          "execution_count": 168,
          "data": {
            "text/plain": "['resp.txt']",
            "text/html": "['resp.txt']"
          },
          "metadata": {}
        }
      ],
      "execution_count": 168,
      "metadata": {
        "collapsed": true,
        "jupyter": {
          "source_hidden": false,
          "outputs_hidden": false
        },
        "nteract": {
          "transient": {
            "deleting": false
          }
        },
        "gather": {
          "logged": 1613327404752
        }
      }
    },
    {
      "cell_type": "code",
      "source": [
        "%matplotlib inline\r\n",
        "import matplotlib.pyplot as plt\r\n",
        "f, (a0, a1) = plt.subplots(1, 2, gridspec_kw={'width_ratios':[3, 1], 'wspace':0, 'hspace': 0})\r\n",
        "f.suptitle('Residual Values', fontsize = 18)\r\n",
        "f.set_figheight(6)\r\n",
        "f.set_figwidth(14)\r\n",
        "a0.plot(residual, 'bo', alpha=0.4)\r\n",
        "a0.plot([0,90], [0,0], 'r', lw=2)\r\n",
        "a0.set_ylabel('residue values', fontsize=14)\r\n",
        "a0.set_xlabel('test data set', fontsize=14)\r\n",
        "# a1.hist(residual, orientation='horizontal', color='blue', bins=10, histtype='step')\r\n",
        "# a1.hist(residual, orientation='horizontal', color='blue', alpha=0.2, bins=10)\r\n",
        "a1.set_yticklabels([])\r\n",
        "plt.show()"
      ],
      "outputs": [
        {
          "output_type": "display_data",
          "data": {
            "text/plain": "<Figure size 1008x432 with 2 Axes>",
            "image/png": "[encoded data removed]"
          },
          "metadata": {
            "needs_background": "light"
          }
        }
      ],
      "execution_count": 200,
      "metadata": {
        "collapsed": true,
        "jupyter": {
          "source_hidden": false,
          "outputs_hidden": false
        },
        "nteract": {
          "transient": {
            "deleting": false
          }
        },
        "gather": {
          "logged": 1613328786718
        }
      }
    },
    {
      "cell_type": "code",
      "source": [
        "# # TODO: ONNX Exporting\r\n",
        "# automl_onnx_model = automl_run.get_output(return_onnx_model=True)\r\n",
        "# joblib.dump(automl_onnx_model, \"automl_onnx_model.pkl\") # !## # !## # !##\r\n",
        "# # # automl_onnx_model"
      ],
      "outputs": [],
      "execution_count": 143,
      "metadata": {
        "collapsed": true,
        "jupyter": {
          "source_hidden": false,
          "outputs_hidden": false
        },
        "nteract": {
          "transient": {
            "deleting": false
          }
        },
        "gather": {
          "logged": 1613324747404
        }
      }
    },
    {
      "cell_type": "code",
      "source": [
        "aci_service.state"
      ],
      "outputs": [
        {
          "output_type": "execute_result",
          "execution_count": 123,
          "data": {
            "text/plain": "'Healthy'"
          },
          "metadata": {}
        }
      ],
      "execution_count": 123,
      "metadata": {
        "collapsed": true,
        "jupyter": {
          "source_hidden": false,
          "outputs_hidden": false
        },
        "nteract": {
          "transient": {
            "deleting": false
          }
        },
        "gather": {
          "logged": 1613321551459
        }
      }
    },
    {
      "cell_type": "code",
      "source": [
        "%%time\r\n",
        "# aci_service.delete()\r\n",
        "# print(aci_service.state)"
      ],
      "outputs": [],
      "execution_count": 120,
      "metadata": {
        "collapsed": true,
        "jupyter": {
          "source_hidden": false,
          "outputs_hidden": false
        },
        "nteract": {
          "transient": {
            "deleting": false
          }
        },
        "gather": {
          "logged": 1613321429675
        }
      }
    },
    {
      "cell_type": "code",
      "source": [
        "# aks_service.delete()\r\n",
        "# aks_target.delete()\r\n",
        "# print(aks_service.state)"
      ],
      "outputs": [],
      "execution_count": 89,
      "metadata": {
        "gather": {
          "logged": 1613312773196
        }
      }
    },
    {
      "cell_type": "code",
      "source": [
        "# # # Deleting AML Compute Cluster via APIs\r\n",
        "# # from azureml.core.compute import ComputeTarget, AmlCompute # !1st\r\n",
        "# if delete_completion == True:\r\n",
        "#     try:\r\n",
        "#         cluster_target.delete()\r\n",
        "#         print('\\n Attemting to delete the ComputeTarget (if found)...')\r\n",
        "#         print(cluster_target.status.serialize())\r\n",
        "#         cluster_target.wait_for_completion()\r\n",
        "#     except Exception as e:\r\n",
        "#         if '\\n ComputeTarget Not Found!' in e.message:\r\n",
        "#             print(\"\\n ComputeTarget has been deleted\")\r\n",
        "#             delete_completion = False\r\n"
      ],
      "outputs": [],
      "execution_count": 125,
      "metadata": {
        "collapsed": true,
        "jupyter": {
          "source_hidden": false,
          "outputs_hidden": false
        },
        "nteract": {
          "transient": {
            "deleting": false
          }
        },
        "gather": {
          "logged": 1613321601777
        }
      }
    },
    {
      "cell_type": "code",
      "source": [
        "!tar -czvf automl-hd-archive.tar.gz ."
      ],
      "outputs": [],
      "execution_count": null,
      "metadata": {
        "collapsed": true,
        "jupyter": {
          "source_hidden": false,
          "outputs_hidden": false
        },
        "nteract": {
          "transient": {
            "deleting": false
          }
        }
      }
    },
    {
      "cell_type": "markdown",
      "source": [
        "## Acknowledgements"
      ],
      "metadata": {
        "nteract": {
          "transient": {
            "deleting": false
          }
        }
      }
    },
    {
      "cell_type": "markdown",
      "source": [
        "Apart from the officially provided best practice and patterns' snippets by Microsoft and/or Udacity, this is to acknowledge that such data [subset](https://workspace1st4305015718.blob.core.windows.net/public/IDS2017-Infilteration.csv) was originally made public and is [available online](https://www.unb.ca/cic/datasets/ids-2017.html); while citing the following works: \r\n",
        "\r\n",
        "Iman Sharafaldin, Arash Habibi Lashkari, and Ali A. Ghorbani,\r\n",
        "“Toward Generating a New Intrusion Detection Dataset and Intrusion Traffic Characterization”,\r\n",
        "4th International Conference on Information Systems Security and Privacy (ICISSP), Purtogal, January 2018.\r\n"
      ],
      "metadata": {
        "nteract": {
          "transient": {
            "deleting": false
          }
        }
      }
    }
  ],
  "metadata": {
    "index_order": 5,
    "nbconvert_exporter": "python",
    "exclude_from_index": true,
    "pygments_lexer": "ipython3",
    "task": "Classification",
    "deployment": [
      "None"
    ],
    "authors": [
      {
        "name": "ratanase"
      }
    ],
    "name": "python",
    "mimetype": "text/x-python",
    "kernel_info": {
      "name": "python3-azureml"
    },
    "language_info": {
      "name": "python",
      "version": "3.6.9",
      "mimetype": "text/x-python",
      "codemirror_mode": {
        "name": "ipython",
        "version": 3
      },
      "pygments_lexer": "ipython3",
      "nbconvert_exporter": "python",
      "file_extension": ".py"
    },
    "compute": [
      "Local"
    ],
    "version": "3.6.7",
    "kernelspec": {
      "name": "python3-azureml",
      "language": "python",
      "display_name": "Python 3.6 - AzureML"
    },
    "tags": [
      "local_run",
      "AutomatedML"
    ],
    "datasets": [
      "creditcard"
    ],
    "file_extension": ".py",
    "category": "tutorial",
    "framework": [
      "None"
    ],
    "friendly_name": "Classification of credit card fraudulent transactions using Automated ML",
    "nteract": {
      "version": "nteract-front-end@1.0.0"
    }
  },
  "nbformat": 4,
  "nbformat_minor": 2
}